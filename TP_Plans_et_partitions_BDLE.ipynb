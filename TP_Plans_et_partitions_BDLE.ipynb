{
  "nbformat": 4,
  "nbformat_minor": 0,
  "metadata": {
    "application/vnd.databricks.v1+notebook": {
      "notebookName": "TP Plans et partitions CES DS 2021",
      "dashboards": [],
      "notebookMetadata": {
        "pythonIndentUnit": 2
      },
      "language": "python",
      "widgets": {},
      "notebookOrigID": 3069393233008060
    },
    "colab": {
      "name": "Copy of TP Plans et partitions BDLE.ipynb",
      "provenance": [],
      "toc_visible": true
    },
    "language_info": {
      "name": "python"
    },
    "kernelspec": {
      "name": "python3",
      "display_name": "Python 3"
    }
  },
  "cells": [
    {
      "cell_type": "markdown",
      "metadata": {
        "application/vnd.databricks.v1+cell": {
          "title": "",
          "showTitle": false,
          "inputWidgets": {},
          "nuid": "5c1b0417-4d48-4196-b555-b7dd82f764f0"
        },
        "id": "btmwNIVdG1_u"
      },
      "source": [
        "# TP Plans et partitions BDLE  2021\n",
        "\n",
        "décembre 2021\n",
        "\n",
        "date de révision du document : "
      ]
    },
    {
      "cell_type": "markdown",
      "metadata": {
        "application/vnd.databricks.v1+cell": {
          "title": "",
          "showTitle": false,
          "inputWidgets": {},
          "nuid": "ac737c18-887c-4b70-b078-d7364cd50332"
        },
        "id": "rTzYHu2qG1_y"
      },
      "source": [
        "# Préparation"
      ]
    },
    {
      "cell_type": "markdown",
      "metadata": {
        "application/vnd.databricks.v1+cell": {
          "title": "",
          "showTitle": false,
          "inputWidgets": {},
          "nuid": "03ae5b6b-bfee-4bc5-af47-fc62dedff993"
        },
        "id": "IH9yeRq3G1_z"
      },
      "source": [
        "installation spark "
      ]
    },
    {
      "cell_type": "code",
      "metadata": {
        "id": "k-ZzCrPXxTHM",
        "colab": {
          "base_uri": "https://localhost:8080/"
        },
        "outputId": "6d54d02d-74f5-46cf-d6ca-58492656cbb5"
      },
      "source": [
        "!pip install -q pyspark\n",
        "!pip install -q findspark\n",
        "\n",
        "import os\n",
        "# !find /usr/local -name \"pyspark\"\n",
        "os.environ[\"SPARK_HOME\"] = \"/usr/local/lib/python3.7/dist-packages/pyspark\"\n",
        "os.environ[\"JAVA_HOME\"] = \"/usr\"\n",
        "\n",
        "# Principaux import\n",
        "import findspark\n",
        "from pyspark.sql import SparkSession \n",
        "from pyspark import SparkConf  \n",
        " \n",
        "# pour les dataframe et udf\n",
        "from pyspark.sql import *  \n",
        "from pyspark.sql.functions import *\n",
        "from pyspark.sql.types import *\n",
        "from datetime import *\n",
        " \n",
        "# pour le chronomètre\n",
        "import time\n",
        " \n",
        "# initialise les variables d'environnement pour spark\n",
        "findspark.init()\n",
        " \n",
        "# Démarrage session spark \n",
        "# --------------------------\n",
        "def demarrer_spark():\n",
        "  local = \"local[*]\"\n",
        "  appName = \"TP\"\n",
        "  configLocale = SparkConf().setAppName(appName).setMaster(local).\\\n",
        "  set(\"spark.executor.memory\", \"6G\").\\\n",
        "  set(\"spark.driver.memory\",\"6G\").\\\n",
        "  set(\"spark.sql.catalogImplementation\",\"in-memory\")\n",
        "  \n",
        "  spark = SparkSession.builder.config(conf = configLocale).getOrCreate()\n",
        "  sc = spark.sparkContext\n",
        "  sc.setLogLevel(\"ERROR\")\n",
        "  \n",
        "  spark.conf.set(\"spark.sql.autoBroadcastJoinThreshold\",\"-1\")\n",
        " \n",
        "  # On ajuste l'environnement d'exécution des requêtes à la taille du cluster (4 coeurs)\n",
        "  spark.conf.set(\"spark.sql.shuffle.partitions\",\"4\")    \n",
        "  print(\"session démarrée, son id est \", sc.applicationId)\n",
        "  return spark\n",
        "spark = demarrer_spark()\n"
      ],
      "execution_count": null,
      "outputs": [
        {
          "output_type": "stream",
          "name": "stdout",
          "text": [
            "\u001b[K     |████████████████████████████████| 281.4 MB 29 kB/s \n",
            "\u001b[K     |████████████████████████████████| 198 kB 43.1 MB/s \n",
            "\u001b[?25h  Building wheel for pyspark (setup.py) ... \u001b[?25l\u001b[?25hdone\n",
            "session démarrée, son id est  local-1644517281732\n"
          ]
        }
      ]
    },
    {
      "cell_type": "code",
      "metadata": {
        "id": "SJWr2wR4Fm73",
        "colab": {
          "base_uri": "https://localhost:8080/"
        },
        "outputId": "b6d3899e-24ef-4a21-e817-a6730ce5f015"
      },
      "source": [
        "import pandas as pd\n",
        "from google.colab import data_table\n",
        " \n",
        "# alternatives to Databricks display function.\n",
        " \n",
        "def display(df, n=100):\n",
        "  return data_table.DataTable(df.limit(n).toPandas(), include_index=False, num_rows_per_page=10)\n",
        " \n",
        "def display2(df, n=20):\n",
        "  pd.set_option('max_columns', None)\n",
        "  pd.set_option('max_colwidth', None)\n",
        "  return df.limit(n).toPandas().head(n)\n",
        "\n",
        "print(\"display redéfini\")"
      ],
      "execution_count": null,
      "outputs": [
        {
          "output_type": "stream",
          "name": "stdout",
          "text": [
            "display redéfini\n"
          ]
        }
      ]
    },
    {
      "cell_type": "markdown",
      "metadata": {
        "id": "I0-keRafUD5N"
      },
      "source": [
        "Définir le tag %%sql pour pouvoir écrire plus simplement des requêtes en SQL dans une cellule"
      ]
    },
    {
      "cell_type": "code",
      "metadata": {
        "id": "eJ7aiRS-gaVF",
        "colab": {
          "base_uri": "https://localhost:8080/"
        },
        "outputId": "90fca75a-4db8-4d98-edb0-15f7e838ba8d"
      },
      "source": [
        "from IPython.core.magic import (register_line_magic, register_cell_magic, register_line_cell_magic)\n",
        "\n",
        "@register_line_cell_magic\n",
        "def sql(line, cell=None):\n",
        "    \"To run a sql query. Use:  %%sql\"\n",
        "    val = cell if cell is not None else line\n",
        "    tabRequetes = val.split(\";\")\n",
        "    for r in tabRequetes:\n",
        "        if len(r) > 2:\n",
        "          derniere = spark.sql(r)\n",
        "    return display(derniere)\n",
        "print(\"tag %%SQL défini\")"
      ],
      "execution_count": null,
      "outputs": [
        {
          "output_type": "stream",
          "name": "stdout",
          "text": [
            "tag %%SQL défini\n"
          ]
        }
      ]
    },
    {
      "cell_type": "code",
      "metadata": {
        "application/vnd.databricks.v1+cell": {
          "title": "",
          "showTitle": false,
          "inputWidgets": {},
          "nuid": "bc5041e3-8793-4cca-9641-857027b11c8f"
        },
        "id": "ofV2IuVMG1_0"
      },
      "source": [
        "# on désactive la modification adaptative du plan\n",
        "spark.conf.set(\"spark.sql.adaptive.enabled\", False)"
      ],
      "execution_count": null,
      "outputs": []
    },
    {
      "cell_type": "markdown",
      "metadata": {
        "application/vnd.databricks.v1+cell": {
          "title": "",
          "showTitle": false,
          "inputWidgets": {},
          "nuid": "16edd6b9-28cf-4912-982d-8aeadfbc5245"
        },
        "id": "ApbrFB0nG1_2"
      },
      "source": [
        "## Classe utilitaire : Mesure\n",
        "Sert pour mesurer la quantité de shuffle lors de l'exécution d'un requête"
      ]
    },
    {
      "cell_type": "code",
      "metadata": {
        "application/vnd.databricks.v1+cell": {
          "title": "",
          "showTitle": false,
          "inputWidgets": {},
          "nuid": "100a08ab-2616-44a4-8768-a47b06c3128b"
        },
        "id": "jaYafRKyG1_2",
        "colab": {
          "base_uri": "https://localhost:8080/"
        },
        "outputId": "84f84bf7-8f15-4454-fbb2-40448e3b43e3"
      },
      "source": [
        "#---------------------\n",
        "# rapport d'execution (seulement pour les TP en local ou avec colab)\n",
        "#---------------------\n",
        "\n",
        "# Consulter le rapport d'exécution pour connaitre la quantité de données transférée lors de l'opération Exchange: shuffle read. L'accès au rapport d'exécution peut se faire soit avec un navigateur, soit directement en python en indiquant une URL qui se termine par exemple par: /api/v1/applications/A/jobs/B/ avec A étant le numéro de l'application et B étant le numéro de job. S'inspirer de l'exemple ci dessous.\n",
        "\n",
        "# Indications: consulter la liste des jobs, obtenir le numéro du dernier job traité, i.e, celui ayant le plus grand numéro. Parcourir les stages du job souhaité.\n",
        "\n",
        "# Pour chaque stage, obtenir les infos de shuffle : shuffle read et shuffle write. Caculer la quantité totale de shuffle read, idem pour les shuffle write.\n",
        "\n",
        "# Rmq, cette classe est également définie https://nuage.lip6.fr/s/FpqGorZiBbF3Sb2/download?path=/python/mesure.py\n",
        "\n",
        "import urllib\n",
        "import json\n",
        "import dateutil.parser\n",
        "\n",
        "# -----------\n",
        "# classe Mesure\n",
        "# -----------\n",
        "class Mesure(object):\n",
        "  def __init__(self, spark):\n",
        "    self.spark = spark\n",
        "\n",
        "  def appURL(self):\n",
        "    appId = self.spark.sparkContext.applicationId\n",
        "#     contextId = self.spark.conf.get(\"spark.databricks.sparkContextId\")\n",
        "#     clusterId = self.spark.conf.get('spark.databricks.clusterUsageTags.clusterId')\n",
        "#     url = \"https://community.cloud.databricks.com/sparkui/\" + clusterId + \"/driver-\" + contextId + f\"/api/v1/applications/{appId}\"\n",
        "#     return url\n",
        "    return f\"http://localhost:4040/api/v1/applications/{appId}\"\n",
        "\n",
        "\n",
        "  def getJson(self, request):\n",
        "    webURL = urllib.request.urlopen(request)\n",
        "    encoding = webURL.info().get_content_charset('utf-8')\n",
        "    obj = json.loads(webURL.read().decode(encoding))\n",
        "    return obj\n",
        "\n",
        "\n",
        "  def recentJobs(self):\n",
        "    prefix = self.appURL()\n",
        "    jobsRequest = f\"{prefix}/jobs\"\n",
        "    jobs = self.getJson(jobsRequest)\n",
        "    return [x['jobId'] for x in jobs][:10]\n",
        "\n",
        "\n",
        "  def showJobs(self):\n",
        "    prefix = self.appURL()\n",
        "    jobsRequest = f\"{prefix}/jobs\"\n",
        "    jobs = self.getJson(jobsRequest)\n",
        "    return jobs\n",
        "\n",
        "\n",
        "  def jobShuffle(self, jobId):\n",
        "    prefix = self.appURL()\n",
        "    jobsRequest = f\"{prefix}/jobs\"\n",
        "    jobs = self.getJson(jobsRequest)\n",
        "    jobStageIds = {x['jobId']:x['stageIds'] for x in jobs}\n",
        "\n",
        "    if(jobStageIds.get(jobId) != None):\n",
        "      shuffleRead =0\n",
        "      for stageId in jobStageIds[jobId]:\n",
        "        stageRequest = f\"{prefix}/stages/{stageId}\"\n",
        "        stage = self.getJson(stageRequest)[0]\n",
        "        # print(stage)\n",
        "        if(stage['status'] == 'COMPLETE'):\n",
        "          # voir les attributs décrivant les shuffle: localBytesRead, remoteBytesRead, ...\n",
        "          # for executor in stage['executorSummary'].values() :\n",
        "          #   shuffleRead += executor['shuffleRead']\n",
        "          for task in stage['tasks'].values():\n",
        "            read = task['taskMetrics']['shuffleReadMetrics']\n",
        "            shuffleRead += (read['localBytesRead'] + read['remoteBytesRead'])\n",
        "      return shuffleRead\n",
        "    else:\n",
        "      print(\"JobId not found:\", jobId)\n",
        "      return 0\n",
        "\n",
        "\n",
        "  def jobTime(self, jobId):\n",
        "    prefix = self.appURL()\n",
        "    jobsRequest = f\"{prefix}/jobs\"\n",
        "    jobs = self.getJson(jobsRequest)\n",
        "    startTimes = {x['jobId']:x['submissionTime'] for x in jobs}\n",
        "    endTimes = {x['jobId']:x['completionTime'] for x in jobs}\n",
        "\n",
        "    if(startTimes.get(jobId) != None):\n",
        "      start = dateutil.parser.parse(startTimes[jobId]) \n",
        "      end = dateutil.parser.parse(endTimes[jobId]) \n",
        "      # time in milliseconds\n",
        "      return (end - start).microseconds /1000\n",
        "    else:\n",
        "      print(\"JobId not found:\", jobId)\n",
        "      return 0\n",
        "\n",
        "\n",
        "  def mesure(self, df):\n",
        "    df.count()\n",
        "    j = self.recentJobs()[0]\n",
        "    print(\"job\", j, \": shuffle =\", self.jobShuffle(j), \"octets, time =\", self.jobTime(j), \"ms\")\n",
        "\n",
        "# fin de la classe Mesure\n",
        "\n",
        "print(\"Mesure definie\")\n"
      ],
      "execution_count": null,
      "outputs": [
        {
          "output_type": "stream",
          "name": "stdout",
          "text": [
            "Mesure definie\n"
          ]
        }
      ]
    },
    {
      "cell_type": "markdown",
      "metadata": {
        "application/vnd.databricks.v1+cell": {
          "title": "",
          "showTitle": false,
          "inputWidgets": {},
          "nuid": "37e8bf5a-c628-4e3c-b3e4-4c5b4e03c420"
        },
        "id": "JbAi_0wUG1_7"
      },
      "source": [
        "L'objet mesure  _m_ servira à mesurer les requêtes"
      ]
    },
    {
      "cell_type": "code",
      "metadata": {
        "application/vnd.databricks.v1+cell": {
          "title": "",
          "showTitle": false,
          "inputWidgets": {},
          "nuid": "649a3c1c-ba5b-404a-8c44-6d4e44f64862"
        },
        "id": "aOgnqXxAG1_7",
        "colab": {
          "base_uri": "https://localhost:8080/"
        },
        "outputId": "d366a52a-5ba0-4fa1-85b1-e5793d791cb1"
      },
      "source": [
        "m = Mesure(spark)\n",
        "print(\"m est défini\")"
      ],
      "execution_count": null,
      "outputs": [
        {
          "output_type": "stream",
          "name": "stdout",
          "text": [
            "m est défini\n"
          ]
        }
      ]
    },
    {
      "cell_type": "markdown",
      "metadata": {
        "application/vnd.databricks.v1+cell": {
          "title": "",
          "showTitle": false,
          "inputWidgets": {},
          "nuid": "99990803-d13a-4f2c-964e-c25d84c1d12b"
        },
        "id": "TnagVoMzG1_8"
      },
      "source": [
        "## Chronomètres"
      ]
    },
    {
      "cell_type": "markdown",
      "metadata": {
        "application/vnd.databricks.v1+cell": {
          "title": "",
          "showTitle": false,
          "inputWidgets": {},
          "nuid": "6445f476-ec51-415e-9c08-ea35964ab8fb"
        },
        "id": "4oIypf-gG1_9"
      },
      "source": [
        "Fonction auxilliaire pour chronométrer l'exécution d'une requête"
      ]
    },
    {
      "cell_type": "code",
      "metadata": {
        "application/vnd.databricks.v1+cell": {
          "title": "",
          "showTitle": false,
          "inputWidgets": {},
          "nuid": "a6272df1-b406-40d0-b5df-0df8dacb430b"
        },
        "id": "fP14u62aG1_9",
        "colab": {
          "base_uri": "https://localhost:8080/"
        },
        "outputId": "a16597c7-ebc3-44dd-d439-97461f6d4305"
      },
      "source": [
        "#------------------------------\n",
        "# Chronometre : chronoPersist2\n",
        "#------------------------------\n",
        "import time\n",
        "\n",
        "# Ce chronometre garantit que chaque tuple du dataframe est lu entièrement.\n",
        "# En effet il est nécessaire de lire le détail de chaque tuple avant de les 'copier' en mémoire.\n",
        "def chronoPersist(df):\n",
        "    df.unpersist()\n",
        "    t1 = time.perf_counter()\n",
        "    count = df.persist().count()\n",
        "    t2 = time.perf_counter()\n",
        "    df.unpersist()\n",
        "    print('durée: {:.1f} s'.format(t2 - t1), 'pour lire', count , 'elements')\n",
        "\n",
        "def chronoPersist2(df):\n",
        "  dest = df.selectExpr(\"*\", \"1\")\n",
        "  t1 = time.perf_counter()\n",
        "  count = dest.persist().count()\n",
        "  t2 = time.perf_counter()\n",
        "  dest.unpersist()\n",
        "  print('durée: {:.1f} s'.format(t2 - t1), 'pour lire', count , 'elements')\n",
        "        \n",
        "def chronoCount(df):\n",
        "  t1 = time.perf_counter()\n",
        "  count = df.count()\n",
        "  t2 = time.perf_counter()\n",
        "  print('durée: {:.1f} s'.format(t2 - t1), 'pour dénombrer', count , 'elements')\n",
        "\n",
        "    \n",
        "print(\"fonctions définies\")"
      ],
      "execution_count": null,
      "outputs": [
        {
          "output_type": "stream",
          "name": "stdout",
          "text": [
            "fonctions définies\n"
          ]
        }
      ]
    },
    {
      "cell_type": "markdown",
      "metadata": {
        "application/vnd.databricks.v1+cell": {
          "title": "",
          "showTitle": false,
          "inputWidgets": {},
          "nuid": "52fd9538-28a9-4974-92ea-8a7be60563c3"
        },
        "id": "0LPYBvh0G1_-"
      },
      "source": [
        "## Fonctions pour afficher le contenu des partitions d'un dataframe\n",
        "On définit \n",
        "* showPartitions : affiche les _n_ premiers éléments de chaque partition\n",
        "* showPartitionSize : affiche le nombre d'éléments dans chaque partition"
      ]
    },
    {
      "cell_type": "code",
      "metadata": {
        "application/vnd.databricks.v1+cell": {
          "title": "",
          "showTitle": false,
          "inputWidgets": {},
          "nuid": "f626210f-dce5-457b-a05b-1dd3e6af87a2"
        },
        "id": "cIfA0oZaG1_-",
        "colab": {
          "base_uri": "https://localhost:8080/"
        },
        "outputId": "2ae51a0c-1406-4e2d-917f-53e4cd2ce68a"
      },
      "source": [
        "# fonction auxilliaire\n",
        "def partSize(partID, iterateur):\n",
        "  c=0\n",
        "  suivant = next(iterateur, None)\n",
        "  while suivant is not None :\n",
        "    c+=1\n",
        "    suivant = next(iterateur, None)\n",
        "  return [(partID, c)]\n",
        "\n",
        "\n",
        "def showPartitionSize(df):  \n",
        "  t = df.selectExpr(\"1\").rdd.mapPartitionsWithIndex(partSize)\n",
        "  for (partID, nbElt) in t.collect():\n",
        "    print(\"partition\", partID, \":\", nbElt, \"éléments\")\n",
        "  print()\n",
        "\n",
        "\n",
        "def showPartitions(df, N=5):\n",
        "  size = df.selectExpr(\"1\").rdd.mapPartitionsWithIndex(partSize).collectAsMap()\n",
        "  \n",
        "  def topN(partID, iterateur):\n",
        "    c=0\n",
        "    head=[]\n",
        "    suivant = next(iterateur, None)\n",
        "    while suivant is not None and c < N :\n",
        "      c+=1\n",
        "      head.append(suivant)\n",
        "      suivant = next(iterateur, None)\n",
        "    return [(partID, head)]  \n",
        "  t = df.rdd.mapPartitionsWithIndex(topN)\n",
        "  for (partID, head) in t.collect():\n",
        "    print(\"Partition\", partID, \",\", size[partID], \"éléments\")\n",
        "    for row in head:\n",
        "        print(row)\n",
        "    print()\n",
        "    \n",
        "print('showPartitions et showPartitionSize définies')"
      ],
      "execution_count": null,
      "outputs": [
        {
          "output_type": "stream",
          "name": "stdout",
          "text": [
            "showPartitions et showPartitionSize définies\n"
          ]
        }
      ]
    },
    {
      "cell_type": "markdown",
      "metadata": {
        "application/vnd.databricks.v1+cell": {
          "title": "",
          "showTitle": false,
          "inputWidgets": {},
          "nuid": "37d058a0-4d53-46fb-8c22-5f984d893a1d"
        },
        "id": "SN98-07TG1__"
      },
      "source": [
        "## Données"
      ]
    },
    {
      "cell_type": "markdown",
      "metadata": {
        "application/vnd.databricks.v1+cell": {
          "title": "",
          "showTitle": false,
          "inputWidgets": {},
          "nuid": "5820bef9-bbd9-4713-9348-79e7a9f5d224"
        },
        "id": "TF8y9LHEG2AA"
      },
      "source": [
        "Les fichiers de Movielens contenant des notes et des films aux formats JSON ou CSV\n",
        "* https://nuage.lip6.fr/s/FpqGorZiBbF3Sb2?path=movielens\n",
        "\n",
        "\n",
        "Les commandes ci-dessous permettent d'importer _directement_ ce fichier dans l'espace de stockage, sans passer par une copie intermédiaire sur votre ordinateur perso. \n",
        "Avantages : cette méthode est rapide quelle que soit la connectivité de votre accès à internet et permet d'importer de \"larges\" fichiers."
      ]
    },
    {
      "cell_type": "markdown",
      "metadata": {
        "application/vnd.databricks.v1+cell": {
          "title": "",
          "showTitle": false,
          "inputWidgets": {},
          "nuid": "888f61ee-4886-42de-82e2-02e78dbf10ae"
        },
        "id": "UPiAEO6LG2AA"
      },
      "source": [
        "Créer un dossier temporaire vide,  localement sur le driver"
      ]
    },
    {
      "cell_type": "code",
      "metadata": {
        "id": "MblOhnWjoqm6",
        "colab": {
          "base_uri": "https://localhost:8080/"
        },
        "outputId": "aa876067-a1f5-4931-b64b-e8fec25b9f48"
      },
      "source": [
        "import os\n",
        "temp = \"/temp/\"\n",
        "os.makedirs(temp, exist_ok=True)\n",
        "os.listdir(temp)"
      ],
      "execution_count": null,
      "outputs": [
        {
          "output_type": "execute_result",
          "data": {
            "text/plain": [
              "[]"
            ]
          },
          "metadata": {},
          "execution_count": 9
        }
      ]
    },
    {
      "cell_type": "code",
      "metadata": {
        "id": "Hy4QgHAHozNF",
        "colab": {
          "base_uri": "https://localhost:8080/"
        },
        "outputId": "69bd45a2-ba88-4375-c3d5-007a70050312"
      },
      "source": [
        "from urllib import request\n",
        "import zipfile\n",
        "\n",
        "PUBLIC_DATASET_URL = \"https://nuage.lip6.fr/s/H3bpyRGgnCq2NR4\" \n",
        "PUBLIC_DATASET=PUBLIC_DATASET_URL + \"/download?path=\"\n",
        "\n",
        "def loadMovieLensFile(file):\n",
        "  url = PUBLIC_DATASET + \"/movielens/\" + file\n",
        "  local_file = temp + file\n",
        "\n",
        "  if(os.path.isfile(local_file)):\n",
        "    print(local_file, \"is already downloaded\")\n",
        "  else:\n",
        "    print(\"downloading from URL: \", url, \"save in : \", local_file)\n",
        "    request.urlretrieve(url, local_file)\n",
        "    print(\"download done\")\n",
        "\n",
        "loadMovieLensFile(\"notes1M.zip\")\n",
        "loadMovieLensFile(\"ratings3M.zip\")\n",
        "loadMovieLensFile(\"films.json\")\n",
        "request.urlretrieve(PUBLIC_DATASET + \"/movielens/ml-latest/movies.csv\", temp + \"movies.csv\")\n",
        "\n",
        "with zipfile.ZipFile(\"/temp/notes1M.zip\", 'r') as zip_ref:\n",
        "    zip_ref.extractall(\"/temp\")\n",
        "with zipfile.ZipFile(\"/temp/ratings3M.zip\", 'r') as zip_ref:\n",
        "    zip_ref.extractall(\"/temp\")\n",
        "os.remove(\"/temp/notes1M.zip\")\n",
        "os.remove(\"/temp/ratings3M.zip\")\n",
        "os.listdir(temp)"
      ],
      "execution_count": null,
      "outputs": [
        {
          "output_type": "stream",
          "name": "stdout",
          "text": [
            "downloading from URL:  https://nuage.lip6.fr/s/H3bpyRGgnCq2NR4/download?path=/movielens/notes1M.zip save in :  /temp/notes1M.zip\n",
            "download done\n",
            "downloading from URL:  https://nuage.lip6.fr/s/H3bpyRGgnCq2NR4/download?path=/movielens/ratings3M.zip save in :  /temp/ratings3M.zip\n",
            "download done\n",
            "downloading from URL:  https://nuage.lip6.fr/s/H3bpyRGgnCq2NR4/download?path=/movielens/films.json save in :  /temp/films.json\n",
            "download done\n"
          ]
        },
        {
          "output_type": "execute_result",
          "data": {
            "text/plain": [
              "['movies.csv', 'ratings3M.csv', 'films.json', 'notes1M.json']"
            ]
          },
          "metadata": {},
          "execution_count": 10
        }
      ]
    },
    {
      "cell_type": "markdown",
      "metadata": {
        "application/vnd.databricks.v1+cell": {
          "title": "",
          "showTitle": false,
          "inputWidgets": {},
          "nuid": "a2b1bb10-ce32-45c2-835d-266890e259de"
        },
        "id": "ezB01Nf8peOC"
      },
      "source": [
        "Afficher les premières lignes des films"
      ]
    },
    {
      "cell_type": "code",
      "metadata": {
        "application/vnd.databricks.v1+cell": {
          "title": "",
          "showTitle": false,
          "inputWidgets": {},
          "nuid": "907dbaff-d83f-4422-a1ec-354ad638542f"
        },
        "id": "zg6NtmFapeOC",
        "colab": {
          "base_uri": "https://localhost:8080/"
        },
        "outputId": "8ff3671a-dd71-4c12-94f0-86c3f6f40c3e"
      },
      "source": [
        "%%sh\n",
        "head -n 5 /temp/films.json"
      ],
      "execution_count": null,
      "outputs": [
        {
          "output_type": "stream",
          "name": "stdout",
          "text": [
            "{\"nF\":8754,\"titre\":\"Prime of Miss Jean Brodie, The (1969)\",\"g\":[\"Drama\"]}\n",
            "{\"nF\":111486,\"titre\":\"Lesson of the Evil (Aku no kyôten) (2012)\",\"g\":[\"Thriller\"]}\n",
            "{\"nF\":1033,\"titre\":\"Fox and the Hound, The (1981)\",\"g\":[\"Animation\",\"Children\",\"Drama\"]}\n",
            "{\"nF\":6536,\"titre\":\"Sinbad: Legend of the Seven Seas (2003)\",\"g\":[\"Adventure\",\"Animation\",\"Children\",\"Fantasy\"]}\n",
            "{\"nF\":5179,\"titre\":\"Gloria (1980)\",\"g\":[\"Drama\",\"Thriller\"]}\n"
          ]
        }
      ]
    },
    {
      "cell_type": "markdown",
      "metadata": {
        "application/vnd.databricks.v1+cell": {
          "title": "",
          "showTitle": false,
          "inputWidgets": {},
          "nuid": "4a342383-4580-41d1-9521-6378b15e4cf0"
        },
        "id": "d1Wc3lM8G2AC"
      },
      "source": [
        "Afficher les premières lignes des notes"
      ]
    },
    {
      "cell_type": "code",
      "metadata": {
        "application/vnd.databricks.v1+cell": {
          "title": "",
          "showTitle": false,
          "inputWidgets": {},
          "nuid": "1626186d-dcbf-4c08-ba68-349cbe495188"
        },
        "id": "0BDJlfdqG2AC",
        "colab": {
          "base_uri": "https://localhost:8080/"
        },
        "outputId": "6d046363-1fe6-41f0-a8e9-f7367abe5f19"
      },
      "source": [
        "%%sh\n",
        "head -n 5 /temp/notes1M.json"
      ],
      "execution_count": null,
      "outputs": [
        {
          "output_type": "stream",
          "name": "stdout",
          "text": [
            "{\"nU\":1,\"nF\":2959,\"note\":4.0,\"date\":1425941601,\"annee\":2015}\n",
            "{\"nU\":1,\"nF\":69844,\"note\":5.0,\"date\":1425942139,\"annee\":2015}\n",
            "{\"nU\":1,\"nF\":73017,\"note\":5.0,\"date\":1425942699,\"annee\":2015}\n",
            "{\"nU\":2,\"nF\":788,\"note\":1.0,\"date\":867039288,\"annee\":1997}\n",
            "{\"nU\":4,\"nF\":1422,\"note\":4.0,\"date\":1042674861,\"annee\":2003}\n"
          ]
        }
      ]
    },
    {
      "cell_type": "markdown",
      "metadata": {
        "application/vnd.databricks.v1+cell": {
          "title": "",
          "showTitle": false,
          "inputWidgets": {},
          "nuid": "2bd6248a-e022-4a02-a175-8480b80145cc"
        },
        "id": "T8uIifQ1G2AD"
      },
      "source": [
        "Définir le **dossier** utilisé pour ce TP"
      ]
    },
    {
      "cell_type": "code",
      "metadata": {
        "application/vnd.databricks.v1+cell": {
          "title": "",
          "showTitle": false,
          "inputWidgets": {},
          "nuid": "600eafe0-27f1-45b7-9e54-c7187d00b978"
        },
        "id": "_YAdi0cDG2AE"
      },
      "source": [
        "dir = \"/temp/\"\n",
        "dbfsDir = dir"
      ],
      "execution_count": null,
      "outputs": []
    },
    {
      "cell_type": "markdown",
      "metadata": {
        "application/vnd.databricks.v1+cell": {
          "title": "",
          "showTitle": false,
          "inputWidgets": {},
          "nuid": "3ab85ff5-a1f0-41fa-b4e7-d28560f93be2"
        },
        "id": "tmZ438A8G2AF"
      },
      "source": [
        "### Définir les dataframes associés aux données"
      ]
    },
    {
      "cell_type": "markdown",
      "metadata": {
        "application/vnd.databricks.v1+cell": {
          "title": "",
          "showTitle": false,
          "inputWidgets": {},
          "nuid": "1edaf528-be59-4374-b45f-2bfb7a2767f5"
        },
        "id": "RKCvb9F6G2AF"
      },
      "source": [
        "Les **films**"
      ]
    },
    {
      "cell_type": "code",
      "metadata": {
        "application/vnd.databricks.v1+cell": {
          "title": "",
          "showTitle": false,
          "inputWidgets": {},
          "nuid": "e8ad67f2-3c31-422e-a49e-b5ef03ed4485"
        },
        "id": "PSvcSeG1G2AF",
        "colab": {
          "base_uri": "https://localhost:8080/",
          "height": 316
        },
        "outputId": "6aef86df-271f-4b66-febc-039b573918e0"
      },
      "source": [
        "films = spark.read.json(dir + \"films.json\").selectExpr(\"nF\", \"titre\", \"g as genres\")\n",
        "display(films)"
      ],
      "execution_count": null,
      "outputs": [
        {
          "output_type": "execute_result",
          "data": {
            "application/vnd.google.colaboratory.module+javascript": "\n      import \"https://ssl.gstatic.com/colaboratory/data_table/81f25a011006ed3d/data_table.js\";\n\n      window.createDataTable({\n        data: [[{\n            'v': 8754,\n            'f': \"8754\",\n        },\n\"Prime of Miss Jean Brodie, The (1969)\",\n[\"Drama\"]],\n [{\n            'v': 111486,\n            'f': \"111486\",\n        },\n\"Lesson of the Evil (Aku no ky\\u00f4ten) (2012)\",\n[\"Thriller\"]],\n [{\n            'v': 1033,\n            'f': \"1033\",\n        },\n\"Fox and the Hound, The (1981)\",\n[\"Animation\", \"Children\", \"Drama\"]],\n [{\n            'v': 6536,\n            'f': \"6536\",\n        },\n\"Sinbad: Legend of the Seven Seas (2003)\",\n[\"Adventure\", \"Animation\", \"Children\", \"Fantasy\"]],\n [{\n            'v': 5179,\n            'f': \"5179\",\n        },\n\"Gloria (1980)\",\n[\"Drama\", \"Thriller\"]],\n [{\n            'v': 6201,\n            'f': \"6201\",\n        },\n\"Lady Jane (1986)\",\n[\"Drama\", \"Romance\"]],\n [{\n            'v': 55069,\n            'f': \"55069\",\n        },\n\"4 Months, 3 Weeks and 2 Days (4 luni, 3 saptam\\u00e2ni si 2 zile) (2007)\",\n[\"Drama\"]],\n [{\n            'v': 7380,\n            'f': \"7380\",\n        },\n\"Ella Enchanted (2004)\",\n[\"Comedy\", \"Fantasy\", \"Romance\"]],\n [{\n            'v': 104339,\n            'f': \"104339\",\n        },\n\"In a World... (2013)\",\n[\"Comedy\"]],\n [{\n            'v': 130580,\n            'f': \"130580\",\n        },\n\"The Disappearance of Eleanor Rigby: Her (2013)\",\n[\"Drama\"]],\n [{\n            'v': 7832,\n            'f': \"7832\",\n        },\n\"Thin Man Goes Home, The (1945)\",\n[\"Comedy\", \"Crime\", \"Mystery\"]],\n [{\n            'v': 56367,\n            'f': \"56367\",\n        },\n\"Juno (2007)\",\n[\"Comedy\", \"Drama\", \"Romance\"]],\n [{\n            'v': 149830,\n            'f': \"149830\",\n        },\n\"Pride and Prejudice and Zombies (2016)\",\n[\"Comedy\", \"Horror\", \"Romance\", \"Thriller\"]],\n [{\n            'v': 138208,\n            'f': \"138208\",\n        },\n\"The Walk (2015)\",\n[\"Adventure\", \"Drama\", \"Thriller\"]],\n [{\n            'v': 2382,\n            'f': \"2382\",\n        },\n\"Police Academy 5: Assignment: Miami Beach (1988)\",\n[\"Comedy\", \"Crime\"]],\n [{\n            'v': 3567,\n            'f': \"3567\",\n        },\n\"Bossa Nova (2000)\",\n[\"Comedy\", \"Drama\", \"Romance\"]],\n [{\n            'v': 72696,\n            'f': \"72696\",\n        },\n\"Old Dogs (2009)\",\n[\"Comedy\"]],\n [{\n            'v': 2754,\n            'f': \"2754\",\n        },\n\"Deadtime Stories (1987)\",\n[\"Horror\"]],\n [{\n            'v': 54331,\n            'f': \"54331\",\n        },\n\"You Kill Me (2007)\",\n[\"Comedy\", \"Crime\", \"Thriller\"]],\n [{\n            'v': 2039,\n            'f': \"2039\",\n        },\n\"Cheetah (1989)\",\n[\"Adventure\", \"Children\"]],\n [{\n            'v': 2143,\n            'f': \"2143\",\n        },\n\"Legend (1985)\",\n[\"Adventure\", \"Fantasy\", \"Romance\"]],\n [{\n            'v': 3855,\n            'f': \"3855\",\n        },\n\"Affair of Love, An (Liaison pornographique, Une) (1999)\",\n[\"Drama\", \"Romance\"]],\n [{\n            'v': 7026,\n            'f': \"7026\",\n        },\n\"Summer School (1987)\",\n[\"Comedy\"]],\n [{\n            'v': 84772,\n            'f': \"84772\",\n        },\n\"Paul (2011)\",\n[\"Adventure\", \"Comedy\", \"Sci-Fi\"]],\n [{\n            'v': 99846,\n            'f': \"99846\",\n        },\n\"Everything or Nothing: The Untold Story of 007 (2012)\",\n[\"Documentary\"]],\n [{\n            'v': 4156,\n            'f': \"4156\",\n        },\n\"Company Man (2000)\",\n[\"Comedy\"]],\n [{\n            'v': 2526,\n            'f': \"2526\",\n        },\n\"Meteor (1979)\",\n[\"Sci-Fi\"]],\n [{\n            'v': 32632,\n            'f': \"32632\",\n        },\n\"Electra Glide in Blue (1973)\",\n[\"Action\", \"Crime\"]],\n [{\n            'v': 345,\n            'f': \"345\",\n        },\n\"Adventures of Priscilla, Queen of the Desert, The (1994)\",\n[\"Comedy\", \"Drama\"]],\n [{\n            'v': 5734,\n            'f': \"5734\",\n        },\n\"Faces of Death 2 (1981)\",\n[\"Documentary\", \"Horror\"]],\n [{\n            'v': 32078,\n            'f': \"32078\",\n        },\n\"Godzilla vs. Mechagodzilla II (Gojira VS Mekagojira) (1993)\",\n[\"Action\", \"Drama\", \"Sci-Fi\"]],\n [{\n            'v': 1231,\n            'f': \"1231\",\n        },\n\"Right Stuff, The (1983)\",\n[\"Drama\"]],\n [{\n            'v': 7093,\n            'f': \"7093\",\n        },\n\"Front Page, The (1974)\",\n[\"Comedy\"]],\n [{\n            'v': 7235,\n            'f': \"7235\",\n        },\n\"Ichi the Killer (Koroshiya 1) (2001)\",\n[\"Action\", \"Comedy\", \"Crime\", \"Drama\", \"Horror\", \"Thriller\"]],\n [{\n            'v': 71520,\n            'f': \"71520\",\n        },\n\"Invention of Lying, The (2009)\",\n[\"Comedy\"]],\n [{\n            'v': 73531,\n            'f': \"73531\",\n        },\n\"Last of England, The (1988)\",\n[\"Drama\"]],\n [{\n            'v': 2861,\n            'f': \"2861\",\n        },\n\"For Love of the Game (1999)\",\n[\"Comedy\", \"Drama\"]],\n [{\n            'v': 32460,\n            'f': \"32460\",\n        },\n\"Knockin' on Heaven's Door (1997)\",\n[\"Action\", \"Comedy\", \"Crime\", \"Drama\"]],\n [{\n            'v': 793,\n            'f': \"793\",\n        },\n\"My Life and Times With Antonin Artaud (En compagnie d'Antonin Artaud) (1993)\",\n[\"Drama\"]],\n [{\n            'v': 4642,\n            'f': \"4642\",\n        },\n\"Hedwig and the Angry Inch (2000)\",\n[\"Comedy\", \"Drama\", \"Musical\"]],\n [{\n            'v': 82035,\n            'f': \"82035\",\n        },\n\"Cocaine Cowboys II: Hustlin' With the Godmother (2008)\",\n[\"Crime\", \"Documentary\"]],\n [{\n            'v': 81,\n            'f': \"81\",\n        },\n\"Things to Do in Denver When You're Dead (1995)\",\n[\"Crime\", \"Drama\", \"Romance\"]],\n [{\n            'v': 5341,\n            'f': \"5341\",\n        },\n\"Lenny (1974)\",\n[\"Drama\"]],\n [{\n            'v': 3863,\n            'f': \"3863\",\n        },\n\"Cell, The (2000)\",\n[\"Drama\", \"Horror\", \"Thriller\"]],\n [{\n            'v': 3925,\n            'f': \"3925\",\n        },\n\"Stranger Than Paradise (1984)\",\n[\"Comedy\", \"Drama\"]],\n [{\n            'v': 2704,\n            'f': \"2704\",\n        },\n\"Lovers on the Bridge, The (Amants du Pont-Neuf, Les) (1991)\",\n[\"Drama\", \"Romance\"]],\n [{\n            'v': 2306,\n            'f': \"2306\",\n        },\n\"Holy Man (1998)\",\n[\"Comedy\"]],\n [{\n            'v': 80839,\n            'f': \"80839\",\n        },\n\"Secretariat (2010)\",\n[\"Adventure\", \"Drama\"]],\n [{\n            'v': 512,\n            'f': \"512\",\n        },\n\"Puppet Masters, The (1994)\",\n[\"Horror\", \"Sci-Fi\"]],\n [{\n            'v': 1882,\n            'f': \"1882\",\n        },\n\"Godzilla (1998)\",\n[\"Action\", \"Sci-Fi\", \"Thriller\"]],\n [{\n            'v': 42002,\n            'f': \"42002\",\n        },\n\"Producers, The (2005)\",\n[\"Comedy\", \"Musical\"]],\n [{\n            'v': 48738,\n            'f': \"48738\",\n        },\n\"Last King of Scotland, The (2006)\",\n[\"Drama\", \"Thriller\"]],\n [{\n            'v': 3913,\n            'f': \"3913\",\n        },\n\"Barenaked in America (1999)\",\n[\"Documentary\"]],\n [{\n            'v': 1887,\n            'f': \"1887\",\n        },\n\"Almost Heroes (1998)\",\n[\"Adventure\", \"Comedy\", \"Western\"]],\n [{\n            'v': 91658,\n            'f': \"91658\",\n        },\n\"Girl with the Dragon Tattoo, The (2011)\",\n[\"Drama\", \"Thriller\"]],\n [{\n            'v': 7316,\n            'f': \"7316\",\n        },\n\"Confessions of a Teenage Drama Queen (2004)\",\n[\"Comedy\"]],\n [{\n            'v': 2083,\n            'f': \"2083\",\n        },\n\"Muppet Christmas Carol, The (1992)\",\n[\"Children\", \"Comedy\", \"Musical\"]],\n [{\n            'v': 116977,\n            'f': \"116977\",\n        },\n\"Dumb and Dumber To (2014)\",\n[\"Comedy\"]],\n [{\n            'v': 520,\n            'f': \"520\",\n        },\n\"Robin Hood: Men in Tights (1993)\",\n[\"Comedy\"]],\n [{\n            'v': 5933,\n            'f': \"5933\",\n        },\n\"Cannery Row (1982)\",\n[\"Drama\"]],\n [{\n            'v': 8986,\n            'f': \"8986\",\n        },\n\"Bellboy, The (1960)\",\n[\"Comedy\"]],\n [{\n            'v': 31408,\n            'f': \"31408\",\n        },\n\"Summer Storm (Sommersturm) (2004)\",\n[\"Drama\", \"Romance\"]],\n [{\n            'v': 52458,\n            'f': \"52458\",\n        },\n\"Disturbia (2007)\",\n[\"Drama\", \"Thriller\"]],\n [{\n            'v': 46972,\n            'f': \"46972\",\n        },\n\"Night at the Museum (2006)\",\n[\"Action\", \"Comedy\", \"Fantasy\", \"IMAX\"]],\n [{\n            'v': 5401,\n            'f': \"5401\",\n        },\n\"Undercover Brother (2002)\",\n[\"Comedy\"]],\n [{\n            'v': 26606,\n            'f': \"26606\",\n        },\n\"Chinese Ghost Story, A (Sinnui yauwan) (1987)\",\n[\"Action\", \"Fantasy\", \"Horror\", \"Romance\"]],\n [{\n            'v': 6466,\n            'f': \"6466\",\n        },\n\"Mississippi Masala (1991)\",\n[\"Drama\", \"Romance\"]],\n [{\n            'v': 1242,\n            'f': \"1242\",\n        },\n\"Glory (1989)\",\n[\"Drama\", \"War\"]],\n [{\n            'v': 1321,\n            'f': \"1321\",\n        },\n\"American Werewolf in London, An (1981)\",\n[\"Comedy\", \"Horror\", \"Thriller\"]],\n [{\n            'v': 5694,\n            'f': \"5694\",\n        },\n\"Staying Alive (1983)\",\n[\"Comedy\", \"Drama\", \"Musical\"]],\n [{\n            'v': 3763,\n            'f': \"3763\",\n        },\n\"F/X (1986)\",\n[\"Action\", \"Crime\", \"Thriller\"]],\n [{\n            'v': 301,\n            'f': \"301\",\n        },\n\"Picture Bride (Bijo photo) (1994)\",\n[\"Drama\", \"Romance\"]],\n [{\n            'v': 43396,\n            'f': \"43396\",\n        },\n\"World's Fastest Indian, The (2005)\",\n[\"Drama\"]],\n [{\n            'v': 2101,\n            'f': \"2101\",\n        },\n\"Squanto: A Warrior's Tale (1994)\",\n[\"Adventure\", \"Drama\"]],\n [{\n            'v': 1991,\n            'f': \"1991\",\n        },\n\"Child's Play (1988)\",\n[\"Horror\", \"Thriller\"]],\n [{\n            'v': 8859,\n            'f': \"8859\",\n        },\n\"SuperBabies: Baby Geniuses 2 (2004)\",\n[\"Comedy\"]],\n [{\n            'v': 5710,\n            'f': \"5710\",\n        },\n\"Banana Joe (1981)\",\n[\"Comedy\"]],\n [{\n            'v': 1623,\n            'f': \"1623\",\n        },\n\"Wishmaster (1997)\",\n[\"Horror\"]],\n [{\n            'v': 4700,\n            'f': \"4700\",\n        },\n\"Princess Diaries, The (2001)\",\n[\"Children\", \"Comedy\", \"Romance\"]],\n [{\n            'v': 3361,\n            'f': \"3361\",\n        },\n\"Bull Durham (1988)\",\n[\"Comedy\", \"Drama\", \"Romance\"]],\n [{\n            'v': 26797,\n            'f': \"26797\",\n        },\n\"Visions of Light: The Art of Cinematography (1992)\",\n[\"Documentary\"]],\n [{\n            'v': 32825,\n            'f': \"32825\",\n        },\n\"Sexmission (Seksmisja) (1984)\",\n[\"Adventure\", \"Comedy\", \"Sci-Fi\"]],\n [{\n            'v': 6773,\n            'f': \"6773\",\n        },\n\"Triplets of Belleville, The (Les triplettes de Belleville) (2003)\",\n[\"Animation\", \"Comedy\", \"Fantasy\"]],\n [{\n            'v': 3953,\n            'f': \"3953\",\n        },\n\"Dr. T and the Women (2000)\",\n[\"Comedy\", \"Romance\"]],\n [{\n            'v': 3971,\n            'f': \"3971\",\n        },\n\"Private Eyes, The (1981)\",\n[\"Comedy\", \"Mystery\"]],\n [{\n            'v': 135567,\n            'f': \"135567\",\n        },\n\"Independence Day: Resurgence (2016)\",\n[\"Action\", \"Adventure\", \"Sci-Fi\"]],\n [{\n            'v': 8642,\n            'f': \"8642\",\n        },\n\"Sleepover (2004)\",\n[\"Comedy\"]],\n [{\n            'v': 2174,\n            'f': \"2174\",\n        },\n\"Beetlejuice (1988)\",\n[\"Comedy\", \"Fantasy\"]],\n [{\n            'v': 2401,\n            'f': \"2401\",\n        },\n\"Pale Rider (1985)\",\n[\"Western\"]],\n [{\n            'v': 5241,\n            'f': \"5241\",\n        },\n\"Seems Like Old Times (1980)\",\n[\"Comedy\", \"Romance\"]],\n [{\n            'v': 6993,\n            'f': \"6993\",\n        },\n\"Hannah and Her Sisters (1986)\",\n[\"Comedy\", \"Drama\", \"Romance\"]],\n [{\n            'v': 997,\n            'f': \"997\",\n        },\n\"Caught (1996)\",\n[\"Drama\", \"Thriller\"]],\n [{\n            'v': 51412,\n            'f': \"51412\",\n        },\n\"Next (2007)\",\n[\"Action\", \"Sci-Fi\", \"Thriller\"]],\n [{\n            'v': 45208,\n            'f': \"45208\",\n        },\n\"RV (2006)\",\n[\"Adventure\", \"Children\", \"Comedy\"]],\n [{\n            'v': 3104,\n            'f': \"3104\",\n        },\n\"Midnight Run (1988)\",\n[\"Action\", \"Comedy\", \"Crime\", \"Thriller\"]],\n [{\n            'v': 4690,\n            'f': \"4690\",\n        },\n\"Cotton Club, The (1984)\",\n[\"Crime\", \"Musical\"]],\n [{\n            'v': 6598,\n            'f': \"6598\",\n        },\n\"Step Into Liquid (2002)\",\n[\"Documentary\"]],\n [{\n            'v': 2562,\n            'f': \"2562\",\n        },\n\"Bandits (1997)\",\n[\"Drama\"]],\n [{\n            'v': 6287,\n            'f': \"6287\",\n        },\n\"Anger Management (2003)\",\n[\"Comedy\"]],\n [{\n            'v': 6708,\n            'f': \"6708\",\n        },\n\"Matchstick Men (2003)\",\n[\"Comedy\", \"Crime\", \"Drama\"]]],\n        columns: [[\"number\", \"nF\"], [\"string\", \"titre\"], [\"string\", \"genres\"]],\n        columnOptions: [],\n        rowsPerPage: 10,\n        helpUrl: \"https://colab.research.google.com/notebooks/data_table.ipynb\",\n        suppressOutputScrolling: true,\n        minimumWidth: undefined,\n      });\n    ",
            "text/plain": [
              "<google.colab.data_table.DataTable object>"
            ],
            "text/html": [
              "<div>\n",
              "<style scoped>\n",
              "    .dataframe tbody tr th:only-of-type {\n",
              "        vertical-align: middle;\n",
              "    }\n",
              "\n",
              "    .dataframe tbody tr th {\n",
              "        vertical-align: top;\n",
              "    }\n",
              "\n",
              "    .dataframe thead th {\n",
              "        text-align: right;\n",
              "    }\n",
              "</style>\n",
              "<table border=\"1\" class=\"dataframe\">\n",
              "  <thead>\n",
              "    <tr style=\"text-align: right;\">\n",
              "      <th></th>\n",
              "      <th>nF</th>\n",
              "      <th>titre</th>\n",
              "      <th>genres</th>\n",
              "    </tr>\n",
              "  </thead>\n",
              "  <tbody>\n",
              "    <tr>\n",
              "      <th>0</th>\n",
              "      <td>8754</td>\n",
              "      <td>Prime of Miss Jean Brodie, The (1969)</td>\n",
              "      <td>[Drama]</td>\n",
              "    </tr>\n",
              "    <tr>\n",
              "      <th>1</th>\n",
              "      <td>111486</td>\n",
              "      <td>Lesson of the Evil (Aku no kyôten) (2012)</td>\n",
              "      <td>[Thriller]</td>\n",
              "    </tr>\n",
              "    <tr>\n",
              "      <th>2</th>\n",
              "      <td>1033</td>\n",
              "      <td>Fox and the Hound, The (1981)</td>\n",
              "      <td>[Animation, Children, Drama]</td>\n",
              "    </tr>\n",
              "    <tr>\n",
              "      <th>3</th>\n",
              "      <td>6536</td>\n",
              "      <td>Sinbad: Legend of the Seven Seas (2003)</td>\n",
              "      <td>[Adventure, Animation, Children, Fantasy]</td>\n",
              "    </tr>\n",
              "    <tr>\n",
              "      <th>4</th>\n",
              "      <td>5179</td>\n",
              "      <td>Gloria (1980)</td>\n",
              "      <td>[Drama, Thriller]</td>\n",
              "    </tr>\n",
              "    <tr>\n",
              "      <th>...</th>\n",
              "      <td>...</td>\n",
              "      <td>...</td>\n",
              "      <td>...</td>\n",
              "    </tr>\n",
              "    <tr>\n",
              "      <th>95</th>\n",
              "      <td>4690</td>\n",
              "      <td>Cotton Club, The (1984)</td>\n",
              "      <td>[Crime, Musical]</td>\n",
              "    </tr>\n",
              "    <tr>\n",
              "      <th>96</th>\n",
              "      <td>6598</td>\n",
              "      <td>Step Into Liquid (2002)</td>\n",
              "      <td>[Documentary]</td>\n",
              "    </tr>\n",
              "    <tr>\n",
              "      <th>97</th>\n",
              "      <td>2562</td>\n",
              "      <td>Bandits (1997)</td>\n",
              "      <td>[Drama]</td>\n",
              "    </tr>\n",
              "    <tr>\n",
              "      <th>98</th>\n",
              "      <td>6287</td>\n",
              "      <td>Anger Management (2003)</td>\n",
              "      <td>[Comedy]</td>\n",
              "    </tr>\n",
              "    <tr>\n",
              "      <th>99</th>\n",
              "      <td>6708</td>\n",
              "      <td>Matchstick Men (2003)</td>\n",
              "      <td>[Comedy, Crime, Drama]</td>\n",
              "    </tr>\n",
              "  </tbody>\n",
              "</table>\n",
              "<p>100 rows × 3 columns</p>\n",
              "</div>"
            ]
          },
          "metadata": {},
          "execution_count": 14
        }
      ]
    },
    {
      "cell_type": "markdown",
      "metadata": {
        "application/vnd.databricks.v1+cell": {
          "title": "",
          "showTitle": false,
          "inputWidgets": {},
          "nuid": "2e9bc8ed-3a2c-47b7-b30e-778f5215a8c8"
        },
        "id": "GMHqywC7G2AF"
      },
      "source": [
        "Les **notes**"
      ]
    },
    {
      "cell_type": "code",
      "metadata": {
        "application/vnd.databricks.v1+cell": {
          "title": "",
          "showTitle": false,
          "inputWidgets": {},
          "nuid": "8f256218-b2f3-44af-b884-0f8b1de83e29"
        },
        "id": "o3EjFJheG2AF",
        "colab": {
          "base_uri": "https://localhost:8080/",
          "height": 316
        },
        "outputId": "58b56c7b-bbd1-43dc-83dc-eb729822929e"
      },
      "source": [
        "notes = spark.read.json(dir + \"notes1M.json\").selectExpr(\"nF\", \"nU\", \"note\", \"annee\")\n",
        "display(notes)"
      ],
      "execution_count": null,
      "outputs": [
        {
          "output_type": "execute_result",
          "data": {
            "application/vnd.google.colaboratory.module+javascript": "\n      import \"https://ssl.gstatic.com/colaboratory/data_table/81f25a011006ed3d/data_table.js\";\n\n      window.createDataTable({\n        data: [[{\n            'v': 2959,\n            'f': \"2959\",\n        },\n{\n            'v': 1,\n            'f': \"1\",\n        },\n{\n            'v': 4.0,\n            'f': \"4.0\",\n        },\n{\n            'v': 2015,\n            'f': \"2015\",\n        }],\n [{\n            'v': 69844,\n            'f': \"69844\",\n        },\n{\n            'v': 1,\n            'f': \"1\",\n        },\n{\n            'v': 5.0,\n            'f': \"5.0\",\n        },\n{\n            'v': 2015,\n            'f': \"2015\",\n        }],\n [{\n            'v': 73017,\n            'f': \"73017\",\n        },\n{\n            'v': 1,\n            'f': \"1\",\n        },\n{\n            'v': 5.0,\n            'f': \"5.0\",\n        },\n{\n            'v': 2015,\n            'f': \"2015\",\n        }],\n [{\n            'v': 788,\n            'f': \"788\",\n        },\n{\n            'v': 2,\n            'f': \"2\",\n        },\n{\n            'v': 1.0,\n            'f': \"1.0\",\n        },\n{\n            'v': 1997,\n            'f': \"1997\",\n        }],\n [{\n            'v': 1422,\n            'f': \"1422\",\n        },\n{\n            'v': 4,\n            'f': \"4\",\n        },\n{\n            'v': 4.0,\n            'f': \"4.0\",\n        },\n{\n            'v': 2003,\n            'f': \"2003\",\n        }],\n [{\n            'v': 2355,\n            'f': \"2355\",\n        },\n{\n            'v': 4,\n            'f': \"4\",\n        },\n{\n            'v': 4.0,\n            'f': \"4.0\",\n        },\n{\n            'v': 2003,\n            'f': \"2003\",\n        }],\n [{\n            'v': 2541,\n            'f': \"2541\",\n        },\n{\n            'v': 4,\n            'f': \"4\",\n        },\n{\n            'v': 3.0,\n            'f': \"3.0\",\n        },\n{\n            'v': 2003,\n            'f': \"2003\",\n        }],\n [{\n            'v': 3476,\n            'f': \"3476\",\n        },\n{\n            'v': 4,\n            'f': \"4\",\n        },\n{\n            'v': 4.0,\n            'f': \"4.0\",\n        },\n{\n            'v': 2003,\n            'f': \"2003\",\n        }],\n [{\n            'v': 541,\n            'f': \"541\",\n        },\n{\n            'v': 5,\n            'f': \"5\",\n        },\n{\n            'v': 5.0,\n            'f': \"5.0\",\n        },\n{\n            'v': 2000,\n            'f': \"2000\",\n        }],\n [{\n            'v': 3948,\n            'f': \"3948\",\n        },\n{\n            'v': 7,\n            'f': \"7\",\n        },\n{\n            'v': 1.5,\n            'f': \"1.5\",\n        },\n{\n            'v': 2017,\n            'f': \"2017\",\n        }],\n [{\n            'v': 6934,\n            'f': \"6934\",\n        },\n{\n            'v': 7,\n            'f': \"7\",\n        },\n{\n            'v': 2.0,\n            'f': \"2.0\",\n        },\n{\n            'v': 2017,\n            'f': \"2017\",\n        }],\n [{\n            'v': 54503,\n            'f': \"54503\",\n        },\n{\n            'v': 7,\n            'f': \"7\",\n        },\n{\n            'v': 3.5,\n            'f': \"3.5\",\n        },\n{\n            'v': 2017,\n            'f': \"2017\",\n        }],\n [{\n            'v': 1210,\n            'f': \"1210\",\n        },\n{\n            'v': 8,\n            'f': \"8\",\n        },\n{\n            'v': 4.0,\n            'f': \"4.0\",\n        },\n{\n            'v': 2002,\n            'f': \"2002\",\n        }],\n [{\n            'v': 1792,\n            'f': \"1792\",\n        },\n{\n            'v': 8,\n            'f': \"8\",\n        },\n{\n            'v': 1.0,\n            'f': \"1.0\",\n        },\n{\n            'v': 2002,\n            'f': \"2002\",\n        }],\n [{\n            'v': 4361,\n            'f': \"4361\",\n        },\n{\n            'v': 8,\n            'f': \"8\",\n        },\n{\n            'v': 2.0,\n            'f': \"2.0\",\n        },\n{\n            'v': 2002,\n            'f': \"2002\",\n        }],\n [{\n            'v': 4367,\n            'f': \"4367\",\n        },\n{\n            'v': 8,\n            'f': \"8\",\n        },\n{\n            'v': 3.0,\n            'f': \"3.0\",\n        },\n{\n            'v': 2002,\n            'f': \"2002\",\n        }],\n [{\n            'v': 4571,\n            'f': \"4571\",\n        },\n{\n            'v': 8,\n            'f': \"8\",\n        },\n{\n            'v': 3.0,\n            'f': \"3.0\",\n        },\n{\n            'v': 2002,\n            'f': \"2002\",\n        }],\n [{\n            'v': 4643,\n            'f': \"4643\",\n        },\n{\n            'v': 8,\n            'f': \"8\",\n        },\n{\n            'v': 2.0,\n            'f': \"2.0\",\n        },\n{\n            'v': 2002,\n            'f': \"2002\",\n        }],\n [{\n            'v': 342,\n            'f': \"342\",\n        },\n{\n            'v': 9,\n            'f': \"9\",\n        },\n{\n            'v': 5.0,\n            'f': \"5.0\",\n        },\n{\n            'v': 2003,\n            'f': \"2003\",\n        }],\n [{\n            'v': 1059,\n            'f': \"1059\",\n        },\n{\n            'v': 9,\n            'f': \"9\",\n        },\n{\n            'v': 5.0,\n            'f': \"5.0\",\n        },\n{\n            'v': 2003,\n            'f': \"2003\",\n        }],\n [{\n            'v': 5872,\n            'f': \"5872\",\n        },\n{\n            'v': 9,\n            'f': \"9\",\n        },\n{\n            'v': 3.0,\n            'f': \"3.0\",\n        },\n{\n            'v': 2003,\n            'f': \"2003\",\n        }],\n [{\n            'v': 5902,\n            'f': \"5902\",\n        },\n{\n            'v': 9,\n            'f': \"9\",\n        },\n{\n            'v': 3.5,\n            'f': \"3.5\",\n        },\n{\n            'v': 2003,\n            'f': \"2003\",\n        }],\n [{\n            'v': 150,\n            'f': \"150\",\n        },\n{\n            'v': 10,\n            'f': \"10\",\n        },\n{\n            'v': 4.0,\n            'f': \"4.0\",\n        },\n{\n            'v': 1996,\n            'f': \"1996\",\n        }],\n [{\n            'v': 165,\n            'f': \"165\",\n        },\n{\n            'v': 10,\n            'f': \"10\",\n        },\n{\n            'v': 4.0,\n            'f': \"4.0\",\n        },\n{\n            'v': 1996,\n            'f': \"1996\",\n        }],\n [{\n            'v': 2054,\n            'f': \"2054\",\n        },\n{\n            'v': 11,\n            'f': \"11\",\n        },\n{\n            'v': 2.5,\n            'f': \"2.5\",\n        },\n{\n            'v': 2009,\n            'f': \"2009\",\n        }],\n [{\n            'v': 3977,\n            'f': \"3977\",\n        },\n{\n            'v': 11,\n            'f': \"11\",\n        },\n{\n            'v': 3.0,\n            'f': \"3.0\",\n        },\n{\n            'v': 2009,\n            'f': \"2009\",\n        }],\n [{\n            'v': 6870,\n            'f': \"6870\",\n        },\n{\n            'v': 11,\n            'f': \"11\",\n        },\n{\n            'v': 3.5,\n            'f': \"3.5\",\n        },\n{\n            'v': 2009,\n            'f': \"2009\",\n        }],\n [{\n            'v': 48774,\n            'f': \"48774\",\n        },\n{\n            'v': 11,\n            'f': \"11\",\n        },\n{\n            'v': 3.5,\n            'f': \"3.5\",\n        },\n{\n            'v': 2009,\n            'f': \"2009\",\n        }],\n [{\n            'v': 52245,\n            'f': \"52245\",\n        },\n{\n            'v': 11,\n            'f': \"11\",\n        },\n{\n            'v': 3.5,\n            'f': \"3.5\",\n        },\n{\n            'v': 2009,\n            'f': \"2009\",\n        }],\n [{\n            'v': 56171,\n            'f': \"56171\",\n        },\n{\n            'v': 11,\n            'f': \"11\",\n        },\n{\n            'v': 2.0,\n            'f': \"2.0\",\n        },\n{\n            'v': 2009,\n            'f': \"2009\",\n        }],\n [{\n            'v': 58295,\n            'f': \"58295\",\n        },\n{\n            'v': 11,\n            'f': \"11\",\n        },\n{\n            'v': 4.0,\n            'f': \"4.0\",\n        },\n{\n            'v': 2009,\n            'f': \"2009\",\n        }],\n [{\n            'v': 61323,\n            'f': \"61323\",\n        },\n{\n            'v': 11,\n            'f': \"11\",\n        },\n{\n            'v': 3.5,\n            'f': \"3.5\",\n        },\n{\n            'v': 2009,\n            'f': \"2009\",\n        }],\n [{\n            'v': 61697,\n            'f': \"61697\",\n        },\n{\n            'v': 11,\n            'f': \"11\",\n        },\n{\n            'v': 3.0,\n            'f': \"3.0\",\n        },\n{\n            'v': 2009,\n            'f': \"2009\",\n        }],\n [{\n            'v': 16,\n            'f': \"16\",\n        },\n{\n            'v': 12,\n            'f': \"12\",\n        },\n{\n            'v': 4.0,\n            'f': \"4.0\",\n        },\n{\n            'v': 1999,\n            'f': \"1999\",\n        }],\n [{\n            'v': 36,\n            'f': \"36\",\n        },\n{\n            'v': 12,\n            'f': \"12\",\n        },\n{\n            'v': 3.0,\n            'f': \"3.0\",\n        },\n{\n            'v': 1999,\n            'f': \"1999\",\n        }],\n [{\n            'v': 162,\n            'f': \"162\",\n        },\n{\n            'v': 12,\n            'f': \"12\",\n        },\n{\n            'v': 4.0,\n            'f': \"4.0\",\n        },\n{\n            'v': 1999,\n            'f': \"1999\",\n        }],\n [{\n            'v': 260,\n            'f': \"260\",\n        },\n{\n            'v': 12,\n            'f': \"12\",\n        },\n{\n            'v': 5.0,\n            'f': \"5.0\",\n        },\n{\n            'v': 1999,\n            'f': \"1999\",\n        }],\n [{\n            'v': 363,\n            'f': \"363\",\n        },\n{\n            'v': 12,\n            'f': \"12\",\n        },\n{\n            'v': 4.0,\n            'f': \"4.0\",\n        },\n{\n            'v': 1999,\n            'f': \"1999\",\n        }],\n [{\n            'v': 1041,\n            'f': \"1041\",\n        },\n{\n            'v': 12,\n            'f': \"12\",\n        },\n{\n            'v': 4.0,\n            'f': \"4.0\",\n        },\n{\n            'v': 1999,\n            'f': \"1999\",\n        }],\n [{\n            'v': 1246,\n            'f': \"1246\",\n        },\n{\n            'v': 12,\n            'f': \"12\",\n        },\n{\n            'v': 5.0,\n            'f': \"5.0\",\n        },\n{\n            'v': 1999,\n            'f': \"1999\",\n        }],\n [{\n            'v': 1648,\n            'f': \"1648\",\n        },\n{\n            'v': 12,\n            'f': \"12\",\n        },\n{\n            'v': 5.0,\n            'f': \"5.0\",\n        },\n{\n            'v': 1999,\n            'f': \"1999\",\n        }],\n [{\n            'v': 1721,\n            'f': \"1721\",\n        },\n{\n            'v': 12,\n            'f': \"12\",\n        },\n{\n            'v': 2.0,\n            'f': \"2.0\",\n        },\n{\n            'v': 1999,\n            'f': \"1999\",\n        }],\n [{\n            'v': 2150,\n            'f': \"2150\",\n        },\n{\n            'v': 12,\n            'f': \"12\",\n        },\n{\n            'v': 3.0,\n            'f': \"3.0\",\n        },\n{\n            'v': 1999,\n            'f': \"1999\",\n        }],\n [{\n            'v': 2243,\n            'f': \"2243\",\n        },\n{\n            'v': 12,\n            'f': \"12\",\n        },\n{\n            'v': 5.0,\n            'f': \"5.0\",\n        },\n{\n            'v': 1999,\n            'f': \"1999\",\n        }],\n [{\n            'v': 2248,\n            'f': \"2248\",\n        },\n{\n            'v': 12,\n            'f': \"12\",\n        },\n{\n            'v': 5.0,\n            'f': \"5.0\",\n        },\n{\n            'v': 1999,\n            'f': \"1999\",\n        }],\n [{\n            'v': 2266,\n            'f': \"2266\",\n        },\n{\n            'v': 12,\n            'f': \"12\",\n        },\n{\n            'v': 1.0,\n            'f': \"1.0\",\n        },\n{\n            'v': 1999,\n            'f': \"1999\",\n        }],\n [{\n            'v': 2291,\n            'f': \"2291\",\n        },\n{\n            'v': 12,\n            'f': \"12\",\n        },\n{\n            'v': 4.0,\n            'f': \"4.0\",\n        },\n{\n            'v': 1999,\n            'f': \"1999\",\n        }],\n [{\n            'v': 2841,\n            'f': \"2841\",\n        },\n{\n            'v': 12,\n            'f': \"12\",\n        },\n{\n            'v': 3.0,\n            'f': \"3.0\",\n        },\n{\n            'v': 1999,\n            'f': \"1999\",\n        }],\n [{\n            'v': 2959,\n            'f': \"2959\",\n        },\n{\n            'v': 14,\n            'f': \"14\",\n        },\n{\n            'v': 3.0,\n            'f': \"3.0\",\n        },\n{\n            'v': 2017,\n            'f': \"2017\",\n        }],\n [{\n            'v': 1240,\n            'f': \"1240\",\n        },\n{\n            'v': 15,\n            'f': \"15\",\n        },\n{\n            'v': 4.0,\n            'f': \"4.0\",\n        },\n{\n            'v': 2012,\n            'f': \"2012\",\n        }],\n [{\n            'v': 1265,\n            'f': \"1265\",\n        },\n{\n            'v': 15,\n            'f': \"15\",\n        },\n{\n            'v': 5.0,\n            'f': \"5.0\",\n        },\n{\n            'v': 2012,\n            'f': \"2012\",\n        }],\n [{\n            'v': 1278,\n            'f': \"1278\",\n        },\n{\n            'v': 15,\n            'f': \"15\",\n        },\n{\n            'v': 5.0,\n            'f': \"5.0\",\n        },\n{\n            'v': 2012,\n            'f': \"2012\",\n        }],\n [{\n            'v': 1610,\n            'f': \"1610\",\n        },\n{\n            'v': 15,\n            'f': \"15\",\n        },\n{\n            'v': 4.5,\n            'f': \"4.5\",\n        },\n{\n            'v': 2012,\n            'f': \"2012\",\n        }],\n [{\n            'v': 2401,\n            'f': \"2401\",\n        },\n{\n            'v': 15,\n            'f': \"15\",\n        },\n{\n            'v': 4.5,\n            'f': \"4.5\",\n        },\n{\n            'v': 2012,\n            'f': \"2012\",\n        }],\n [{\n            'v': 2951,\n            'f': \"2951\",\n        },\n{\n            'v': 15,\n            'f': \"15\",\n        },\n{\n            'v': 4.5,\n            'f': \"4.5\",\n        },\n{\n            'v': 2012,\n            'f': \"2012\",\n        }],\n [{\n            'v': 3275,\n            'f': \"3275\",\n        },\n{\n            'v': 15,\n            'f': \"15\",\n        },\n{\n            'v': 2.5,\n            'f': \"2.5\",\n        },\n{\n            'v': 2012,\n            'f': \"2012\",\n        }],\n [{\n            'v': 6502,\n            'f': \"6502\",\n        },\n{\n            'v': 15,\n            'f': \"15\",\n        },\n{\n            'v': 4.5,\n            'f': \"4.5\",\n        },\n{\n            'v': 2012,\n            'f': \"2012\",\n        }],\n [{\n            'v': 6808,\n            'f': \"6808\",\n        },\n{\n            'v': 15,\n            'f': \"15\",\n        },\n{\n            'v': 4.0,\n            'f': \"4.0\",\n        },\n{\n            'v': 2012,\n            'f': \"2012\",\n        }],\n [{\n            'v': 26172,\n            'f': \"26172\",\n        },\n{\n            'v': 15,\n            'f': \"15\",\n        },\n{\n            'v': 4.0,\n            'f': \"4.0\",\n        },\n{\n            'v': 2012,\n            'f': \"2012\",\n        }],\n [{\n            'v': 51255,\n            'f': \"51255\",\n        },\n{\n            'v': 15,\n            'f': \"15\",\n        },\n{\n            'v': 5.0,\n            'f': \"5.0\",\n        },\n{\n            'v': 2012,\n            'f': \"2012\",\n        }],\n [{\n            'v': 58295,\n            'f': \"58295\",\n        },\n{\n            'v': 15,\n            'f': \"15\",\n        },\n{\n            'v': 3.5,\n            'f': \"3.5\",\n        },\n{\n            'v': 2012,\n            'f': \"2012\",\n        }],\n [{\n            'v': 87232,\n            'f': \"87232\",\n        },\n{\n            'v': 15,\n            'f': \"15\",\n        },\n{\n            'v': 4.0,\n            'f': \"4.0\",\n        },\n{\n            'v': 2012,\n            'f': \"2012\",\n        }],\n [{\n            'v': 380,\n            'f': \"380\",\n        },\n{\n            'v': 16,\n            'f': \"16\",\n        },\n{\n            'v': 4.0,\n            'f': \"4.0\",\n        },\n{\n            'v': 2017,\n            'f': \"2017\",\n        }],\n [{\n            'v': 541,\n            'f': \"541\",\n        },\n{\n            'v': 16,\n            'f': \"16\",\n        },\n{\n            'v': 5.0,\n            'f': \"5.0\",\n        },\n{\n            'v': 2017,\n            'f': \"2017\",\n        }],\n [{\n            'v': 1036,\n            'f': \"1036\",\n        },\n{\n            'v': 16,\n            'f': \"16\",\n        },\n{\n            'v': 4.0,\n            'f': \"4.0\",\n        },\n{\n            'v': 2017,\n            'f': \"2017\",\n        }],\n [{\n            'v': 1676,\n            'f': \"1676\",\n        },\n{\n            'v': 16,\n            'f': \"16\",\n        },\n{\n            'v': 4.5,\n            'f': \"4.5\",\n        },\n{\n            'v': 2017,\n            'f': \"2017\",\n        }],\n [{\n            'v': 1982,\n            'f': \"1982\",\n        },\n{\n            'v': 16,\n            'f': \"16\",\n        },\n{\n            'v': 4.0,\n            'f': \"4.0\",\n        },\n{\n            'v': 2017,\n            'f': \"2017\",\n        }],\n [{\n            'v': 4226,\n            'f': \"4226\",\n        },\n{\n            'v': 16,\n            'f': \"16\",\n        },\n{\n            'v': 4.5,\n            'f': \"4.5\",\n        },\n{\n            'v': 2017,\n            'f': \"2017\",\n        }],\n [{\n            'v': 4995,\n            'f': \"4995\",\n        },\n{\n            'v': 16,\n            'f': \"16\",\n        },\n{\n            'v': 5.0,\n            'f': \"5.0\",\n        },\n{\n            'v': 2017,\n            'f': \"2017\",\n        }],\n [{\n            'v': 70286,\n            'f': \"70286\",\n        },\n{\n            'v': 16,\n            'f': \"16\",\n        },\n{\n            'v': 5.0,\n            'f': \"5.0\",\n        },\n{\n            'v': 2017,\n            'f': \"2017\",\n        }],\n [{\n            'v': 95875,\n            'f': \"95875\",\n        },\n{\n            'v': 16,\n            'f': \"16\",\n        },\n{\n            'v': 4.0,\n            'f': \"4.0\",\n        },\n{\n            'v': 2017,\n            'f': \"2017\",\n        }],\n [{\n            'v': 111235,\n            'f': \"111235\",\n        },\n{\n            'v': 16,\n            'f': \"16\",\n        },\n{\n            'v': 4.0,\n            'f': \"4.0\",\n        },\n{\n            'v': 2017,\n            'f': \"2017\",\n        }],\n [{\n            'v': 4310,\n            'f': \"4310\",\n        },\n{\n            'v': 17,\n            'f': \"17\",\n        },\n{\n            'v': 3.0,\n            'f': \"3.0\",\n        },\n{\n            'v': 2001,\n            'f': \"2001\",\n        }],\n [{\n            'v': 1175,\n            'f': \"1175\",\n        },\n{\n            'v': 19,\n            'f': \"19\",\n        },\n{\n            'v': 3.0,\n            'f': \"3.0\",\n        },\n{\n            'v': 2011,\n            'f': \"2011\",\n        }],\n [{\n            'v': 161,\n            'f': \"161\",\n        },\n{\n            'v': 20,\n            'f': \"20\",\n        },\n{\n            'v': 4.0,\n            'f': \"4.0\",\n        },\n{\n            'v': 2014,\n            'f': \"2014\",\n        }],\n [{\n            'v': 260,\n            'f': \"260\",\n        },\n{\n            'v': 20,\n            'f': \"20\",\n        },\n{\n            'v': 4.0,\n            'f': \"4.0\",\n        },\n{\n            'v': 2013,\n            'f': \"2013\",\n        }],\n [{\n            'v': 595,\n            'f': \"595\",\n        },\n{\n            'v': 20,\n            'f': \"20\",\n        },\n{\n            'v': 3.5,\n            'f': \"3.5\",\n        },\n{\n            'v': 2014,\n            'f': \"2014\",\n        }],\n [{\n            'v': 1197,\n            'f': \"1197\",\n        },\n{\n            'v': 20,\n            'f': \"20\",\n        },\n{\n            'v': 5.0,\n            'f': \"5.0\",\n        },\n{\n            'v': 2013,\n            'f': \"2013\",\n        }],\n [{\n            'v': 2081,\n            'f': \"2081\",\n        },\n{\n            'v': 20,\n            'f': \"20\",\n        },\n{\n            'v': 3.5,\n            'f': \"3.5\",\n        },\n{\n            'v': 2014,\n            'f': \"2014\",\n        }],\n [{\n            'v': 4881,\n            'f': \"4881\",\n        },\n{\n            'v': 20,\n            'f': \"20\",\n        },\n{\n            'v': 3.5,\n            'f': \"3.5\",\n        },\n{\n            'v': 2016,\n            'f': \"2016\",\n        }],\n [{\n            'v': 64620,\n            'f': \"64620\",\n        },\n{\n            'v': 20,\n            'f': \"20\",\n        },\n{\n            'v': 3.0,\n            'f': \"3.0\",\n        },\n{\n            'v': 2014,\n            'f': \"2014\",\n        }],\n [{\n            'v': 519,\n            'f': \"519\",\n        },\n{\n            'v': 21,\n            'f': \"21\",\n        },\n{\n            'v': 5.0,\n            'f': \"5.0\",\n        },\n{\n            'v': 2009,\n            'f': \"2009\",\n        }],\n [{\n            'v': 67197,\n            'f': \"67197\",\n        },\n{\n            'v': 21,\n            'f': \"21\",\n        },\n{\n            'v': 5.0,\n            'f': \"5.0\",\n        },\n{\n            'v': 2009,\n            'f': \"2009\",\n        }],\n [{\n            'v': 342,\n            'f': \"342\",\n        },\n{\n            'v': 22,\n            'f': \"22\",\n        },\n{\n            'v': 3.0,\n            'f': \"3.0\",\n        },\n{\n            'v': 2005,\n            'f': \"2005\",\n        }],\n [{\n            'v': 1380,\n            'f': \"1380\",\n        },\n{\n            'v': 22,\n            'f': \"22\",\n        },\n{\n            'v': 1.0,\n            'f': \"1.0\",\n        },\n{\n            'v': 2005,\n            'f': \"2005\",\n        }],\n [{\n            'v': 3114,\n            'f': \"3114\",\n        },\n{\n            'v': 22,\n            'f': \"22\",\n        },\n{\n            'v': 1.5,\n            'f': \"1.5\",\n        },\n{\n            'v': 2005,\n            'f': \"2005\",\n        }],\n [{\n            'v': 6,\n            'f': \"6\",\n        },\n{\n            'v': 24,\n            'f': \"24\",\n        },\n{\n            'v': 4.0,\n            'f': \"4.0\",\n        },\n{\n            'v': 2001,\n            'f': \"2001\",\n        }],\n [{\n            'v': 57,\n            'f': \"57\",\n        },\n{\n            'v': 24,\n            'f': \"24\",\n        },\n{\n            'v': 2.0,\n            'f': \"2.0\",\n        },\n{\n            'v': 2001,\n            'f': \"2001\",\n        }],\n [{\n            'v': 367,\n            'f': \"367\",\n        },\n{\n            'v': 24,\n            'f': \"24\",\n        },\n{\n            'v': 4.0,\n            'f': \"4.0\",\n        },\n{\n            'v': 2001,\n            'f': \"2001\",\n        }],\n [{\n            'v': 778,\n            'f': \"778\",\n        },\n{\n            'v': 24,\n            'f': \"24\",\n        },\n{\n            'v': 5.0,\n            'f': \"5.0\",\n        },\n{\n            'v': 2001,\n            'f': \"2001\",\n        }],\n [{\n            'v': 1193,\n            'f': \"1193\",\n        },\n{\n            'v': 24,\n            'f': \"24\",\n        },\n{\n            'v': 5.0,\n            'f': \"5.0\",\n        },\n{\n            'v': 2001,\n            'f': \"2001\",\n        }],\n [{\n            'v': 1200,\n            'f': \"1200\",\n        },\n{\n            'v': 24,\n            'f': \"24\",\n        },\n{\n            'v': 4.0,\n            'f': \"4.0\",\n        },\n{\n            'v': 2001,\n            'f': \"2001\",\n        }],\n [{\n            'v': 1240,\n            'f': \"1240\",\n        },\n{\n            'v': 24,\n            'f': \"24\",\n        },\n{\n            'v': 3.0,\n            'f': \"3.0\",\n        },\n{\n            'v': 2001,\n            'f': \"2001\",\n        }],\n [{\n            'v': 1271,\n            'f': \"1271\",\n        },\n{\n            'v': 24,\n            'f': \"24\",\n        },\n{\n            'v': 3.0,\n            'f': \"3.0\",\n        },\n{\n            'v': 2001,\n            'f': \"2001\",\n        }],\n [{\n            'v': 1610,\n            'f': \"1610\",\n        },\n{\n            'v': 24,\n            'f': \"24\",\n        },\n{\n            'v': 4.0,\n            'f': \"4.0\",\n        },\n{\n            'v': 2001,\n            'f': \"2001\",\n        }],\n [{\n            'v': 1974,\n            'f': \"1974\",\n        },\n{\n            'v': 24,\n            'f': \"24\",\n        },\n{\n            'v': 3.0,\n            'f': \"3.0\",\n        },\n{\n            'v': 2001,\n            'f': \"2001\",\n        }],\n [{\n            'v': 2145,\n            'f': \"2145\",\n        },\n{\n            'v': 24,\n            'f': \"24\",\n        },\n{\n            'v': 4.0,\n            'f': \"4.0\",\n        },\n{\n            'v': 2001,\n            'f': \"2001\",\n        }],\n [{\n            'v': 2381,\n            'f': \"2381\",\n        },\n{\n            'v': 24,\n            'f': \"24\",\n        },\n{\n            'v': 3.0,\n            'f': \"3.0\",\n        },\n{\n            'v': 2001,\n            'f': \"2001\",\n        }],\n [{\n            'v': 2395,\n            'f': \"2395\",\n        },\n{\n            'v': 24,\n            'f': \"24\",\n        },\n{\n            'v': 5.0,\n            'f': \"5.0\",\n        },\n{\n            'v': 2001,\n            'f': \"2001\",\n        }],\n [{\n            'v': 2413,\n            'f': \"2413\",\n        },\n{\n            'v': 24,\n            'f': \"24\",\n        },\n{\n            'v': 3.0,\n            'f': \"3.0\",\n        },\n{\n            'v': 2001,\n            'f': \"2001\",\n        }]],\n        columns: [[\"number\", \"nF\"], [\"number\", \"nU\"], [\"number\", \"note\"], [\"number\", \"annee\"]],\n        columnOptions: [],\n        rowsPerPage: 10,\n        helpUrl: \"https://colab.research.google.com/notebooks/data_table.ipynb\",\n        suppressOutputScrolling: true,\n        minimumWidth: undefined,\n      });\n    ",
            "text/plain": [
              "<google.colab.data_table.DataTable object>"
            ],
            "text/html": [
              "<div>\n",
              "<style scoped>\n",
              "    .dataframe tbody tr th:only-of-type {\n",
              "        vertical-align: middle;\n",
              "    }\n",
              "\n",
              "    .dataframe tbody tr th {\n",
              "        vertical-align: top;\n",
              "    }\n",
              "\n",
              "    .dataframe thead th {\n",
              "        text-align: right;\n",
              "    }\n",
              "</style>\n",
              "<table border=\"1\" class=\"dataframe\">\n",
              "  <thead>\n",
              "    <tr style=\"text-align: right;\">\n",
              "      <th></th>\n",
              "      <th>nF</th>\n",
              "      <th>nU</th>\n",
              "      <th>note</th>\n",
              "      <th>annee</th>\n",
              "    </tr>\n",
              "  </thead>\n",
              "  <tbody>\n",
              "    <tr>\n",
              "      <th>0</th>\n",
              "      <td>2959</td>\n",
              "      <td>1</td>\n",
              "      <td>4.0</td>\n",
              "      <td>2015</td>\n",
              "    </tr>\n",
              "    <tr>\n",
              "      <th>1</th>\n",
              "      <td>69844</td>\n",
              "      <td>1</td>\n",
              "      <td>5.0</td>\n",
              "      <td>2015</td>\n",
              "    </tr>\n",
              "    <tr>\n",
              "      <th>2</th>\n",
              "      <td>73017</td>\n",
              "      <td>1</td>\n",
              "      <td>5.0</td>\n",
              "      <td>2015</td>\n",
              "    </tr>\n",
              "    <tr>\n",
              "      <th>3</th>\n",
              "      <td>788</td>\n",
              "      <td>2</td>\n",
              "      <td>1.0</td>\n",
              "      <td>1997</td>\n",
              "    </tr>\n",
              "    <tr>\n",
              "      <th>4</th>\n",
              "      <td>1422</td>\n",
              "      <td>4</td>\n",
              "      <td>4.0</td>\n",
              "      <td>2003</td>\n",
              "    </tr>\n",
              "    <tr>\n",
              "      <th>...</th>\n",
              "      <td>...</td>\n",
              "      <td>...</td>\n",
              "      <td>...</td>\n",
              "      <td>...</td>\n",
              "    </tr>\n",
              "    <tr>\n",
              "      <th>95</th>\n",
              "      <td>1974</td>\n",
              "      <td>24</td>\n",
              "      <td>3.0</td>\n",
              "      <td>2001</td>\n",
              "    </tr>\n",
              "    <tr>\n",
              "      <th>96</th>\n",
              "      <td>2145</td>\n",
              "      <td>24</td>\n",
              "      <td>4.0</td>\n",
              "      <td>2001</td>\n",
              "    </tr>\n",
              "    <tr>\n",
              "      <th>97</th>\n",
              "      <td>2381</td>\n",
              "      <td>24</td>\n",
              "      <td>3.0</td>\n",
              "      <td>2001</td>\n",
              "    </tr>\n",
              "    <tr>\n",
              "      <th>98</th>\n",
              "      <td>2395</td>\n",
              "      <td>24</td>\n",
              "      <td>5.0</td>\n",
              "      <td>2001</td>\n",
              "    </tr>\n",
              "    <tr>\n",
              "      <th>99</th>\n",
              "      <td>2413</td>\n",
              "      <td>24</td>\n",
              "      <td>3.0</td>\n",
              "      <td>2001</td>\n",
              "    </tr>\n",
              "  </tbody>\n",
              "</table>\n",
              "<p>100 rows × 4 columns</p>\n",
              "</div>"
            ]
          },
          "metadata": {},
          "execution_count": 15
        }
      ]
    },
    {
      "cell_type": "markdown",
      "metadata": {
        "application/vnd.databricks.v1+cell": {
          "title": "",
          "showTitle": false,
          "inputWidgets": {},
          "nuid": "2846854c-5dc4-469c-927c-000dc16f7e0a"
        },
        "id": "itIS1ldSG2AG"
      },
      "source": [
        "# Exercice 1 : partitionnement des données en MEMOIRE\n",
        "Une des particularités de Spark est la possibilité de charger et de “maintenir” (persister) les données en **mémoire** vive. Cette fonctionnalité permet d'accélérer les accès fréquents aux données en évitant de relire plusieurs fois des données stockées sur disque."
      ]
    },
    {
      "cell_type": "markdown",
      "metadata": {
        "application/vnd.databricks.v1+cell": {
          "title": "",
          "showTitle": false,
          "inputWidgets": {},
          "nuid": "7ce80677-927f-4c42-93f8-7131238b09ec"
        },
        "id": "pOFUspx7G2AG"
      },
      "source": [
        "Nettoyer l'espace mémoire (vider le cache) en début d'exercice"
      ]
    },
    {
      "cell_type": "code",
      "metadata": {
        "application/vnd.databricks.v1+cell": {
          "title": "",
          "showTitle": false,
          "inputWidgets": {},
          "nuid": "046d023a-7ea5-494b-ad20-8a5c2ec12948"
        },
        "id": "Lup0_YvQG2AG"
      },
      "source": [
        "spark.catalog.clearCache()"
      ],
      "execution_count": null,
      "outputs": []
    },
    {
      "cell_type": "markdown",
      "metadata": {
        "application/vnd.databricks.v1+cell": {
          "title": "",
          "showTitle": false,
          "inputWidgets": {},
          "nuid": "56e11c01-7aa1-4c51-8d81-d8c6b302bd61"
        },
        "id": "7CaIgwNIG2AG"
      },
      "source": [
        "### Question 1 : Notes par hachage de l'attribut année : REPARTITION\n",
        "Créer un nouveau dataframe contenant les notes fragmentées sur l’attribut année en _N_ partitions. Le numéro de partition d'une note est obtenu par hachage de l'année.\n",
        "\n",
        "Comprendre le plan:\n",
        "* FileScan \n",
        "* Exchange hashpartitioning(annee, _N_)\n",
        "\n",
        "Rmq: **repartition** est une transformation et non une action. Le (re)partitionnement est défini mais n'est pas encore exécuté"
      ]
    },
    {
      "cell_type": "code",
      "metadata": {
        "application/vnd.databricks.v1+cell": {
          "title": "",
          "showTitle": false,
          "inputWidgets": {},
          "nuid": "59f9f97d-86fa-4118-a7b7-894c24ed1d58"
        },
        "id": "0N_PWXB3G2AG",
        "colab": {
          "base_uri": "https://localhost:8080/"
        },
        "outputId": "e2e63c2e-52b6-46d0-ccce-4eeeef904e4a"
      },
      "source": [
        "notes.rdd.getNumPartitions()"
      ],
      "execution_count": null,
      "outputs": [
        {
          "output_type": "execute_result",
          "data": {
            "text/plain": [
              "2"
            ]
          },
          "metadata": {},
          "execution_count": 17
        }
      ]
    },
    {
      "cell_type": "code",
      "metadata": {
        "id": "9goR68V_RRXF",
        "colab": {
          "base_uri": "https://localhost:8080/"
        },
        "outputId": "c57859fc-7e92-43ea-a134-1492abb3bc79"
      },
      "source": [
        "notes.explain()"
      ],
      "execution_count": null,
      "outputs": [
        {
          "output_type": "stream",
          "name": "stdout",
          "text": [
            "== Physical Plan ==\n",
            "*(1) Project [nF#29L, nU#30L, note#31, annee#27L]\n",
            "+- FileScan json [annee#27L,nF#29L,nU#30L,note#31] Batched: false, DataFilters: [], Format: JSON, Location: InMemoryFileIndex(1 paths)[file:/temp/notes1M.json], PartitionFilters: [], PushedFilters: [], ReadSchema: struct<annee:bigint,nF:bigint,nU:bigint,note:double>\n",
            "\n",
            "\n"
          ]
        }
      ]
    },
    {
      "cell_type": "code",
      "metadata": {
        "application/vnd.databricks.v1+cell": {
          "title": "",
          "showTitle": false,
          "inputWidgets": {},
          "nuid": "74f61203-cfcd-41ac-9f78-267e2806f681"
        },
        "id": "wNv6u3LSG2AH",
        "colab": {
          "base_uri": "https://localhost:8080/"
        },
        "outputId": "84346fe5-ecdd-4072-c4b5-aef7463b384b"
      },
      "source": [
        "N=4\n",
        "notesMemoire_par_annne = notes.repartition(N, \"annee\")\n",
        "notesMemoire_par_annne.explain()"
      ],
      "execution_count": null,
      "outputs": [
        {
          "output_type": "stream",
          "name": "stdout",
          "text": [
            "== Physical Plan ==\n",
            "Exchange hashpartitioning(annee#27L, 4), REPARTITION_BY_NUM, [id=#50]\n",
            "+- *(1) Project [nF#29L, nU#30L, note#31, annee#27L]\n",
            "   +- FileScan json [annee#27L,nF#29L,nU#30L,note#31] Batched: false, DataFilters: [], Format: JSON, Location: InMemoryFileIndex(1 paths)[file:/temp/notes1M.json], PartitionFilters: [], PushedFilters: [], ReadSchema: struct<annee:bigint,nF:bigint,nU:bigint,note:double>\n",
            "\n",
            "\n"
          ]
        }
      ]
    },
    {
      "cell_type": "markdown",
      "metadata": {
        "application/vnd.databricks.v1+cell": {
          "title": "",
          "showTitle": false,
          "inputWidgets": {},
          "nuid": "19a1aab2-4482-41f4-8fa8-4122aa811b05"
        },
        "id": "fkikY7tCG2AH"
      },
      "source": [
        "Rendre ce dataframe persistant en mémoire. Rmq: ici l'action **count** exécute le repartionnement défini ci-dessus."
      ]
    },
    {
      "cell_type": "code",
      "metadata": {
        "application/vnd.databricks.v1+cell": {
          "title": "",
          "showTitle": false,
          "inputWidgets": {},
          "nuid": "fd6dad9e-8f32-4126-92e1-b93478e03f86"
        },
        "id": "O7iOcFsGG2AH",
        "colab": {
          "base_uri": "https://localhost:8080/"
        },
        "outputId": "2e32473d-8d41-4189-ec88-9548806775da"
      },
      "source": [
        "notesMemoire_par_annne.persist()\n",
        "notesMemoire_par_annne.count()"
      ],
      "execution_count": null,
      "outputs": [
        {
          "output_type": "execute_result",
          "data": {
            "text/plain": [
              "1301573"
            ]
          },
          "metadata": {},
          "execution_count": 20
        }
      ]
    },
    {
      "cell_type": "code",
      "metadata": {
        "id": "hD_lOIf2Tvmj",
        "colab": {
          "base_uri": "https://localhost:8080/"
        },
        "outputId": "79b5c594-8de8-4527-f10d-2f8890762ee4"
      },
      "source": [
        "# notesMemoire_par_annne.unpersist()\n",
        "m.mesure(notesMemoire_par_annne)"
      ],
      "execution_count": null,
      "outputs": [
        {
          "output_type": "stream",
          "name": "stdout",
          "text": [
            "job 5 : shuffle = 236 octets, time = 142.0 ms\n"
          ]
        }
      ]
    },
    {
      "cell_type": "markdown",
      "metadata": {
        "application/vnd.databricks.v1+cell": {
          "title": "",
          "showTitle": false,
          "inputWidgets": {},
          "nuid": "c9dbfbf5-4fcb-4f6a-8906-df15e0caf8de"
        },
        "id": "x_-iugscG2AH"
      },
      "source": [
        "Afficher un extrait du contenu de chacune des partitions.\n",
        "Les partitions de notesMemoire_par_annne sont :"
      ]
    },
    {
      "cell_type": "code",
      "metadata": {
        "id": "xkqXJop9VIlX",
        "colab": {
          "base_uri": "https://localhost:8080/"
        },
        "outputId": "b9b713a4-670a-4a6c-d9d8-b7a332e57742"
      },
      "source": [
        "notesMemoire_par_annne.explain()"
      ],
      "execution_count": null,
      "outputs": [
        {
          "output_type": "stream",
          "name": "stdout",
          "text": [
            "== Physical Plan ==\n",
            "Exchange hashpartitioning(annee#27L, 4), REPARTITION_BY_NUM, [id=#50]\n",
            "+- *(1) Project [nF#29L, nU#30L, note#31, annee#27L]\n",
            "   +- FileScan json [annee#27L,nF#29L,nU#30L,note#31] Batched: false, DataFilters: [], Format: JSON, Location: InMemoryFileIndex(1 paths)[file:/temp/notes1M.json], PartitionFilters: [], PushedFilters: [], ReadSchema: struct<annee:bigint,nF:bigint,nU:bigint,note:double>\n",
            "\n",
            "\n"
          ]
        }
      ]
    },
    {
      "cell_type": "markdown",
      "metadata": {
        "id": "nLeQWSMsVniQ"
      },
      "source": [
        "Contenu initial des partitions du dataframe Notes"
      ]
    },
    {
      "cell_type": "code",
      "metadata": {
        "id": "jvd2IHbxVfw7",
        "colab": {
          "base_uri": "https://localhost:8080/"
        },
        "outputId": "b675b633-36e4-43bf-e3bf-65deaa54293a"
      },
      "source": [
        "showPartitions(notes, 10)"
      ],
      "execution_count": null,
      "outputs": [
        {
          "output_type": "stream",
          "name": "stdout",
          "text": [
            "Partition 0 , 686782 éléments\n",
            "Row(nF=2959, nU=1, note=4.0, annee=2015)\n",
            "Row(nF=69844, nU=1, note=5.0, annee=2015)\n",
            "Row(nF=73017, nU=1, note=5.0, annee=2015)\n",
            "Row(nF=788, nU=2, note=1.0, annee=1997)\n",
            "Row(nF=1422, nU=4, note=4.0, annee=2003)\n",
            "Row(nF=2355, nU=4, note=4.0, annee=2003)\n",
            "Row(nF=2541, nU=4, note=3.0, annee=2003)\n",
            "Row(nF=3476, nU=4, note=4.0, annee=2003)\n",
            "Row(nF=541, nU=5, note=5.0, annee=2000)\n",
            "Row(nF=3948, nU=7, note=1.5, annee=2017)\n",
            "\n",
            "Partition 1 , 614791 éléments\n",
            "Row(nF=2995, nU=142907, note=4.0, annee=2001)\n",
            "Row(nF=3178, nU=142907, note=5.0, annee=2001)\n",
            "Row(nF=3578, nU=142907, note=4.0, annee=2001)\n",
            "Row(nF=3693, nU=142907, note=4.0, annee=2001)\n",
            "Row(nF=3699, nU=142907, note=2.0, annee=2001)\n",
            "Row(nF=4366, nU=142907, note=4.0, annee=2001)\n",
            "Row(nF=4618, nU=142907, note=2.0, annee=2001)\n",
            "Row(nF=1, nU=142908, note=0.5, annee=2016)\n",
            "Row(nF=410, nU=142908, note=0.5, annee=2016)\n",
            "Row(nF=1079, nU=142908, note=0.5, annee=2016)\n",
            "\n"
          ]
        }
      ]
    },
    {
      "cell_type": "code",
      "metadata": {
        "application/vnd.databricks.v1+cell": {
          "title": "",
          "showTitle": false,
          "inputWidgets": {},
          "nuid": "1d9376fc-5972-4af2-a664-27fde470dd59"
        },
        "id": "kQ7Z2W_RG2AH",
        "colab": {
          "base_uri": "https://localhost:8080/"
        },
        "outputId": "5b43942e-e605-4be5-ea26-08002183465a"
      },
      "source": [
        "showPartitions(notesMemoire_par_annne)"
      ],
      "execution_count": null,
      "outputs": [
        {
          "output_type": "stream",
          "name": "stdout",
          "text": [
            "Partition 0 , 104893 éléments\n",
            "Row(nF=4881, nU=20, note=3.5, annee=2016)\n",
            "Row(nF=260, nU=32, note=5.0, annee=2016)\n",
            "Row(nF=1196, nU=32, note=5.0, annee=2016)\n",
            "Row(nF=2571, nU=32, note=5.0, annee=2016)\n",
            "Row(nF=2700, nU=32, note=2.5, annee=2016)\n",
            "\n",
            "Partition 1 , 237179 éléments\n",
            "Row(nF=2054, nU=11, note=2.5, annee=2009)\n",
            "Row(nF=3977, nU=11, note=3.0, annee=2009)\n",
            "Row(nF=6870, nU=11, note=3.5, annee=2009)\n",
            "Row(nF=48774, nU=11, note=3.5, annee=2009)\n",
            "Row(nF=52245, nU=11, note=3.5, annee=2009)\n",
            "\n",
            "Partition 2 , 394749 éléments\n",
            "Row(nF=788, nU=2, note=1.0, annee=1997)\n",
            "Row(nF=541, nU=5, note=5.0, annee=2000)\n",
            "Row(nF=1240, nU=15, note=4.0, annee=2012)\n",
            "Row(nF=1265, nU=15, note=5.0, annee=2012)\n",
            "Row(nF=1278, nU=15, note=5.0, annee=2012)\n",
            "\n",
            "Partition 3 , 564752 éléments\n",
            "Row(nF=2959, nU=1, note=4.0, annee=2015)\n",
            "Row(nF=69844, nU=1, note=5.0, annee=2015)\n",
            "Row(nF=73017, nU=1, note=5.0, annee=2015)\n",
            "Row(nF=1422, nU=4, note=4.0, annee=2003)\n",
            "Row(nF=2355, nU=4, note=4.0, annee=2003)\n",
            "\n"
          ]
        }
      ]
    },
    {
      "cell_type": "markdown",
      "metadata": {
        "application/vnd.databricks.v1+cell": {
          "title": "",
          "showTitle": false,
          "inputWidgets": {},
          "nuid": "064a291b-d48e-48c1-ac3c-a96f462dbeb2"
        },
        "id": "ACmeWXI6G2AI"
      },
      "source": [
        "##### Accès aux données cachées\n",
        "Comprendre le plan d'accès :\n",
        "* InMemoryRelation : cache mémoire\n",
        "* InMemoryTableScan : accès au cache\n",
        "\n",
        "Rmq: les autres opérateur en dessous de InMemoryRelation ne sont précisés qu'à titre d'info rappelant l'historique de création du cache, ils ne sont pas exécutés"
      ]
    },
    {
      "cell_type": "code",
      "metadata": {
        "application/vnd.databricks.v1+cell": {
          "title": "",
          "showTitle": false,
          "inputWidgets": {},
          "nuid": "14f2509e-3572-44e9-9131-bb875abfaf54"
        },
        "id": "Kvg24zPkG2AI",
        "colab": {
          "base_uri": "https://localhost:8080/"
        },
        "outputId": "9bd59bd0-c485-41ab-f13b-a0a112ed689a"
      },
      "source": [
        "notesMemoire_par_annne.explain()"
      ],
      "execution_count": null,
      "outputs": [
        {
          "output_type": "stream",
          "name": "stdout",
          "text": [
            "== Physical Plan ==\n",
            "Exchange hashpartitioning(annee#27L, 4), REPARTITION_BY_NUM, [id=#50]\n",
            "+- *(1) Project [nF#29L, nU#30L, note#31, annee#27L]\n",
            "   +- FileScan json [annee#27L,nF#29L,nU#30L,note#31] Batched: false, DataFilters: [], Format: JSON, Location: InMemoryFileIndex(1 paths)[file:/temp/notes1M.json], PartitionFilters: [], PushedFilters: [], ReadSchema: struct<annee:bigint,nF:bigint,nU:bigint,note:double>\n",
            "\n",
            "\n"
          ]
        }
      ]
    },
    {
      "cell_type": "markdown",
      "metadata": {
        "application/vnd.databricks.v1+cell": {
          "title": "",
          "showTitle": false,
          "inputWidgets": {},
          "nuid": "f0d16d38-9e46-4578-9acf-99733d22ca83"
        },
        "id": "IZOP_uDdG2AI"
      },
      "source": [
        "Durée de **lecture** des données cachées"
      ]
    },
    {
      "cell_type": "code",
      "metadata": {
        "application/vnd.databricks.v1+cell": {
          "title": "",
          "showTitle": false,
          "inputWidgets": {},
          "nuid": "3519668f-8005-4fd2-83e2-02162c13b8b7"
        },
        "id": "p1maFD6gG2AI",
        "colab": {
          "base_uri": "https://localhost:8080/"
        },
        "outputId": "270f8175-385f-45ae-eae0-1a9dc9bed650"
      },
      "source": [
        "chronoPersist2(notesMemoire_par_annne)"
      ],
      "execution_count": null,
      "outputs": [
        {
          "output_type": "stream",
          "name": "stdout",
          "text": [
            "durée: 2.9 s pour lire 1301573 elements\n"
          ]
        }
      ]
    },
    {
      "cell_type": "code",
      "metadata": {
        "id": "sX_tq3LpXVNG",
        "colab": {
          "base_uri": "https://localhost:8080/"
        },
        "outputId": "1e355f47-8f1f-4541-d555-7b187d1eed4f"
      },
      "source": [
        "chronoPersist2(notes)"
      ],
      "execution_count": null,
      "outputs": [
        {
          "output_type": "stream",
          "name": "stdout",
          "text": [
            "durée: 4.1 s pour lire 1301573 elements\n"
          ]
        }
      ]
    },
    {
      "cell_type": "markdown",
      "metadata": {
        "application/vnd.databricks.v1+cell": {
          "title": "",
          "showTitle": false,
          "inputWidgets": {},
          "nuid": "9659b851-24d2-4ba4-807c-7931157c254b"
        },
        "id": "_wB2R_OQG2AJ"
      },
      "source": [
        "### Question 2 : Notes par hachage du n° de film nF\n",
        "Créer un nouveau dataframe contenant les notes fragmentées sur l’attribut nF. Le numéro de partition d'une note est obtenu par hachage de l'attribut.\n",
        "\n",
        "Afficher le plan"
      ]
    },
    {
      "cell_type": "code",
      "metadata": {
        "application/vnd.databricks.v1+cell": {
          "title": "",
          "showTitle": false,
          "inputWidgets": {},
          "nuid": "2162b018-2347-404f-95d5-b2f4d02264d3"
        },
        "id": "NN4FUkfnG2AJ",
        "colab": {
          "base_uri": "https://localhost:8080/"
        },
        "outputId": "9a89b8d8-8c52-4941-ac63-3b8c976b0476"
      },
      "source": [
        "notesMemoire_par_nF = notes.repartition(4, \"nF\")\n",
        "notesMemoire_par_nF.explain()"
      ],
      "execution_count": null,
      "outputs": [
        {
          "output_type": "stream",
          "name": "stdout",
          "text": [
            "== Physical Plan ==\n",
            "Exchange hashpartitioning(nF#29L, 4), REPARTITION_BY_NUM, [id=#252]\n",
            "+- *(1) Project [nF#29L, nU#30L, note#31, annee#27L]\n",
            "   +- FileScan json [annee#27L,nF#29L,nU#30L,note#31] Batched: false, DataFilters: [], Format: JSON, Location: InMemoryFileIndex(1 paths)[file:/temp/notes1M.json], PartitionFilters: [], PushedFilters: [], ReadSchema: struct<annee:bigint,nF:bigint,nU:bigint,note:double>\n",
            "\n",
            "\n"
          ]
        }
      ]
    },
    {
      "cell_type": "markdown",
      "metadata": {
        "application/vnd.databricks.v1+cell": {
          "title": "",
          "showTitle": false,
          "inputWidgets": {},
          "nuid": "6b87c54e-c4d5-431e-a94c-a26633a5f9bd"
        },
        "id": "cc8c68sSG2AJ"
      },
      "source": [
        "Que font ces opérations ?\n",
        "* FileScan \n",
        "* Exchange hashpartitioning(nF, 4)"
      ]
    },
    {
      "cell_type": "code",
      "metadata": {
        "application/vnd.databricks.v1+cell": {
          "title": "",
          "showTitle": false,
          "inputWidgets": {},
          "nuid": "df2e01eb-9076-469e-9ce0-86888e797026"
        },
        "id": "DWlzFf1BG2AJ",
        "colab": {
          "base_uri": "https://localhost:8080/"
        },
        "outputId": "693bb717-facc-4094-cfc1-f8b76f30f6e1"
      },
      "source": [
        "notesMemoire_par_nF.persist()\n",
        "notesMemoire_par_nF.count()"
      ],
      "execution_count": null,
      "outputs": [
        {
          "output_type": "execute_result",
          "data": {
            "text/plain": [
              "1301573"
            ]
          },
          "metadata": {},
          "execution_count": 29
        }
      ]
    },
    {
      "cell_type": "code",
      "metadata": {
        "application/vnd.databricks.v1+cell": {
          "title": "",
          "showTitle": false,
          "inputWidgets": {},
          "nuid": "0d67b782-d78d-4c71-8ca4-8f1841b83a67"
        },
        "id": "ckKMcgpzG2AJ"
      },
      "source": [
        "#showPartitions(notesMemoire_par_nF, 10)"
      ],
      "execution_count": null,
      "outputs": []
    },
    {
      "cell_type": "markdown",
      "metadata": {
        "application/vnd.databricks.v1+cell": {
          "title": "",
          "showTitle": false,
          "inputWidgets": {},
          "nuid": "81f794f2-fb0b-42d9-a8c2-7b4ea25a45f4"
        },
        "id": "iA23OtpcG2AK"
      },
      "source": [
        "### Question 3 : Cacher les Films en les repartitionnant par nF"
      ]
    },
    {
      "cell_type": "code",
      "metadata": {
        "application/vnd.databricks.v1+cell": {
          "title": "",
          "showTitle": false,
          "inputWidgets": {},
          "nuid": "a16df343-6cc6-4368-8bd1-6125f67055e7"
        },
        "id": "wgusCEhTG2AK",
        "colab": {
          "base_uri": "https://localhost:8080/"
        },
        "outputId": "f055a845-7c8e-431d-bc4d-1c149483a977"
      },
      "source": [
        "# A compléter\n",
        "films_par_nF = films.repartition(6, \"nF\").persist()\n",
        "films_par_nF.count()\n"
      ],
      "execution_count": null,
      "outputs": [
        {
          "output_type": "execute_result",
          "data": {
            "text/plain": [
              "9125"
            ]
          },
          "metadata": {},
          "execution_count": 31
        }
      ]
    },
    {
      "cell_type": "markdown",
      "metadata": {
        "application/vnd.databricks.v1+cell": {
          "title": "",
          "showTitle": false,
          "inputWidgets": {},
          "nuid": "300a2277-fffb-49e5-911a-a7c6615f6b04"
        },
        "id": "8QXjQy1WG2AK"
      },
      "source": [
        "### Question 4 : PARTITIONNEMENT déclenché par une requête GROUP BY"
      ]
    },
    {
      "cell_type": "markdown",
      "metadata": {
        "application/vnd.databricks.v1+cell": {
          "title": "",
          "showTitle": false,
          "inputWidgets": {},
          "nuid": "724f9756-c27b-435f-acb5-d2d99c1d83c7"
        },
        "id": "j_cIRUk1G2AK"
      },
      "source": [
        "Requete group by année ==> repartitionnement par année"
      ]
    },
    {
      "cell_type": "code",
      "metadata": {
        "application/vnd.databricks.v1+cell": {
          "title": "",
          "showTitle": false,
          "inputWidgets": {},
          "nuid": "08d6a067-b431-43ea-b665-114b7e0f2a1f"
        },
        "id": "PnVQUSV7G2AK",
        "colab": {
          "base_uri": "https://localhost:8080/"
        },
        "outputId": "22863677-e7b2-41aa-a923-4a180480b257"
      },
      "source": [
        "#notes.unpersist()\n",
        "showPartitions(notes, 20)"
      ],
      "execution_count": null,
      "outputs": [
        {
          "output_type": "stream",
          "name": "stdout",
          "text": [
            "Partition 0 , 686782 éléments\n",
            "Row(nF=2959, nU=1, note=4.0, annee=2015)\n",
            "Row(nF=69844, nU=1, note=5.0, annee=2015)\n",
            "Row(nF=73017, nU=1, note=5.0, annee=2015)\n",
            "Row(nF=788, nU=2, note=1.0, annee=1997)\n",
            "Row(nF=1422, nU=4, note=4.0, annee=2003)\n",
            "Row(nF=2355, nU=4, note=4.0, annee=2003)\n",
            "Row(nF=2541, nU=4, note=3.0, annee=2003)\n",
            "Row(nF=3476, nU=4, note=4.0, annee=2003)\n",
            "Row(nF=541, nU=5, note=5.0, annee=2000)\n",
            "Row(nF=3948, nU=7, note=1.5, annee=2017)\n",
            "Row(nF=6934, nU=7, note=2.0, annee=2017)\n",
            "Row(nF=54503, nU=7, note=3.5, annee=2017)\n",
            "Row(nF=1210, nU=8, note=4.0, annee=2002)\n",
            "Row(nF=1792, nU=8, note=1.0, annee=2002)\n",
            "Row(nF=4361, nU=8, note=2.0, annee=2002)\n",
            "Row(nF=4367, nU=8, note=3.0, annee=2002)\n",
            "Row(nF=4571, nU=8, note=3.0, annee=2002)\n",
            "Row(nF=4643, nU=8, note=2.0, annee=2002)\n",
            "Row(nF=342, nU=9, note=5.0, annee=2003)\n",
            "Row(nF=1059, nU=9, note=5.0, annee=2003)\n",
            "\n",
            "Partition 1 , 614791 éléments\n",
            "Row(nF=2995, nU=142907, note=4.0, annee=2001)\n",
            "Row(nF=3178, nU=142907, note=5.0, annee=2001)\n",
            "Row(nF=3578, nU=142907, note=4.0, annee=2001)\n",
            "Row(nF=3693, nU=142907, note=4.0, annee=2001)\n",
            "Row(nF=3699, nU=142907, note=2.0, annee=2001)\n",
            "Row(nF=4366, nU=142907, note=4.0, annee=2001)\n",
            "Row(nF=4618, nU=142907, note=2.0, annee=2001)\n",
            "Row(nF=1, nU=142908, note=0.5, annee=2016)\n",
            "Row(nF=410, nU=142908, note=0.5, annee=2016)\n",
            "Row(nF=1079, nU=142908, note=0.5, annee=2016)\n",
            "Row(nF=1208, nU=142908, note=0.5, annee=2016)\n",
            "Row(nF=4025, nU=142908, note=0.5, annee=2016)\n",
            "Row(nF=4641, nU=142908, note=0.5, annee=2016)\n",
            "Row(nF=6333, nU=142908, note=4.0, annee=2016)\n",
            "Row(nF=8371, nU=142908, note=5.0, annee=2016)\n",
            "Row(nF=8640, nU=142908, note=4.5, annee=2016)\n",
            "Row(nF=8751, nU=142908, note=0.5, annee=2016)\n",
            "Row(nF=27611, nU=142908, note=0.5, annee=2016)\n",
            "Row(nF=31983, nU=142908, note=0.5, annee=2016)\n",
            "Row(nF=32840, nU=142908, note=0.5, annee=2016)\n",
            "\n"
          ]
        }
      ]
    },
    {
      "cell_type": "markdown",
      "source": [
        "Calculer pour chaque année, le nombre de notes et leur moyenne."
      ],
      "metadata": {
        "id": "5UP-8_dKW5XM"
      }
    },
    {
      "cell_type": "code",
      "metadata": {
        "application/vnd.databricks.v1+cell": {
          "title": "",
          "showTitle": false,
          "inputWidgets": {},
          "nuid": "acc4c3d3-46a7-4a31-add7-b908c7da3bbd"
        },
        "id": "4JRM_UUfG2AL",
        "colab": {
          "base_uri": "https://localhost:8080/"
        },
        "outputId": "279c999d-f5de-42af-d122-17b7ef7d884f"
      },
      "source": [
        "from pyspark.sql.functions import count\n",
        "from pyspark.sql.functions import avg\n",
        "\n",
        "notes.persist()\n",
        "\n",
        "r1 = notes.groupBy(\"annee\").agg(count(\"note\").alias(\"nb\"), avg(\"note\").alias(\"moyenne\"))\n",
        "r1.explain()\n",
        "\n",
        "# notes.createOrReplaceTempView(\"NOTES\")\n",
        "# r1 = spark.sql(\"\"\"\n",
        "# select annee, count(*) as nb, avg(note) as moyenne\n",
        "# from NOTES\n",
        "# group by annee\n",
        "# \"\"\")"
      ],
      "execution_count": null,
      "outputs": [
        {
          "output_type": "stream",
          "name": "stdout",
          "text": [
            "== Physical Plan ==\n",
            "*(2) HashAggregate(keys=[annee#27L], functions=[count(note#31), avg(note#31)])\n",
            "+- Exchange hashpartitioning(annee#27L, 4), ENSURE_REQUIREMENTS, [id=#392]\n",
            "   +- *(1) HashAggregate(keys=[annee#27L], functions=[partial_count(note#31), partial_avg(note#31)])\n",
            "      +- *(1) ColumnarToRow\n",
            "         +- InMemoryTableScan [note#31, annee#27L]\n",
            "               +- InMemoryRelation [nF#29L, nU#30L, note#31, annee#27L], StorageLevel(disk, memory, deserialized, 1 replicas)\n",
            "                     +- *(1) Project [nF#29L, nU#30L, note#31, annee#27L]\n",
            "                        +- FileScan json [annee#27L,nF#29L,nU#30L,note#31] Batched: false, DataFilters: [], Format: JSON, Location: InMemoryFileIndex(1 paths)[file:/temp/notes1M.json], PartitionFilters: [], PushedFilters: [], ReadSchema: struct<annee:bigint,nF:bigint,nU:bigint,note:double>\n",
            "\n",
            "\n"
          ]
        }
      ]
    },
    {
      "cell_type": "code",
      "metadata": {
        "application/vnd.databricks.v1+cell": {
          "title": "",
          "showTitle": false,
          "inputWidgets": {},
          "nuid": "9f88a4d1-5b56-40d4-ab1e-62dc1166cce4"
        },
        "id": "-FAJ_xVfG2AL",
        "colab": {
          "base_uri": "https://localhost:8080/",
          "height": 316
        },
        "outputId": "e25b1904-8949-4cc1-8c6c-b5dd32d9ac66"
      },
      "source": [
        "display(r1)"
      ],
      "execution_count": null,
      "outputs": [
        {
          "output_type": "execute_result",
          "data": {
            "application/vnd.google.colaboratory.module+javascript": "\n      import \"https://ssl.gstatic.com/colaboratory/data_table/81f25a011006ed3d/data_table.js\";\n\n      window.createDataTable({\n        data: [[{\n            'v': 2016,\n            'f': \"2016\",\n        },\n{\n            'v': 104893,\n            'f': \"104893\",\n        },\n{\n            'v': 3.541232494065381,\n            'f': \"3.541232494065381\",\n        }],\n [{\n            'v': 2009,\n            'f': \"2009\",\n        },\n{\n            'v': 50128,\n            'f': \"50128\",\n        },\n{\n            'v': 3.4790336737950844,\n            'f': \"3.4790336737950844\",\n        }],\n [{\n            'v': 1999,\n            'f': \"1999\",\n        },\n{\n            'v': 61508,\n            'f': \"61508\",\n        },\n{\n            'v': 3.6247317422123952,\n            'f': \"3.6247317422123952\",\n        }],\n [{\n            'v': 2010,\n            'f': \"2010\",\n        },\n{\n            'v': 48991,\n            'f': \"48991\",\n        },\n{\n            'v': 3.515104815170133,\n            'f': \"3.515104815170133\",\n        }],\n [{\n            'v': 2004,\n            'f': \"2004\",\n        },\n{\n            'v': 60046,\n            'f': \"60046\",\n        },\n{\n            'v': 3.426256536655231,\n            'f': \"3.426256536655231\",\n        }],\n [{\n            'v': 1998,\n            'f': \"1998\",\n        },\n{\n            'v': 16506,\n            'f': \"16506\",\n        },\n{\n            'v': 3.5345934811583666,\n            'f': \"3.5345934811583666\",\n        }],\n [{\n            'v': 1997,\n            'f': \"1997\",\n        },\n{\n            'v': 38310,\n            'f': \"38310\",\n        },\n{\n            'v': 3.60208822761681,\n            'f': \"3.60208822761681\",\n        }],\n [{\n            'v': 2000,\n            'f': \"2000\",\n        },\n{\n            'v': 101580,\n            'f': \"101580\",\n        },\n{\n            'v': 3.5799862177594015,\n            'f': \"3.5799862177594015\",\n        }],\n [{\n            'v': 2012,\n            'f': \"2012\",\n        },\n{\n            'v': 39625,\n            'f': \"39625\",\n        },\n{\n            'v': 3.5817665615141956,\n            'f': \"3.5817665615141956\",\n        }],\n [{\n            'v': 2001,\n            'f': \"2001\",\n        },\n{\n            'v': 62315,\n            'f': \"62315\",\n        },\n{\n            'v': 3.529198427344941,\n            'f': \"3.529198427344941\",\n        }],\n [{\n            'v': 2013,\n            'f': \"2013\",\n        },\n{\n            'v': 31631,\n            'f': \"31631\",\n        },\n{\n            'v': 3.6245297334892985,\n            'f': \"3.6245297334892985\",\n        }],\n [{\n            'v': 2008,\n            'f': \"2008\",\n        },\n{\n            'v': 60693,\n            'f': \"60693\",\n        },\n{\n            'v': 3.5306378000757914,\n            'f': \"3.5306378000757914\",\n        }],\n [{\n            'v': 2006,\n            'f': \"2006\",\n        },\n{\n            'v': 60595,\n            'f': \"60595\",\n        },\n{\n            'v': 3.464576285172044,\n            'f': \"3.464576285172044\",\n        }],\n [{\n            'v': 2015,\n            'f': \"2015\",\n        },\n{\n            'v': 95630,\n            'f': \"95630\",\n        },\n{\n            'v': 3.5788873784377286,\n            'f': \"3.5788873784377286\",\n        }],\n [{\n            'v': 2003,\n            'f': \"2003\",\n        },\n{\n            'v': 54165,\n            'f': \"54165\",\n        },\n{\n            'v': 3.4724729991692054,\n            'f': \"3.4724729991692054\",\n        }],\n [{\n            'v': 2017,\n            'f': \"2017\",\n        },\n{\n            'v': 64654,\n            'f': \"64654\",\n        },\n{\n            'v': 3.5603984285581713,\n            'f': \"3.5603984285581713\",\n        }],\n [{\n            'v': 2002,\n            'f': \"2002\",\n        },\n{\n            'v': 45606,\n            'f': \"45606\",\n        },\n{\n            'v': 3.4821514712976365,\n            'f': \"3.4821514712976365\",\n        }],\n [{\n            'v': 1996,\n            'f': \"1996\",\n        },\n{\n            'v': 86449,\n            'f': \"86449\",\n        },\n{\n            'v': 3.5503129012481347,\n            'f': \"3.5503129012481347\",\n        }],\n [{\n            'v': 2011,\n            'f': \"2011\",\n        },\n{\n            'v': 41492,\n            'f': \"41492\",\n        },\n{\n            'v': 3.530475754362287,\n            'f': \"3.530475754362287\",\n        }],\n [{\n            'v': 2014,\n            'f': \"2014\",\n        },\n{\n            'v': 29274,\n            'f': \"29274\",\n        },\n{\n            'v': 3.5918904147024664,\n            'f': \"3.5918904147024664\",\n        }],\n [{\n            'v': 2005,\n            'f': \"2005\",\n        },\n{\n            'v': 92707,\n            'f': \"92707\",\n        },\n{\n            'v': 3.4333599404575708,\n            'f': \"3.4333599404575708\",\n        }],\n [{\n            'v': 2007,\n            'f': \"2007\",\n        },\n{\n            'v': 54775,\n            'f': \"54775\",\n        },\n{\n            'v': 3.4683523505248743,\n            'f': \"3.4683523505248743\",\n        }]],\n        columns: [[\"number\", \"annee\"], [\"number\", \"nb\"], [\"number\", \"moyenne\"]],\n        columnOptions: [],\n        rowsPerPage: 10,\n        helpUrl: \"https://colab.research.google.com/notebooks/data_table.ipynb\",\n        suppressOutputScrolling: true,\n        minimumWidth: undefined,\n      });\n    ",
            "text/plain": [
              "<google.colab.data_table.DataTable object>"
            ],
            "text/html": [
              "<div>\n",
              "<style scoped>\n",
              "    .dataframe tbody tr th:only-of-type {\n",
              "        vertical-align: middle;\n",
              "    }\n",
              "\n",
              "    .dataframe tbody tr th {\n",
              "        vertical-align: top;\n",
              "    }\n",
              "\n",
              "    .dataframe thead th {\n",
              "        text-align: right;\n",
              "    }\n",
              "</style>\n",
              "<table border=\"1\" class=\"dataframe\">\n",
              "  <thead>\n",
              "    <tr style=\"text-align: right;\">\n",
              "      <th></th>\n",
              "      <th>annee</th>\n",
              "      <th>nb</th>\n",
              "      <th>moyenne</th>\n",
              "    </tr>\n",
              "  </thead>\n",
              "  <tbody>\n",
              "    <tr>\n",
              "      <th>0</th>\n",
              "      <td>2016</td>\n",
              "      <td>104893</td>\n",
              "      <td>3.541232</td>\n",
              "    </tr>\n",
              "    <tr>\n",
              "      <th>1</th>\n",
              "      <td>2009</td>\n",
              "      <td>50128</td>\n",
              "      <td>3.479034</td>\n",
              "    </tr>\n",
              "    <tr>\n",
              "      <th>2</th>\n",
              "      <td>1999</td>\n",
              "      <td>61508</td>\n",
              "      <td>3.624732</td>\n",
              "    </tr>\n",
              "    <tr>\n",
              "      <th>3</th>\n",
              "      <td>2010</td>\n",
              "      <td>48991</td>\n",
              "      <td>3.515105</td>\n",
              "    </tr>\n",
              "    <tr>\n",
              "      <th>4</th>\n",
              "      <td>2004</td>\n",
              "      <td>60046</td>\n",
              "      <td>3.426257</td>\n",
              "    </tr>\n",
              "    <tr>\n",
              "      <th>5</th>\n",
              "      <td>1998</td>\n",
              "      <td>16506</td>\n",
              "      <td>3.534593</td>\n",
              "    </tr>\n",
              "    <tr>\n",
              "      <th>6</th>\n",
              "      <td>1997</td>\n",
              "      <td>38310</td>\n",
              "      <td>3.602088</td>\n",
              "    </tr>\n",
              "    <tr>\n",
              "      <th>7</th>\n",
              "      <td>2000</td>\n",
              "      <td>101580</td>\n",
              "      <td>3.579986</td>\n",
              "    </tr>\n",
              "    <tr>\n",
              "      <th>8</th>\n",
              "      <td>2012</td>\n",
              "      <td>39625</td>\n",
              "      <td>3.581767</td>\n",
              "    </tr>\n",
              "    <tr>\n",
              "      <th>9</th>\n",
              "      <td>2001</td>\n",
              "      <td>62315</td>\n",
              "      <td>3.529198</td>\n",
              "    </tr>\n",
              "    <tr>\n",
              "      <th>10</th>\n",
              "      <td>2013</td>\n",
              "      <td>31631</td>\n",
              "      <td>3.624530</td>\n",
              "    </tr>\n",
              "    <tr>\n",
              "      <th>11</th>\n",
              "      <td>2008</td>\n",
              "      <td>60693</td>\n",
              "      <td>3.530638</td>\n",
              "    </tr>\n",
              "    <tr>\n",
              "      <th>12</th>\n",
              "      <td>2006</td>\n",
              "      <td>60595</td>\n",
              "      <td>3.464576</td>\n",
              "    </tr>\n",
              "    <tr>\n",
              "      <th>13</th>\n",
              "      <td>2015</td>\n",
              "      <td>95630</td>\n",
              "      <td>3.578887</td>\n",
              "    </tr>\n",
              "    <tr>\n",
              "      <th>14</th>\n",
              "      <td>2003</td>\n",
              "      <td>54165</td>\n",
              "      <td>3.472473</td>\n",
              "    </tr>\n",
              "    <tr>\n",
              "      <th>15</th>\n",
              "      <td>2017</td>\n",
              "      <td>64654</td>\n",
              "      <td>3.560398</td>\n",
              "    </tr>\n",
              "    <tr>\n",
              "      <th>16</th>\n",
              "      <td>2002</td>\n",
              "      <td>45606</td>\n",
              "      <td>3.482151</td>\n",
              "    </tr>\n",
              "    <tr>\n",
              "      <th>17</th>\n",
              "      <td>1996</td>\n",
              "      <td>86449</td>\n",
              "      <td>3.550313</td>\n",
              "    </tr>\n",
              "    <tr>\n",
              "      <th>18</th>\n",
              "      <td>2011</td>\n",
              "      <td>41492</td>\n",
              "      <td>3.530476</td>\n",
              "    </tr>\n",
              "    <tr>\n",
              "      <th>19</th>\n",
              "      <td>2014</td>\n",
              "      <td>29274</td>\n",
              "      <td>3.591890</td>\n",
              "    </tr>\n",
              "    <tr>\n",
              "      <th>20</th>\n",
              "      <td>2005</td>\n",
              "      <td>92707</td>\n",
              "      <td>3.433360</td>\n",
              "    </tr>\n",
              "    <tr>\n",
              "      <th>21</th>\n",
              "      <td>2007</td>\n",
              "      <td>54775</td>\n",
              "      <td>3.468352</td>\n",
              "    </tr>\n",
              "  </tbody>\n",
              "</table>\n",
              "</div>"
            ]
          },
          "metadata": {},
          "execution_count": 34
        }
      ]
    },
    {
      "cell_type": "markdown",
      "metadata": {
        "application/vnd.databricks.v1+cell": {
          "title": "",
          "showTitle": false,
          "inputWidgets": {},
          "nuid": "6a1c8a8a-0afe-40fb-a6e1-c939970cb571"
        },
        "id": "CFWrnyNBG2AM"
      },
      "source": [
        "Que font ces opérations ?\n",
        "* **HashAggregate**  keys = _année_, functions = _partial_count_(note)  \n",
        "* **Exchange** hashpartitioning  _année_\n",
        "* **HashAggregate** keys = _année_, functions = _finalmerge_count_(merge count)"
      ]
    },
    {
      "cell_type": "code",
      "metadata": {
        "application/vnd.databricks.v1+cell": {
          "title": "",
          "showTitle": false,
          "inputWidgets": {},
          "nuid": "43c610e2-6522-4a86-a805-3ba4257e5ce7"
        },
        "id": "uNZxMVSYG2AM",
        "colab": {
          "base_uri": "https://localhost:8080/"
        },
        "outputId": "277ba05a-d9f3-46d1-c920-27c51c569a5c"
      },
      "source": [
        "r1.rdd.getNumPartitions()"
      ],
      "execution_count": null,
      "outputs": [
        {
          "output_type": "execute_result",
          "data": {
            "text/plain": [
              "4"
            ]
          },
          "metadata": {},
          "execution_count": 35
        }
      ]
    },
    {
      "cell_type": "code",
      "metadata": {
        "application/vnd.databricks.v1+cell": {
          "title": "",
          "showTitle": false,
          "inputWidgets": {},
          "nuid": "9d9ae0a4-bd8b-4da2-ad78-2837a25a046e"
        },
        "id": "QE5oEX3sG2AN",
        "colab": {
          "base_uri": "https://localhost:8080/"
        },
        "outputId": "9a775afe-0f23-43ac-e5cb-54d7f199e97b"
      },
      "source": [
        "showPartitions(r1)"
      ],
      "execution_count": null,
      "outputs": [
        {
          "output_type": "stream",
          "name": "stdout",
          "text": [
            "Partition 0 , 1 éléments\n",
            "Row(annee=2016, nb=104893, moyenne=3.541232494065381)\n",
            "\n",
            "Partition 1 , 5 éléments\n",
            "Row(annee=2009, nb=50128, moyenne=3.4790336737950844)\n",
            "Row(annee=1999, nb=61508, moyenne=3.6247317422123952)\n",
            "Row(annee=2010, nb=48991, moyenne=3.515104815170133)\n",
            "Row(annee=2004, nb=60046, moyenne=3.426256536655231)\n",
            "Row(annee=1998, nb=16506, moyenne=3.5345934811583666)\n",
            "\n",
            "Partition 2 , 7 éléments\n",
            "Row(annee=1997, nb=38310, moyenne=3.60208822761681)\n",
            "Row(annee=2000, nb=101580, moyenne=3.5799862177594015)\n",
            "Row(annee=2012, nb=39625, moyenne=3.5817665615141956)\n",
            "Row(annee=2001, nb=62315, moyenne=3.529198427344941)\n",
            "Row(annee=2013, nb=31631, moyenne=3.6245297334892985)\n",
            "\n",
            "Partition 3 , 9 éléments\n",
            "Row(annee=2015, nb=95630, moyenne=3.5788873784377286)\n",
            "Row(annee=2003, nb=54165, moyenne=3.4724729991692054)\n",
            "Row(annee=2017, nb=64654, moyenne=3.5603984285581713)\n",
            "Row(annee=2002, nb=45606, moyenne=3.4821514712976365)\n",
            "Row(annee=1996, nb=86449, moyenne=3.5503129012481347)\n",
            "\n"
          ]
        }
      ]
    },
    {
      "cell_type": "markdown",
      "source": [
        "afficher la liste des notes de chaque utilisateur. Expliquer le plan d'exécution."
      ],
      "metadata": {
        "id": "0QV0FT2vXVEz"
      }
    },
    {
      "cell_type": "code",
      "metadata": {
        "application/vnd.databricks.v1+cell": {
          "title": "",
          "showTitle": false,
          "inputWidgets": {},
          "nuid": "eb35c735-62be-414f-b05c-e41028a22e85"
        },
        "id": "2txH55_qG2AN",
        "colab": {
          "base_uri": "https://localhost:8080/"
        },
        "outputId": "0519742e-1e2c-41b0-af98-7a81e3445e79"
      },
      "source": [
        "from pyspark.sql.functions import collect_list\n",
        "\n",
        "r1Liste = notes.groupBy(\"nU\").agg(collect_list(\"note\"))\n",
        "r1Liste.rdd.getNumPartitions()\n",
        "r1Liste.explain()"
      ],
      "execution_count": null,
      "outputs": [
        {
          "output_type": "stream",
          "name": "stdout",
          "text": [
            "== Physical Plan ==\n",
            "ObjectHashAggregate(keys=[nU#30L], functions=[collect_list(note#31, 0, 0)])\n",
            "+- Exchange hashpartitioning(nU#30L, 4), ENSURE_REQUIREMENTS, [id=#494]\n",
            "   +- ObjectHashAggregate(keys=[nU#30L], functions=[partial_collect_list(note#31, 0, 0)])\n",
            "      +- *(1) ColumnarToRow\n",
            "         +- InMemoryTableScan [nU#30L, note#31]\n",
            "               +- InMemoryRelation [nF#29L, nU#30L, note#31, annee#27L], StorageLevel(disk, memory, deserialized, 1 replicas)\n",
            "                     +- *(1) Project [nF#29L, nU#30L, note#31, annee#27L]\n",
            "                        +- FileScan json [annee#27L,nF#29L,nU#30L,note#31] Batched: false, DataFilters: [], Format: JSON, Location: InMemoryFileIndex(1 paths)[file:/temp/notes1M.json], PartitionFilters: [], PushedFilters: [], ReadSchema: struct<annee:bigint,nF:bigint,nU:bigint,note:double>\n",
            "\n",
            "\n"
          ]
        }
      ]
    },
    {
      "cell_type": "code",
      "metadata": {
        "application/vnd.databricks.v1+cell": {
          "title": "",
          "showTitle": false,
          "inputWidgets": {},
          "nuid": "9c656fee-f32b-4788-8ed8-5cfdf3798f8e"
        },
        "id": "bTYfBREWG2AN"
      },
      "source": [
        "r1Liste.persist()\n",
        "r1Liste.count()"
      ],
      "execution_count": null,
      "outputs": []
    },
    {
      "cell_type": "code",
      "metadata": {
        "application/vnd.databricks.v1+cell": {
          "title": "",
          "showTitle": false,
          "inputWidgets": {},
          "nuid": "12acf6ea-4308-4739-b816-7f0f6de7b29b"
        },
        "id": "FzA-AEAUG2AN"
      },
      "source": [
        "display(r1Liste)"
      ],
      "execution_count": null,
      "outputs": []
    },
    {
      "cell_type": "code",
      "metadata": {
        "application/vnd.databricks.v1+cell": {
          "title": "",
          "showTitle": false,
          "inputWidgets": {},
          "nuid": "e3fd568c-5bb3-4554-8d5d-b363aa371d81"
        },
        "id": "Wx09qXLvG2AN"
      },
      "source": [
        "showPartitions(r1Liste)"
      ],
      "execution_count": null,
      "outputs": []
    },
    {
      "cell_type": "markdown",
      "metadata": {
        "application/vnd.databricks.v1+cell": {
          "title": "",
          "showTitle": false,
          "inputWidgets": {},
          "nuid": "9e6918af-0d35-46d3-9094-0c1b85e68776"
        },
        "id": "ES98lUAGG2AN"
      },
      "source": [
        "### Question 5 : Requête GROUP BY sur des données déjà partitionnées"
      ]
    },
    {
      "cell_type": "code",
      "metadata": {
        "application/vnd.databricks.v1+cell": {
          "title": "",
          "showTitle": false,
          "inputWidgets": {},
          "nuid": "c4894f20-8e96-47ed-baa3-490b7f5a8f3b"
        },
        "id": "IIx8nbGxG2AO",
        "colab": {
          "base_uri": "https://localhost:8080/"
        },
        "outputId": "edd0a9c9-3d54-483b-93e8-b556f37e410d"
      },
      "source": [
        "r2 = notesMemoire_par_annne.groupBy(\"annee\").agg(count(\"note\"))\n",
        "r2.explain()"
      ],
      "execution_count": null,
      "outputs": [
        {
          "output_type": "stream",
          "name": "stdout",
          "text": [
            "== Physical Plan ==\n",
            "*(1) HashAggregate(keys=[annee#27L], functions=[count(note#31)])\n",
            "+- *(1) HashAggregate(keys=[annee#27L], functions=[partial_count(note#31)])\n",
            "   +- *(1) ColumnarToRow\n",
            "      +- InMemoryTableScan [note#31, annee#27L]\n",
            "            +- InMemoryRelation [nF#29L, nU#30L, note#31, annee#27L], StorageLevel(disk, memory, deserialized, 1 replicas)\n",
            "                  +- Exchange hashpartitioning(annee#27L, 4), REPARTITION_BY_NUM, [id=#70]\n",
            "                     +- *(1) Project [nF#29L, nU#30L, note#31, annee#27L]\n",
            "                        +- FileScan json [annee#27L,nF#29L,nU#30L,note#31] Batched: false, DataFilters: [], Format: JSON, Location: InMemoryFileIndex(1 paths)[file:/temp/notes1M.json], PartitionFilters: [], PushedFilters: [], ReadSchema: struct<annee:bigint,nF:bigint,nU:bigint,note:double>\n",
            "\n",
            "\n"
          ]
        }
      ]
    },
    {
      "cell_type": "markdown",
      "metadata": {
        "application/vnd.databricks.v1+cell": {
          "title": "",
          "showTitle": false,
          "inputWidgets": {},
          "nuid": "dcd62163-dcef-4d12-9d75-7ae09842bdab"
        },
        "id": "1wW2UJgsG2AO"
      },
      "source": [
        "Que font ces opérations ?\n",
        "* **InMemoryTableScan**  note, année\n",
        "* **HashAggregate**  keys = _année_, functions = _count_(note)  \n",
        "\n",
        "Pourquoi il n'y a pas d'exchange ?\n",
        "\n",
        "Rappel: les opéations qui précèdent l'opération InMemoryRelation ne sont pas traitées. Elles ne sont indiquées que pour rappeler l'historique de création de la relation InMemory."
      ]
    },
    {
      "cell_type": "code",
      "metadata": {
        "application/vnd.databricks.v1+cell": {
          "title": "",
          "showTitle": false,
          "inputWidgets": {},
          "nuid": "21ccd2af-cc83-4a22-b60e-9aba5efae1bb"
        },
        "id": "saU6A-crG2AO",
        "colab": {
          "base_uri": "https://localhost:8080/",
          "height": 316
        },
        "outputId": "888c9fa1-646c-4cb7-fcc9-5cd59b8179af"
      },
      "source": [
        "display(r2)"
      ],
      "execution_count": null,
      "outputs": [
        {
          "output_type": "execute_result",
          "data": {
            "application/vnd.google.colaboratory.module+javascript": "\n      import \"https://ssl.gstatic.com/colaboratory/data_table/81f25a011006ed3d/data_table.js\";\n\n      window.createDataTable({\n        data: [[{\n            'v': 2016,\n            'f': \"2016\",\n        },\n{\n            'v': 104893,\n            'f': \"104893\",\n        }],\n [{\n            'v': 2009,\n            'f': \"2009\",\n        },\n{\n            'v': 50128,\n            'f': \"50128\",\n        }],\n [{\n            'v': 1999,\n            'f': \"1999\",\n        },\n{\n            'v': 61508,\n            'f': \"61508\",\n        }],\n [{\n            'v': 2010,\n            'f': \"2010\",\n        },\n{\n            'v': 48991,\n            'f': \"48991\",\n        }],\n [{\n            'v': 2004,\n            'f': \"2004\",\n        },\n{\n            'v': 60046,\n            'f': \"60046\",\n        }],\n [{\n            'v': 1998,\n            'f': \"1998\",\n        },\n{\n            'v': 16506,\n            'f': \"16506\",\n        }],\n [{\n            'v': 1997,\n            'f': \"1997\",\n        },\n{\n            'v': 38310,\n            'f': \"38310\",\n        }],\n [{\n            'v': 2000,\n            'f': \"2000\",\n        },\n{\n            'v': 101580,\n            'f': \"101580\",\n        }],\n [{\n            'v': 2012,\n            'f': \"2012\",\n        },\n{\n            'v': 39625,\n            'f': \"39625\",\n        }],\n [{\n            'v': 2001,\n            'f': \"2001\",\n        },\n{\n            'v': 62315,\n            'f': \"62315\",\n        }],\n [{\n            'v': 2013,\n            'f': \"2013\",\n        },\n{\n            'v': 31631,\n            'f': \"31631\",\n        }],\n [{\n            'v': 2008,\n            'f': \"2008\",\n        },\n{\n            'v': 60693,\n            'f': \"60693\",\n        }],\n [{\n            'v': 2006,\n            'f': \"2006\",\n        },\n{\n            'v': 60595,\n            'f': \"60595\",\n        }],\n [{\n            'v': 2015,\n            'f': \"2015\",\n        },\n{\n            'v': 95630,\n            'f': \"95630\",\n        }],\n [{\n            'v': 2003,\n            'f': \"2003\",\n        },\n{\n            'v': 54165,\n            'f': \"54165\",\n        }],\n [{\n            'v': 2017,\n            'f': \"2017\",\n        },\n{\n            'v': 64654,\n            'f': \"64654\",\n        }],\n [{\n            'v': 2002,\n            'f': \"2002\",\n        },\n{\n            'v': 45606,\n            'f': \"45606\",\n        }],\n [{\n            'v': 1996,\n            'f': \"1996\",\n        },\n{\n            'v': 86449,\n            'f': \"86449\",\n        }],\n [{\n            'v': 2011,\n            'f': \"2011\",\n        },\n{\n            'v': 41492,\n            'f': \"41492\",\n        }],\n [{\n            'v': 2014,\n            'f': \"2014\",\n        },\n{\n            'v': 29274,\n            'f': \"29274\",\n        }],\n [{\n            'v': 2005,\n            'f': \"2005\",\n        },\n{\n            'v': 92707,\n            'f': \"92707\",\n        }],\n [{\n            'v': 2007,\n            'f': \"2007\",\n        },\n{\n            'v': 54775,\n            'f': \"54775\",\n        }]],\n        columns: [[\"number\", \"annee\"], [\"number\", \"count(note)\"]],\n        columnOptions: [],\n        rowsPerPage: 10,\n        helpUrl: \"https://colab.research.google.com/notebooks/data_table.ipynb\",\n        suppressOutputScrolling: true,\n        minimumWidth: undefined,\n      });\n    ",
            "text/plain": [
              "<google.colab.data_table.DataTable object>"
            ],
            "text/html": [
              "<div>\n",
              "<style scoped>\n",
              "    .dataframe tbody tr th:only-of-type {\n",
              "        vertical-align: middle;\n",
              "    }\n",
              "\n",
              "    .dataframe tbody tr th {\n",
              "        vertical-align: top;\n",
              "    }\n",
              "\n",
              "    .dataframe thead th {\n",
              "        text-align: right;\n",
              "    }\n",
              "</style>\n",
              "<table border=\"1\" class=\"dataframe\">\n",
              "  <thead>\n",
              "    <tr style=\"text-align: right;\">\n",
              "      <th></th>\n",
              "      <th>annee</th>\n",
              "      <th>count(note)</th>\n",
              "    </tr>\n",
              "  </thead>\n",
              "  <tbody>\n",
              "    <tr>\n",
              "      <th>0</th>\n",
              "      <td>2016</td>\n",
              "      <td>104893</td>\n",
              "    </tr>\n",
              "    <tr>\n",
              "      <th>1</th>\n",
              "      <td>2009</td>\n",
              "      <td>50128</td>\n",
              "    </tr>\n",
              "    <tr>\n",
              "      <th>2</th>\n",
              "      <td>1999</td>\n",
              "      <td>61508</td>\n",
              "    </tr>\n",
              "    <tr>\n",
              "      <th>3</th>\n",
              "      <td>2010</td>\n",
              "      <td>48991</td>\n",
              "    </tr>\n",
              "    <tr>\n",
              "      <th>4</th>\n",
              "      <td>2004</td>\n",
              "      <td>60046</td>\n",
              "    </tr>\n",
              "    <tr>\n",
              "      <th>5</th>\n",
              "      <td>1998</td>\n",
              "      <td>16506</td>\n",
              "    </tr>\n",
              "    <tr>\n",
              "      <th>6</th>\n",
              "      <td>1997</td>\n",
              "      <td>38310</td>\n",
              "    </tr>\n",
              "    <tr>\n",
              "      <th>7</th>\n",
              "      <td>2000</td>\n",
              "      <td>101580</td>\n",
              "    </tr>\n",
              "    <tr>\n",
              "      <th>8</th>\n",
              "      <td>2012</td>\n",
              "      <td>39625</td>\n",
              "    </tr>\n",
              "    <tr>\n",
              "      <th>9</th>\n",
              "      <td>2001</td>\n",
              "      <td>62315</td>\n",
              "    </tr>\n",
              "    <tr>\n",
              "      <th>10</th>\n",
              "      <td>2013</td>\n",
              "      <td>31631</td>\n",
              "    </tr>\n",
              "    <tr>\n",
              "      <th>11</th>\n",
              "      <td>2008</td>\n",
              "      <td>60693</td>\n",
              "    </tr>\n",
              "    <tr>\n",
              "      <th>12</th>\n",
              "      <td>2006</td>\n",
              "      <td>60595</td>\n",
              "    </tr>\n",
              "    <tr>\n",
              "      <th>13</th>\n",
              "      <td>2015</td>\n",
              "      <td>95630</td>\n",
              "    </tr>\n",
              "    <tr>\n",
              "      <th>14</th>\n",
              "      <td>2003</td>\n",
              "      <td>54165</td>\n",
              "    </tr>\n",
              "    <tr>\n",
              "      <th>15</th>\n",
              "      <td>2017</td>\n",
              "      <td>64654</td>\n",
              "    </tr>\n",
              "    <tr>\n",
              "      <th>16</th>\n",
              "      <td>2002</td>\n",
              "      <td>45606</td>\n",
              "    </tr>\n",
              "    <tr>\n",
              "      <th>17</th>\n",
              "      <td>1996</td>\n",
              "      <td>86449</td>\n",
              "    </tr>\n",
              "    <tr>\n",
              "      <th>18</th>\n",
              "      <td>2011</td>\n",
              "      <td>41492</td>\n",
              "    </tr>\n",
              "    <tr>\n",
              "      <th>19</th>\n",
              "      <td>2014</td>\n",
              "      <td>29274</td>\n",
              "    </tr>\n",
              "    <tr>\n",
              "      <th>20</th>\n",
              "      <td>2005</td>\n",
              "      <td>92707</td>\n",
              "    </tr>\n",
              "    <tr>\n",
              "      <th>21</th>\n",
              "      <td>2007</td>\n",
              "      <td>54775</td>\n",
              "    </tr>\n",
              "  </tbody>\n",
              "</table>\n",
              "</div>"
            ]
          },
          "metadata": {},
          "execution_count": 42
        }
      ]
    },
    {
      "cell_type": "markdown",
      "metadata": {
        "application/vnd.databricks.v1+cell": {
          "title": "",
          "showTitle": false,
          "inputWidgets": {},
          "nuid": "b8eebdd6-43b4-4cdf-a3e7-d8f03671421a"
        },
        "id": "X6e-Hna2G2AO"
      },
      "source": [
        "### Question 6: PARTITIONNEMENT déclenché par une requête  ORDER BY"
      ]
    },
    {
      "cell_type": "code",
      "metadata": {
        "application/vnd.databricks.v1+cell": {
          "title": "",
          "showTitle": false,
          "inputWidgets": {},
          "nuid": "1fb4c6b3-1c5a-4ff5-b040-2a769f2edd6f"
        },
        "id": "P_l8fvHoG2AO",
        "colab": {
          "base_uri": "https://localhost:8080/"
        },
        "outputId": "4935994c-0481-4b76-8d2f-8d8c90887abd"
      },
      "source": [
        "tri = notes.orderBy(\"annee\")\n",
        "tri.explain()"
      ],
      "execution_count": null,
      "outputs": [
        {
          "output_type": "stream",
          "name": "stdout",
          "text": [
            "== Physical Plan ==\n",
            "*(2) Sort [annee#27L ASC NULLS FIRST], true, 0\n",
            "+- Exchange rangepartitioning(annee#27L ASC NULLS FIRST, 4), ENSURE_REQUIREMENTS, [id=#629]\n",
            "   +- *(1) ColumnarToRow\n",
            "      +- InMemoryTableScan [nF#29L, nU#30L, note#31, annee#27L]\n",
            "            +- InMemoryRelation [nF#29L, nU#30L, note#31, annee#27L], StorageLevel(disk, memory, deserialized, 1 replicas)\n",
            "                  +- *(1) Project [nF#29L, nU#30L, note#31, annee#27L]\n",
            "                     +- FileScan json [annee#27L,nF#29L,nU#30L,note#31] Batched: false, DataFilters: [], Format: JSON, Location: InMemoryFileIndex(1 paths)[file:/temp/notes1M.json], PartitionFilters: [], PushedFilters: [], ReadSchema: struct<annee:bigint,nF:bigint,nU:bigint,note:double>\n",
            "\n",
            "\n"
          ]
        }
      ]
    },
    {
      "cell_type": "markdown",
      "metadata": {
        "application/vnd.databricks.v1+cell": {
          "title": "",
          "showTitle": false,
          "inputWidgets": {},
          "nuid": "d4e06d80-70fc-4c66-ba55-f0957a295809"
        },
        "id": "km0kPSasG2AO"
      },
      "source": [
        "Que font les opérations ?\n",
        "* Exchange rangepartitioning année\n",
        "* Sort année"
      ]
    },
    {
      "cell_type": "code",
      "metadata": {
        "application/vnd.databricks.v1+cell": {
          "title": "",
          "showTitle": false,
          "inputWidgets": {},
          "nuid": "5c7300b4-1604-4091-b89d-1c46f87298a7"
        },
        "id": "Mr4-P6uqG2AP"
      },
      "source": [
        "showPartitions(tri)"
      ],
      "execution_count": null,
      "outputs": []
    },
    {
      "cell_type": "code",
      "metadata": {
        "application/vnd.databricks.v1+cell": {
          "title": "",
          "showTitle": false,
          "inputWidgets": {},
          "nuid": "0c79ea3e-707e-4fee-9cb3-6a8e46025854"
        },
        "id": "NvIo795CG2AP",
        "colab": {
          "base_uri": "https://localhost:8080/"
        },
        "outputId": "9b4a4b41-051c-4b74-f8b2-f5319b3dcb29"
      },
      "source": [
        "chronoPersist2(tri)\n",
        "# tri.count()"
      ],
      "execution_count": null,
      "outputs": [
        {
          "output_type": "stream",
          "name": "stdout",
          "text": [
            "durée: 3.8 s pour lire 1301573 elements\n"
          ]
        }
      ]
    },
    {
      "cell_type": "markdown",
      "metadata": {
        "application/vnd.databricks.v1+cell": {
          "title": "",
          "showTitle": false,
          "inputWidgets": {},
          "nuid": "72a90c7f-fe71-4717-b021-c8b57540a540"
        },
        "id": "OsohTIyVG2AP"
      },
      "source": [
        "### Question 7: ORDER BY sur des données déjà partitionnées\n",
        "Pourquoi est-ce que cela déclenche un partitionnement ?"
      ]
    },
    {
      "cell_type": "code",
      "metadata": {
        "application/vnd.databricks.v1+cell": {
          "title": "",
          "showTitle": false,
          "inputWidgets": {},
          "nuid": "0ac75093-795c-4142-8253-a2a536557408"
        },
        "id": "bQ-NMUn5G2AP",
        "colab": {
          "base_uri": "https://localhost:8080/"
        },
        "outputId": "c88b5f63-2063-4837-caa8-b63bd98818e2"
      },
      "source": [
        "# COMPLETER \n",
        "notesMemoire_par_annne.orderBy(\"annee\").explain()"
      ],
      "execution_count": null,
      "outputs": [
        {
          "output_type": "stream",
          "name": "stdout",
          "text": [
            "== Physical Plan ==\n",
            "*(2) Sort [annee#27L ASC NULLS FIRST], true, 0\n",
            "+- Exchange rangepartitioning(annee#27L ASC NULLS FIRST, 4), ENSURE_REQUIREMENTS, [id=#749]\n",
            "   +- *(1) ColumnarToRow\n",
            "      +- InMemoryTableScan [nF#29L, nU#30L, note#31, annee#27L]\n",
            "            +- InMemoryRelation [nF#29L, nU#30L, note#31, annee#27L], StorageLevel(disk, memory, deserialized, 1 replicas)\n",
            "                  +- Exchange hashpartitioning(annee#27L, 4), REPARTITION_BY_NUM, [id=#70]\n",
            "                     +- *(1) Project [nF#29L, nU#30L, note#31, annee#27L]\n",
            "                        +- FileScan json [annee#27L,nF#29L,nU#30L,note#31] Batched: false, DataFilters: [], Format: JSON, Location: InMemoryFileIndex(1 paths)[file:/temp/notes1M.json], PartitionFilters: [], PushedFilters: [], ReadSchema: struct<annee:bigint,nF:bigint,nU:bigint,note:double>\n",
            "\n",
            "\n"
          ]
        }
      ]
    },
    {
      "cell_type": "markdown",
      "metadata": {
        "application/vnd.databricks.v1+cell": {
          "title": "",
          "showTitle": false,
          "inputWidgets": {},
          "nuid": "e0942152-c0c8-43b2-b348-1ae414f006d1"
        },
        "id": "v1DfNSTZG2AP"
      },
      "source": [
        "### Question 8: PARTITIONNEMENT déclenché par une requête DISTINCT"
      ]
    },
    {
      "cell_type": "code",
      "metadata": {
        "application/vnd.databricks.v1+cell": {
          "title": "",
          "showTitle": false,
          "inputWidgets": {},
          "nuid": "bf4425d4-9d63-4c79-9795-eba17d113cda"
        },
        "id": "hAeYsqnKG2AP",
        "colab": {
          "base_uri": "https://localhost:8080/"
        },
        "outputId": "a900a4ff-0631-4dc2-d83b-a0edced010da"
      },
      "source": [
        "d = notes.select(\"nU\").distinct()\n",
        "d.explain()"
      ],
      "execution_count": null,
      "outputs": [
        {
          "output_type": "stream",
          "name": "stdout",
          "text": [
            "== Physical Plan ==\n",
            "*(2) HashAggregate(keys=[nU#30L], functions=[])\n",
            "+- Exchange hashpartitioning(nU#30L, 4), ENSURE_REQUIREMENTS, [id=#779]\n",
            "   +- *(1) HashAggregate(keys=[nU#30L], functions=[])\n",
            "      +- *(1) ColumnarToRow\n",
            "         +- InMemoryTableScan [nU#30L]\n",
            "               +- InMemoryRelation [nF#29L, nU#30L, note#31, annee#27L], StorageLevel(disk, memory, deserialized, 1 replicas)\n",
            "                     +- *(1) Project [nF#29L, nU#30L, note#31, annee#27L]\n",
            "                        +- FileScan json [annee#27L,nF#29L,nU#30L,note#31] Batched: false, DataFilters: [], Format: JSON, Location: InMemoryFileIndex(1 paths)[file:/temp/notes1M.json], PartitionFilters: [], PushedFilters: [], ReadSchema: struct<annee:bigint,nF:bigint,nU:bigint,note:double>\n",
            "\n",
            "\n"
          ]
        }
      ]
    },
    {
      "cell_type": "markdown",
      "metadata": {
        "application/vnd.databricks.v1+cell": {
          "title": "",
          "showTitle": false,
          "inputWidgets": {},
          "nuid": "15c3b2e9-14d1-45ad-83d9-2fcaa9f61da1"
        },
        "id": "sLiBH5ybG2AQ"
      },
      "source": [
        "Pourquoi n'y a-t-il pas de fonction ( on constate que _functions=[]_ ) dans les opérations HashAggregate ?"
      ]
    },
    {
      "cell_type": "markdown",
      "metadata": {
        "application/vnd.databricks.v1+cell": {
          "title": "",
          "showTitle": false,
          "inputWidgets": {},
          "nuid": "67bd60d5-385a-4554-9715-d24cd0045aaf"
        },
        "id": "LJg-RfUlG2AQ"
      },
      "source": [
        "# Exercice 2  : Jointures"
      ]
    },
    {
      "cell_type": "markdown",
      "metadata": {
        "application/vnd.databricks.v1+cell": {
          "title": "",
          "showTitle": false,
          "inputWidgets": {},
          "nuid": "88a45cd0-e630-47ec-a94a-d45120a1927f"
        },
        "id": "0NNAypUpG2AQ"
      },
      "source": [
        "### Question 1 : algorithme de jointure par défaut"
      ]
    },
    {
      "cell_type": "markdown",
      "source": [
        "parametre par défaut"
      ],
      "metadata": {
        "id": "5tWnmlTcSD1W"
      }
    },
    {
      "cell_type": "code",
      "source": [
        "spark.conf.set(\"spark.sql.autoBroadcastJoinThreshold\", 1000 * 1000)"
      ],
      "metadata": {
        "id": "kaE90mSqSGht"
      },
      "execution_count": null,
      "outputs": []
    },
    {
      "cell_type": "markdown",
      "source": [
        "Vérifier si une table est cachée en mémoire"
      ],
      "metadata": {
        "id": "7v5t_0_-Q9Pv"
      }
    },
    {
      "cell_type": "code",
      "metadata": {
        "application/vnd.databricks.v1+cell": {
          "title": "",
          "showTitle": false,
          "inputWidgets": {},
          "nuid": "ed19040f-749c-4e3d-aa9d-97735bb5d087"
        },
        "id": "TGRpzLCBG2AQ",
        "colab": {
          "base_uri": "https://localhost:8080/"
        },
        "outputId": "e48ef3d9-e24a-46fe-936c-892f208ae2ae"
      },
      "source": [
        "notes.is_cached"
      ],
      "execution_count": null,
      "outputs": [
        {
          "output_type": "execute_result",
          "data": {
            "text/plain": [
              "True"
            ]
          },
          "metadata": {},
          "execution_count": 49
        }
      ]
    },
    {
      "cell_type": "markdown",
      "source": [
        "Jointure et notes et films"
      ],
      "metadata": {
        "id": "qNEe3sJwRcYe"
      }
    },
    {
      "cell_type": "code",
      "metadata": {
        "application/vnd.databricks.v1+cell": {
          "title": "",
          "showTitle": false,
          "inputWidgets": {},
          "nuid": "ef3c3f1b-5bcf-48fe-adc6-b67a7a6f4ea2"
        },
        "id": "tP076bpsG2AQ",
        "colab": {
          "base_uri": "https://localhost:8080/"
        },
        "outputId": "e15dd851-0cb2-4cb2-b68d-67a68035e12d"
      },
      "source": [
        "j1 = notes.join(films, \"nF\")\n",
        "j1.explain()\n",
        "\n",
        "# select *\n",
        "# from NOTES JOIN FILMS on (NOTES.nF = Films.nF)\n",
        "\n",
        "# select *\n",
        "# from NOTES, FILMS\n",
        "# where NOTES.nF = Films.nF\n",
        "\n",
        "# select *\n",
        "# from NOTES natural join FILMS"
      ],
      "execution_count": null,
      "outputs": [
        {
          "output_type": "stream",
          "name": "stdout",
          "text": [
            "== Physical Plan ==\n",
            "*(2) Project [nF#29L, nU#30L, note#31, annee#27L, titre#9, genres#13]\n",
            "+- *(2) BroadcastHashJoin [nF#29L], [nF#8L], Inner, BuildRight, false\n",
            "   :- *(2) Filter isnotnull(nF#29L)\n",
            "   :  +- *(2) ColumnarToRow\n",
            "   :     +- InMemoryTableScan [nF#29L, nU#30L, note#31, annee#27L], [isnotnull(nF#29L)]\n",
            "   :           +- InMemoryRelation [nF#29L, nU#30L, note#31, annee#27L], StorageLevel(disk, memory, deserialized, 1 replicas)\n",
            "   :                 +- *(1) Project [nF#29L, nU#30L, note#31, annee#27L]\n",
            "   :                    +- FileScan json [annee#27L,nF#29L,nU#30L,note#31] Batched: false, DataFilters: [], Format: JSON, Location: InMemoryFileIndex(1 paths)[file:/temp/notes1M.json], PartitionFilters: [], PushedFilters: [], ReadSchema: struct<annee:bigint,nF:bigint,nU:bigint,note:double>\n",
            "   +- BroadcastExchange HashedRelationBroadcastMode(List(input[0, bigint, true]),false), [id=#826]\n",
            "      +- *(1) Project [nF#8L, titre#9, g#7 AS genres#13]\n",
            "         +- *(1) Filter isnotnull(nF#8L)\n",
            "            +- FileScan json [g#7,nF#8L,titre#9] Batched: false, DataFilters: [isnotnull(nF#8L)], Format: JSON, Location: InMemoryFileIndex(1 paths)[file:/temp/films.json], PartitionFilters: [], PushedFilters: [IsNotNull(nF)], ReadSchema: struct<g:array<string>,nF:bigint,titre:string>\n",
            "\n",
            "\n"
          ]
        }
      ]
    },
    {
      "cell_type": "markdown",
      "metadata": {
        "application/vnd.databricks.v1+cell": {
          "title": "",
          "showTitle": false,
          "inputWidgets": {},
          "nuid": "7ae9ab76-4feb-4324-a7cc-294d0854bf23"
        },
        "id": "HQx8-gJYG2AQ"
      },
      "source": [
        "Que font les opérations ?\n",
        "* BroadcastExchange \n",
        "* BroadcastHashJoin"
      ]
    },
    {
      "cell_type": "code",
      "metadata": {
        "application/vnd.databricks.v1+cell": {
          "title": "",
          "showTitle": false,
          "inputWidgets": {},
          "nuid": "ab33b3f3-1134-4c05-83ca-40cab4710daa"
        },
        "id": "dQaac8SIG2AQ"
      },
      "source": [
        "display(j1)"
      ],
      "execution_count": null,
      "outputs": []
    },
    {
      "cell_type": "code",
      "metadata": {
        "application/vnd.databricks.v1+cell": {
          "title": "",
          "showTitle": false,
          "inputWidgets": {},
          "nuid": "e66b070c-c4c1-49ca-88c7-63fe5a828d8b"
        },
        "id": "qyz_77o_G2AR"
      },
      "source": [
        "chronoPersist2(j1)\n",
        "m.mesure(j1)"
      ],
      "execution_count": null,
      "outputs": []
    },
    {
      "cell_type": "code",
      "metadata": {
        "application/vnd.databricks.v1+cell": {
          "title": "",
          "showTitle": false,
          "inputWidgets": {},
          "nuid": "b7105be9-daa3-485c-a1f0-a600f41e8e2e"
        },
        "id": "lwMZP7l4G2AS"
      },
      "source": [
        "showPartitions(notes, 10)"
      ],
      "execution_count": null,
      "outputs": []
    },
    {
      "cell_type": "code",
      "metadata": {
        "application/vnd.databricks.v1+cell": {
          "title": "",
          "showTitle": false,
          "inputWidgets": {},
          "nuid": "b0e41d86-a7f8-46ff-90cb-dfd1d0b4ab8b"
        },
        "id": "_WWvSMAiG2AS"
      },
      "source": [
        "print('Partition de Notes :')\n",
        "showPartitionSize(notes)\n",
        "print('Partition de J1 :')\n",
        "showPartitionSize(j1)"
      ],
      "execution_count": null,
      "outputs": []
    },
    {
      "cell_type": "markdown",
      "source": [
        "Contenu des partitions de J1"
      ],
      "metadata": {
        "id": "tAegnuyRS6h3"
      }
    },
    {
      "cell_type": "code",
      "metadata": {
        "application/vnd.databricks.v1+cell": {
          "title": "",
          "showTitle": false,
          "inputWidgets": {},
          "nuid": "ff14d1a1-0105-4d9d-b936-881350254be6"
        },
        "id": "IWWb1CHwG2AT"
      },
      "source": [
        "showPartitions(j1,20)\n",
        "# identique à celui de notes"
      ],
      "execution_count": null,
      "outputs": []
    },
    {
      "cell_type": "markdown",
      "metadata": {
        "application/vnd.databricks.v1+cell": {
          "title": "",
          "showTitle": false,
          "inputWidgets": {},
          "nuid": "f5922cc6-a9f3-4540-9ee4-27c2fe43383f"
        },
        "id": "uuYpioX3G2AT"
      },
      "source": [
        "### Question 2\n",
        "Etudier la jointure Film,Notes selons plusieurs algorithmes de jointure\n",
        "- J1: parallel hash sortmerge (HSM): N.join(F, \"movieId\")\n",
        "- J2: broadcast des films: N.join(broadcast(F), \"movieId\"))\n",
        "- J3: broadcast des notes: F.join(broadcast(N), \"movieId\"))"
      ]
    },
    {
      "cell_type": "code",
      "metadata": {
        "application/vnd.databricks.v1+cell": {
          "title": "",
          "showTitle": false,
          "inputWidgets": {},
          "nuid": "56691c61-016b-4224-8c91-da61a0b85024"
        },
        "id": "Maki1KroG2AT",
        "colab": {
          "base_uri": "https://localhost:8080/"
        },
        "outputId": "b94fe825-84e6-4cfd-f235-df7dd0b5d947"
      },
      "source": [
        "spark.conf.set(\"spark.sql.autoBroadcastJoinThreshold\",\"-1\")\n",
        "j2 = notes.join(films, \"nF\")\n",
        "j2.explain()"
      ],
      "execution_count": null,
      "outputs": [
        {
          "output_type": "stream",
          "name": "stdout",
          "text": [
            "== Physical Plan ==\n",
            "*(5) Project [nF#29L, nU#30L, note#31, annee#27L, titre#9, genres#13]\n",
            "+- *(5) SortMergeJoin [nF#29L], [nF#8L], Inner\n",
            "   :- *(2) Sort [nF#29L ASC NULLS FIRST], false, 0\n",
            "   :  +- Exchange hashpartitioning(nF#29L, 4), ENSURE_REQUIREMENTS, [id=#877]\n",
            "   :     +- *(1) Filter isnotnull(nF#29L)\n",
            "   :        +- *(1) ColumnarToRow\n",
            "   :           +- InMemoryTableScan [nF#29L, nU#30L, note#31, annee#27L], [isnotnull(nF#29L)]\n",
            "   :                 +- InMemoryRelation [nF#29L, nU#30L, note#31, annee#27L], StorageLevel(disk, memory, deserialized, 1 replicas)\n",
            "   :                       +- *(1) Project [nF#29L, nU#30L, note#31, annee#27L]\n",
            "   :                          +- FileScan json [annee#27L,nF#29L,nU#30L,note#31] Batched: false, DataFilters: [], Format: JSON, Location: InMemoryFileIndex(1 paths)[file:/temp/notes1M.json], PartitionFilters: [], PushedFilters: [], ReadSchema: struct<annee:bigint,nF:bigint,nU:bigint,note:double>\n",
            "   +- *(4) Sort [nF#8L ASC NULLS FIRST], false, 0\n",
            "      +- Exchange hashpartitioning(nF#8L, 4), ENSURE_REQUIREMENTS, [id=#886]\n",
            "         +- *(3) Project [nF#8L, titre#9, g#7 AS genres#13]\n",
            "            +- *(3) Filter isnotnull(nF#8L)\n",
            "               +- FileScan json [g#7,nF#8L,titre#9] Batched: false, DataFilters: [isnotnull(nF#8L)], Format: JSON, Location: InMemoryFileIndex(1 paths)[file:/temp/films.json], PartitionFilters: [], PushedFilters: [IsNotNull(nF)], ReadSchema: struct<g:array<string>,nF:bigint,titre:string>\n",
            "\n",
            "\n"
          ]
        }
      ]
    },
    {
      "cell_type": "code",
      "metadata": {
        "application/vnd.databricks.v1+cell": {
          "title": "",
          "showTitle": false,
          "inputWidgets": {},
          "nuid": "3a7b2b8e-e1bd-46e0-952f-ac9d9d481d7b"
        },
        "id": "7uLxmc0ZG2AT"
      },
      "source": [
        "j2.count()"
      ],
      "execution_count": null,
      "outputs": []
    },
    {
      "cell_type": "code",
      "metadata": {
        "application/vnd.databricks.v1+cell": {
          "title": "",
          "showTitle": false,
          "inputWidgets": {},
          "nuid": "d77c5b78-877e-4da3-bfb0-10faa2e9ae78"
        },
        "id": "RCGZlqmsG2AU"
      },
      "source": [
        "showPartitions(j2, 20)"
      ],
      "execution_count": null,
      "outputs": []
    },
    {
      "cell_type": "markdown",
      "metadata": {
        "application/vnd.databricks.v1+cell": {
          "title": "",
          "showTitle": false,
          "inputWidgets": {},
          "nuid": "debf9b78-47d8-4ece-b8d8-b18a98b74748"
        },
        "id": "SQFU5cSwG2AU"
      },
      "source": [
        "Que font ?\n",
        "* Exchange hashpartitioning\n",
        "* SortMergeJoin"
      ]
    },
    {
      "cell_type": "code",
      "metadata": {
        "application/vnd.databricks.v1+cell": {
          "title": "",
          "showTitle": false,
          "inputWidgets": {},
          "nuid": "493c8def-8131-4ccf-b52c-689cf9ae2bed"
        },
        "id": "iHyMzyQmG2AU"
      },
      "source": [
        "chronoPersist2(j2)"
      ],
      "execution_count": null,
      "outputs": []
    },
    {
      "cell_type": "code",
      "metadata": {
        "application/vnd.databricks.v1+cell": {
          "title": "",
          "showTitle": false,
          "inputWidgets": {},
          "nuid": "49dbcef2-e39e-4664-a887-d7e3f79e15e0"
        },
        "id": "XQUrsG5RG2AU",
        "colab": {
          "base_uri": "https://localhost:8080/"
        },
        "outputId": "5caa1c23-a912-4c5f-cbb5-aa1fce063f01"
      },
      "source": [
        "from pyspark.sql.functions import broadcast\n",
        "\n",
        "J3 = notes.join(broadcast(films), \"nF\")\n",
        "J3.explain()"
      ],
      "execution_count": null,
      "outputs": [
        {
          "output_type": "stream",
          "name": "stdout",
          "text": [
            "== Physical Plan ==\n",
            "*(2) Project [nF#29L, nU#30L, note#31, annee#27L, titre#9, genres#13]\n",
            "+- *(2) BroadcastHashJoin [nF#29L], [nF#8L], Inner, BuildRight, false\n",
            "   :- *(2) Filter isnotnull(nF#29L)\n",
            "   :  +- *(2) ColumnarToRow\n",
            "   :     +- InMemoryTableScan [nF#29L, nU#30L, note#31, annee#27L], [isnotnull(nF#29L)]\n",
            "   :           +- InMemoryRelation [nF#29L, nU#30L, note#31, annee#27L], StorageLevel(disk, memory, deserialized, 1 replicas)\n",
            "   :                 +- *(1) Project [nF#29L, nU#30L, note#31, annee#27L]\n",
            "   :                    +- FileScan json [annee#27L,nF#29L,nU#30L,note#31] Batched: false, DataFilters: [], Format: JSON, Location: InMemoryFileIndex(1 paths)[file:/temp/notes1M.json], PartitionFilters: [], PushedFilters: [], ReadSchema: struct<annee:bigint,nF:bigint,nU:bigint,note:double>\n",
            "   +- BroadcastExchange HashedRelationBroadcastMode(List(input[0, bigint, true]),false), [id=#946]\n",
            "      +- *(1) Project [nF#8L, titre#9, g#7 AS genres#13]\n",
            "         +- *(1) Filter isnotnull(nF#8L)\n",
            "            +- FileScan json [g#7,nF#8L,titre#9] Batched: false, DataFilters: [isnotnull(nF#8L)], Format: JSON, Location: InMemoryFileIndex(1 paths)[file:/temp/films.json], PartitionFilters: [], PushedFilters: [IsNotNull(nF)], ReadSchema: struct<g:array<string>,nF:bigint,titre:string>\n",
            "\n",
            "\n"
          ]
        }
      ]
    },
    {
      "cell_type": "code",
      "metadata": {
        "application/vnd.databricks.v1+cell": {
          "title": "",
          "showTitle": false,
          "inputWidgets": {},
          "nuid": "6e363644-026b-4dba-a22e-ef3f21dc6fad"
        },
        "id": "8_rNdd5LG2AU"
      },
      "source": [
        "chronoPersist2(J3)"
      ],
      "execution_count": null,
      "outputs": []
    },
    {
      "cell_type": "code",
      "metadata": {
        "application/vnd.databricks.v1+cell": {
          "title": "",
          "showTitle": false,
          "inputWidgets": {},
          "nuid": "eb361ae7-f555-4370-81eb-c3d891ea79d8"
        },
        "id": "e3MnHD8FG2AV"
      },
      "source": [
        "J4 = films.join(broadcast(notes), \"nF\")\n",
        "J4.explain()"
      ],
      "execution_count": null,
      "outputs": []
    },
    {
      "cell_type": "code",
      "metadata": {
        "application/vnd.databricks.v1+cell": {
          "title": "",
          "showTitle": false,
          "inputWidgets": {},
          "nuid": "59e756c6-c4e5-487b-98d3-889638febf16"
        },
        "id": "R8J34TlTG2AV"
      },
      "source": [
        "chronoPersist2(J4)"
      ],
      "execution_count": null,
      "outputs": []
    },
    {
      "cell_type": "markdown",
      "metadata": {
        "application/vnd.databricks.v1+cell": {
          "title": "",
          "showTitle": false,
          "inputWidgets": {},
          "nuid": "318ad9a3-8c94-4e76-9a8f-5d73d287d0b3"
        },
        "id": "F6wSE6bZG2AV"
      },
      "source": [
        "# Exercice 3. Numérotation avec des entiers consécutifs\n",
        "\n",
        "* Etudier le plan d'une opération qui numérote les éléments d'un dataset avec des nombres *consécutifs* (1, 2, ..., n), sans tri spécifique du dataset.\n",
        "* Etudier la solution écrite en SQL avec la fonction de fenêtrage row_number(). Comprendre que la numérotation n'est pas traitée en parallèle.\n",
        "* Comparaison avec le plan de la solution qui effectue une numérotation croissante mais avec des entiers **non** consécutifs. Indication: utiliser la fonction **monotonically_increasing_id()**.\n",
        "* Proposer une solution qui s'applique à un Dataset et qui soit traitée en **parallèle**. Indication : s'inspirer de la méthode zipWithIndex() pour un RDD."
      ]
    },
    {
      "cell_type": "code",
      "metadata": {
        "application/vnd.databricks.v1+cell": {
          "title": "",
          "showTitle": false,
          "inputWidgets": {},
          "nuid": "129efaf1-5f75-43a6-aa05-78945eb87fd8"
        },
        "id": "6R0BOcwWG2AV",
        "colab": {
          "base_uri": "https://localhost:8080/",
          "height": 316
        },
        "outputId": "04ea723d-3435-4876-c268-80ee8659539f"
      },
      "source": [
        "from pyspark.sql.functions import monotonically_increasing_id\n",
        "\n",
        "notesNumerotees1= notes.withColumn(\"numeroNote\",  monotonically_increasing_id())\n",
        "\n",
        "display(notesNumerotees1)"
      ],
      "execution_count": null,
      "outputs": [
        {
          "output_type": "execute_result",
          "data": {
            "application/vnd.google.colaboratory.module+javascript": "\n      import \"https://ssl.gstatic.com/colaboratory/data_table/81f25a011006ed3d/data_table.js\";\n\n      window.createDataTable({\n        data: [[{\n            'v': 2959,\n            'f': \"2959\",\n        },\n{\n            'v': 1,\n            'f': \"1\",\n        },\n{\n            'v': 4.0,\n            'f': \"4.0\",\n        },\n{\n            'v': 2015,\n            'f': \"2015\",\n        },\n{\n            'v': 0,\n            'f': \"0\",\n        }],\n [{\n            'v': 69844,\n            'f': \"69844\",\n        },\n{\n            'v': 1,\n            'f': \"1\",\n        },\n{\n            'v': 5.0,\n            'f': \"5.0\",\n        },\n{\n            'v': 2015,\n            'f': \"2015\",\n        },\n{\n            'v': 1,\n            'f': \"1\",\n        }],\n [{\n            'v': 73017,\n            'f': \"73017\",\n        },\n{\n            'v': 1,\n            'f': \"1\",\n        },\n{\n            'v': 5.0,\n            'f': \"5.0\",\n        },\n{\n            'v': 2015,\n            'f': \"2015\",\n        },\n{\n            'v': 2,\n            'f': \"2\",\n        }],\n [{\n            'v': 788,\n            'f': \"788\",\n        },\n{\n            'v': 2,\n            'f': \"2\",\n        },\n{\n            'v': 1.0,\n            'f': \"1.0\",\n        },\n{\n            'v': 1997,\n            'f': \"1997\",\n        },\n{\n            'v': 3,\n            'f': \"3\",\n        }],\n [{\n            'v': 1422,\n            'f': \"1422\",\n        },\n{\n            'v': 4,\n            'f': \"4\",\n        },\n{\n            'v': 4.0,\n            'f': \"4.0\",\n        },\n{\n            'v': 2003,\n            'f': \"2003\",\n        },\n{\n            'v': 4,\n            'f': \"4\",\n        }],\n [{\n            'v': 2355,\n            'f': \"2355\",\n        },\n{\n            'v': 4,\n            'f': \"4\",\n        },\n{\n            'v': 4.0,\n            'f': \"4.0\",\n        },\n{\n            'v': 2003,\n            'f': \"2003\",\n        },\n{\n            'v': 5,\n            'f': \"5\",\n        }],\n [{\n            'v': 2541,\n            'f': \"2541\",\n        },\n{\n            'v': 4,\n            'f': \"4\",\n        },\n{\n            'v': 3.0,\n            'f': \"3.0\",\n        },\n{\n            'v': 2003,\n            'f': \"2003\",\n        },\n{\n            'v': 6,\n            'f': \"6\",\n        }],\n [{\n            'v': 3476,\n            'f': \"3476\",\n        },\n{\n            'v': 4,\n            'f': \"4\",\n        },\n{\n            'v': 4.0,\n            'f': \"4.0\",\n        },\n{\n            'v': 2003,\n            'f': \"2003\",\n        },\n{\n            'v': 7,\n            'f': \"7\",\n        }],\n [{\n            'v': 541,\n            'f': \"541\",\n        },\n{\n            'v': 5,\n            'f': \"5\",\n        },\n{\n            'v': 5.0,\n            'f': \"5.0\",\n        },\n{\n            'v': 2000,\n            'f': \"2000\",\n        },\n{\n            'v': 8,\n            'f': \"8\",\n        }],\n [{\n            'v': 3948,\n            'f': \"3948\",\n        },\n{\n            'v': 7,\n            'f': \"7\",\n        },\n{\n            'v': 1.5,\n            'f': \"1.5\",\n        },\n{\n            'v': 2017,\n            'f': \"2017\",\n        },\n{\n            'v': 9,\n            'f': \"9\",\n        }],\n [{\n            'v': 6934,\n            'f': \"6934\",\n        },\n{\n            'v': 7,\n            'f': \"7\",\n        },\n{\n            'v': 2.0,\n            'f': \"2.0\",\n        },\n{\n            'v': 2017,\n            'f': \"2017\",\n        },\n{\n            'v': 10,\n            'f': \"10\",\n        }],\n [{\n            'v': 54503,\n            'f': \"54503\",\n        },\n{\n            'v': 7,\n            'f': \"7\",\n        },\n{\n            'v': 3.5,\n            'f': \"3.5\",\n        },\n{\n            'v': 2017,\n            'f': \"2017\",\n        },\n{\n            'v': 11,\n            'f': \"11\",\n        }],\n [{\n            'v': 1210,\n            'f': \"1210\",\n        },\n{\n            'v': 8,\n            'f': \"8\",\n        },\n{\n            'v': 4.0,\n            'f': \"4.0\",\n        },\n{\n            'v': 2002,\n            'f': \"2002\",\n        },\n{\n            'v': 12,\n            'f': \"12\",\n        }],\n [{\n            'v': 1792,\n            'f': \"1792\",\n        },\n{\n            'v': 8,\n            'f': \"8\",\n        },\n{\n            'v': 1.0,\n            'f': \"1.0\",\n        },\n{\n            'v': 2002,\n            'f': \"2002\",\n        },\n{\n            'v': 13,\n            'f': \"13\",\n        }],\n [{\n            'v': 4361,\n            'f': \"4361\",\n        },\n{\n            'v': 8,\n            'f': \"8\",\n        },\n{\n            'v': 2.0,\n            'f': \"2.0\",\n        },\n{\n            'v': 2002,\n            'f': \"2002\",\n        },\n{\n            'v': 14,\n            'f': \"14\",\n        }],\n [{\n            'v': 4367,\n            'f': \"4367\",\n        },\n{\n            'v': 8,\n            'f': \"8\",\n        },\n{\n            'v': 3.0,\n            'f': \"3.0\",\n        },\n{\n            'v': 2002,\n            'f': \"2002\",\n        },\n{\n            'v': 15,\n            'f': \"15\",\n        }],\n [{\n            'v': 4571,\n            'f': \"4571\",\n        },\n{\n            'v': 8,\n            'f': \"8\",\n        },\n{\n            'v': 3.0,\n            'f': \"3.0\",\n        },\n{\n            'v': 2002,\n            'f': \"2002\",\n        },\n{\n            'v': 16,\n            'f': \"16\",\n        }],\n [{\n            'v': 4643,\n            'f': \"4643\",\n        },\n{\n            'v': 8,\n            'f': \"8\",\n        },\n{\n            'v': 2.0,\n            'f': \"2.0\",\n        },\n{\n            'v': 2002,\n            'f': \"2002\",\n        },\n{\n            'v': 17,\n            'f': \"17\",\n        }],\n [{\n            'v': 342,\n            'f': \"342\",\n        },\n{\n            'v': 9,\n            'f': \"9\",\n        },\n{\n            'v': 5.0,\n            'f': \"5.0\",\n        },\n{\n            'v': 2003,\n            'f': \"2003\",\n        },\n{\n            'v': 18,\n            'f': \"18\",\n        }],\n [{\n            'v': 1059,\n            'f': \"1059\",\n        },\n{\n            'v': 9,\n            'f': \"9\",\n        },\n{\n            'v': 5.0,\n            'f': \"5.0\",\n        },\n{\n            'v': 2003,\n            'f': \"2003\",\n        },\n{\n            'v': 19,\n            'f': \"19\",\n        }],\n [{\n            'v': 5872,\n            'f': \"5872\",\n        },\n{\n            'v': 9,\n            'f': \"9\",\n        },\n{\n            'v': 3.0,\n            'f': \"3.0\",\n        },\n{\n            'v': 2003,\n            'f': \"2003\",\n        },\n{\n            'v': 20,\n            'f': \"20\",\n        }],\n [{\n            'v': 5902,\n            'f': \"5902\",\n        },\n{\n            'v': 9,\n            'f': \"9\",\n        },\n{\n            'v': 3.5,\n            'f': \"3.5\",\n        },\n{\n            'v': 2003,\n            'f': \"2003\",\n        },\n{\n            'v': 21,\n            'f': \"21\",\n        }],\n [{\n            'v': 150,\n            'f': \"150\",\n        },\n{\n            'v': 10,\n            'f': \"10\",\n        },\n{\n            'v': 4.0,\n            'f': \"4.0\",\n        },\n{\n            'v': 1996,\n            'f': \"1996\",\n        },\n{\n            'v': 22,\n            'f': \"22\",\n        }],\n [{\n            'v': 165,\n            'f': \"165\",\n        },\n{\n            'v': 10,\n            'f': \"10\",\n        },\n{\n            'v': 4.0,\n            'f': \"4.0\",\n        },\n{\n            'v': 1996,\n            'f': \"1996\",\n        },\n{\n            'v': 23,\n            'f': \"23\",\n        }],\n [{\n            'v': 2054,\n            'f': \"2054\",\n        },\n{\n            'v': 11,\n            'f': \"11\",\n        },\n{\n            'v': 2.5,\n            'f': \"2.5\",\n        },\n{\n            'v': 2009,\n            'f': \"2009\",\n        },\n{\n            'v': 24,\n            'f': \"24\",\n        }],\n [{\n            'v': 3977,\n            'f': \"3977\",\n        },\n{\n            'v': 11,\n            'f': \"11\",\n        },\n{\n            'v': 3.0,\n            'f': \"3.0\",\n        },\n{\n            'v': 2009,\n            'f': \"2009\",\n        },\n{\n            'v': 25,\n            'f': \"25\",\n        }],\n [{\n            'v': 6870,\n            'f': \"6870\",\n        },\n{\n            'v': 11,\n            'f': \"11\",\n        },\n{\n            'v': 3.5,\n            'f': \"3.5\",\n        },\n{\n            'v': 2009,\n            'f': \"2009\",\n        },\n{\n            'v': 26,\n            'f': \"26\",\n        }],\n [{\n            'v': 48774,\n            'f': \"48774\",\n        },\n{\n            'v': 11,\n            'f': \"11\",\n        },\n{\n            'v': 3.5,\n            'f': \"3.5\",\n        },\n{\n            'v': 2009,\n            'f': \"2009\",\n        },\n{\n            'v': 27,\n            'f': \"27\",\n        }],\n [{\n            'v': 52245,\n            'f': \"52245\",\n        },\n{\n            'v': 11,\n            'f': \"11\",\n        },\n{\n            'v': 3.5,\n            'f': \"3.5\",\n        },\n{\n            'v': 2009,\n            'f': \"2009\",\n        },\n{\n            'v': 28,\n            'f': \"28\",\n        }],\n [{\n            'v': 56171,\n            'f': \"56171\",\n        },\n{\n            'v': 11,\n            'f': \"11\",\n        },\n{\n            'v': 2.0,\n            'f': \"2.0\",\n        },\n{\n            'v': 2009,\n            'f': \"2009\",\n        },\n{\n            'v': 29,\n            'f': \"29\",\n        }],\n [{\n            'v': 58295,\n            'f': \"58295\",\n        },\n{\n            'v': 11,\n            'f': \"11\",\n        },\n{\n            'v': 4.0,\n            'f': \"4.0\",\n        },\n{\n            'v': 2009,\n            'f': \"2009\",\n        },\n{\n            'v': 30,\n            'f': \"30\",\n        }],\n [{\n            'v': 61323,\n            'f': \"61323\",\n        },\n{\n            'v': 11,\n            'f': \"11\",\n        },\n{\n            'v': 3.5,\n            'f': \"3.5\",\n        },\n{\n            'v': 2009,\n            'f': \"2009\",\n        },\n{\n            'v': 31,\n            'f': \"31\",\n        }],\n [{\n            'v': 61697,\n            'f': \"61697\",\n        },\n{\n            'v': 11,\n            'f': \"11\",\n        },\n{\n            'v': 3.0,\n            'f': \"3.0\",\n        },\n{\n            'v': 2009,\n            'f': \"2009\",\n        },\n{\n            'v': 32,\n            'f': \"32\",\n        }],\n [{\n            'v': 16,\n            'f': \"16\",\n        },\n{\n            'v': 12,\n            'f': \"12\",\n        },\n{\n            'v': 4.0,\n            'f': \"4.0\",\n        },\n{\n            'v': 1999,\n            'f': \"1999\",\n        },\n{\n            'v': 33,\n            'f': \"33\",\n        }],\n [{\n            'v': 36,\n            'f': \"36\",\n        },\n{\n            'v': 12,\n            'f': \"12\",\n        },\n{\n            'v': 3.0,\n            'f': \"3.0\",\n        },\n{\n            'v': 1999,\n            'f': \"1999\",\n        },\n{\n            'v': 34,\n            'f': \"34\",\n        }],\n [{\n            'v': 162,\n            'f': \"162\",\n        },\n{\n            'v': 12,\n            'f': \"12\",\n        },\n{\n            'v': 4.0,\n            'f': \"4.0\",\n        },\n{\n            'v': 1999,\n            'f': \"1999\",\n        },\n{\n            'v': 35,\n            'f': \"35\",\n        }],\n [{\n            'v': 260,\n            'f': \"260\",\n        },\n{\n            'v': 12,\n            'f': \"12\",\n        },\n{\n            'v': 5.0,\n            'f': \"5.0\",\n        },\n{\n            'v': 1999,\n            'f': \"1999\",\n        },\n{\n            'v': 36,\n            'f': \"36\",\n        }],\n [{\n            'v': 363,\n            'f': \"363\",\n        },\n{\n            'v': 12,\n            'f': \"12\",\n        },\n{\n            'v': 4.0,\n            'f': \"4.0\",\n        },\n{\n            'v': 1999,\n            'f': \"1999\",\n        },\n{\n            'v': 37,\n            'f': \"37\",\n        }],\n [{\n            'v': 1041,\n            'f': \"1041\",\n        },\n{\n            'v': 12,\n            'f': \"12\",\n        },\n{\n            'v': 4.0,\n            'f': \"4.0\",\n        },\n{\n            'v': 1999,\n            'f': \"1999\",\n        },\n{\n            'v': 38,\n            'f': \"38\",\n        }],\n [{\n            'v': 1246,\n            'f': \"1246\",\n        },\n{\n            'v': 12,\n            'f': \"12\",\n        },\n{\n            'v': 5.0,\n            'f': \"5.0\",\n        },\n{\n            'v': 1999,\n            'f': \"1999\",\n        },\n{\n            'v': 39,\n            'f': \"39\",\n        }],\n [{\n            'v': 1648,\n            'f': \"1648\",\n        },\n{\n            'v': 12,\n            'f': \"12\",\n        },\n{\n            'v': 5.0,\n            'f': \"5.0\",\n        },\n{\n            'v': 1999,\n            'f': \"1999\",\n        },\n{\n            'v': 40,\n            'f': \"40\",\n        }],\n [{\n            'v': 1721,\n            'f': \"1721\",\n        },\n{\n            'v': 12,\n            'f': \"12\",\n        },\n{\n            'v': 2.0,\n            'f': \"2.0\",\n        },\n{\n            'v': 1999,\n            'f': \"1999\",\n        },\n{\n            'v': 41,\n            'f': \"41\",\n        }],\n [{\n            'v': 2150,\n            'f': \"2150\",\n        },\n{\n            'v': 12,\n            'f': \"12\",\n        },\n{\n            'v': 3.0,\n            'f': \"3.0\",\n        },\n{\n            'v': 1999,\n            'f': \"1999\",\n        },\n{\n            'v': 42,\n            'f': \"42\",\n        }],\n [{\n            'v': 2243,\n            'f': \"2243\",\n        },\n{\n            'v': 12,\n            'f': \"12\",\n        },\n{\n            'v': 5.0,\n            'f': \"5.0\",\n        },\n{\n            'v': 1999,\n            'f': \"1999\",\n        },\n{\n            'v': 43,\n            'f': \"43\",\n        }],\n [{\n            'v': 2248,\n            'f': \"2248\",\n        },\n{\n            'v': 12,\n            'f': \"12\",\n        },\n{\n            'v': 5.0,\n            'f': \"5.0\",\n        },\n{\n            'v': 1999,\n            'f': \"1999\",\n        },\n{\n            'v': 44,\n            'f': \"44\",\n        }],\n [{\n            'v': 2266,\n            'f': \"2266\",\n        },\n{\n            'v': 12,\n            'f': \"12\",\n        },\n{\n            'v': 1.0,\n            'f': \"1.0\",\n        },\n{\n            'v': 1999,\n            'f': \"1999\",\n        },\n{\n            'v': 45,\n            'f': \"45\",\n        }],\n [{\n            'v': 2291,\n            'f': \"2291\",\n        },\n{\n            'v': 12,\n            'f': \"12\",\n        },\n{\n            'v': 4.0,\n            'f': \"4.0\",\n        },\n{\n            'v': 1999,\n            'f': \"1999\",\n        },\n{\n            'v': 46,\n            'f': \"46\",\n        }],\n [{\n            'v': 2841,\n            'f': \"2841\",\n        },\n{\n            'v': 12,\n            'f': \"12\",\n        },\n{\n            'v': 3.0,\n            'f': \"3.0\",\n        },\n{\n            'v': 1999,\n            'f': \"1999\",\n        },\n{\n            'v': 47,\n            'f': \"47\",\n        }],\n [{\n            'v': 2959,\n            'f': \"2959\",\n        },\n{\n            'v': 14,\n            'f': \"14\",\n        },\n{\n            'v': 3.0,\n            'f': \"3.0\",\n        },\n{\n            'v': 2017,\n            'f': \"2017\",\n        },\n{\n            'v': 48,\n            'f': \"48\",\n        }],\n [{\n            'v': 1240,\n            'f': \"1240\",\n        },\n{\n            'v': 15,\n            'f': \"15\",\n        },\n{\n            'v': 4.0,\n            'f': \"4.0\",\n        },\n{\n            'v': 2012,\n            'f': \"2012\",\n        },\n{\n            'v': 49,\n            'f': \"49\",\n        }],\n [{\n            'v': 1265,\n            'f': \"1265\",\n        },\n{\n            'v': 15,\n            'f': \"15\",\n        },\n{\n            'v': 5.0,\n            'f': \"5.0\",\n        },\n{\n            'v': 2012,\n            'f': \"2012\",\n        },\n{\n            'v': 50,\n            'f': \"50\",\n        }],\n [{\n            'v': 1278,\n            'f': \"1278\",\n        },\n{\n            'v': 15,\n            'f': \"15\",\n        },\n{\n            'v': 5.0,\n            'f': \"5.0\",\n        },\n{\n            'v': 2012,\n            'f': \"2012\",\n        },\n{\n            'v': 51,\n            'f': \"51\",\n        }],\n [{\n            'v': 1610,\n            'f': \"1610\",\n        },\n{\n            'v': 15,\n            'f': \"15\",\n        },\n{\n            'v': 4.5,\n            'f': \"4.5\",\n        },\n{\n            'v': 2012,\n            'f': \"2012\",\n        },\n{\n            'v': 52,\n            'f': \"52\",\n        }],\n [{\n            'v': 2401,\n            'f': \"2401\",\n        },\n{\n            'v': 15,\n            'f': \"15\",\n        },\n{\n            'v': 4.5,\n            'f': \"4.5\",\n        },\n{\n            'v': 2012,\n            'f': \"2012\",\n        },\n{\n            'v': 53,\n            'f': \"53\",\n        }],\n [{\n            'v': 2951,\n            'f': \"2951\",\n        },\n{\n            'v': 15,\n            'f': \"15\",\n        },\n{\n            'v': 4.5,\n            'f': \"4.5\",\n        },\n{\n            'v': 2012,\n            'f': \"2012\",\n        },\n{\n            'v': 54,\n            'f': \"54\",\n        }],\n [{\n            'v': 3275,\n            'f': \"3275\",\n        },\n{\n            'v': 15,\n            'f': \"15\",\n        },\n{\n            'v': 2.5,\n            'f': \"2.5\",\n        },\n{\n            'v': 2012,\n            'f': \"2012\",\n        },\n{\n            'v': 55,\n            'f': \"55\",\n        }],\n [{\n            'v': 6502,\n            'f': \"6502\",\n        },\n{\n            'v': 15,\n            'f': \"15\",\n        },\n{\n            'v': 4.5,\n            'f': \"4.5\",\n        },\n{\n            'v': 2012,\n            'f': \"2012\",\n        },\n{\n            'v': 56,\n            'f': \"56\",\n        }],\n [{\n            'v': 6808,\n            'f': \"6808\",\n        },\n{\n            'v': 15,\n            'f': \"15\",\n        },\n{\n            'v': 4.0,\n            'f': \"4.0\",\n        },\n{\n            'v': 2012,\n            'f': \"2012\",\n        },\n{\n            'v': 57,\n            'f': \"57\",\n        }],\n [{\n            'v': 26172,\n            'f': \"26172\",\n        },\n{\n            'v': 15,\n            'f': \"15\",\n        },\n{\n            'v': 4.0,\n            'f': \"4.0\",\n        },\n{\n            'v': 2012,\n            'f': \"2012\",\n        },\n{\n            'v': 58,\n            'f': \"58\",\n        }],\n [{\n            'v': 51255,\n            'f': \"51255\",\n        },\n{\n            'v': 15,\n            'f': \"15\",\n        },\n{\n            'v': 5.0,\n            'f': \"5.0\",\n        },\n{\n            'v': 2012,\n            'f': \"2012\",\n        },\n{\n            'v': 59,\n            'f': \"59\",\n        }],\n [{\n            'v': 58295,\n            'f': \"58295\",\n        },\n{\n            'v': 15,\n            'f': \"15\",\n        },\n{\n            'v': 3.5,\n            'f': \"3.5\",\n        },\n{\n            'v': 2012,\n            'f': \"2012\",\n        },\n{\n            'v': 60,\n            'f': \"60\",\n        }],\n [{\n            'v': 87232,\n            'f': \"87232\",\n        },\n{\n            'v': 15,\n            'f': \"15\",\n        },\n{\n            'v': 4.0,\n            'f': \"4.0\",\n        },\n{\n            'v': 2012,\n            'f': \"2012\",\n        },\n{\n            'v': 61,\n            'f': \"61\",\n        }],\n [{\n            'v': 380,\n            'f': \"380\",\n        },\n{\n            'v': 16,\n            'f': \"16\",\n        },\n{\n            'v': 4.0,\n            'f': \"4.0\",\n        },\n{\n            'v': 2017,\n            'f': \"2017\",\n        },\n{\n            'v': 62,\n            'f': \"62\",\n        }],\n [{\n            'v': 541,\n            'f': \"541\",\n        },\n{\n            'v': 16,\n            'f': \"16\",\n        },\n{\n            'v': 5.0,\n            'f': \"5.0\",\n        },\n{\n            'v': 2017,\n            'f': \"2017\",\n        },\n{\n            'v': 63,\n            'f': \"63\",\n        }],\n [{\n            'v': 1036,\n            'f': \"1036\",\n        },\n{\n            'v': 16,\n            'f': \"16\",\n        },\n{\n            'v': 4.0,\n            'f': \"4.0\",\n        },\n{\n            'v': 2017,\n            'f': \"2017\",\n        },\n{\n            'v': 64,\n            'f': \"64\",\n        }],\n [{\n            'v': 1676,\n            'f': \"1676\",\n        },\n{\n            'v': 16,\n            'f': \"16\",\n        },\n{\n            'v': 4.5,\n            'f': \"4.5\",\n        },\n{\n            'v': 2017,\n            'f': \"2017\",\n        },\n{\n            'v': 65,\n            'f': \"65\",\n        }],\n [{\n            'v': 1982,\n            'f': \"1982\",\n        },\n{\n            'v': 16,\n            'f': \"16\",\n        },\n{\n            'v': 4.0,\n            'f': \"4.0\",\n        },\n{\n            'v': 2017,\n            'f': \"2017\",\n        },\n{\n            'v': 66,\n            'f': \"66\",\n        }],\n [{\n            'v': 4226,\n            'f': \"4226\",\n        },\n{\n            'v': 16,\n            'f': \"16\",\n        },\n{\n            'v': 4.5,\n            'f': \"4.5\",\n        },\n{\n            'v': 2017,\n            'f': \"2017\",\n        },\n{\n            'v': 67,\n            'f': \"67\",\n        }],\n [{\n            'v': 4995,\n            'f': \"4995\",\n        },\n{\n            'v': 16,\n            'f': \"16\",\n        },\n{\n            'v': 5.0,\n            'f': \"5.0\",\n        },\n{\n            'v': 2017,\n            'f': \"2017\",\n        },\n{\n            'v': 68,\n            'f': \"68\",\n        }],\n [{\n            'v': 70286,\n            'f': \"70286\",\n        },\n{\n            'v': 16,\n            'f': \"16\",\n        },\n{\n            'v': 5.0,\n            'f': \"5.0\",\n        },\n{\n            'v': 2017,\n            'f': \"2017\",\n        },\n{\n            'v': 69,\n            'f': \"69\",\n        }],\n [{\n            'v': 95875,\n            'f': \"95875\",\n        },\n{\n            'v': 16,\n            'f': \"16\",\n        },\n{\n            'v': 4.0,\n            'f': \"4.0\",\n        },\n{\n            'v': 2017,\n            'f': \"2017\",\n        },\n{\n            'v': 70,\n            'f': \"70\",\n        }],\n [{\n            'v': 111235,\n            'f': \"111235\",\n        },\n{\n            'v': 16,\n            'f': \"16\",\n        },\n{\n            'v': 4.0,\n            'f': \"4.0\",\n        },\n{\n            'v': 2017,\n            'f': \"2017\",\n        },\n{\n            'v': 71,\n            'f': \"71\",\n        }],\n [{\n            'v': 4310,\n            'f': \"4310\",\n        },\n{\n            'v': 17,\n            'f': \"17\",\n        },\n{\n            'v': 3.0,\n            'f': \"3.0\",\n        },\n{\n            'v': 2001,\n            'f': \"2001\",\n        },\n{\n            'v': 72,\n            'f': \"72\",\n        }],\n [{\n            'v': 1175,\n            'f': \"1175\",\n        },\n{\n            'v': 19,\n            'f': \"19\",\n        },\n{\n            'v': 3.0,\n            'f': \"3.0\",\n        },\n{\n            'v': 2011,\n            'f': \"2011\",\n        },\n{\n            'v': 73,\n            'f': \"73\",\n        }],\n [{\n            'v': 161,\n            'f': \"161\",\n        },\n{\n            'v': 20,\n            'f': \"20\",\n        },\n{\n            'v': 4.0,\n            'f': \"4.0\",\n        },\n{\n            'v': 2014,\n            'f': \"2014\",\n        },\n{\n            'v': 74,\n            'f': \"74\",\n        }],\n [{\n            'v': 260,\n            'f': \"260\",\n        },\n{\n            'v': 20,\n            'f': \"20\",\n        },\n{\n            'v': 4.0,\n            'f': \"4.0\",\n        },\n{\n            'v': 2013,\n            'f': \"2013\",\n        },\n{\n            'v': 75,\n            'f': \"75\",\n        }],\n [{\n            'v': 595,\n            'f': \"595\",\n        },\n{\n            'v': 20,\n            'f': \"20\",\n        },\n{\n            'v': 3.5,\n            'f': \"3.5\",\n        },\n{\n            'v': 2014,\n            'f': \"2014\",\n        },\n{\n            'v': 76,\n            'f': \"76\",\n        }],\n [{\n            'v': 1197,\n            'f': \"1197\",\n        },\n{\n            'v': 20,\n            'f': \"20\",\n        },\n{\n            'v': 5.0,\n            'f': \"5.0\",\n        },\n{\n            'v': 2013,\n            'f': \"2013\",\n        },\n{\n            'v': 77,\n            'f': \"77\",\n        }],\n [{\n            'v': 2081,\n            'f': \"2081\",\n        },\n{\n            'v': 20,\n            'f': \"20\",\n        },\n{\n            'v': 3.5,\n            'f': \"3.5\",\n        },\n{\n            'v': 2014,\n            'f': \"2014\",\n        },\n{\n            'v': 78,\n            'f': \"78\",\n        }],\n [{\n            'v': 4881,\n            'f': \"4881\",\n        },\n{\n            'v': 20,\n            'f': \"20\",\n        },\n{\n            'v': 3.5,\n            'f': \"3.5\",\n        },\n{\n            'v': 2016,\n            'f': \"2016\",\n        },\n{\n            'v': 79,\n            'f': \"79\",\n        }],\n [{\n            'v': 64620,\n            'f': \"64620\",\n        },\n{\n            'v': 20,\n            'f': \"20\",\n        },\n{\n            'v': 3.0,\n            'f': \"3.0\",\n        },\n{\n            'v': 2014,\n            'f': \"2014\",\n        },\n{\n            'v': 80,\n            'f': \"80\",\n        }],\n [{\n            'v': 519,\n            'f': \"519\",\n        },\n{\n            'v': 21,\n            'f': \"21\",\n        },\n{\n            'v': 5.0,\n            'f': \"5.0\",\n        },\n{\n            'v': 2009,\n            'f': \"2009\",\n        },\n{\n            'v': 81,\n            'f': \"81\",\n        }],\n [{\n            'v': 67197,\n            'f': \"67197\",\n        },\n{\n            'v': 21,\n            'f': \"21\",\n        },\n{\n            'v': 5.0,\n            'f': \"5.0\",\n        },\n{\n            'v': 2009,\n            'f': \"2009\",\n        },\n{\n            'v': 82,\n            'f': \"82\",\n        }],\n [{\n            'v': 342,\n            'f': \"342\",\n        },\n{\n            'v': 22,\n            'f': \"22\",\n        },\n{\n            'v': 3.0,\n            'f': \"3.0\",\n        },\n{\n            'v': 2005,\n            'f': \"2005\",\n        },\n{\n            'v': 83,\n            'f': \"83\",\n        }],\n [{\n            'v': 1380,\n            'f': \"1380\",\n        },\n{\n            'v': 22,\n            'f': \"22\",\n        },\n{\n            'v': 1.0,\n            'f': \"1.0\",\n        },\n{\n            'v': 2005,\n            'f': \"2005\",\n        },\n{\n            'v': 84,\n            'f': \"84\",\n        }],\n [{\n            'v': 3114,\n            'f': \"3114\",\n        },\n{\n            'v': 22,\n            'f': \"22\",\n        },\n{\n            'v': 1.5,\n            'f': \"1.5\",\n        },\n{\n            'v': 2005,\n            'f': \"2005\",\n        },\n{\n            'v': 85,\n            'f': \"85\",\n        }],\n [{\n            'v': 6,\n            'f': \"6\",\n        },\n{\n            'v': 24,\n            'f': \"24\",\n        },\n{\n            'v': 4.0,\n            'f': \"4.0\",\n        },\n{\n            'v': 2001,\n            'f': \"2001\",\n        },\n{\n            'v': 86,\n            'f': \"86\",\n        }],\n [{\n            'v': 57,\n            'f': \"57\",\n        },\n{\n            'v': 24,\n            'f': \"24\",\n        },\n{\n            'v': 2.0,\n            'f': \"2.0\",\n        },\n{\n            'v': 2001,\n            'f': \"2001\",\n        },\n{\n            'v': 87,\n            'f': \"87\",\n        }],\n [{\n            'v': 367,\n            'f': \"367\",\n        },\n{\n            'v': 24,\n            'f': \"24\",\n        },\n{\n            'v': 4.0,\n            'f': \"4.0\",\n        },\n{\n            'v': 2001,\n            'f': \"2001\",\n        },\n{\n            'v': 88,\n            'f': \"88\",\n        }],\n [{\n            'v': 778,\n            'f': \"778\",\n        },\n{\n            'v': 24,\n            'f': \"24\",\n        },\n{\n            'v': 5.0,\n            'f': \"5.0\",\n        },\n{\n            'v': 2001,\n            'f': \"2001\",\n        },\n{\n            'v': 89,\n            'f': \"89\",\n        }],\n [{\n            'v': 1193,\n            'f': \"1193\",\n        },\n{\n            'v': 24,\n            'f': \"24\",\n        },\n{\n            'v': 5.0,\n            'f': \"5.0\",\n        },\n{\n            'v': 2001,\n            'f': \"2001\",\n        },\n{\n            'v': 90,\n            'f': \"90\",\n        }],\n [{\n            'v': 1200,\n            'f': \"1200\",\n        },\n{\n            'v': 24,\n            'f': \"24\",\n        },\n{\n            'v': 4.0,\n            'f': \"4.0\",\n        },\n{\n            'v': 2001,\n            'f': \"2001\",\n        },\n{\n            'v': 91,\n            'f': \"91\",\n        }],\n [{\n            'v': 1240,\n            'f': \"1240\",\n        },\n{\n            'v': 24,\n            'f': \"24\",\n        },\n{\n            'v': 3.0,\n            'f': \"3.0\",\n        },\n{\n            'v': 2001,\n            'f': \"2001\",\n        },\n{\n            'v': 92,\n            'f': \"92\",\n        }],\n [{\n            'v': 1271,\n            'f': \"1271\",\n        },\n{\n            'v': 24,\n            'f': \"24\",\n        },\n{\n            'v': 3.0,\n            'f': \"3.0\",\n        },\n{\n            'v': 2001,\n            'f': \"2001\",\n        },\n{\n            'v': 93,\n            'f': \"93\",\n        }],\n [{\n            'v': 1610,\n            'f': \"1610\",\n        },\n{\n            'v': 24,\n            'f': \"24\",\n        },\n{\n            'v': 4.0,\n            'f': \"4.0\",\n        },\n{\n            'v': 2001,\n            'f': \"2001\",\n        },\n{\n            'v': 94,\n            'f': \"94\",\n        }],\n [{\n            'v': 1974,\n            'f': \"1974\",\n        },\n{\n            'v': 24,\n            'f': \"24\",\n        },\n{\n            'v': 3.0,\n            'f': \"3.0\",\n        },\n{\n            'v': 2001,\n            'f': \"2001\",\n        },\n{\n            'v': 95,\n            'f': \"95\",\n        }],\n [{\n            'v': 2145,\n            'f': \"2145\",\n        },\n{\n            'v': 24,\n            'f': \"24\",\n        },\n{\n            'v': 4.0,\n            'f': \"4.0\",\n        },\n{\n            'v': 2001,\n            'f': \"2001\",\n        },\n{\n            'v': 96,\n            'f': \"96\",\n        }],\n [{\n            'v': 2381,\n            'f': \"2381\",\n        },\n{\n            'v': 24,\n            'f': \"24\",\n        },\n{\n            'v': 3.0,\n            'f': \"3.0\",\n        },\n{\n            'v': 2001,\n            'f': \"2001\",\n        },\n{\n            'v': 97,\n            'f': \"97\",\n        }],\n [{\n            'v': 2395,\n            'f': \"2395\",\n        },\n{\n            'v': 24,\n            'f': \"24\",\n        },\n{\n            'v': 5.0,\n            'f': \"5.0\",\n        },\n{\n            'v': 2001,\n            'f': \"2001\",\n        },\n{\n            'v': 98,\n            'f': \"98\",\n        }],\n [{\n            'v': 2413,\n            'f': \"2413\",\n        },\n{\n            'v': 24,\n            'f': \"24\",\n        },\n{\n            'v': 3.0,\n            'f': \"3.0\",\n        },\n{\n            'v': 2001,\n            'f': \"2001\",\n        },\n{\n            'v': 99,\n            'f': \"99\",\n        }]],\n        columns: [[\"number\", \"nF\"], [\"number\", \"nU\"], [\"number\", \"note\"], [\"number\", \"annee\"], [\"number\", \"numeroNote\"]],\n        columnOptions: [],\n        rowsPerPage: 10,\n        helpUrl: \"https://colab.research.google.com/notebooks/data_table.ipynb\",\n        suppressOutputScrolling: true,\n        minimumWidth: undefined,\n      });\n    ",
            "text/plain": [
              "<google.colab.data_table.DataTable object>"
            ],
            "text/html": [
              "<div>\n",
              "<style scoped>\n",
              "    .dataframe tbody tr th:only-of-type {\n",
              "        vertical-align: middle;\n",
              "    }\n",
              "\n",
              "    .dataframe tbody tr th {\n",
              "        vertical-align: top;\n",
              "    }\n",
              "\n",
              "    .dataframe thead th {\n",
              "        text-align: right;\n",
              "    }\n",
              "</style>\n",
              "<table border=\"1\" class=\"dataframe\">\n",
              "  <thead>\n",
              "    <tr style=\"text-align: right;\">\n",
              "      <th></th>\n",
              "      <th>nF</th>\n",
              "      <th>nU</th>\n",
              "      <th>note</th>\n",
              "      <th>annee</th>\n",
              "      <th>numeroNote</th>\n",
              "    </tr>\n",
              "  </thead>\n",
              "  <tbody>\n",
              "    <tr>\n",
              "      <th>0</th>\n",
              "      <td>2959</td>\n",
              "      <td>1</td>\n",
              "      <td>4.0</td>\n",
              "      <td>2015</td>\n",
              "      <td>0</td>\n",
              "    </tr>\n",
              "    <tr>\n",
              "      <th>1</th>\n",
              "      <td>69844</td>\n",
              "      <td>1</td>\n",
              "      <td>5.0</td>\n",
              "      <td>2015</td>\n",
              "      <td>1</td>\n",
              "    </tr>\n",
              "    <tr>\n",
              "      <th>2</th>\n",
              "      <td>73017</td>\n",
              "      <td>1</td>\n",
              "      <td>5.0</td>\n",
              "      <td>2015</td>\n",
              "      <td>2</td>\n",
              "    </tr>\n",
              "    <tr>\n",
              "      <th>3</th>\n",
              "      <td>788</td>\n",
              "      <td>2</td>\n",
              "      <td>1.0</td>\n",
              "      <td>1997</td>\n",
              "      <td>3</td>\n",
              "    </tr>\n",
              "    <tr>\n",
              "      <th>4</th>\n",
              "      <td>1422</td>\n",
              "      <td>4</td>\n",
              "      <td>4.0</td>\n",
              "      <td>2003</td>\n",
              "      <td>4</td>\n",
              "    </tr>\n",
              "    <tr>\n",
              "      <th>...</th>\n",
              "      <td>...</td>\n",
              "      <td>...</td>\n",
              "      <td>...</td>\n",
              "      <td>...</td>\n",
              "      <td>...</td>\n",
              "    </tr>\n",
              "    <tr>\n",
              "      <th>95</th>\n",
              "      <td>1974</td>\n",
              "      <td>24</td>\n",
              "      <td>3.0</td>\n",
              "      <td>2001</td>\n",
              "      <td>95</td>\n",
              "    </tr>\n",
              "    <tr>\n",
              "      <th>96</th>\n",
              "      <td>2145</td>\n",
              "      <td>24</td>\n",
              "      <td>4.0</td>\n",
              "      <td>2001</td>\n",
              "      <td>96</td>\n",
              "    </tr>\n",
              "    <tr>\n",
              "      <th>97</th>\n",
              "      <td>2381</td>\n",
              "      <td>24</td>\n",
              "      <td>3.0</td>\n",
              "      <td>2001</td>\n",
              "      <td>97</td>\n",
              "    </tr>\n",
              "    <tr>\n",
              "      <th>98</th>\n",
              "      <td>2395</td>\n",
              "      <td>24</td>\n",
              "      <td>5.0</td>\n",
              "      <td>2001</td>\n",
              "      <td>98</td>\n",
              "    </tr>\n",
              "    <tr>\n",
              "      <th>99</th>\n",
              "      <td>2413</td>\n",
              "      <td>24</td>\n",
              "      <td>3.0</td>\n",
              "      <td>2001</td>\n",
              "      <td>99</td>\n",
              "    </tr>\n",
              "  </tbody>\n",
              "</table>\n",
              "<p>100 rows × 5 columns</p>\n",
              "</div>"
            ]
          },
          "metadata": {},
          "execution_count": 53
        }
      ]
    },
    {
      "cell_type": "code",
      "metadata": {
        "application/vnd.databricks.v1+cell": {
          "title": "",
          "showTitle": false,
          "inputWidgets": {},
          "nuid": "e0440e0e-aec0-471c-99d1-f29d4d62638c"
        },
        "id": "z2ud6GZJG2AV",
        "colab": {
          "base_uri": "https://localhost:8080/"
        },
        "outputId": "b87bc295-5d0a-4673-e4b3-413dbc9863a5"
      },
      "source": [
        "showPartitions(notesNumerotees1, 3)"
      ],
      "execution_count": null,
      "outputs": [
        {
          "output_type": "stream",
          "name": "stdout",
          "text": [
            "Partition 0 , 686782 éléments\n",
            "Row(nF=2959, nU=1, note=4.0, annee=2015, numeroNote=0)\n",
            "Row(nF=69844, nU=1, note=5.0, annee=2015, numeroNote=1)\n",
            "Row(nF=73017, nU=1, note=5.0, annee=2015, numeroNote=2)\n",
            "\n",
            "Partition 1 , 614791 éléments\n",
            "Row(nF=2995, nU=142907, note=4.0, annee=2001, numeroNote=8589934592)\n",
            "Row(nF=3178, nU=142907, note=5.0, annee=2001, numeroNote=8589934593)\n",
            "Row(nF=3578, nU=142907, note=4.0, annee=2001, numeroNote=8589934594)\n",
            "\n"
          ]
        }
      ]
    },
    {
      "cell_type": "markdown",
      "metadata": {
        "application/vnd.databricks.v1+cell": {
          "title": "",
          "showTitle": false,
          "inputWidgets": {},
          "nuid": "b3d16c67-e1e7-42ef-8220-bc174c52bd39"
        },
        "id": "yCvw9cVJG2AW"
      },
      "source": [
        "Afficher les 10 plus grandes valeurs de numeroNote"
      ]
    },
    {
      "cell_type": "code",
      "metadata": {
        "application/vnd.databricks.v1+cell": {
          "title": "",
          "showTitle": false,
          "inputWidgets": {},
          "nuid": "2eddaa0d-1e26-4535-b631-968c77f93b2f"
        },
        "id": "rFvF7E3BG2AW",
        "colab": {
          "base_uri": "https://localhost:8080/",
          "height": 316
        },
        "outputId": "62864c5a-958d-41c2-8518-d964a72a3a32"
      },
      "source": [
        "from pyspark.sql.functions import desc\n",
        "\n",
        "display(notesNumerotees1.orderBy(desc(\"numeroNote\")))"
      ],
      "execution_count": null,
      "outputs": [
        {
          "output_type": "execute_result",
          "data": {
            "application/vnd.google.colaboratory.module+javascript": "\n      import \"https://ssl.gstatic.com/colaboratory/data_table/81f25a011006ed3d/data_table.js\";\n\n      window.createDataTable({\n        data: [[{\n            'v': 63082,\n            'f': \"63082\",\n        },\n{\n            'v': 270896,\n            'f': \"270896\",\n        },\n{\n            'v': 4.5,\n            'f': \"4.5\",\n        },\n{\n            'v': 2009,\n            'f': \"2009\",\n        },\n{\n            'v': 8590549382,\n            'f': \"8590549382\",\n        }],\n [{\n            'v': 60069,\n            'f': \"60069\",\n        },\n{\n            'v': 270896,\n            'f': \"270896\",\n        },\n{\n            'v': 5.0,\n            'f': \"5.0\",\n        },\n{\n            'v': 2009,\n            'f': \"2009\",\n        },\n{\n            'v': 8590549381,\n            'f': \"8590549381\",\n        }],\n [{\n            'v': 54001,\n            'f': \"54001\",\n        },\n{\n            'v': 270896,\n            'f': \"270896\",\n        },\n{\n            'v': 4.0,\n            'f': \"4.0\",\n        },\n{\n            'v': 2009,\n            'f': \"2009\",\n        },\n{\n            'v': 8590549380,\n            'f': \"8590549380\",\n        }],\n [{\n            'v': 51662,\n            'f': \"51662\",\n        },\n{\n            'v': 270896,\n            'f': \"270896\",\n        },\n{\n            'v': 4.5,\n            'f': \"4.5\",\n        },\n{\n            'v': 2009,\n            'f': \"2009\",\n        },\n{\n            'v': 8590549379,\n            'f': \"8590549379\",\n        }],\n [{\n            'v': 48516,\n            'f': \"48516\",\n        },\n{\n            'v': 270896,\n            'f': \"270896\",\n        },\n{\n            'v': 4.5,\n            'f': \"4.5\",\n        },\n{\n            'v': 2009,\n            'f': \"2009\",\n        },\n{\n            'v': 8590549378,\n            'f': \"8590549378\",\n        }],\n [{\n            'v': 33794,\n            'f': \"33794\",\n        },\n{\n            'v': 270896,\n            'f': \"270896\",\n        },\n{\n            'v': 4.0,\n            'f': \"4.0\",\n        },\n{\n            'v': 2009,\n            'f': \"2009\",\n        },\n{\n            'v': 8590549377,\n            'f': \"8590549377\",\n        }],\n [{\n            'v': 30707,\n            'f': \"30707\",\n        },\n{\n            'v': 270896,\n            'f': \"270896\",\n        },\n{\n            'v': 5.0,\n            'f': \"5.0\",\n        },\n{\n            'v': 2009,\n            'f': \"2009\",\n        },\n{\n            'v': 8590549376,\n            'f': \"8590549376\",\n        }],\n [{\n            'v': 4993,\n            'f': \"4993\",\n        },\n{\n            'v': 270896,\n            'f': \"270896\",\n        },\n{\n            'v': 5.0,\n            'f': \"5.0\",\n        },\n{\n            'v': 2009,\n            'f': \"2009\",\n        },\n{\n            'v': 8590549375,\n            'f': \"8590549375\",\n        }],\n [{\n            'v': 4979,\n            'f': \"4979\",\n        },\n{\n            'v': 270896,\n            'f': \"270896\",\n        },\n{\n            'v': 4.5,\n            'f': \"4.5\",\n        },\n{\n            'v': 2009,\n            'f': \"2009\",\n        },\n{\n            'v': 8590549374,\n            'f': \"8590549374\",\n        }],\n [{\n            'v': 4878,\n            'f': \"4878\",\n        },\n{\n            'v': 270896,\n            'f': \"270896\",\n        },\n{\n            'v': 5.0,\n            'f': \"5.0\",\n        },\n{\n            'v': 2009,\n            'f': \"2009\",\n        },\n{\n            'v': 8590549373,\n            'f': \"8590549373\",\n        }],\n [{\n            'v': 4011,\n            'f': \"4011\",\n        },\n{\n            'v': 270896,\n            'f': \"270896\",\n        },\n{\n            'v': 4.5,\n            'f': \"4.5\",\n        },\n{\n            'v': 2009,\n            'f': \"2009\",\n        },\n{\n            'v': 8590549372,\n            'f': \"8590549372\",\n        }],\n [{\n            'v': 3578,\n            'f': \"3578\",\n        },\n{\n            'v': 270896,\n            'f': \"270896\",\n        },\n{\n            'v': 4.5,\n            'f': \"4.5\",\n        },\n{\n            'v': 2009,\n            'f': \"2009\",\n        },\n{\n            'v': 8590549371,\n            'f': \"8590549371\",\n        }],\n [{\n            'v': 3527,\n            'f': \"3527\",\n        },\n{\n            'v': 270896,\n            'f': \"270896\",\n        },\n{\n            'v': 3.0,\n            'f': \"3.0\",\n        },\n{\n            'v': 2009,\n            'f': \"2009\",\n        },\n{\n            'v': 8590549370,\n            'f': \"8590549370\",\n        }],\n [{\n            'v': 2762,\n            'f': \"2762\",\n        },\n{\n            'v': 270896,\n            'f': \"270896\",\n        },\n{\n            'v': 5.0,\n            'f': \"5.0\",\n        },\n{\n            'v': 2009,\n            'f': \"2009\",\n        },\n{\n            'v': 8590549369,\n            'f': \"8590549369\",\n        }],\n [{\n            'v': 593,\n            'f': \"593\",\n        },\n{\n            'v': 270896,\n            'f': \"270896\",\n        },\n{\n            'v': 5.0,\n            'f': \"5.0\",\n        },\n{\n            'v': 2009,\n            'f': \"2009\",\n        },\n{\n            'v': 8590549368,\n            'f': \"8590549368\",\n        }],\n [{\n            'v': 586,\n            'f': \"586\",\n        },\n{\n            'v': 270896,\n            'f': \"270896\",\n        },\n{\n            'v': 3.0,\n            'f': \"3.0\",\n        },\n{\n            'v': 2009,\n            'f': \"2009\",\n        },\n{\n            'v': 8590549367,\n            'f': \"8590549367\",\n        }],\n [{\n            'v': 300,\n            'f': \"300\",\n        },\n{\n            'v': 270896,\n            'f': \"270896\",\n        },\n{\n            'v': 3.5,\n            'f': \"3.5\",\n        },\n{\n            'v': 2009,\n            'f': \"2009\",\n        },\n{\n            'v': 8590549366,\n            'f': \"8590549366\",\n        }],\n [{\n            'v': 296,\n            'f': \"296\",\n        },\n{\n            'v': 270896,\n            'f': \"270896\",\n        },\n{\n            'v': 5.0,\n            'f': \"5.0\",\n        },\n{\n            'v': 2009,\n            'f': \"2009\",\n        },\n{\n            'v': 8590549365,\n            'f': \"8590549365\",\n        }],\n [{\n            'v': 253,\n            'f': \"253\",\n        },\n{\n            'v': 270896,\n            'f': \"270896\",\n        },\n{\n            'v': 4.0,\n            'f': \"4.0\",\n        },\n{\n            'v': 2009,\n            'f': \"2009\",\n        },\n{\n            'v': 8590549364,\n            'f': \"8590549364\",\n        }],\n [{\n            'v': 104944,\n            'f': \"104944\",\n        },\n{\n            'v': 270894,\n            'f': \"270894\",\n        },\n{\n            'v': 1.5,\n            'f': \"1.5\",\n        },\n{\n            'v': 2014,\n            'f': \"2014\",\n        },\n{\n            'v': 8590549363,\n            'f': \"8590549363\",\n        }],\n [{\n            'v': 55820,\n            'f': \"55820\",\n        },\n{\n            'v': 270894,\n            'f': \"270894\",\n        },\n{\n            'v': 3.0,\n            'f': \"3.0\",\n        },\n{\n            'v': 2014,\n            'f': \"2014\",\n        },\n{\n            'v': 8590549362,\n            'f': \"8590549362\",\n        }],\n [{\n            'v': 2360,\n            'f': \"2360\",\n        },\n{\n            'v': 270894,\n            'f': \"270894\",\n        },\n{\n            'v': 0.5,\n            'f': \"0.5\",\n        },\n{\n            'v': 2014,\n            'f': \"2014\",\n        },\n{\n            'v': 8590549361,\n            'f': \"8590549361\",\n        }],\n [{\n            'v': 2288,\n            'f': \"2288\",\n        },\n{\n            'v': 270894,\n            'f': \"270894\",\n        },\n{\n            'v': 5.0,\n            'f': \"5.0\",\n        },\n{\n            'v': 2014,\n            'f': \"2014\",\n        },\n{\n            'v': 8590549360,\n            'f': \"8590549360\",\n        }],\n [{\n            'v': 1200,\n            'f': \"1200\",\n        },\n{\n            'v': 270894,\n            'f': \"270894\",\n        },\n{\n            'v': 4.0,\n            'f': \"4.0\",\n        },\n{\n            'v': 2014,\n            'f': \"2014\",\n        },\n{\n            'v': 8590549359,\n            'f': \"8590549359\",\n        }],\n [{\n            'v': 4262,\n            'f': \"4262\",\n        },\n{\n            'v': 270893,\n            'f': \"270893\",\n        },\n{\n            'v': 5.0,\n            'f': \"5.0\",\n        },\n{\n            'v': 2001,\n            'f': \"2001\",\n        },\n{\n            'v': 8590549358,\n            'f': \"8590549358\",\n        }],\n [{\n            'v': 3527,\n            'f': \"3527\",\n        },\n{\n            'v': 270893,\n            'f': \"270893\",\n        },\n{\n            'v': 5.0,\n            'f': \"5.0\",\n        },\n{\n            'v': 2001,\n            'f': \"2001\",\n        },\n{\n            'v': 8590549357,\n            'f': \"8590549357\",\n        }],\n [{\n            'v': 3301,\n            'f': \"3301\",\n        },\n{\n            'v': 270893,\n            'f': \"270893\",\n        },\n{\n            'v': 4.0,\n            'f': \"4.0\",\n        },\n{\n            'v': 2001,\n            'f': \"2001\",\n        },\n{\n            'v': 8590549356,\n            'f': \"8590549356\",\n        }],\n [{\n            'v': 2710,\n            'f': \"2710\",\n        },\n{\n            'v': 270893,\n            'f': \"270893\",\n        },\n{\n            'v': 5.0,\n            'f': \"5.0\",\n        },\n{\n            'v': 2001,\n            'f': \"2001\",\n        },\n{\n            'v': 8590549355,\n            'f': \"8590549355\",\n        }],\n [{\n            'v': 2613,\n            'f': \"2613\",\n        },\n{\n            'v': 270893,\n            'f': \"270893\",\n        },\n{\n            'v': 3.0,\n            'f': \"3.0\",\n        },\n{\n            'v': 2001,\n            'f': \"2001\",\n        },\n{\n            'v': 8590549354,\n            'f': \"8590549354\",\n        }],\n [{\n            'v': 2338,\n            'f': \"2338\",\n        },\n{\n            'v': 270893,\n            'f': \"270893\",\n        },\n{\n            'v': 1.0,\n            'f': \"1.0\",\n        },\n{\n            'v': 2001,\n            'f': \"2001\",\n        },\n{\n            'v': 8590549353,\n            'f': \"8590549353\",\n        }],\n [{\n            'v': 1387,\n            'f': \"1387\",\n        },\n{\n            'v': 270893,\n            'f': \"270893\",\n        },\n{\n            'v': 5.0,\n            'f': \"5.0\",\n        },\n{\n            'v': 2001,\n            'f': \"2001\",\n        },\n{\n            'v': 8590549352,\n            'f': \"8590549352\",\n        }],\n [{\n            'v': 1370,\n            'f': \"1370\",\n        },\n{\n            'v': 270893,\n            'f': \"270893\",\n        },\n{\n            'v': 4.0,\n            'f': \"4.0\",\n        },\n{\n            'v': 2001,\n            'f': \"2001\",\n        },\n{\n            'v': 8590549351,\n            'f': \"8590549351\",\n        }],\n [{\n            'v': 1265,\n            'f': \"1265\",\n        },\n{\n            'v': 270893,\n            'f': \"270893\",\n        },\n{\n            'v': 4.0,\n            'f': \"4.0\",\n        },\n{\n            'v': 2001,\n            'f': \"2001\",\n        },\n{\n            'v': 8590549350,\n            'f': \"8590549350\",\n        }],\n [{\n            'v': 1259,\n            'f': \"1259\",\n        },\n{\n            'v': 270893,\n            'f': \"270893\",\n        },\n{\n            'v': 5.0,\n            'f': \"5.0\",\n        },\n{\n            'v': 2001,\n            'f': \"2001\",\n        },\n{\n            'v': 8590549349,\n            'f': \"8590549349\",\n        }],\n [{\n            'v': 1219,\n            'f': \"1219\",\n        },\n{\n            'v': 270893,\n            'f': \"270893\",\n        },\n{\n            'v': 5.0,\n            'f': \"5.0\",\n        },\n{\n            'v': 2001,\n            'f': \"2001\",\n        },\n{\n            'v': 8590549348,\n            'f': \"8590549348\",\n        }],\n [{\n            'v': 58191,\n            'f': \"58191\",\n        },\n{\n            'v': 270892,\n            'f': \"270892\",\n        },\n{\n            'v': 3.5,\n            'f': \"3.5\",\n        },\n{\n            'v': 2008,\n            'f': \"2008\",\n        },\n{\n            'v': 8590549347,\n            'f': \"8590549347\",\n        }],\n [{\n            'v': 6942,\n            'f': \"6942\",\n        },\n{\n            'v': 270892,\n            'f': \"270892\",\n        },\n{\n            'v': 4.5,\n            'f': \"4.5\",\n        },\n{\n            'v': 2008,\n            'f': \"2008\",\n        },\n{\n            'v': 8590549346,\n            'f': \"8590549346\",\n        }],\n [{\n            'v': 1198,\n            'f': \"1198\",\n        },\n{\n            'v': 270892,\n            'f': \"270892\",\n        },\n{\n            'v': 4.5,\n            'f': \"4.5\",\n        },\n{\n            'v': 2008,\n            'f': \"2008\",\n        },\n{\n            'v': 8590549345,\n            'f': \"8590549345\",\n        }],\n [{\n            'v': 592,\n            'f': \"592\",\n        },\n{\n            'v': 270892,\n            'f': \"270892\",\n        },\n{\n            'v': 2.5,\n            'f': \"2.5\",\n        },\n{\n            'v': 2008,\n            'f': \"2008\",\n        },\n{\n            'v': 8590549344,\n            'f': \"8590549344\",\n        }],\n [{\n            'v': 588,\n            'f': \"588\",\n        },\n{\n            'v': 270892,\n            'f': \"270892\",\n        },\n{\n            'v': 4.0,\n            'f': \"4.0\",\n        },\n{\n            'v': 2008,\n            'f': \"2008\",\n        },\n{\n            'v': 8590549343,\n            'f': \"8590549343\",\n        }],\n [{\n            'v': 367,\n            'f': \"367\",\n        },\n{\n            'v': 270892,\n            'f': \"270892\",\n        },\n{\n            'v': 2.5,\n            'f': \"2.5\",\n        },\n{\n            'v': 2008,\n            'f': \"2008\",\n        },\n{\n            'v': 8590549342,\n            'f': \"8590549342\",\n        }],\n [{\n            'v': 292,\n            'f': \"292\",\n        },\n{\n            'v': 270892,\n            'f': \"270892\",\n        },\n{\n            'v': 3.0,\n            'f': \"3.0\",\n        },\n{\n            'v': 2008,\n            'f': \"2008\",\n        },\n{\n            'v': 8590549341,\n            'f': \"8590549341\",\n        }],\n [{\n            'v': 282,\n            'f': \"282\",\n        },\n{\n            'v': 270891,\n            'f': \"270891\",\n        },\n{\n            'v': 5.0,\n            'f': \"5.0\",\n        },\n{\n            'v': 1996,\n            'f': \"1996\",\n        },\n{\n            'v': 8590549340,\n            'f': \"8590549340\",\n        }],\n [{\n            'v': 64,\n            'f': \"64\",\n        },\n{\n            'v': 270891,\n            'f': \"270891\",\n        },\n{\n            'v': 3.0,\n            'f': \"3.0\",\n        },\n{\n            'v': 1996,\n            'f': \"1996\",\n        },\n{\n            'v': 8590549339,\n            'f': \"8590549339\",\n        }],\n [{\n            'v': 2700,\n            'f': \"2700\",\n        },\n{\n            'v': 270889,\n            'f': \"270889\",\n        },\n{\n            'v': 3.5,\n            'f': \"3.5\",\n        },\n{\n            'v': 2005,\n            'f': \"2005\",\n        },\n{\n            'v': 8590549338,\n            'f': \"8590549338\",\n        }],\n [{\n            'v': 186,\n            'f': \"186\",\n        },\n{\n            'v': 270889,\n            'f': \"270889\",\n        },\n{\n            'v': 2.5,\n            'f': \"2.5\",\n        },\n{\n            'v': 2005,\n            'f': \"2005\",\n        },\n{\n            'v': 8590549337,\n            'f': \"8590549337\",\n        }],\n [{\n            'v': 166643,\n            'f': \"166643\",\n        },\n{\n            'v': 270887,\n            'f': \"270887\",\n        },\n{\n            'v': 5.0,\n            'f': \"5.0\",\n        },\n{\n            'v': 2017,\n            'f': \"2017\",\n        },\n{\n            'v': 8590549336,\n            'f': \"8590549336\",\n        }],\n [{\n            'v': 166635,\n            'f': \"166635\",\n        },\n{\n            'v': 270887,\n            'f': \"270887\",\n        },\n{\n            'v': 5.0,\n            'f': \"5.0\",\n        },\n{\n            'v': 2017,\n            'f': \"2017\",\n        },\n{\n            'v': 8590549335,\n            'f': \"8590549335\",\n        }],\n [{\n            'v': 166476,\n            'f': \"166476\",\n        },\n{\n            'v': 270887,\n            'f': \"270887\",\n        },\n{\n            'v': 2.0,\n            'f': \"2.0\",\n        },\n{\n            'v': 2016,\n            'f': \"2016\",\n        },\n{\n            'v': 8590549334,\n            'f': \"8590549334\",\n        }],\n [{\n            'v': 165651,\n            'f': \"165651\",\n        },\n{\n            'v': 270887,\n            'f': \"270887\",\n        },\n{\n            'v': 5.0,\n            'f': \"5.0\",\n        },\n{\n            'v': 2016,\n            'f': \"2016\",\n        },\n{\n            'v': 8590549333,\n            'f': \"8590549333\",\n        }],\n [{\n            'v': 165103,\n            'f': \"165103\",\n        },\n{\n            'v': 270887,\n            'f': \"270887\",\n        },\n{\n            'v': 4.0,\n            'f': \"4.0\",\n        },\n{\n            'v': 2017,\n            'f': \"2017\",\n        },\n{\n            'v': 8590549332,\n            'f': \"8590549332\",\n        }],\n [{\n            'v': 164909,\n            'f': \"164909\",\n        },\n{\n            'v': 270887,\n            'f': \"270887\",\n        },\n{\n            'v': 4.0,\n            'f': \"4.0\",\n        },\n{\n            'v': 2017,\n            'f': \"2017\",\n        },\n{\n            'v': 8590549331,\n            'f': \"8590549331\",\n        }],\n [{\n            'v': 160438,\n            'f': \"160438\",\n        },\n{\n            'v': 270887,\n            'f': \"270887\",\n        },\n{\n            'v': 5.0,\n            'f': \"5.0\",\n        },\n{\n            'v': 2017,\n            'f': \"2017\",\n        },\n{\n            'v': 8590549330,\n            'f': \"8590549330\",\n        }],\n [{\n            'v': 160169,\n            'f': \"160169\",\n        },\n{\n            'v': 270887,\n            'f': \"270887\",\n        },\n{\n            'v': 3.0,\n            'f': \"3.0\",\n        },\n{\n            'v': 2017,\n            'f': \"2017\",\n        },\n{\n            'v': 8590549329,\n            'f': \"8590549329\",\n        }],\n [{\n            'v': 159690,\n            'f': \"159690\",\n        },\n{\n            'v': 270887,\n            'f': \"270887\",\n        },\n{\n            'v': 1.0,\n            'f': \"1.0\",\n        },\n{\n            'v': 2016,\n            'f': \"2016\",\n        },\n{\n            'v': 8590549328,\n            'f': \"8590549328\",\n        }],\n [{\n            'v': 156755,\n            'f': \"156755\",\n        },\n{\n            'v': 270887,\n            'f': \"270887\",\n        },\n{\n            'v': 0.5,\n            'f': \"0.5\",\n        },\n{\n            'v': 2017,\n            'f': \"2017\",\n        },\n{\n            'v': 8590549327,\n            'f': \"8590549327\",\n        }],\n [{\n            'v': 155968,\n            'f': \"155968\",\n        },\n{\n            'v': 270887,\n            'f': \"270887\",\n        },\n{\n            'v': 0.5,\n            'f': \"0.5\",\n        },\n{\n            'v': 2017,\n            'f': \"2017\",\n        },\n{\n            'v': 8590549326,\n            'f': \"8590549326\",\n        }],\n [{\n            'v': 144138,\n            'f': \"144138\",\n        },\n{\n            'v': 270887,\n            'f': \"270887\",\n        },\n{\n            'v': 1.0,\n            'f': \"1.0\",\n        },\n{\n            'v': 2016,\n            'f': \"2016\",\n        },\n{\n            'v': 8590549325,\n            'f': \"8590549325\",\n        }],\n [{\n            'v': 139915,\n            'f': \"139915\",\n        },\n{\n            'v': 270887,\n            'f': \"270887\",\n        },\n{\n            'v': 4.0,\n            'f': \"4.0\",\n        },\n{\n            'v': 2016,\n            'f': \"2016\",\n        },\n{\n            'v': 8590549324,\n            'f': \"8590549324\",\n        }],\n [{\n            'v': 123361,\n            'f': \"123361\",\n        },\n{\n            'v': 270887,\n            'f': \"270887\",\n        },\n{\n            'v': 5.0,\n            'f': \"5.0\",\n        },\n{\n            'v': 2016,\n            'f': \"2016\",\n        },\n{\n            'v': 8590549323,\n            'f': \"8590549323\",\n        }],\n [{\n            'v': 122563,\n            'f': \"122563\",\n        },\n{\n            'v': 270887,\n            'f': \"270887\",\n        },\n{\n            'v': 4.5,\n            'f': \"4.5\",\n        },\n{\n            'v': 2017,\n            'f': \"2017\",\n        },\n{\n            'v': 8590549322,\n            'f': \"8590549322\",\n        }],\n [{\n            'v': 120478,\n            'f': \"120478\",\n        },\n{\n            'v': 270887,\n            'f': \"270887\",\n        },\n{\n            'v': 0.5,\n            'f': \"0.5\",\n        },\n{\n            'v': 2017,\n            'f': \"2017\",\n        },\n{\n            'v': 8590549321,\n            'f': \"8590549321\",\n        }],\n [{\n            'v': 120466,\n            'f': \"120466\",\n        },\n{\n            'v': 270887,\n            'f': \"270887\",\n        },\n{\n            'v': 3.0,\n            'f': \"3.0\",\n        },\n{\n            'v': 2016,\n            'f': \"2016\",\n        },\n{\n            'v': 8590549320,\n            'f': \"8590549320\",\n        }],\n [{\n            'v': 117928,\n            'f': \"117928\",\n        },\n{\n            'v': 270887,\n            'f': \"270887\",\n        },\n{\n            'v': 3.0,\n            'f': \"3.0\",\n        },\n{\n            'v': 2017,\n            'f': \"2017\",\n        },\n{\n            'v': 8590549319,\n            'f': \"8590549319\",\n        }],\n [{\n            'v': 116781,\n            'f': \"116781\",\n        },\n{\n            'v': 270887,\n            'f': \"270887\",\n        },\n{\n            'v': 5.0,\n            'f': \"5.0\",\n        },\n{\n            'v': 2016,\n            'f': \"2016\",\n        },\n{\n            'v': 8590549318,\n            'f': \"8590549318\",\n        }],\n [{\n            'v': 115534,\n            'f': \"115534\",\n        },\n{\n            'v': 270887,\n            'f': \"270887\",\n        },\n{\n            'v': 5.0,\n            'f': \"5.0\",\n        },\n{\n            'v': 2016,\n            'f': \"2016\",\n        },\n{\n            'v': 8590549317,\n            'f': \"8590549317\",\n        }],\n [{\n            'v': 115170,\n            'f': \"115170\",\n        },\n{\n            'v': 270887,\n            'f': \"270887\",\n        },\n{\n            'v': 5.0,\n            'f': \"5.0\",\n        },\n{\n            'v': 2016,\n            'f': \"2016\",\n        },\n{\n            'v': 8590549316,\n            'f': \"8590549316\",\n        }],\n [{\n            'v': 115147,\n            'f': \"115147\",\n        },\n{\n            'v': 270887,\n            'f': \"270887\",\n        },\n{\n            'v': 5.0,\n            'f': \"5.0\",\n        },\n{\n            'v': 2016,\n            'f': \"2016\",\n        },\n{\n            'v': 8590549315,\n            'f': \"8590549315\",\n        }],\n [{\n            'v': 114265,\n            'f': \"114265\",\n        },\n{\n            'v': 270887,\n            'f': \"270887\",\n        },\n{\n            'v': 4.0,\n            'f': \"4.0\",\n        },\n{\n            'v': 2016,\n            'f': \"2016\",\n        },\n{\n            'v': 8590549314,\n            'f': \"8590549314\",\n        }],\n [{\n            'v': 113234,\n            'f': \"113234\",\n        },\n{\n            'v': 270887,\n            'f': \"270887\",\n        },\n{\n            'v': 3.0,\n            'f': \"3.0\",\n        },\n{\n            'v': 2016,\n            'f': \"2016\",\n        },\n{\n            'v': 8590549313,\n            'f': \"8590549313\",\n        }],\n [{\n            'v': 112911,\n            'f': \"112911\",\n        },\n{\n            'v': 270887,\n            'f': \"270887\",\n        },\n{\n            'v': 5.0,\n            'f': \"5.0\",\n        },\n{\n            'v': 2016,\n            'f': \"2016\",\n        },\n{\n            'v': 8590549312,\n            'f': \"8590549312\",\n        }],\n [{\n            'v': 112852,\n            'f': \"112852\",\n        },\n{\n            'v': 270887,\n            'f': \"270887\",\n        },\n{\n            'v': 3.0,\n            'f': \"3.0\",\n        },\n{\n            'v': 2016,\n            'f': \"2016\",\n        },\n{\n            'v': 8590549311,\n            'f': \"8590549311\",\n        }],\n [{\n            'v': 112316,\n            'f': \"112316\",\n        },\n{\n            'v': 270887,\n            'f': \"270887\",\n        },\n{\n            'v': 5.0,\n            'f': \"5.0\",\n        },\n{\n            'v': 2016,\n            'f': \"2016\",\n        },\n{\n            'v': 8590549310,\n            'f': \"8590549310\",\n        }],\n [{\n            'v': 111364,\n            'f': \"111364\",\n        },\n{\n            'v': 270887,\n            'f': \"270887\",\n        },\n{\n            'v': 2.0,\n            'f': \"2.0\",\n        },\n{\n            'v': 2016,\n            'f': \"2016\",\n        },\n{\n            'v': 8590549309,\n            'f': \"8590549309\",\n        }],\n [{\n            'v': 110453,\n            'f': \"110453\",\n        },\n{\n            'v': 270887,\n            'f': \"270887\",\n        },\n{\n            'v': 1.0,\n            'f': \"1.0\",\n        },\n{\n            'v': 2016,\n            'f': \"2016\",\n        },\n{\n            'v': 8590549308,\n            'f': \"8590549308\",\n        }],\n [{\n            'v': 110352,\n            'f': \"110352\",\n        },\n{\n            'v': 270887,\n            'f': \"270887\",\n        },\n{\n            'v': 4.0,\n            'f': \"4.0\",\n        },\n{\n            'v': 2016,\n            'f': \"2016\",\n        },\n{\n            'v': 8590549307,\n            'f': \"8590549307\",\n        }],\n [{\n            'v': 108928,\n            'f': \"108928\",\n        },\n{\n            'v': 270887,\n            'f': \"270887\",\n        },\n{\n            'v': 5.0,\n            'f': \"5.0\",\n        },\n{\n            'v': 2016,\n            'f': \"2016\",\n        },\n{\n            'v': 8590549306,\n            'f': \"8590549306\",\n        }],\n [{\n            'v': 107028,\n            'f': \"107028\",\n        },\n{\n            'v': 270887,\n            'f': \"270887\",\n        },\n{\n            'v': 5.0,\n            'f': \"5.0\",\n        },\n{\n            'v': 2016,\n            'f': \"2016\",\n        },\n{\n            'v': 8590549305,\n            'f': \"8590549305\",\n        }],\n [{\n            'v': 104337,\n            'f': \"104337\",\n        },\n{\n            'v': 270887,\n            'f': \"270887\",\n        },\n{\n            'v': 5.0,\n            'f': \"5.0\",\n        },\n{\n            'v': 2016,\n            'f': \"2016\",\n        },\n{\n            'v': 8590549304,\n            'f': \"8590549304\",\n        }],\n [{\n            'v': 104243,\n            'f': \"104243\",\n        },\n{\n            'v': 270887,\n            'f': \"270887\",\n        },\n{\n            'v': 5.0,\n            'f': \"5.0\",\n        },\n{\n            'v': 2016,\n            'f': \"2016\",\n        },\n{\n            'v': 8590549303,\n            'f': \"8590549303\",\n        }],\n [{\n            'v': 101076,\n            'f': \"101076\",\n        },\n{\n            'v': 270887,\n            'f': \"270887\",\n        },\n{\n            'v': 3.0,\n            'f': \"3.0\",\n        },\n{\n            'v': 2016,\n            'f': \"2016\",\n        },\n{\n            'v': 8590549302,\n            'f': \"8590549302\",\n        }],\n [{\n            'v': 100173,\n            'f': \"100173\",\n        },\n{\n            'v': 270887,\n            'f': \"270887\",\n        },\n{\n            'v': 3.5,\n            'f': \"3.5\",\n        },\n{\n            'v': 2016,\n            'f': \"2016\",\n        },\n{\n            'v': 8590549301,\n            'f': \"8590549301\",\n        }],\n [{\n            'v': 99813,\n            'f': \"99813\",\n        },\n{\n            'v': 270887,\n            'f': \"270887\",\n        },\n{\n            'v': 3.0,\n            'f': \"3.0\",\n        },\n{\n            'v': 2016,\n            'f': \"2016\",\n        },\n{\n            'v': 8590549300,\n            'f': \"8590549300\",\n        }],\n [{\n            'v': 97172,\n            'f': \"97172\",\n        },\n{\n            'v': 270887,\n            'f': \"270887\",\n        },\n{\n            'v': 1.0,\n            'f': \"1.0\",\n        },\n{\n            'v': 2017,\n            'f': \"2017\",\n        },\n{\n            'v': 8590549299,\n            'f': \"8590549299\",\n        }],\n [{\n            'v': 95875,\n            'f': \"95875\",\n        },\n{\n            'v': 270887,\n            'f': \"270887\",\n        },\n{\n            'v': 5.0,\n            'f': \"5.0\",\n        },\n{\n            'v': 2016,\n            'f': \"2016\",\n        },\n{\n            'v': 8590549298,\n            'f': \"8590549298\",\n        }],\n [{\n            'v': 95105,\n            'f': \"95105\",\n        },\n{\n            'v': 270887,\n            'f': \"270887\",\n        },\n{\n            'v': 1.0,\n            'f': \"1.0\",\n        },\n{\n            'v': 2016,\n            'f': \"2016\",\n        },\n{\n            'v': 8590549297,\n            'f': \"8590549297\",\n        }],\n [{\n            'v': 94777,\n            'f': \"94777\",\n        },\n{\n            'v': 270887,\n            'f': \"270887\",\n        },\n{\n            'v': 4.0,\n            'f': \"4.0\",\n        },\n{\n            'v': 2016,\n            'f': \"2016\",\n        },\n{\n            'v': 8590549296,\n            'f': \"8590549296\",\n        }],\n [{\n            'v': 93831,\n            'f': \"93831\",\n        },\n{\n            'v': 270887,\n            'f': \"270887\",\n        },\n{\n            'v': 4.0,\n            'f': \"4.0\",\n        },\n{\n            'v': 2016,\n            'f': \"2016\",\n        },\n{\n            'v': 8590549295,\n            'f': \"8590549295\",\n        }],\n [{\n            'v': 91529,\n            'f': \"91529\",\n        },\n{\n            'v': 270887,\n            'f': \"270887\",\n        },\n{\n            'v': 2.0,\n            'f': \"2.0\",\n        },\n{\n            'v': 2016,\n            'f': \"2016\",\n        },\n{\n            'v': 8590549294,\n            'f': \"8590549294\",\n        }],\n [{\n            'v': 90439,\n            'f': \"90439\",\n        },\n{\n            'v': 270887,\n            'f': \"270887\",\n        },\n{\n            'v': 3.0,\n            'f': \"3.0\",\n        },\n{\n            'v': 2016,\n            'f': \"2016\",\n        },\n{\n            'v': 8590549293,\n            'f': \"8590549293\",\n        }],\n [{\n            'v': 89840,\n            'f': \"89840\",\n        },\n{\n            'v': 270887,\n            'f': \"270887\",\n        },\n{\n            'v': 5.0,\n            'f': \"5.0\",\n        },\n{\n            'v': 2016,\n            'f': \"2016\",\n        },\n{\n            'v': 8590549292,\n            'f': \"8590549292\",\n        }],\n [{\n            'v': 85020,\n            'f': \"85020\",\n        },\n{\n            'v': 270887,\n            'f': \"270887\",\n        },\n{\n            'v': 5.0,\n            'f': \"5.0\",\n        },\n{\n            'v': 2016,\n            'f': \"2016\",\n        },\n{\n            'v': 8590549291,\n            'f': \"8590549291\",\n        }],\n [{\n            'v': 84772,\n            'f': \"84772\",\n        },\n{\n            'v': 270887,\n            'f': \"270887\",\n        },\n{\n            'v': 5.0,\n            'f': \"5.0\",\n        },\n{\n            'v': 2016,\n            'f': \"2016\",\n        },\n{\n            'v': 8590549290,\n            'f': \"8590549290\",\n        }],\n [{\n            'v': 82744,\n            'f': \"82744\",\n        },\n{\n            'v': 270887,\n            'f': \"270887\",\n        },\n{\n            'v': 5.0,\n            'f': \"5.0\",\n        },\n{\n            'v': 2016,\n            'f': \"2016\",\n        },\n{\n            'v': 8590549289,\n            'f': \"8590549289\",\n        }],\n [{\n            'v': 79590,\n            'f': \"79590\",\n        },\n{\n            'v': 270887,\n            'f': \"270887\",\n        },\n{\n            'v': 5.0,\n            'f': \"5.0\",\n        },\n{\n            'v': 2016,\n            'f': \"2016\",\n        },\n{\n            'v': 8590549288,\n            'f': \"8590549288\",\n        }],\n [{\n            'v': 76293,\n            'f': \"76293\",\n        },\n{\n            'v': 270887,\n            'f': \"270887\",\n        },\n{\n            'v': 5.0,\n            'f': \"5.0\",\n        },\n{\n            'v': 2016,\n            'f': \"2016\",\n        },\n{\n            'v': 8590549287,\n            'f': \"8590549287\",\n        }],\n [{\n            'v': 74510,\n            'f': \"74510\",\n        },\n{\n            'v': 270887,\n            'f': \"270887\",\n        },\n{\n            'v': 3.0,\n            'f': \"3.0\",\n        },\n{\n            'v': 2016,\n            'f': \"2016\",\n        },\n{\n            'v': 8590549286,\n            'f': \"8590549286\",\n        }],\n [{\n            'v': 73266,\n            'f': \"73266\",\n        },\n{\n            'v': 270887,\n            'f': \"270887\",\n        },\n{\n            'v': 0.5,\n            'f': \"0.5\",\n        },\n{\n            'v': 2017,\n            'f': \"2017\",\n        },\n{\n            'v': 8590549285,\n            'f': \"8590549285\",\n        }],\n [{\n            'v': 72722,\n            'f': \"72722\",\n        },\n{\n            'v': 270887,\n            'f': \"270887\",\n        },\n{\n            'v': 4.0,\n            'f': \"4.0\",\n        },\n{\n            'v': 2016,\n            'f': \"2016\",\n        },\n{\n            'v': 8590549284,\n            'f': \"8590549284\",\n        }],\n [{\n            'v': 72483,\n            'f': \"72483\",\n        },\n{\n            'v': 270887,\n            'f': \"270887\",\n        },\n{\n            'v': 4.0,\n            'f': \"4.0\",\n        },\n{\n            'v': 2016,\n            'f': \"2016\",\n        },\n{\n            'v': 8590549283,\n            'f': \"8590549283\",\n        }]],\n        columns: [[\"number\", \"nF\"], [\"number\", \"nU\"], [\"number\", \"note\"], [\"number\", \"annee\"], [\"number\", \"numeroNote\"]],\n        columnOptions: [],\n        rowsPerPage: 10,\n        helpUrl: \"https://colab.research.google.com/notebooks/data_table.ipynb\",\n        suppressOutputScrolling: true,\n        minimumWidth: undefined,\n      });\n    ",
            "text/plain": [
              "<google.colab.data_table.DataTable object>"
            ],
            "text/html": [
              "<div>\n",
              "<style scoped>\n",
              "    .dataframe tbody tr th:only-of-type {\n",
              "        vertical-align: middle;\n",
              "    }\n",
              "\n",
              "    .dataframe tbody tr th {\n",
              "        vertical-align: top;\n",
              "    }\n",
              "\n",
              "    .dataframe thead th {\n",
              "        text-align: right;\n",
              "    }\n",
              "</style>\n",
              "<table border=\"1\" class=\"dataframe\">\n",
              "  <thead>\n",
              "    <tr style=\"text-align: right;\">\n",
              "      <th></th>\n",
              "      <th>nF</th>\n",
              "      <th>nU</th>\n",
              "      <th>note</th>\n",
              "      <th>annee</th>\n",
              "      <th>numeroNote</th>\n",
              "    </tr>\n",
              "  </thead>\n",
              "  <tbody>\n",
              "    <tr>\n",
              "      <th>0</th>\n",
              "      <td>63082</td>\n",
              "      <td>270896</td>\n",
              "      <td>4.5</td>\n",
              "      <td>2009</td>\n",
              "      <td>8590549382</td>\n",
              "    </tr>\n",
              "    <tr>\n",
              "      <th>1</th>\n",
              "      <td>60069</td>\n",
              "      <td>270896</td>\n",
              "      <td>5.0</td>\n",
              "      <td>2009</td>\n",
              "      <td>8590549381</td>\n",
              "    </tr>\n",
              "    <tr>\n",
              "      <th>2</th>\n",
              "      <td>54001</td>\n",
              "      <td>270896</td>\n",
              "      <td>4.0</td>\n",
              "      <td>2009</td>\n",
              "      <td>8590549380</td>\n",
              "    </tr>\n",
              "    <tr>\n",
              "      <th>3</th>\n",
              "      <td>51662</td>\n",
              "      <td>270896</td>\n",
              "      <td>4.5</td>\n",
              "      <td>2009</td>\n",
              "      <td>8590549379</td>\n",
              "    </tr>\n",
              "    <tr>\n",
              "      <th>4</th>\n",
              "      <td>48516</td>\n",
              "      <td>270896</td>\n",
              "      <td>4.5</td>\n",
              "      <td>2009</td>\n",
              "      <td>8590549378</td>\n",
              "    </tr>\n",
              "    <tr>\n",
              "      <th>...</th>\n",
              "      <td>...</td>\n",
              "      <td>...</td>\n",
              "      <td>...</td>\n",
              "      <td>...</td>\n",
              "      <td>...</td>\n",
              "    </tr>\n",
              "    <tr>\n",
              "      <th>95</th>\n",
              "      <td>76293</td>\n",
              "      <td>270887</td>\n",
              "      <td>5.0</td>\n",
              "      <td>2016</td>\n",
              "      <td>8590549287</td>\n",
              "    </tr>\n",
              "    <tr>\n",
              "      <th>96</th>\n",
              "      <td>74510</td>\n",
              "      <td>270887</td>\n",
              "      <td>3.0</td>\n",
              "      <td>2016</td>\n",
              "      <td>8590549286</td>\n",
              "    </tr>\n",
              "    <tr>\n",
              "      <th>97</th>\n",
              "      <td>73266</td>\n",
              "      <td>270887</td>\n",
              "      <td>0.5</td>\n",
              "      <td>2017</td>\n",
              "      <td>8590549285</td>\n",
              "    </tr>\n",
              "    <tr>\n",
              "      <th>98</th>\n",
              "      <td>72722</td>\n",
              "      <td>270887</td>\n",
              "      <td>4.0</td>\n",
              "      <td>2016</td>\n",
              "      <td>8590549284</td>\n",
              "    </tr>\n",
              "    <tr>\n",
              "      <th>99</th>\n",
              "      <td>72483</td>\n",
              "      <td>270887</td>\n",
              "      <td>4.0</td>\n",
              "      <td>2016</td>\n",
              "      <td>8590549283</td>\n",
              "    </tr>\n",
              "  </tbody>\n",
              "</table>\n",
              "<p>100 rows × 5 columns</p>\n",
              "</div>"
            ]
          },
          "metadata": {},
          "execution_count": 55
        }
      ]
    },
    {
      "cell_type": "code",
      "metadata": {
        "application/vnd.databricks.v1+cell": {
          "title": "",
          "showTitle": false,
          "inputWidgets": {},
          "nuid": "69f3624f-41c4-4f61-8917-d9c0138b45eb"
        },
        "id": "-EMPN2irG2AW",
        "colab": {
          "base_uri": "https://localhost:8080/"
        },
        "outputId": "1c2affa8-9d90-43e0-86de-7ec0c7290a75"
      },
      "source": [
        "notesNumerotees1.explain()"
      ],
      "execution_count": null,
      "outputs": [
        {
          "output_type": "stream",
          "name": "stdout",
          "text": [
            "== Physical Plan ==\n",
            "*(1) Project [nF#29L, nU#30L, note#31, annee#27L, monotonically_increasing_id() AS numeroNote#2786L]\n",
            "+- *(1) ColumnarToRow\n",
            "   +- InMemoryTableScan [nF#29L, nU#30L, note#31, annee#27L]\n",
            "         +- InMemoryRelation [nF#29L, nU#30L, note#31, annee#27L], StorageLevel(disk, memory, deserialized, 1 replicas)\n",
            "               +- *(1) Project [nF#29L, nU#30L, note#31, annee#27L]\n",
            "                  +- FileScan json [annee#27L,nF#29L,nU#30L,note#31] Batched: false, DataFilters: [], Format: JSON, Location: InMemoryFileIndex(1 paths)[file:/temp/notes1M.json], PartitionFilters: [], PushedFilters: [], ReadSchema: struct<annee:bigint,nF:bigint,nU:bigint,note:double>\n",
            "\n",
            "\n"
          ]
        }
      ]
    },
    {
      "cell_type": "markdown",
      "metadata": {
        "application/vnd.databricks.v1+cell": {
          "title": "",
          "showTitle": false,
          "inputWidgets": {},
          "nuid": "2826bb23-bcd7-401e-a38c-f2e19fa4346e"
        },
        "id": "3FsSopFGG2AW"
      },
      "source": [
        "Adapter le showPartitionsSize en getPartitionsSize pour recupérer dans le notebook le nbre d'éléments des partitions\n",
        "\n",
        "Définir une fonction *numeroter(partId, iterateur)* pour numéroter chaque partition à partir de la \"bonne\" valeur de départ.\n",
        "\n",
        "Invoquer cette fonction *numeroter* dans mapPartitionsWithIndex"
      ]
    },
    {
      "cell_type": "markdown",
      "source": [
        "# (facultatif) Exercice 4 : Similarité cosinus"
      ],
      "metadata": {
        "id": "2STl2jP_dFnq"
      }
    },
    {
      "cell_type": "markdown",
      "source": [
        "## Question 1\n",
        "Proposer une solution parallèle et distribuée pour calculer le cosinus entre toute les paires d'utilisateurs. Pour chaque utilisateur on connait l'ensemble des couples (nF,note) pour les films qu'il a notés.\n",
        "\n",
        "## Question 2\n",
        "Proposer une implémentation avec les méthodes mapPartitionWithIndex et repartition."
      ],
      "metadata": {
        "id": "QijGSZOldKJC"
      }
    },
    {
      "cell_type": "markdown",
      "metadata": {
        "application/vnd.databricks.v1+cell": {
          "title": "",
          "showTitle": false,
          "inputWidgets": {},
          "nuid": "f509c506-8f3f-4c71-89b6-4192586dde62"
        },
        "id": "v2IJ6tpxG2AW"
      },
      "source": [
        "# (facultatif) Exercice 5  Similarité Jaccard\n",
        "Définir un dataframe Similarité(u1, u2, sim) contenant la similarité entre chaque paire d'utilisateur.\n",
        "\n",
        "similarité dans ]0, 1] en fonction (des notes et) des films...\n",
        "jaccard entre les listes de films de 2 utilisateurs\n",
        "https://fr.wikipedia.org/wiki/Indice_et_distance_de_Jaccard\n",
        "\n",
        "jaccard(liste1, liste2) = nombre de films en communs dans liste1 et liste2 / nombre de films distincts dans l'union des 2 listes\n",
        "\n",
        "$$jaccard(liste1, liste2) = \\frac{|liste1 \\cap liste2| } {|liste1 \\cup lite2| }$$\n",
        "\n",
        "jaccard([1,3,4], [3,4,5,8]) = 2 / 5 \n",
        "\n",
        "\n",
        "FilmsUtil(nU, listeFilms)   avec listeFilms etant un attribut list   (collect_list)\n",
        "\n",
        "FilmsUtil2(nu2, listeFilms2) : idem mais en renommant les attributs\n",
        "\n",
        "PairesUtilisateurs(nU, listeFilms, nu2, listeFilms2) : avec un produit cartesien  (crossJoin)"
      ]
    }
  ]
}