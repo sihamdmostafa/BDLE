{
  "nbformat": 4,
  "nbformat_minor": 0,
  "metadata": {
    "application/vnd.databricks.v1+notebook": {
      "notebookName": "Spark-RDD-2021_solutions",
      "dashboards": [],
      "notebookMetadata": {
        "pythonIndentUnit": 2
      },
      "language": "python",
      "widgets": {},
      "notebookOrigID": 2832703719774903
    },
    "colab": {
      "name": "Copie de DecisionTreesSparkML.ipynb",
      "provenance": [],
      "collapsed_sections": []
    },
    "language_info": {
      "name": "python"
    },
    "kernelspec": {
      "name": "python3",
      "display_name": "Python 3"
    }
  },
  "cells": [
    {
      "cell_type": "markdown",
      "metadata": {
        "application/vnd.databricks.v1+cell": {
          "title": "",
          "showTitle": false,
          "inputWidgets": {},
          "nuid": "59ad38d8-fb28-470f-a038-842f83d07a09"
        },
        "id": "kCaImCHx_2a_"
      },
      "source": [
        "* Master DAC, BDLE, 2021 \n",
        "* Author: Mohamed-Amine Baazizi\n",
        "* Affiliation: LIP6 - Faculté des Sciences - Sorbonne Université\n",
        "* Email: mohamed-amine.baazizi@lip6.fr\n"
      ]
    },
    {
      "cell_type": "markdown",
      "metadata": {
        "id": "JrMrf4zXLXRY"
      },
      "source": [
        "Binome : Sihamdi Mostefa,Bousba Abdellah"
      ]
    },
    {
      "cell_type": "markdown",
      "metadata": {
        "id": "XzEVmTXWQq-n"
      },
      "source": [
        "# Decision Tree in Spark ML"
      ]
    },
    {
      "cell_type": "markdown",
      "metadata": {
        "application/vnd.databricks.v1+cell": {
          "title": "",
          "showTitle": false,
          "inputWidgets": {},
          "nuid": "b15737ae-19bd-4b9f-b9f3-52388cc5e50e"
        },
        "id": "levNDESpS1hT"
      },
      "source": [
        "\n",
        "\n",
        "```\n",
        "# This is formatted as code\n",
        "```\n",
        "\n",
        "## Préparation"
      ]
    },
    {
      "cell_type": "markdown",
      "metadata": {
        "application/vnd.databricks.v1+cell": {
          "title": "",
          "showTitle": false,
          "inputWidgets": {},
          "nuid": "b6afe82e-35d6-4358-9b79-8f56074e0908"
        },
        "id": "4pZBsez9S1hT"
      },
      "source": [
        "Vérifier que des ressources de calcul sont allouées à votre notebook est connecté (cf RAM  de disque indiqués en haut à droite) . Sinon cliquer sur le bouton connecter pour obtenir des ressources.\n",
        "\n",
        "\n"
      ]
    },
    {
      "cell_type": "markdown",
      "metadata": {
        "id": "CEjerqQ6Ink6"
      },
      "source": [
        "Pour accéder directement aux fichiers stockées sur votre google drive. Renseigner le code d'authentification lorsqu'il est demandé\n",
        "\n",
        "Ajuster le nom de votre dossier : MyDrive/ens/bdle/dir. **Remplacer dir **"
      ]
    },
    {
      "cell_type": "code",
      "metadata": {
        "id": "g7Dv93rsImuM",
        "colab": {
          "base_uri": "https://localhost:8080/"
        },
        "outputId": "c096e96a-5081-4481-b72e-f84f2430872f"
      },
      "source": [
        "import os\n",
        "from google.colab import drive\n",
        "drive.mount(\"/content/drive\", force_remount=True)\n",
        "\n",
        "drive_dir = \"/content/drive/MyDrive/ens/bdle/dir\"\n",
        "os.makedirs(drive_dir, exist_ok=True)\n",
        "os.listdir(drive_dir)"
      ],
      "execution_count": null,
      "outputs": [
        {
          "output_type": "stream",
          "name": "stdout",
          "text": [
            "Mounted at /content/drive\n"
          ]
        },
        {
          "output_type": "execute_result",
          "data": {
            "text/plain": [
              "[]"
            ]
          },
          "metadata": {},
          "execution_count": 1
        }
      ]
    },
    {
      "cell_type": "markdown",
      "metadata": {
        "id": "7v9EXMl8aPZC"
      },
      "source": [
        "Installer pyspark et findspark :\n"
      ]
    },
    {
      "cell_type": "code",
      "metadata": {
        "id": "3zlwNHy1S8C2",
        "colab": {
          "base_uri": "https://localhost:8080/"
        },
        "outputId": "0af66b70-a846-4452-e856-ceb500884ded"
      },
      "source": [
        "!pip install -q pyspark\n",
        "!pip install -q findspark"
      ],
      "execution_count": null,
      "outputs": [
        {
          "output_type": "stream",
          "name": "stdout",
          "text": [
            "\u001b[K     |████████████████████████████████| 281.3 MB 38 kB/s \n",
            "\u001b[K     |████████████████████████████████| 198 kB 35.0 MB/s \n",
            "\u001b[?25h  Building wheel for pyspark (setup.py) ... \u001b[?25l\u001b[?25hdone\n"
          ]
        }
      ]
    },
    {
      "cell_type": "markdown",
      "metadata": {
        "id": "PnEmOd_zOUo0"
      },
      "source": [
        "Démarrer la session spark"
      ]
    },
    {
      "cell_type": "code",
      "metadata": {
        "id": "W0ADH0J-VW7i"
      },
      "source": [
        "import os\n",
        "# !find /usr/local -name \"pyspark\"\n",
        "os.environ[\"SPARK_HOME\"] = \"/usr/local/lib/python3.7/dist-packages/pyspark\"\n",
        "os.environ[\"JAVA_HOME\"] = \"/usr\""
      ],
      "execution_count": null,
      "outputs": []
    },
    {
      "cell_type": "code",
      "metadata": {
        "id": "Q_WxQZB7TaUC",
        "colab": {
          "base_uri": "https://localhost:8080/"
        },
        "outputId": "fc2a8532-eee2-4da6-8a21-07c73f211a26"
      },
      "source": [
        "# Principaux import\n",
        "import findspark\n",
        "from pyspark.sql import SparkSession \n",
        "from pyspark import SparkConf  \n",
        "\n",
        "# pour les dataframe et udf\n",
        "from pyspark.sql import *  \n",
        "from pyspark.sql.functions import *\n",
        "from pyspark.sql.types import *\n",
        "from datetime import *\n",
        "\n",
        "# pour le chronomètre\n",
        "import time\n",
        "\n",
        "# initialise les variables d'environnement pour spark\n",
        "findspark.init()\n",
        "\n",
        "# Démarrage session spark \n",
        "# --------------------------\n",
        "def demarrer_spark():\n",
        "  local = \"local[*]\"\n",
        "  appName = \"TP\"\n",
        "  configLocale = SparkConf().setAppName(appName).setMaster(local).\\\n",
        "  set(\"spark.executor.memory\", \"6G\").\\\n",
        "  set(\"spark.driver.memory\",\"6G\").\\\n",
        "  set(\"spark.sql.catalogImplementation\",\"in-memory\")\n",
        "  \n",
        "  spark = SparkSession.builder.config(conf = configLocale).getOrCreate()\n",
        "  sc = spark.sparkContext\n",
        "  sc.setLogLevel(\"ERROR\")\n",
        "  \n",
        "  spark.conf.set(\"spark.sql.autoBroadcastJoinThreshold\",\"-1\")\n",
        "\n",
        "  # On ajuste l'environnement d'exécution des requêtes à la taille du cluster (4 coeurs)\n",
        "  spark.conf.set(\"spark.sql.shuffle.partitions\",\"4\")    \n",
        "  print(\"session démarrée, son id est \", sc.applicationId)\n",
        "  return spark\n",
        "spark = demarrer_spark()"
      ],
      "execution_count": null,
      "outputs": [
        {
          "output_type": "stream",
          "name": "stdout",
          "text": [
            "session démarrée, son id est  local-1636466904345\n"
          ]
        }
      ]
    },
    {
      "cell_type": "code",
      "metadata": {
        "application/vnd.databricks.v1+cell": {
          "title": "",
          "showTitle": false,
          "inputWidgets": {},
          "nuid": "852847c4-bd45-4f9c-ae8b-2c704f389cf9"
        },
        "id": "fj9pUgrmGpLe",
        "colab": {
          "base_uri": "https://localhost:8080/"
        },
        "outputId": "f4c7136e-9589-4a64-dc73-b9e21601e893"
      },
      "source": [
        "# on utilise 8 partitions au lieu de 200 par défaut\n",
        "spark.conf.set(\"spark.sql.shuffle.partitions\", \"8\")\n",
        "print(\"Nombre de partitions utilisées : \", spark.conf.get(\"spark.sql.shuffle.partitions\"))"
      ],
      "execution_count": null,
      "outputs": [
        {
          "output_type": "stream",
          "name": "stdout",
          "text": [
            "Nombre de partitions utilisées :  8\n"
          ]
        }
      ]
    },
    {
      "cell_type": "markdown",
      "metadata": {
        "application/vnd.databricks.v1+cell": {
          "title": "",
          "showTitle": false,
          "inputWidgets": {},
          "nuid": "41dd8b8e-d697-4efb-a1d2-cd34a08b3e7e"
        },
        "id": "NtjUaom1_2bC"
      },
      "source": [
        "## Data loading"
      ]
    },
    {
      "cell_type": "code",
      "metadata": {
        "id": "FlMUUoCNQ1fI"
      },
      "source": [
        "data = [[\"young\",\"high\",\"no\",\"fair\",\"no\"],\n",
        "        [\"young\",\"high\",\"no\",\"excellent\",\"no\"],\n",
        "        [\"middle\",\"high\",\"no\",\"fair\",\"yes\"],\n",
        "        [\"senior\",\"medium\",\"no\",\"fair\",\"yes\"],\n",
        "        [\"senior\",\"low\",\"yes\",\"fair\",\"yes\"],\n",
        "        [\"senior\",\"low\",\"yes\",\"excellent\",\"no\"],\n",
        "        [\"middle\",\"low\",\"yes\",\"excellent\",\"yes\"],\n",
        "        [\"young\",\"medium\",\"no\",\"fair\",\"no\"],\n",
        "        [\"young\",\"low\",\"yes\",\"fair\",\"yes\"],\n",
        "        [\"senior\",\"medium\",\"yes\",\"fair\",\"yes\"],\n",
        "        [\"young\",\"medium\",\"yes\",\"excellent\",\"yes\"],\n",
        "        [\"middle\",\"medium\",\"no\",\"excellent\",\"yes\"],\n",
        "        [\"middle\",\"high\",\"yes\",\"fair\",\"yes\"],\n",
        "        [\"senior\",\"medium\",\"no\",\"excellent\",\"no\"]]\n",
        "    "
      ],
      "execution_count": null,
      "outputs": []
    },
    {
      "cell_type": "code",
      "metadata": {
        "id": "MQa_aBglRt9A"
      },
      "source": [
        "df = spark.createDataFrame(spark.sparkContext.parallelize(data),'age String, income String, student String, rating String, label String')"
      ],
      "execution_count": null,
      "outputs": []
    },
    {
      "cell_type": "code",
      "metadata": {
        "id": "X4hUDOw_VFmN",
        "colab": {
          "base_uri": "https://localhost:8080/"
        },
        "outputId": "da79411d-3c86-46cb-b0bf-8928f4600e73"
      },
      "source": [
        "df.printSchema()\n",
        "df.show()"
      ],
      "execution_count": null,
      "outputs": [
        {
          "output_type": "stream",
          "name": "stdout",
          "text": [
            "root\n",
            " |-- age: string (nullable = true)\n",
            " |-- income: string (nullable = true)\n",
            " |-- student: string (nullable = true)\n",
            " |-- rating: string (nullable = true)\n",
            " |-- label: string (nullable = true)\n",
            "\n",
            "+------+------+-------+---------+-----+\n",
            "|   age|income|student|   rating|label|\n",
            "+------+------+-------+---------+-----+\n",
            "| young|  high|     no|     fair|   no|\n",
            "| young|  high|     no|excellent|   no|\n",
            "|middle|  high|     no|     fair|  yes|\n",
            "|senior|medium|     no|     fair|  yes|\n",
            "|senior|   low|    yes|     fair|  yes|\n",
            "|senior|   low|    yes|excellent|   no|\n",
            "|middle|   low|    yes|excellent|  yes|\n",
            "| young|medium|     no|     fair|   no|\n",
            "| young|   low|    yes|     fair|  yes|\n",
            "|senior|medium|    yes|     fair|  yes|\n",
            "| young|medium|    yes|excellent|  yes|\n",
            "|middle|medium|     no|excellent|  yes|\n",
            "|middle|  high|    yes|     fair|  yes|\n",
            "|senior|medium|     no|excellent|   no|\n",
            "+------+------+-------+---------+-----+\n",
            "\n"
          ]
        }
      ]
    },
    {
      "cell_type": "code",
      "metadata": {
        "id": "25WBRBXuuT_G",
        "colab": {
          "base_uri": "https://localhost:8080/"
        },
        "outputId": "c6f555b4-a801-4ee3-d8af-2d348827fce8"
      },
      "source": [
        "from pyspark.ml import Pipeline\n",
        "from pyspark.ml.classification import DecisionTreeClassifier\n",
        "from pyspark.ml.feature import StringIndexer, VectorIndexer\n",
        "from pyspark.ml.evaluation import MulticlassClassificationEvaluator\n",
        "from pyspark.ml.feature import VectorAssembler\n",
        "\n",
        "\n",
        "\n",
        "from pyspark.ml.feature import OneHotEncoder, StringIndexer, VectorAssembler\n",
        "\n",
        "categoricalColumns = ['age', 'income', 'student', 'rating']\n",
        "stages = []\n",
        "\n",
        "for categoricalCol in categoricalColumns:\n",
        "    stringIndexer = StringIndexer(inputCol = categoricalCol, outputCol = categoricalCol + 'Index')\n",
        "    encoder = OneHotEncoder(inputCols=[stringIndexer.getOutputCol()], outputCols=[categoricalCol + \"classVec\"])\n",
        "    stages += [stringIndexer, encoder]\n",
        "\n",
        "label_stringIdx = StringIndexer(inputCol = 'label', outputCol = 'label_index')\n",
        "stages += [label_stringIdx]\n",
        "\n",
        "assemblerInputs = [c + \"classVec\" for c in categoricalColumns]\n",
        "assembler = VectorAssembler(inputCols=assemblerInputs, outputCol=\"features\")\n",
        "stages += [assembler]\n",
        "\n",
        "\n",
        "from pyspark.ml import Pipeline\n",
        "pipeline = Pipeline(stages = stages)\n",
        "pipelineModel = pipeline.fit(df)\n",
        "df = pipelineModel.transform(df)\n",
        "selectedCols = ['label_index', 'features']\n",
        "df = df.select(selectedCols)\n",
        "df.printSchema()"
      ],
      "execution_count": null,
      "outputs": [
        {
          "output_type": "stream",
          "name": "stdout",
          "text": [
            "root\n",
            " |-- label_index: double (nullable = false)\n",
            " |-- features: vector (nullable = true)\n",
            "\n"
          ]
        }
      ]
    },
    {
      "cell_type": "code",
      "metadata": {
        "colab": {
          "base_uri": "https://localhost:8080/"
        },
        "id": "RAihpid0Ehr2",
        "outputId": "3ccd5e56-2913-4554-a005-5d7b86fa25cb"
      },
      "source": [
        "train, test = df.randomSplit([0.7, 0.3], seed = 2018)\n",
        "print(\"Training Dataset Count: \" + str(train.count()))\n",
        "print(\"Test Dataset Count: \" + str(test.count()))"
      ],
      "execution_count": null,
      "outputs": [
        {
          "output_type": "stream",
          "name": "stdout",
          "text": [
            "Training Dataset Count: 11\n",
            "Test Dataset Count: 3\n"
          ]
        }
      ]
    },
    {
      "cell_type": "code",
      "metadata": {
        "id": "yGNueFrDWz3Z",
        "colab": {
          "base_uri": "https://localhost:8080/"
        },
        "outputId": "79982d66-5d50-4c8e-f794-7ff2ff1fcc8c"
      },
      "source": [
        "from pyspark.ml.classification import DecisionTreeClassifier\n",
        "\n",
        "dt = DecisionTreeClassifier(featuresCol = 'features', labelCol = 'label_index', maxDepth = 3)\n",
        "dtModel = dt.fit(train)\n",
        "predictions = dtModel.transform(test)\n",
        "predictions.select('label_index', 'rawPrediction', 'prediction', 'probability').show(10)"
      ],
      "execution_count": null,
      "outputs": [
        {
          "output_type": "stream",
          "name": "stdout",
          "text": [
            "+-----------+-------------+----------+-----------+\n",
            "|label_index|rawPrediction|prediction|probability|\n",
            "+-----------+-------------+----------+-----------+\n",
            "|        0.0|    [1.0,0.0]|       0.0|  [1.0,0.0]|\n",
            "|        0.0|    [1.0,0.0]|       0.0|  [1.0,0.0]|\n",
            "|        0.0|    [4.0,0.0]|       0.0|  [1.0,0.0]|\n",
            "+-----------+-------------+----------+-----------+\n",
            "\n"
          ]
        }
      ]
    },
    {
      "cell_type": "markdown",
      "metadata": {
        "application/vnd.databricks.v1+cell": {
          "title": "",
          "showTitle": false,
          "inputWidgets": {},
          "nuid": "9931a596-3ea9-4d1f-b408-b3558647f934"
        },
        "id": "R5ZJa3iU_2bh"
      },
      "source": [
        "# TEST sur les données de AIRBNB (Regréssion)"
      ]
    },
    {
      "cell_type": "markdown",
      "metadata": {
        "id": "b8uQh6gMlbcV"
      },
      "source": [
        "On a trouvé les données dans http://insideairbnb.com/get-the-data.html, la source des données est le site airbnb,Nous avons choisi le dataset de Paris qui represente les prix de loyer d'un appratement par nuit \n",
        "\n",
        "Le dataset contient 16 attributs dont la variable à prédire est le prix"
      ]
    },
    {
      "cell_type": "code",
      "metadata": {
        "colab": {
          "base_uri": "https://localhost:8080/"
        },
        "id": "XUqvcgiQYnjS",
        "outputId": "6b173f23-484a-4a58-8434-461dd36f3dae"
      },
      "source": [
        "from pyspark.sql import SparkSession\n",
        "spark = SparkSession.builder.appName('ml-rbnb').getOrCreate()\n",
        "df = spark.read.csv('listings.csv', header = True, inferSchema = True)\n",
        "df.printSchema()"
      ],
      "execution_count": null,
      "outputs": [
        {
          "output_type": "stream",
          "name": "stdout",
          "text": [
            "root\n",
            " |-- id: string (nullable = true)\n",
            " |-- name: string (nullable = true)\n",
            " |-- host_id: string (nullable = true)\n",
            " |-- host_name: string (nullable = true)\n",
            " |-- neighbourhood_group: string (nullable = true)\n",
            " |-- neighbourhood: string (nullable = true)\n",
            " |-- latitude: string (nullable = true)\n",
            " |-- longitude: string (nullable = true)\n",
            " |-- room_type: string (nullable = true)\n",
            " |-- price: string (nullable = true)\n",
            " |-- minimum_nights: string (nullable = true)\n",
            " |-- number_of_reviews: string (nullable = true)\n",
            " |-- last_review: string (nullable = true)\n",
            " |-- reviews_per_month: string (nullable = true)\n",
            " |-- calculated_host_listings_count: string (nullable = true)\n",
            " |-- availability_365: string (nullable = true)\n",
            " |-- number_of_reviews_ltm: string (nullable = true)\n",
            " |-- license: string (nullable = true)\n",
            "\n"
          ]
        }
      ]
    },
    {
      "cell_type": "markdown",
      "metadata": {
        "id": "IOFMclLIGUbU"
      },
      "source": [
        "Affichage de notre base de données"
      ]
    },
    {
      "cell_type": "code",
      "metadata": {
        "colab": {
          "base_uri": "https://localhost:8080/"
        },
        "id": "jAJnNe5EZWM1",
        "outputId": "a6f05822-eb41-4a2a-b529-0f02164da207"
      },
      "source": [
        "df.show()"
      ],
      "execution_count": null,
      "outputs": [
        {
          "output_type": "stream",
          "name": "stdout",
          "text": [
            "+-----+--------------------+---------+----------+-------------------+-------------------+---------+---------+---------------+-----+--------------+-----------------+-----------+-----------------+------------------------------+----------------+---------------------+--------------------+\n",
            "|   id|                name|  host_id| host_name|neighbourhood_group|      neighbourhood| latitude|longitude|      room_type|price|minimum_nights|number_of_reviews|last_review|reviews_per_month|calculated_host_listings_count|availability_365|number_of_reviews_ltm|             license|\n",
            "+-----+--------------------+---------+----------+-------------------+-------------------+---------+---------+---------------+-----+--------------+-----------------+-----------+-----------------+------------------------------+----------------+---------------------+--------------------+\n",
            "| 5396|Explore the heart...|     7903|    Borzou|               null|     Hôtel-de-Ville| 48.85247|  2.35835|Entire home/apt|  110|             2|              260| 2020-08-08|             2.68|                             1|              29|                   35|       7510402838018|\n",
            "| 7397|MARAIS - 2ROOMS A...|     2626|    Franck|               null|     Hôtel-de-Ville| 48.85909|  2.35315|Entire home/apt|  100|            10|              278| 2021-08-18|             2.26|                             1|             257|                    9|       7510400829623|\n",
            "| 7964|Large & sunny fla...|    22155|     Anaïs|               null|              Opéra| 48.87417|  2.34245|Entire home/apt|  130|             6|                6| 2015-09-14|             0.07|                             1|             348|                    0|       7510903576564|\n",
            "| 9359|Cozy, Central Par...|    28422|Bernadette|               null|             Louvre| 48.86006|  2.34863|Entire home/apt|   75|           180|                0|       null|             null|                             1|              28|                    0|\"Available with a...|\n",
            "| 9952|Paris petit coin ...|    33534| Elisabeth|               null|         Popincourt| 48.86373|  2.37093|Entire home/apt|   80|             4|               31| 2021-06-23|             0.50|                             1|             198|                    6|       7511101582862|\n",
            "|10586|Montmartre Studio...|    37107|   Michael|               null|  Buttes-Montmartre|   48.887|  2.34531|Entire home/apt|   80|            30|               48| 2019-09-18|             0.37|                             4|             254|                    1|\"Available with a...|\n",
            "|10588|Montmartre Studio...|    37107|   Michael|               null|  Buttes-Montmartre| 48.88725|  2.34518|Entire home/apt|   75|            30|               18| 2013-07-16|             0.18|                             4|             363|                    2|\"Available with a...|\n",
            "|10917|ELYSEES-PONCELET ...|    39402|  Isabelle|               null|Batignolles-Monceau|48.879074| 2.296904|Entire home/apt|  143|            30|               25| 2015-07-12|             0.19|                             1|              72|                    0|\"Available with a...|\n",
            "|11213|      DOWNTOWN PARIS|    41322|   Mathieu|               null|           Entrepôt| 48.87109|  2.37376|   Private room|  170|             1|              151| 2020-01-04|             2.10|                             2|             163|                    4|    7511111100537044|\n",
            "|11265|Elegant appartmen...|    41718|    Sylvie|               null|  Buttes-Montmartre| 48.88494|  2.33997|Entire home/apt|  100|             7|               16| 2019-07-17|             0.26|                             1|             253|                    0|       7511801401834|\n",
            "|11487|Heart of  Paris, ...|    42666|  Brigitte|               null|         Popincourt| 48.86441|  2.37139|Entire home/apt|   60|            30|                4| 2012-07-02|             0.79|                             1|             127|                    2|\"Available with a...|\n",
            "|11798|Loft very charmin...|    44444|  Laurence|               null|           Gobelins|  48.8246|   2.3667|Entire home/apt|  110|             2|               85| 2019-09-28|             0.78|                             1|             328|                    0|       7511300241931|\n",
            "|11848|Swishy Cosy Paris...|    44626|   Thierry|               null|         Popincourt| 48.86518|  2.37561|Entire home/apt|   74|            30|              336| 2019-11-05|             2.88|                             1|             226|                    2|       7511105259459|\n",
            "|12268|Faubourg Saint An...|    47196|   Charles|               null|         Popincourt| 48.85186|   2.3857|   Private room|   60|             6|                1| 2010-05-28|             0.01|                             1|               0|                    0|                null|\n",
            "|12452|Cozy apartment ne...|291007369|    Luckey|               null|         Popincourt| 48.86159|  2.37952|Entire home/apt|  139|             2|               24| 2020-02-06|             0.59|                           500|               0|                    2|       7511102600669|\n",
            "|14264|Charming sunny 2B...|    55995|      Lara|               null|  Buttes-Montmartre| 48.88259|  2.34251|Entire home/apt|   90|           365|               11| 2018-05-04|             0.23|                             1|             181|                    0|                null|\n",
            "|14757|Lovely Studio Mon...|    57954|   Nolwenn|               null|  Buttes-Montmartre| 48.89015|  2.34411|Entire home/apt|   75|             3|              200| 2019-01-16|             1.80|                             1|             253|                    0|       7511802269686|\n",
            "|16455|Spacious, Light-F...|    64054|     David|               null|           Gobelins| 48.83482|  2.36331|Entire home/apt|   70|             5|               31| 2020-03-07|             0.41|                             2|               4|                    1|       7511302792239|\n",
            "|16626| Luxury in St Michel|    64627|  Phoenice|               null|         Luxembourg|  48.8522|  2.34114|   Private room|  111|             3|               96| 2021-08-09|             0.68|                             2|             104|                   10|                null|\n",
            "|17287|Your Loft / One o...|    64055|     David|               null|    Buttes-Chaumont| 48.89566|  2.38307|Entire home/apt|   63|            10|               11| 2020-12-15|             0.13|                             1|             362|                    4|       7511902892340|\n",
            "+-----+--------------------+---------+----------+-------------------+-------------------+---------+---------+---------------+-----+--------------+-----------------+-----------+-----------------+------------------------------+----------------+---------------------+--------------------+\n",
            "only showing top 20 rows\n",
            "\n"
          ]
        }
      ]
    },
    {
      "cell_type": "markdown",
      "metadata": {
        "id": "PS_n6EtYZdLh"
      },
      "source": [
        "Nous remarquons que notre jeu de données est un peu bruité, nous allons essayer de faire un nettoyage de notre base de données, nous commençons par déterminer le type réel de tous les attributs de notre base de données."
      ]
    },
    {
      "cell_type": "code",
      "metadata": {
        "id": "iUEhUMtKfXPF"
      },
      "source": [
        "from pyspark.sql.types import * \n",
        "df = df.withColumn(\"id\",df[\"id\"].cast(IntegerType()))\\\n",
        ".withColumn(\"name\",df[\"name\"].cast(StringType()))\\\n",
        ".withColumn(\"host_id\",df[\"host_id\"].cast(IntegerType()))\\\n",
        ".withColumn(\"host_name\",df[\"host_name\"].cast(StringType()))\\\n",
        ".withColumn(\"neighbourhood_group\",df[\"neighbourhood_group\"].cast(StringType()))\\\n",
        ".withColumn(\"neighbourhood\",df[\"neighbourhood\"].cast(StringType()))\\\n",
        ".withColumn(\"latitude\",df[\"latitude\"].cast(DoubleType()))\\\n",
        ".withColumn(\"longitude\",df[\"longitude\"].cast(DoubleType()))\\\n",
        ".withColumn(\"room_type\",df[\"room_type\"].cast(StringType()))\\\n",
        ".withColumn(\"price\",df[\"price\"].cast(IntegerType()))\\\n",
        ".withColumn(\"minimum_nights\",df[\"minimum_nights\"].cast(IntegerType()))\\\n",
        ".withColumn(\"number_of_reviews\",df[\"number_of_reviews\"].cast(IntegerType()))\\\n",
        ".withColumn(\"last_review\",df[\"last_review\"].cast(StringType()))\\\n",
        ".withColumn(\"reviews_per_month\",df[\"reviews_per_month\"].cast(DoubleType()))\\\n",
        ".withColumn(\"calculated_host_listings_count\",df[\"calculated_host_listings_count\"].cast(IntegerType()))\\\n",
        ".withColumn(\"availability_365\",df[\"availability_365\"].cast(IntegerType()))\\\n",
        ".withColumn(\"number_of_reviews_ltm\",df[\"number_of_reviews_ltm\"].cast(IntegerType()))\\\n",
        ".withColumn(\"license\",df[\"license\"].cast(StringType()))\n"
      ],
      "execution_count": null,
      "outputs": []
    },
    {
      "cell_type": "code",
      "metadata": {
        "colab": {
          "base_uri": "https://localhost:8080/"
        },
        "id": "MWen6x6sg5bO",
        "outputId": "706fe1e4-1567-49d2-d3eb-fc99a51f8c5d"
      },
      "source": [
        "df.printSchema()\n",
        "df.show()"
      ],
      "execution_count": null,
      "outputs": [
        {
          "output_type": "stream",
          "name": "stdout",
          "text": [
            "root\n",
            " |-- id: integer (nullable = true)\n",
            " |-- name: string (nullable = true)\n",
            " |-- host_id: integer (nullable = true)\n",
            " |-- host_name: string (nullable = true)\n",
            " |-- neighbourhood_group: string (nullable = true)\n",
            " |-- neighbourhood: string (nullable = true)\n",
            " |-- latitude: double (nullable = true)\n",
            " |-- longitude: double (nullable = true)\n",
            " |-- room_type: string (nullable = true)\n",
            " |-- price: integer (nullable = true)\n",
            " |-- minimum_nights: integer (nullable = true)\n",
            " |-- number_of_reviews: integer (nullable = true)\n",
            " |-- last_review: string (nullable = true)\n",
            " |-- reviews_per_month: double (nullable = true)\n",
            " |-- calculated_host_listings_count: integer (nullable = true)\n",
            " |-- availability_365: integer (nullable = true)\n",
            " |-- number_of_reviews_ltm: integer (nullable = true)\n",
            " |-- license: string (nullable = true)\n",
            "\n",
            "+-----+--------------------+---------+----------+-------------------+-------------------+---------+---------+---------------+-----+--------------+-----------------+-----------+-----------------+------------------------------+----------------+---------------------+--------------------+\n",
            "|   id|                name|  host_id| host_name|neighbourhood_group|      neighbourhood| latitude|longitude|      room_type|price|minimum_nights|number_of_reviews|last_review|reviews_per_month|calculated_host_listings_count|availability_365|number_of_reviews_ltm|             license|\n",
            "+-----+--------------------+---------+----------+-------------------+-------------------+---------+---------+---------------+-----+--------------+-----------------+-----------+-----------------+------------------------------+----------------+---------------------+--------------------+\n",
            "| 5396|Explore the heart...|     7903|    Borzou|               null|     Hôtel-de-Ville| 48.85247|  2.35835|Entire home/apt|  110|             2|              260| 2020-08-08|             2.68|                             1|              29|                   35|       7510402838018|\n",
            "| 7397|MARAIS - 2ROOMS A...|     2626|    Franck|               null|     Hôtel-de-Ville| 48.85909|  2.35315|Entire home/apt|  100|            10|              278| 2021-08-18|             2.26|                             1|             257|                    9|       7510400829623|\n",
            "| 7964|Large & sunny fla...|    22155|     Anaïs|               null|              Opéra| 48.87417|  2.34245|Entire home/apt|  130|             6|                6| 2015-09-14|             0.07|                             1|             348|                    0|       7510903576564|\n",
            "| 9359|Cozy, Central Par...|    28422|Bernadette|               null|             Louvre| 48.86006|  2.34863|Entire home/apt|   75|           180|                0|       null|             null|                             1|              28|                    0|\"Available with a...|\n",
            "| 9952|Paris petit coin ...|    33534| Elisabeth|               null|         Popincourt| 48.86373|  2.37093|Entire home/apt|   80|             4|               31| 2021-06-23|              0.5|                             1|             198|                    6|       7511101582862|\n",
            "|10586|Montmartre Studio...|    37107|   Michael|               null|  Buttes-Montmartre|   48.887|  2.34531|Entire home/apt|   80|            30|               48| 2019-09-18|             0.37|                             4|             254|                    1|\"Available with a...|\n",
            "|10588|Montmartre Studio...|    37107|   Michael|               null|  Buttes-Montmartre| 48.88725|  2.34518|Entire home/apt|   75|            30|               18| 2013-07-16|             0.18|                             4|             363|                    2|\"Available with a...|\n",
            "|10917|ELYSEES-PONCELET ...|    39402|  Isabelle|               null|Batignolles-Monceau|48.879074| 2.296904|Entire home/apt|  143|            30|               25| 2015-07-12|             0.19|                             1|              72|                    0|\"Available with a...|\n",
            "|11213|      DOWNTOWN PARIS|    41322|   Mathieu|               null|           Entrepôt| 48.87109|  2.37376|   Private room|  170|             1|              151| 2020-01-04|              2.1|                             2|             163|                    4|    7511111100537044|\n",
            "|11265|Elegant appartmen...|    41718|    Sylvie|               null|  Buttes-Montmartre| 48.88494|  2.33997|Entire home/apt|  100|             7|               16| 2019-07-17|             0.26|                             1|             253|                    0|       7511801401834|\n",
            "|11487|Heart of  Paris, ...|    42666|  Brigitte|               null|         Popincourt| 48.86441|  2.37139|Entire home/apt|   60|            30|                4| 2012-07-02|             0.79|                             1|             127|                    2|\"Available with a...|\n",
            "|11798|Loft very charmin...|    44444|  Laurence|               null|           Gobelins|  48.8246|   2.3667|Entire home/apt|  110|             2|               85| 2019-09-28|             0.78|                             1|             328|                    0|       7511300241931|\n",
            "|11848|Swishy Cosy Paris...|    44626|   Thierry|               null|         Popincourt| 48.86518|  2.37561|Entire home/apt|   74|            30|              336| 2019-11-05|             2.88|                             1|             226|                    2|       7511105259459|\n",
            "|12268|Faubourg Saint An...|    47196|   Charles|               null|         Popincourt| 48.85186|   2.3857|   Private room|   60|             6|                1| 2010-05-28|             0.01|                             1|               0|                    0|                null|\n",
            "|12452|Cozy apartment ne...|291007369|    Luckey|               null|         Popincourt| 48.86159|  2.37952|Entire home/apt|  139|             2|               24| 2020-02-06|             0.59|                           500|               0|                    2|       7511102600669|\n",
            "|14264|Charming sunny 2B...|    55995|      Lara|               null|  Buttes-Montmartre| 48.88259|  2.34251|Entire home/apt|   90|           365|               11| 2018-05-04|             0.23|                             1|             181|                    0|                null|\n",
            "|14757|Lovely Studio Mon...|    57954|   Nolwenn|               null|  Buttes-Montmartre| 48.89015|  2.34411|Entire home/apt|   75|             3|              200| 2019-01-16|              1.8|                             1|             253|                    0|       7511802269686|\n",
            "|16455|Spacious, Light-F...|    64054|     David|               null|           Gobelins| 48.83482|  2.36331|Entire home/apt|   70|             5|               31| 2020-03-07|             0.41|                             2|               4|                    1|       7511302792239|\n",
            "|16626| Luxury in St Michel|    64627|  Phoenice|               null|         Luxembourg|  48.8522|  2.34114|   Private room|  111|             3|               96| 2021-08-09|             0.68|                             2|             104|                   10|                null|\n",
            "|17287|Your Loft / One o...|    64055|     David|               null|    Buttes-Chaumont| 48.89566|  2.38307|Entire home/apt|   63|            10|               11| 2020-12-15|             0.13|                             1|             362|                    4|       7511902892340|\n",
            "+-----+--------------------+---------+----------+-------------------+-------------------+---------+---------+---------------+-----+--------------+-----------------+-----------+-----------------+------------------------------+----------------+---------------------+--------------------+\n",
            "only showing top 20 rows\n",
            "\n"
          ]
        }
      ]
    },
    {
      "cell_type": "markdown",
      "metadata": {
        "id": "vr_9HgECaDFR"
      },
      "source": [
        "maintenant on va calculer la taille de notre base de données"
      ]
    },
    {
      "cell_type": "code",
      "metadata": {
        "colab": {
          "base_uri": "https://localhost:8080/"
        },
        "id": "LDZ8zQV4nnX7",
        "outputId": "d6a18903-a825-42e1-8553-b89f4dcdfd43"
      },
      "source": [
        "df.count()"
      ],
      "execution_count": null,
      "outputs": [
        {
          "output_type": "execute_result",
          "data": {
            "text/plain": [
              "50236"
            ]
          },
          "metadata": {},
          "execution_count": 9
        }
      ]
    },
    {
      "cell_type": "markdown",
      "metadata": {
        "id": "3_hGyB5NA6KX"
      },
      "source": [
        "on remarque que notre dataset contient assez de données pour faire l'entrainement"
      ]
    },
    {
      "cell_type": "markdown",
      "metadata": {
        "id": "PFSSl0AEaIjP"
      },
      "source": [
        "Maintenant nous allons compter le nombre de valeurs manquantes pour chaque colonne"
      ]
    },
    {
      "cell_type": "code",
      "metadata": {
        "colab": {
          "base_uri": "https://localhost:8080/"
        },
        "id": "TkmvcpNPlQ5Q",
        "outputId": "41541a8b-e9a7-40a7-ae24-c80cab592ba7"
      },
      "source": [
        "from pyspark.sql.functions import isnan, when, count, col\n",
        "\n",
        "df.select([count(when(isnan(c) | col(c).isNull(), c)).alias(c) for c in df.columns]).show()"
      ],
      "execution_count": null,
      "outputs": [
        {
          "output_type": "stream",
          "name": "stdout",
          "text": [
            "+---+----+-------+---------+-------------------+-------------+--------+---------+---------+-----+--------------+-----------------+-----------+-----------------+------------------------------+----------------+---------------------+-------+\n",
            "| id|name|host_id|host_name|neighbourhood_group|neighbourhood|latitude|longitude|room_type|price|minimum_nights|number_of_reviews|last_review|reviews_per_month|calculated_host_listings_count|availability_365|number_of_reviews_ltm|license|\n",
            "+---+----+-------+---------+-------------------+-------------+--------+---------+---------+-----+--------------+-----------------+-----------+-----------------+------------------------------+----------------+---------------------+-------+\n",
            "|103|  53|    216|      231|              50123|          118|     122|      203|      106|  120|           107|              198|      11524|            11515|                           109|             105|                  199|  22397|\n",
            "+---+----+-------+---------+-------------------+-------------+--------+---------+---------+-----+--------------+-----------------+-----------+-----------------+------------------------------+----------------+---------------------+-------+\n",
            "\n"
          ]
        }
      ]
    },
    {
      "cell_type": "code",
      "metadata": {
        "colab": {
          "base_uri": "https://localhost:8080/"
        },
        "id": "glZXGdNzXHsL",
        "outputId": "8fc139eb-9220-43b9-cbac-16101a0e1a02"
      },
      "source": [
        "df.show()"
      ],
      "execution_count": null,
      "outputs": [
        {
          "output_type": "stream",
          "name": "stdout",
          "text": [
            "+-----+--------------------+---------+----------+-------------------+-------------------+---------+---------+---------------+-----+--------------+-----------------+-----------+-----------------+------------------------------+----------------+---------------------+--------------------+\n",
            "|   id|                name|  host_id| host_name|neighbourhood_group|      neighbourhood| latitude|longitude|      room_type|price|minimum_nights|number_of_reviews|last_review|reviews_per_month|calculated_host_listings_count|availability_365|number_of_reviews_ltm|             license|\n",
            "+-----+--------------------+---------+----------+-------------------+-------------------+---------+---------+---------------+-----+--------------+-----------------+-----------+-----------------+------------------------------+----------------+---------------------+--------------------+\n",
            "| 5396|Explore the heart...|     7903|    Borzou|               null|     Hôtel-de-Ville| 48.85247|  2.35835|Entire home/apt|  110|             2|              260| 2020-08-08|             2.68|                             1|              29|                   35|       7510402838018|\n",
            "| 7397|MARAIS - 2ROOMS A...|     2626|    Franck|               null|     Hôtel-de-Ville| 48.85909|  2.35315|Entire home/apt|  100|            10|              278| 2021-08-18|             2.26|                             1|             257|                    9|       7510400829623|\n",
            "| 7964|Large & sunny fla...|    22155|     Anaïs|               null|              Opéra| 48.87417|  2.34245|Entire home/apt|  130|             6|                6| 2015-09-14|             0.07|                             1|             348|                    0|       7510903576564|\n",
            "| 9359|Cozy, Central Par...|    28422|Bernadette|               null|             Louvre| 48.86006|  2.34863|Entire home/apt|   75|           180|                0|       null|             null|                             1|              28|                    0|\"Available with a...|\n",
            "| 9952|Paris petit coin ...|    33534| Elisabeth|               null|         Popincourt| 48.86373|  2.37093|Entire home/apt|   80|             4|               31| 2021-06-23|              0.5|                             1|             198|                    6|       7511101582862|\n",
            "|10586|Montmartre Studio...|    37107|   Michael|               null|  Buttes-Montmartre|   48.887|  2.34531|Entire home/apt|   80|            30|               48| 2019-09-18|             0.37|                             4|             254|                    1|\"Available with a...|\n",
            "|10588|Montmartre Studio...|    37107|   Michael|               null|  Buttes-Montmartre| 48.88725|  2.34518|Entire home/apt|   75|            30|               18| 2013-07-16|             0.18|                             4|             363|                    2|\"Available with a...|\n",
            "|10917|ELYSEES-PONCELET ...|    39402|  Isabelle|               null|Batignolles-Monceau|48.879074| 2.296904|Entire home/apt|  143|            30|               25| 2015-07-12|             0.19|                             1|              72|                    0|\"Available with a...|\n",
            "|11213|      DOWNTOWN PARIS|    41322|   Mathieu|               null|           Entrepôt| 48.87109|  2.37376|   Private room|  170|             1|              151| 2020-01-04|              2.1|                             2|             163|                    4|    7511111100537044|\n",
            "|11265|Elegant appartmen...|    41718|    Sylvie|               null|  Buttes-Montmartre| 48.88494|  2.33997|Entire home/apt|  100|             7|               16| 2019-07-17|             0.26|                             1|             253|                    0|       7511801401834|\n",
            "|11487|Heart of  Paris, ...|    42666|  Brigitte|               null|         Popincourt| 48.86441|  2.37139|Entire home/apt|   60|            30|                4| 2012-07-02|             0.79|                             1|             127|                    2|\"Available with a...|\n",
            "|11798|Loft very charmin...|    44444|  Laurence|               null|           Gobelins|  48.8246|   2.3667|Entire home/apt|  110|             2|               85| 2019-09-28|             0.78|                             1|             328|                    0|       7511300241931|\n",
            "|11848|Swishy Cosy Paris...|    44626|   Thierry|               null|         Popincourt| 48.86518|  2.37561|Entire home/apt|   74|            30|              336| 2019-11-05|             2.88|                             1|             226|                    2|       7511105259459|\n",
            "|12268|Faubourg Saint An...|    47196|   Charles|               null|         Popincourt| 48.85186|   2.3857|   Private room|   60|             6|                1| 2010-05-28|             0.01|                             1|               0|                    0|                null|\n",
            "|12452|Cozy apartment ne...|291007369|    Luckey|               null|         Popincourt| 48.86159|  2.37952|Entire home/apt|  139|             2|               24| 2020-02-06|             0.59|                           500|               0|                    2|       7511102600669|\n",
            "|14264|Charming sunny 2B...|    55995|      Lara|               null|  Buttes-Montmartre| 48.88259|  2.34251|Entire home/apt|   90|           365|               11| 2018-05-04|             0.23|                             1|             181|                    0|                null|\n",
            "|14757|Lovely Studio Mon...|    57954|   Nolwenn|               null|  Buttes-Montmartre| 48.89015|  2.34411|Entire home/apt|   75|             3|              200| 2019-01-16|              1.8|                             1|             253|                    0|       7511802269686|\n",
            "|16455|Spacious, Light-F...|    64054|     David|               null|           Gobelins| 48.83482|  2.36331|Entire home/apt|   70|             5|               31| 2020-03-07|             0.41|                             2|               4|                    1|       7511302792239|\n",
            "|16626| Luxury in St Michel|    64627|  Phoenice|               null|         Luxembourg|  48.8522|  2.34114|   Private room|  111|             3|               96| 2021-08-09|             0.68|                             2|             104|                   10|                null|\n",
            "|17287|Your Loft / One o...|    64055|     David|               null|    Buttes-Chaumont| 48.89566|  2.38307|Entire home/apt|   63|            10|               11| 2020-12-15|             0.13|                             1|             362|                    4|       7511902892340|\n",
            "+-----+--------------------+---------+----------+-------------------+-------------------+---------+---------+---------------+-----+--------------+-----------------+-----------+-----------------+------------------------------+----------------+---------------------+--------------------+\n",
            "only showing top 20 rows\n",
            "\n"
          ]
        }
      ]
    },
    {
      "cell_type": "markdown",
      "metadata": {
        "id": "q8660iIrbQeC"
      },
      "source": [
        "\n",
        "Nous allons effectuer les opérations suivantes: \n",
        "\n",
        "\n",
        "* supprimer les colonnes: id et name(car non discriminant)\n",
        "* supprimer host_name et host_id (non discriminant)\n",
        "* supprimer la colonne neighbourhood_group (car nulle pour toutes les valeurs)\n",
        "* supprimer la colonne last_reviews (pas utile pour la prédiction)\n",
        "* supprimer la colonne licence (pas utile pour la prédiction)\n",
        "\n",
        "et supprimer les valeurs nulls\n",
        "\n",
        "donc on va travailler avec les colonnes suivant : neighbourhood, latitude, longitude, room_type, price, number_of_reviews, reviews_per_month,availability_365, number_of_reviews_ltm\n",
        "\n",
        "\n",
        "\n",
        "\n",
        "\n",
        "\n",
        "\n",
        "\n",
        "\n",
        "\n"
      ]
    },
    {
      "cell_type": "code",
      "metadata": {
        "colab": {
          "base_uri": "https://localhost:8080/"
        },
        "id": "EBVsZKQ_oli9",
        "outputId": "960b6bb1-e21e-4dfd-9745-b6e0580d0421"
      },
      "source": [
        "my_col = df.select(['neighbourhood','latitude','longitude','room_type','price','number_of_reviews','reviews_per_month','availability_365',\"number_of_reviews_ltm\"]).withColumnRenamed(\"price\", \"label\")\n",
        "df = my_col.na.drop()\n",
        "df.printSchema()\n",
        "df.show()"
      ],
      "execution_count": null,
      "outputs": [
        {
          "output_type": "stream",
          "name": "stdout",
          "text": [
            "root\n",
            " |-- neighbourhood: string (nullable = true)\n",
            " |-- latitude: double (nullable = true)\n",
            " |-- longitude: double (nullable = true)\n",
            " |-- room_type: string (nullable = true)\n",
            " |-- label: integer (nullable = true)\n",
            " |-- number_of_reviews: integer (nullable = true)\n",
            " |-- reviews_per_month: double (nullable = true)\n",
            " |-- availability_365: integer (nullable = true)\n",
            " |-- number_of_reviews_ltm: integer (nullable = true)\n",
            "\n",
            "+-------------------+---------+---------+---------------+-----+-----------------+-----------------+----------------+---------------------+\n",
            "|      neighbourhood| latitude|longitude|      room_type|label|number_of_reviews|reviews_per_month|availability_365|number_of_reviews_ltm|\n",
            "+-------------------+---------+---------+---------------+-----+-----------------+-----------------+----------------+---------------------+\n",
            "|     Hôtel-de-Ville| 48.85247|  2.35835|Entire home/apt|  110|              260|             2.68|              29|                   35|\n",
            "|     Hôtel-de-Ville| 48.85909|  2.35315|Entire home/apt|  100|              278|             2.26|             257|                    9|\n",
            "|              Opéra| 48.87417|  2.34245|Entire home/apt|  130|                6|             0.07|             348|                    0|\n",
            "|         Popincourt| 48.86373|  2.37093|Entire home/apt|   80|               31|              0.5|             198|                    6|\n",
            "|  Buttes-Montmartre|   48.887|  2.34531|Entire home/apt|   80|               48|             0.37|             254|                    1|\n",
            "|  Buttes-Montmartre| 48.88725|  2.34518|Entire home/apt|   75|               18|             0.18|             363|                    2|\n",
            "|Batignolles-Monceau|48.879074| 2.296904|Entire home/apt|  143|               25|             0.19|              72|                    0|\n",
            "|           Entrepôt| 48.87109|  2.37376|   Private room|  170|              151|              2.1|             163|                    4|\n",
            "|  Buttes-Montmartre| 48.88494|  2.33997|Entire home/apt|  100|               16|             0.26|             253|                    0|\n",
            "|         Popincourt| 48.86441|  2.37139|Entire home/apt|   60|                4|             0.79|             127|                    2|\n",
            "|           Gobelins|  48.8246|   2.3667|Entire home/apt|  110|               85|             0.78|             328|                    0|\n",
            "|         Popincourt| 48.86518|  2.37561|Entire home/apt|   74|              336|             2.88|             226|                    2|\n",
            "|         Popincourt| 48.85186|   2.3857|   Private room|   60|                1|             0.01|               0|                    0|\n",
            "|         Popincourt| 48.86159|  2.37952|Entire home/apt|  139|               24|             0.59|               0|                    2|\n",
            "|  Buttes-Montmartre| 48.88259|  2.34251|Entire home/apt|   90|               11|             0.23|             181|                    0|\n",
            "|  Buttes-Montmartre| 48.89015|  2.34411|Entire home/apt|   75|              200|              1.8|             253|                    0|\n",
            "|           Gobelins| 48.83482|  2.36331|Entire home/apt|   70|               31|             0.41|               4|                    1|\n",
            "|         Luxembourg|  48.8522|  2.34114|   Private room|  111|               96|             0.68|             104|                   10|\n",
            "|    Buttes-Chaumont| 48.89566|  2.38307|Entire home/apt|   63|               11|             0.13|             362|                    4|\n",
            "|           Entrepôt| 48.87172|  2.36184|Entire home/apt|  150|                1|             0.03|               0|                    0|\n",
            "+-------------------+---------+---------+---------------+-----+-----------------+-----------------+----------------+---------------------+\n",
            "only showing top 20 rows\n",
            "\n"
          ]
        }
      ]
    },
    {
      "cell_type": "markdown",
      "metadata": {
        "id": "wJtW0h4gdgSN"
      },
      "source": [
        "maintenant nous allons essayer de trouver les paramètres numériques et catégoriels. "
      ]
    },
    {
      "cell_type": "code",
      "metadata": {
        "colab": {
          "base_uri": "https://localhost:8080/",
          "height": 269
        },
        "id": "DJfJ-kT7rIPS",
        "outputId": "af554904-1752-426f-8c7f-be2eb1548db5"
      },
      "source": [
        "numericCols = [t[0] for t in df.dtypes if (t[1] == 'int' or t[1]=='double')and t[0]!=\"label\"]\n",
        "df.select(numericCols).describe().toPandas().transpose()"
      ],
      "execution_count": null,
      "outputs": [
        {
          "output_type": "execute_result",
          "data": {
            "text/html": [
              "<div>\n",
              "<style scoped>\n",
              "    .dataframe tbody tr th:only-of-type {\n",
              "        vertical-align: middle;\n",
              "    }\n",
              "\n",
              "    .dataframe tbody tr th {\n",
              "        vertical-align: top;\n",
              "    }\n",
              "\n",
              "    .dataframe thead th {\n",
              "        text-align: right;\n",
              "    }\n",
              "</style>\n",
              "<table border=\"1\" class=\"dataframe\">\n",
              "  <thead>\n",
              "    <tr style=\"text-align: right;\">\n",
              "      <th></th>\n",
              "      <th>0</th>\n",
              "      <th>1</th>\n",
              "      <th>2</th>\n",
              "      <th>3</th>\n",
              "      <th>4</th>\n",
              "    </tr>\n",
              "  </thead>\n",
              "  <tbody>\n",
              "    <tr>\n",
              "      <th>summary</th>\n",
              "      <td>count</td>\n",
              "      <td>mean</td>\n",
              "      <td>stddev</td>\n",
              "      <td>min</td>\n",
              "      <td>max</td>\n",
              "    </tr>\n",
              "    <tr>\n",
              "      <th>latitude</th>\n",
              "      <td>38622</td>\n",
              "      <td>48.86388445158622</td>\n",
              "      <td>0.018096428439333408</td>\n",
              "      <td>48.81308</td>\n",
              "      <td>48.90568</td>\n",
              "    </tr>\n",
              "    <tr>\n",
              "      <th>longitude</th>\n",
              "      <td>38622</td>\n",
              "      <td>2.346037704964083</td>\n",
              "      <td>0.03262762995013811</td>\n",
              "      <td>2.22387</td>\n",
              "      <td>2.46705</td>\n",
              "    </tr>\n",
              "    <tr>\n",
              "      <th>number_of_reviews</th>\n",
              "      <td>38622</td>\n",
              "      <td>26.99984464812801</td>\n",
              "      <td>49.55221617479641</td>\n",
              "      <td>1</td>\n",
              "      <td>1596</td>\n",
              "    </tr>\n",
              "    <tr>\n",
              "      <th>reviews_per_month</th>\n",
              "      <td>38622</td>\n",
              "      <td>0.7916811661747465</td>\n",
              "      <td>1.2085802267828902</td>\n",
              "      <td>0.01</td>\n",
              "      <td>48.91</td>\n",
              "    </tr>\n",
              "    <tr>\n",
              "      <th>availability_365</th>\n",
              "      <td>38622</td>\n",
              "      <td>101.03047485888871</td>\n",
              "      <td>133.72070589664648</td>\n",
              "      <td>0</td>\n",
              "      <td>365</td>\n",
              "    </tr>\n",
              "    <tr>\n",
              "      <th>number_of_reviews_ltm</th>\n",
              "      <td>38622</td>\n",
              "      <td>3.2622598518978823</td>\n",
              "      <td>13.060790806515048</td>\n",
              "      <td>0</td>\n",
              "      <td>1578</td>\n",
              "    </tr>\n",
              "  </tbody>\n",
              "</table>\n",
              "</div>"
            ],
            "text/plain": [
              "                           0                   1  ...         3         4\n",
              "summary                count                mean  ...       min       max\n",
              "latitude               38622   48.86388445158622  ...  48.81308  48.90568\n",
              "longitude              38622   2.346037704964083  ...   2.22387   2.46705\n",
              "number_of_reviews      38622   26.99984464812801  ...         1      1596\n",
              "reviews_per_month      38622  0.7916811661747465  ...      0.01     48.91\n",
              "availability_365       38622  101.03047485888871  ...         0       365\n",
              "number_of_reviews_ltm  38622  3.2622598518978823  ...         0      1578\n",
              "\n",
              "[7 rows x 5 columns]"
            ]
          },
          "metadata": {},
          "execution_count": 13
        }
      ]
    },
    {
      "cell_type": "code",
      "metadata": {
        "id": "bMrhqkq_rl9w"
      },
      "source": [
        "categoricalColumns = [t[0] for t in df.dtypes if t[1] == 'string']\n",
        "df.select(categoricalColumns).describe().toPandas().transpose()\n",
        "\n",
        "df1=df"
      ],
      "execution_count": null,
      "outputs": []
    },
    {
      "cell_type": "markdown",
      "metadata": {
        "id": "nqFfREaXeH5u"
      },
      "source": [
        "Encodage des features: indexation des string,assemblage des vecteurs puis indexation.au premier on va essayer de travailler just avec stringIndexer sans utiliser OneHotEncoder"
      ]
    },
    {
      "cell_type": "code",
      "metadata": {
        "id": "2XadSyGs5s6c"
      },
      "source": [
        "from pyspark.ml.feature import OneHotEncoder, StringIndexer, VectorAssembler\n",
        "\n",
        "string_indexer=StringIndexer(inputCols=categoricalColumns,outputCols=[c+\"index\" for c in categoricalColumns])\n",
        "assemblerInputs = [c + \"index\" for c in categoricalColumns] + numericCols\n",
        "vecassem = VectorAssembler(inputCols=assemblerInputs, outputCol=\"features\")\n",
        "stages=[]\n",
        "stages+=[string_indexer]\n",
        "stages+=[vecassem]"
      ],
      "execution_count": null,
      "outputs": []
    },
    {
      "cell_type": "code",
      "metadata": {
        "colab": {
          "base_uri": "https://localhost:8080/"
        },
        "id": "lrH_KxxOsZjl",
        "outputId": "abfb9257-6856-4982-ab0b-ba9b56b8e911"
      },
      "source": [
        "from pyspark.ml import Pipeline\n",
        "pipeline = Pipeline(stages = stages)\n",
        "pipelineModel = pipeline.fit(df)\n",
        "df = pipelineModel.transform(df)\n",
        "selectedCols = ['label', 'features']\n",
        "df = df.select(selectedCols)\n",
        "df.printSchema()"
      ],
      "execution_count": null,
      "outputs": [
        {
          "output_type": "stream",
          "name": "stdout",
          "text": [
            "root\n",
            " |-- label: integer (nullable = true)\n",
            " |-- features: vector (nullable = true)\n",
            "\n"
          ]
        }
      ]
    },
    {
      "cell_type": "markdown",
      "metadata": {
        "id": "8TFYbPLAlHvF"
      },
      "source": [
        "Construcition d'une paire 30%-70% de jeux de test et d'entrainement"
      ]
    },
    {
      "cell_type": "code",
      "metadata": {
        "colab": {
          "base_uri": "https://localhost:8080/"
        },
        "id": "W5v6SC9DtJ03",
        "outputId": "23a5aacc-c933-403a-b239-000b92926cf1"
      },
      "source": [
        "train, test = df.randomSplit([0.7, 0.3], seed = 2018)\n",
        "print(\"Training Dataset Count: \" + str(train.count()))\n",
        "print(\"Test Dataset Count: \" + str(test.count()))"
      ],
      "execution_count": null,
      "outputs": [
        {
          "output_type": "stream",
          "name": "stdout",
          "text": [
            "Training Dataset Count: 27069\n",
            "Test Dataset Count: 11553\n"
          ]
        }
      ]
    },
    {
      "cell_type": "markdown",
      "metadata": {
        "id": "Z1y8z0UAKKWN"
      },
      "source": [
        "aprés la construction des données train et test,maintenant on va entrainer une arbre de decsion (DecisionTreeRegressor)"
      ]
    },
    {
      "cell_type": "code",
      "metadata": {
        "colab": {
          "base_uri": "https://localhost:8080/"
        },
        "id": "tS0yMCyVtL02",
        "outputId": "b27beaab-9011-4b2c-8c07-8a72a1f5f03b"
      },
      "source": [
        "from pyspark.ml.regression import DecisionTreeRegressor\n",
        "\n",
        "dt = DecisionTreeRegressor(featuresCol=\"features\",labelCol=\"label\")\n",
        "dtModel = dt.fit(train)\n",
        "predictions = dtModel.transform(test)\n",
        "predictions.show()"
      ],
      "execution_count": null,
      "outputs": [
        {
          "output_type": "stream",
          "name": "stdout",
          "text": [
            "+-----+--------------------+------------------+\n",
            "|label|            features|        prediction|\n",
            "+-----+--------------------+------------------+\n",
            "|    0|[3.0,2.0,48.84951...|103.07090719499479|\n",
            "|   10|[4.0,3.0,48.88648...| 50.01670644391408|\n",
            "|   10|[6.0,3.0,48.8908,...| 40.85353535353536|\n",
            "|   10|[13.0,0.0,48.8240...|162.06593406593407|\n",
            "|   10|[15.0,0.0,48.8605...|120.01903511650804|\n",
            "|   11|(8,[2,3,4,5],[48....| 78.88369364839953|\n",
            "|   15|(8,[2,3,4,5],[48....| 78.88369364839953|\n",
            "|   15|[4.0,1.0,48.89351...| 50.01670644391408|\n",
            "|   15|[13.0,1.0,48.8280...| 50.01670644391408|\n",
            "|   15|[14.0,3.0,48.8414...|60.057377049180324|\n",
            "|   16|[5.0,1.0,48.87419...| 40.85353535353536|\n",
            "|   17|[0.0,3.0,48.88477...| 50.01670644391408|\n",
            "|   17|[18.0,1.0,48.8474...| 204.9568773234201|\n",
            "|   18|[0.0,1.0,48.88597...| 50.01670644391408|\n",
            "|   18|[1.0,3.0,48.86692...|125.43570843570843|\n",
            "|   19|[5.0,0.0,48.86522...| 78.88369364839953|\n",
            "|   19|[6.0,1.0,48.87581...| 40.85353535353536|\n",
            "|   19|[11.0,1.0,48.8210...| 47.62105263157895|\n",
            "|   19|[11.0,1.0,48.8282...|238.26666666666668|\n",
            "|   20|[0.0,1.0,48.88407...| 50.01670644391408|\n",
            "+-----+--------------------+------------------+\n",
            "only showing top 20 rows\n",
            "\n"
          ]
        }
      ]
    },
    {
      "cell_type": "markdown",
      "metadata": {
        "id": "edKddE0FmK5V"
      },
      "source": [
        "aprés on va evaluer notre modéls en calculant le rmse et mae"
      ]
    },
    {
      "cell_type": "code",
      "metadata": {
        "colab": {
          "base_uri": "https://localhost:8080/"
        },
        "id": "-o4D98l90I6M",
        "outputId": "e02e124b-81aa-430e-b08f-be1614430697"
      },
      "source": [
        "from pyspark.ml.evaluation import RegressionEvaluator\n",
        "evaluator = RegressionEvaluator(labelCol=\"label\", predictionCol=\"prediction\", metricName=\"rmse\")\n",
        "rmse = evaluator.evaluate(predictions)\n",
        "print(\"RMSE= %g\" % rmse)"
      ],
      "execution_count": null,
      "outputs": [
        {
          "output_type": "stream",
          "name": "stdout",
          "text": [
            "RMSE= 187.764\n"
          ]
        }
      ]
    },
    {
      "cell_type": "code",
      "metadata": {
        "colab": {
          "base_uri": "https://localhost:8080/"
        },
        "id": "n8kzWt5W-hiQ",
        "outputId": "888f4dd9-ba54-4dbd-958a-0d4e1d8d2801"
      },
      "source": [
        "evaluator = RegressionEvaluator(labelCol=\"label\", predictionCol=\"prediction\", metricName=\"mae\")\n",
        "mae = evaluator.evaluate(predictions)\n",
        "print(\"MAE = %g\" % mae)"
      ],
      "execution_count": null,
      "outputs": [
        {
          "output_type": "stream",
          "name": "stdout",
          "text": [
            "MAE = 60.8413\n"
          ]
        }
      ]
    },
    {
      "cell_type": "markdown",
      "metadata": {
        "id": "7iuyFkNlmYAc"
      },
      "source": [
        "Nous obtenons un taux d'erreur RMSE égale à 187.764 et un taux d'erreur MAE de 60.8413\n",
        "\n",
        "Vu que le RMSE prend la moyenne des erreurs au carré, il donne un poids fort aux larges erreurs, par conséquant RMSE peut etre utilisé pour pénaliser les grosses erreurs\n",
        "\n",
        "---\n",
        "\n"
      ]
    },
    {
      "cell_type": "markdown",
      "metadata": {
        "id": "TmWTibJHojQd"
      },
      "source": [
        "Nous essayons maintenant de trouver les paramètres optimaux et le meilleur modèle en utilisant la cross validation. "
      ]
    },
    {
      "cell_type": "code",
      "metadata": {
        "id": "LfVdxTaI-nw_"
      },
      "source": [
        "from pyspark.ml.tuning import ParamGridBuilder, CrossValidator\n",
        "\n",
        "dt = DecisionTreeRegressor(featuresCol=\"features\",labelCol=\"label\")\n",
        "\n",
        "# Create ParamGrid for Cross Validation\n",
        "paramGrid = (ParamGridBuilder()\n",
        "             .addGrid(dt.maxDepth, [2,3,4,5,6,7,8,9,10,11,12,13])\n",
        "             .addGrid(dt.maxBins, [20,30,40,50,70])\n",
        "             .addGrid(dt.minInstancesPerNode, [1, 2, 3, 5, 7])\n",
        "             .build())\n",
        "\n",
        "cv = CrossValidator(estimator=dt, estimatorParamMaps=paramGrid, evaluator=evaluator, numFolds=3)\n",
        "\n",
        "cvModel = cv.fit(train)\n",
        "predictions = cvModel.transform(test)"
      ],
      "execution_count": null,
      "outputs": []
    },
    {
      "cell_type": "code",
      "metadata": {
        "id": "VsmPKQ92KYPg"
      },
      "source": [
        "bestModel = cvModel.bestModel\n",
        "predictions = bestModel.transform(test)"
      ],
      "execution_count": null,
      "outputs": []
    },
    {
      "cell_type": "code",
      "metadata": {
        "colab": {
          "base_uri": "https://localhost:8080/"
        },
        "id": "04Ui5pophdql",
        "outputId": "b8e15c68-fd57-415c-e7e3-25ca0f8a1889"
      },
      "source": [
        "bestModel"
      ],
      "execution_count": null,
      "outputs": [
        {
          "output_type": "execute_result",
          "data": {
            "text/plain": [
              "DecisionTreeRegressionModel: uid=DecisionTreeRegressor_b4e726417d74, depth=5, numNodes=63, numFeatures=8"
            ]
          },
          "metadata": {},
          "execution_count": 59
        }
      ]
    },
    {
      "cell_type": "code",
      "metadata": {
        "colab": {
          "base_uri": "https://localhost:8080/"
        },
        "id": "Oc_nh0Ah_rIx",
        "outputId": "8236c156-4ae6-46a4-b768-9e637af8ba0c"
      },
      "source": [
        "from pyspark.ml.evaluation import RegressionEvaluator\n",
        "evaluator = RegressionEvaluator(labelCol=\"label\", predictionCol=\"prediction\", metricName=\"rmse\")\n",
        "rmse = evaluator.evaluate(predictions)\n",
        "print(\"RMSE = %g\" % rmse)"
      ],
      "execution_count": null,
      "outputs": [
        {
          "output_type": "stream",
          "name": "stdout",
          "text": [
            "RMSE = 187.055\n"
          ]
        }
      ]
    },
    {
      "cell_type": "markdown",
      "metadata": {
        "id": "_MblUQePrR_A"
      },
      "source": [
        "Nous obtenons un taux d'erreur RMSE égale à 187.055"
      ]
    },
    {
      "cell_type": "markdown",
      "metadata": {
        "id": "mi21o89-OBfk"
      },
      "source": [
        "nous trouvons les paramétres optimal suivant :  depth=5, numNodes=63, numFeatures=8,Nous remarquons que l'utilisation de la validation croisée pour sélectionner les paramètres optimal a bien amélioré les performances de notre modèle."
      ]
    },
    {
      "cell_type": "markdown",
      "metadata": {
        "id": "fsbyBHogMQS-"
      },
      "source": [
        "## Amélioration de notre modéle"
      ]
    },
    {
      "cell_type": "markdown",
      "metadata": {
        "id": "7WjsKalQuaE3"
      },
      "source": [
        "Nous avons testé un arbre de décision avec notre jeu de données sans faire aucun prétraitement (sauf supprimer les nuls et supprimer les attributs inutiles), maintenant nous allons essayer de voir la relation entre chaque attribut et le prix, et faire les transformations nécessaires,normaliser les données et réduire la dimension en utilisant PCA. "
      ]
    },
    {
      "cell_type": "markdown",
      "metadata": {
        "id": "DRYwoYElHMzu"
      },
      "source": [
        "On va voir les attributs non pertinents (attributs avec nombre élevé de valeurs distinctes ou qui ne varient jamais),aussi on va essayer de voir la relation entre chaque attributs et notre target (prix)"
      ]
    },
    {
      "cell_type": "markdown",
      "metadata": {
        "id": "ei6ugsTRx25x"
      },
      "source": [
        "L'attibut Prix"
      ]
    },
    {
      "cell_type": "code",
      "metadata": {
        "id": "kjFEDrVh07D4"
      },
      "source": [
        "df=df1"
      ],
      "execution_count": null,
      "outputs": []
    },
    {
      "cell_type": "code",
      "metadata": {
        "colab": {
          "base_uri": "https://localhost:8080/"
        },
        "id": "fPPhEFC5fmIs",
        "outputId": "19540bca-fd0a-4d64-819e-1b008052c069"
      },
      "source": [
        "from pyspark.sql.functions import desc\n",
        "\n",
        "df.select(\"label\").groupby(\"label\").count().orderBy(desc(\"count\")).show()"
      ],
      "execution_count": null,
      "outputs": [
        {
          "output_type": "stream",
          "name": "stdout",
          "text": [
            "+-----+-----+\n",
            "|label|count|\n",
            "+-----+-----+\n",
            "|   60| 1609|\n",
            "|   80| 1587|\n",
            "|   70| 1523|\n",
            "|   50| 1459|\n",
            "|   90| 1347|\n",
            "|  100| 1273|\n",
            "|   65| 1053|\n",
            "|   75|  972|\n",
            "|  120|  948|\n",
            "|   55|  859|\n",
            "|   45|  828|\n",
            "|   40|  772|\n",
            "|   85|  760|\n",
            "|  110|  734|\n",
            "|  150|  706|\n",
            "|   95|  641|\n",
            "|  130|  521|\n",
            "|   35|  480|\n",
            "|   69|  408|\n",
            "|  140|  369|\n",
            "+-----+-----+\n",
            "only showing top 20 rows\n",
            "\n"
          ]
        }
      ]
    },
    {
      "cell_type": "code",
      "metadata": {
        "colab": {
          "base_uri": "https://localhost:8080/",
          "height": 286
        },
        "id": "pgSiaNdUMk6m",
        "outputId": "8d936ed0-3ff5-4f2b-f378-7868a8f9b37b"
      },
      "source": [
        "import matplotlib.pyplot as plt\n",
        "df1=df.select(\"label\").groupby(\"label\").count().orderBy(desc(\"count\")).toPandas()\n",
        "plt.xlim(0, 100)\n",
        "plt.ylim(0, 10000)\n",
        "plt.bar(df1[\"count\"],df1[\"label\"])"
      ],
      "execution_count": null,
      "outputs": [
        {
          "output_type": "execute_result",
          "data": {
            "text/plain": [
              "<BarContainer object of 723 artists>"
            ]
          },
          "metadata": {},
          "execution_count": 14
        },
        {
          "output_type": "display_data",
          "data": {
            "image/png": "[encoded data removed]",
            "text/plain": [
              "<Figure size 432x288 with 1 Axes>"
            ]
          },
          "metadata": {
            "needs_background": "light"
          }
        }
      ]
    },
    {
      "cell_type": "markdown",
      "metadata": {
        "id": "atFhqOQTyOJ_"
      },
      "source": [
        "Nous remarquons que la distribution de la target (price) est déséquilibrer, nous lui appliquerons une tranformation log afin de mieux normaliser la distribution"
      ]
    },
    {
      "cell_type": "code",
      "metadata": {
        "colab": {
          "base_uri": "https://localhost:8080/",
          "height": 316
        },
        "id": "TV2-nksSKJUA",
        "outputId": "3f5193a7-adb6-41e0-cf78-252d0dd80b52"
      },
      "source": [
        "import numpy as np\n",
        "df1=df.select(\"label\").groupby(\"label\").count().orderBy(desc(\"count\")).toPandas()\n",
        "plt.xlim(0, 100)\n",
        "plt.ylim(0, 15)\n",
        "plt.bar(df1[\"count\"],np.log(df1[\"label\"]))"
      ],
      "execution_count": null,
      "outputs": [
        {
          "output_type": "stream",
          "name": "stderr",
          "text": [
            "/usr/local/lib/python3.7/dist-packages/pandas/core/series.py:726: RuntimeWarning: divide by zero encountered in log\n",
            "  result = getattr(ufunc, method)(*inputs, **kwargs)\n"
          ]
        },
        {
          "output_type": "execute_result",
          "data": {
            "text/plain": [
              "<BarContainer object of 723 artists>"
            ]
          },
          "metadata": {},
          "execution_count": 15
        },
        {
          "output_type": "display_data",
          "data": {
            "image/png": "[encoded data removed]",
            "text/plain": [
              "<Figure size 432x288 with 1 Axes>"
            ]
          },
          "metadata": {
            "needs_background": "light"
          }
        }
      ]
    },
    {
      "cell_type": "markdown",
      "metadata": {
        "id": "WCIm0gynIA-_"
      },
      "source": [
        "maintenant nous avons une distribution bien équilibrée"
      ]
    },
    {
      "cell_type": "markdown",
      "metadata": {
        "id": "Aqe1hN-FzIg_"
      },
      "source": [
        "L'attribut neighbourhood"
      ]
    },
    {
      "cell_type": "code",
      "metadata": {
        "colab": {
          "base_uri": "https://localhost:8080/",
          "height": 381
        },
        "id": "mtnj7tFIcogM",
        "outputId": "a64366aa-b4bf-4cfd-ddc8-ccd72893b8ae"
      },
      "source": [
        "df1=df.select(\"neighbourhood\").groupby(\"neighbourhood\").count().orderBy(desc(\"count\")).toPandas()\n",
        "plt.xlim(0, 20)\n",
        "plt.ylim(0, 5000)\n",
        "plt.xticks(rotation=90)\n",
        "plt.bar(df1[\"neighbourhood\"],df1[\"count\"])"
      ],
      "execution_count": null,
      "outputs": [
        {
          "output_type": "execute_result",
          "data": {
            "text/plain": [
              "<BarContainer object of 20 artists>"
            ]
          },
          "metadata": {},
          "execution_count": 16
        },
        {
          "output_type": "display_data",
          "data": {
            "image/png": "[encoded data removed]",
            "text/plain": [
              "<Figure size 432x288 with 1 Axes>"
            ]
          },
          "metadata": {
            "needs_background": "light"
          }
        }
      ]
    },
    {
      "cell_type": "markdown",
      "metadata": {
        "id": "85bFGxbK0PHK"
      },
      "source": [
        "*Nous* remarquons que même l'attribut neighboorhood est déséquilibré, nous vérifions que le neighboorhood est équilibré selon les valeurs de prix."
      ]
    },
    {
      "cell_type": "code",
      "metadata": {
        "colab": {
          "base_uri": "https://localhost:8080/",
          "height": 381
        },
        "id": "twUdnU43Iocx",
        "outputId": "cd3474d5-4e5a-4b0e-9983-1ef8c92590bb"
      },
      "source": [
        "from pyspark.sql.functions import mean\n",
        "\n",
        "df1=df.groupby(\"neighbourhood\").agg(mean(\"label\")).orderBy(desc(\"avg(label)\")).toPandas()\n",
        "\n",
        "plt.xlim(0, 20)\n",
        "plt.ylim(0, 300)\n",
        "plt.xticks(rotation=90)\n",
        "plt.bar(df1[\"neighbourhood\"],df1[\"avg(label)\"])"
      ],
      "execution_count": null,
      "outputs": [
        {
          "output_type": "execute_result",
          "data": {
            "text/plain": [
              "<BarContainer object of 20 artists>"
            ]
          },
          "metadata": {},
          "execution_count": 17
        },
        {
          "output_type": "display_data",
          "data": {
            "image/png": "[encoded data removed]",
            "text/plain": [
              "<Figure size 432x288 with 1 Axes>"
            ]
          },
          "metadata": {
            "needs_background": "light"
          }
        }
      ]
    },
    {
      "cell_type": "markdown",
      "metadata": {
        "id": "tq4b8elE1z5C"
      },
      "source": [
        "nous utiliserons la même procédure pour tous les attributs.à chaque fois, nous visualisons les valeurs des attributs en fonction du nombre d'occurrences et de la moyenne des prix.aprés on va essayé de supprimer si c'est possible les attributs non pertinante "
      ]
    },
    {
      "cell_type": "markdown",
      "metadata": {
        "id": "YCjpJn4D2YvY"
      },
      "source": [
        "L'attribut room_type\n",
        "\n",
        "represente le type de la chambre"
      ]
    },
    {
      "cell_type": "code",
      "metadata": {
        "colab": {
          "base_uri": "https://localhost:8080/",
          "height": 357
        },
        "id": "Ok9Gzk8mK1Z4",
        "outputId": "4804013a-cbb5-49b0-a47d-ce26c62c3d06"
      },
      "source": [
        "df1=df.select(\"room_type\").groupby(\"room_type\").count().orderBy(desc(\"count\")).toPandas()\n",
        "plt.xlim(0, 4)\n",
        "plt.ylim(0, 35000)\n",
        "plt.xticks(rotation=90)\n",
        "plt.bar(df1[\"room_type\"],df1[\"count\"])"
      ],
      "execution_count": null,
      "outputs": [
        {
          "output_type": "execute_result",
          "data": {
            "text/plain": [
              "<BarContainer object of 4 artists>"
            ]
          },
          "metadata": {},
          "execution_count": 18
        },
        {
          "output_type": "display_data",
          "data": {
            "image/png": "[encoded data removed]",
            "text/plain": [
              "<Figure size 432x288 with 1 Axes>"
            ]
          },
          "metadata": {
            "needs_background": "light"
          }
        }
      ]
    },
    {
      "cell_type": "code",
      "metadata": {
        "colab": {
          "base_uri": "https://localhost:8080/",
          "height": 357
        },
        "id": "NVqdHdnEegb5",
        "outputId": "85d1f30f-abc2-4fb5-8c1c-89dfc4c6f51a"
      },
      "source": [
        "\n",
        "df1=df.groupby(\"room_type\").agg(mean(\"label\")).orderBy(desc(\"avg(label)\")).toPandas()\n",
        "\n",
        "plt.xlim(0, 4)\n",
        "plt.ylim(0, 300)\n",
        "plt.xticks(rotation=90)\n",
        "plt.bar(df1[\"room_type\"],df1[\"avg(label)\"])"
      ],
      "execution_count": null,
      "outputs": [
        {
          "output_type": "execute_result",
          "data": {
            "text/plain": [
              "<BarContainer object of 4 artists>"
            ]
          },
          "metadata": {},
          "execution_count": 19
        },
        {
          "output_type": "display_data",
          "data": {
            "image/png": "[encoded data removed]",
            "text/plain": [
              "<Figure size 432x288 with 1 Axes>"
            ]
          },
          "metadata": {
            "needs_background": "light"
          }
        }
      ]
    },
    {
      "cell_type": "markdown",
      "metadata": {
        "id": "xrpTgUns2fBx"
      },
      "source": [
        "L'attribut availability_365\n",
        "\n",
        "C'est le nombre de nuits disponibles à louer pendant 1 année (365 jours)\n"
      ]
    },
    {
      "cell_type": "code",
      "metadata": {
        "colab": {
          "base_uri": "https://localhost:8080/",
          "height": 295
        },
        "id": "WvKHeF6YU7bF",
        "outputId": "e9f45c37-fcc3-4546-90e2-475ac1fe17da"
      },
      "source": [
        "df1=df.select(\"availability_365\").groupby(\"availability_365\").count().orderBy(desc(\"count\")).toPandas()\n",
        "plt.xlim(0, 500)\n",
        "plt.ylim(0, 500)\n",
        "plt.xticks(rotation=90)\n",
        "plt.bar(df1[\"availability_365\"],df1[\"count\"])"
      ],
      "execution_count": null,
      "outputs": [
        {
          "output_type": "execute_result",
          "data": {
            "text/plain": [
              "<BarContainer object of 366 artists>"
            ]
          },
          "metadata": {},
          "execution_count": 44
        },
        {
          "output_type": "display_data",
          "data": {
            "image/png": "[encoded data removed]",
            "text/plain": [
              "<Figure size 432x288 with 1 Axes>"
            ]
          },
          "metadata": {
            "needs_background": "light"
          }
        }
      ]
    },
    {
      "cell_type": "code",
      "metadata": {
        "colab": {
          "base_uri": "https://localhost:8080/",
          "height": 295
        },
        "id": "9S1zb-nier8G",
        "outputId": "58bf2ab7-2af2-4cdf-ce6b-64bad99e0349"
      },
      "source": [
        "df1=df.groupby(\"availability_365\").agg(mean(\"label\")).orderBy(desc(\"avg(label)\")).toPandas()\n",
        "\n",
        "plt.xlim(0, 400)\n",
        "plt.ylim(0, 300)\n",
        "plt.xticks(rotation=90)\n",
        "plt.bar(df1[\"availability_365\"],df1[\"avg(label)\"])"
      ],
      "execution_count": null,
      "outputs": [
        {
          "output_type": "execute_result",
          "data": {
            "text/plain": [
              "<BarContainer object of 366 artists>"
            ]
          },
          "metadata": {},
          "execution_count": 45
        },
        {
          "output_type": "display_data",
          "data": {
            "image/png": "[encoded data removed]",
            "text/plain": [
              "<Figure size 432x288 with 1 Axes>"
            ]
          },
          "metadata": {
            "needs_background": "light"
          }
        }
      ]
    },
    {
      "cell_type": "markdown",
      "metadata": {
        "id": "MGnGCjM42kHR"
      },
      "source": [
        "L'attribut reviews_per_month"
      ]
    },
    {
      "cell_type": "code",
      "metadata": {
        "colab": {
          "base_uri": "https://localhost:8080/",
          "height": 289
        },
        "id": "J2zkBAwwOEKu",
        "outputId": "3e47b1c3-dfb8-4cfc-f554-5d0bc4167ef1"
      },
      "source": [
        "df1=df.select(\"reviews_per_month\").groupby(\"reviews_per_month\").count().orderBy(desc(\"count\")).toPandas()\n",
        "plt.xlim(0, 10)\n",
        "plt.ylim(0, 2000)\n",
        "plt.xticks(rotation=90)\n",
        "plt.bar(df1[\"reviews_per_month\"],df1[\"count\"])"
      ],
      "execution_count": null,
      "outputs": [
        {
          "output_type": "execute_result",
          "data": {
            "text/plain": [
              "<BarContainer object of 741 artists>"
            ]
          },
          "metadata": {},
          "execution_count": 46
        },
        {
          "output_type": "display_data",
          "data": {
            "image/png": "[encoded data removed]",
            "text/plain": [
              "<Figure size 432x288 with 1 Axes>"
            ]
          },
          "metadata": {
            "needs_background": "light"
          }
        }
      ]
    },
    {
      "cell_type": "code",
      "metadata": {
        "colab": {
          "base_uri": "https://localhost:8080/",
          "height": 289
        },
        "id": "RYwPIWNKEX2C",
        "outputId": "c4330732-f444-469f-81ea-b15b9bfe3931"
      },
      "source": [
        "df1=df.groupby(\"reviews_per_month\").agg(mean(\"label\")).orderBy(desc(\"avg(label)\")).toPandas()\n",
        "\n",
        "plt.xlim(0, 25)\n",
        "plt.ylim(0, 800)\n",
        "plt.xticks(rotation=90)\n",
        "plt.bar(df1[\"reviews_per_month\"],df1[\"avg(label)\"])"
      ],
      "execution_count": null,
      "outputs": [
        {
          "output_type": "execute_result",
          "data": {
            "text/plain": [
              "<BarContainer object of 741 artists>"
            ]
          },
          "metadata": {},
          "execution_count": 47
        },
        {
          "output_type": "display_data",
          "data": {
            "image/png": "[encoded data removed]",
            "text/plain": [
              "<Figure size 432x288 with 1 Axes>"
            ]
          },
          "metadata": {
            "needs_background": "light"
          }
        }
      ]
    },
    {
      "cell_type": "markdown",
      "metadata": {
        "id": "jjymbaiWEeY2"
      },
      "source": [
        "L'attribut number_of_reviews_ltm"
      ]
    },
    {
      "cell_type": "code",
      "metadata": {
        "colab": {
          "base_uri": "https://localhost:8080/",
          "height": 289
        },
        "id": "H_T2TqlGEZDx",
        "outputId": "0c1189eb-ccb7-4768-c4e4-f96fb12f89ed"
      },
      "source": [
        "df1=df.select(\"number_of_reviews_ltm\").groupby(\"number_of_reviews_ltm\").count().orderBy(desc(\"count\")).toPandas()\n",
        "plt.xlim(0, 60)\n",
        "plt.ylim(0, 10000)\n",
        "plt.xticks(rotation=90)\n",
        "plt.bar(df1[\"number_of_reviews_ltm\"],df1[\"count\"])"
      ],
      "execution_count": null,
      "outputs": [
        {
          "output_type": "execute_result",
          "data": {
            "text/plain": [
              "<BarContainer object of 131 artists>"
            ]
          },
          "metadata": {},
          "execution_count": 20
        },
        {
          "output_type": "display_data",
          "data": {
            "image/png": "[encoded data removed]",
            "text/plain": [
              "<Figure size 432x288 with 1 Axes>"
            ]
          },
          "metadata": {
            "needs_background": "light"
          }
        }
      ]
    },
    {
      "cell_type": "code",
      "metadata": {
        "colab": {
          "base_uri": "https://localhost:8080/",
          "height": 291
        },
        "id": "cOZZdg00EizM",
        "outputId": "b83f06b3-4cc6-4991-80e9-85dcac5a263b"
      },
      "source": [
        "df1=df.groupby(\"number_of_reviews_ltm\").agg(mean(\"label\")).orderBy(desc(\"avg(label)\")).toPandas()\n",
        "\n",
        "plt.xlim(0, 100)\n",
        "plt.ylim(0, 650)\n",
        "plt.xticks(rotation=90)\n",
        "plt.bar(df1[\"number_of_reviews_ltm\"],df1[\"avg(label)\"])"
      ],
      "execution_count": null,
      "outputs": [
        {
          "output_type": "execute_result",
          "data": {
            "text/plain": [
              "<BarContainer object of 131 artists>"
            ]
          },
          "metadata": {},
          "execution_count": 21
        },
        {
          "output_type": "display_data",
          "data": {
            "image/png": "[encoded data removed]",
            "text/plain": [
              "<Figure size 432x288 with 1 Axes>"
            ]
          },
          "metadata": {
            "needs_background": "light"
          }
        }
      ]
    },
    {
      "cell_type": "code",
      "metadata": {
        "id": "afZXmswNEnGA"
      },
      "source": [
        "from pyspark.sql.functions import log\n",
        "df = df.withColumn(\"label\",log(df[\"label\"]).cast(DoubleType()))"
      ],
      "execution_count": null,
      "outputs": []
    },
    {
      "cell_type": "markdown",
      "metadata": {
        "id": "MrfiAome6dzk"
      },
      "source": [
        "Nous allons essayer de voir la matrice de corrélation, pour voir les attributs corrélés."
      ]
    },
    {
      "cell_type": "code",
      "metadata": {
        "colab": {
          "base_uri": "https://localhost:8080/",
          "height": 266
        },
        "id": "kltCYIh-MrOJ",
        "outputId": "48ea2de5-bf0b-4d02-8083-6fc648c75412"
      },
      "source": [
        "import pandas as pd\n",
        "import numpy as np\n",
        "d=df.toPandas()\n",
        "rs = np.random.RandomState(0)\n",
        "corr = d.corr()\n",
        "corr.style.background_gradient(cmap='BrBG_r')\n",
        "# 'RdBu_r', 'BrBG_r', & PuOr_r are other good diverging colormaps"
      ],
      "execution_count": null,
      "outputs": [
        {
          "output_type": "execute_result",
          "data": {
            "text/html": [
              "<style  type=\"text/css\" >\n",
              "#T_52e9562a_4619_11ec_9a34_0242ac1c0002row0_col0,#T_52e9562a_4619_11ec_9a34_0242ac1c0002row1_col1,#T_52e9562a_4619_11ec_9a34_0242ac1c0002row2_col2,#T_52e9562a_4619_11ec_9a34_0242ac1c0002row3_col3,#T_52e9562a_4619_11ec_9a34_0242ac1c0002row4_col4,#T_52e9562a_4619_11ec_9a34_0242ac1c0002row5_col5,#T_52e9562a_4619_11ec_9a34_0242ac1c0002row6_col6{\n",
              "            background-color:  #543005;\n",
              "            color:  #f1f1f1;\n",
              "        }#T_52e9562a_4619_11ec_9a34_0242ac1c0002row0_col1{\n",
              "            background-color:  #4da89f;\n",
              "            color:  #000000;\n",
              "        }#T_52e9562a_4619_11ec_9a34_0242ac1c0002row0_col2{\n",
              "            background-color:  #066b63;\n",
              "            color:  #f1f1f1;\n",
              "        }#T_52e9562a_4619_11ec_9a34_0242ac1c0002row0_col3,#T_52e9562a_4619_11ec_9a34_0242ac1c0002row1_col2,#T_52e9562a_4619_11ec_9a34_0242ac1c0002row1_col4,#T_52e9562a_4619_11ec_9a34_0242ac1c0002row1_col5,#T_52e9562a_4619_11ec_9a34_0242ac1c0002row1_col6,#T_52e9562a_4619_11ec_9a34_0242ac1c0002row2_col0,#T_52e9562a_4619_11ec_9a34_0242ac1c0002row2_col1{\n",
              "            background-color:  #003c30;\n",
              "            color:  #f1f1f1;\n",
              "        }#T_52e9562a_4619_11ec_9a34_0242ac1c0002row0_col4,#T_52e9562a_4619_11ec_9a34_0242ac1c0002row0_col6{\n",
              "            background-color:  #003e32;\n",
              "            color:  #f1f1f1;\n",
              "        }#T_52e9562a_4619_11ec_9a34_0242ac1c0002row0_col5{\n",
              "            background-color:  #015147;\n",
              "            color:  #f1f1f1;\n",
              "        }#T_52e9562a_4619_11ec_9a34_0242ac1c0002row1_col0,#T_52e9562a_4619_11ec_9a34_0242ac1c0002row6_col1{\n",
              "            background-color:  #147870;\n",
              "            color:  #f1f1f1;\n",
              "        }#T_52e9562a_4619_11ec_9a34_0242ac1c0002row1_col3{\n",
              "            background-color:  #003f34;\n",
              "            color:  #f1f1f1;\n",
              "        }#T_52e9562a_4619_11ec_9a34_0242ac1c0002row2_col3{\n",
              "            background-color:  #015b52;\n",
              "            color:  #f1f1f1;\n",
              "        }#T_52e9562a_4619_11ec_9a34_0242ac1c0002row2_col4{\n",
              "            background-color:  #046961;\n",
              "            color:  #f1f1f1;\n",
              "        }#T_52e9562a_4619_11ec_9a34_0242ac1c0002row2_col5{\n",
              "            background-color:  #c9eae6;\n",
              "            color:  #000000;\n",
              "        }#T_52e9562a_4619_11ec_9a34_0242ac1c0002row2_col6{\n",
              "            background-color:  #01584f;\n",
              "            color:  #f1f1f1;\n",
              "        }#T_52e9562a_4619_11ec_9a34_0242ac1c0002row3_col0,#T_52e9562a_4619_11ec_9a34_0242ac1c0002row4_col0{\n",
              "            background-color:  #00483d;\n",
              "            color:  #f1f1f1;\n",
              "        }#T_52e9562a_4619_11ec_9a34_0242ac1c0002row3_col1{\n",
              "            background-color:  #167a72;\n",
              "            color:  #f1f1f1;\n",
              "        }#T_52e9562a_4619_11ec_9a34_0242ac1c0002row3_col2{\n",
              "            background-color:  #35978f;\n",
              "            color:  #000000;\n",
              "        }#T_52e9562a_4619_11ec_9a34_0242ac1c0002row3_col4,#T_52e9562a_4619_11ec_9a34_0242ac1c0002row4_col3{\n",
              "            background-color:  #f1dfb3;\n",
              "            color:  #000000;\n",
              "        }#T_52e9562a_4619_11ec_9a34_0242ac1c0002row3_col5{\n",
              "            background-color:  #6dbfb4;\n",
              "            color:  #000000;\n",
              "        }#T_52e9562a_4619_11ec_9a34_0242ac1c0002row3_col6{\n",
              "            background-color:  #def0ed;\n",
              "            color:  #000000;\n",
              "        }#T_52e9562a_4619_11ec_9a34_0242ac1c0002row4_col1{\n",
              "            background-color:  #10746c;\n",
              "            color:  #f1f1f1;\n",
              "        }#T_52e9562a_4619_11ec_9a34_0242ac1c0002row4_col2,#T_52e9562a_4619_11ec_9a34_0242ac1c0002row6_col5{\n",
              "            background-color:  #47a49b;\n",
              "            color:  #000000;\n",
              "        }#T_52e9562a_4619_11ec_9a34_0242ac1c0002row4_col5{\n",
              "            background-color:  #79c8bc;\n",
              "            color:  #000000;\n",
              "        }#T_52e9562a_4619_11ec_9a34_0242ac1c0002row4_col6{\n",
              "            background-color:  #edd9a8;\n",
              "            color:  #000000;\n",
              "        }#T_52e9562a_4619_11ec_9a34_0242ac1c0002row5_col0{\n",
              "            background-color:  #004135;\n",
              "            color:  #f1f1f1;\n",
              "        }#T_52e9562a_4619_11ec_9a34_0242ac1c0002row5_col1{\n",
              "            background-color:  #015a50;\n",
              "            color:  #f1f1f1;\n",
              "        }#T_52e9562a_4619_11ec_9a34_0242ac1c0002row5_col2{\n",
              "            background-color:  #ddefed;\n",
              "            color:  #000000;\n",
              "        }#T_52e9562a_4619_11ec_9a34_0242ac1c0002row5_col3{\n",
              "            background-color:  #44a299;\n",
              "            color:  #000000;\n",
              "        }#T_52e9562a_4619_11ec_9a34_0242ac1c0002row5_col4{\n",
              "            background-color:  #55aea5;\n",
              "            color:  #000000;\n",
              "        }#T_52e9562a_4619_11ec_9a34_0242ac1c0002row5_col6{\n",
              "            background-color:  #23867e;\n",
              "            color:  #000000;\n",
              "        }#T_52e9562a_4619_11ec_9a34_0242ac1c0002row6_col0{\n",
              "            background-color:  #004c42;\n",
              "            color:  #f1f1f1;\n",
              "        }#T_52e9562a_4619_11ec_9a34_0242ac1c0002row6_col2{\n",
              "            background-color:  #33958d;\n",
              "            color:  #000000;\n",
              "        }#T_52e9562a_4619_11ec_9a34_0242ac1c0002row6_col3{\n",
              "            background-color:  #e0f0ee;\n",
              "            color:  #000000;\n",
              "        }#T_52e9562a_4619_11ec_9a34_0242ac1c0002row6_col4{\n",
              "            background-color:  #ecd8a5;\n",
              "            color:  #000000;\n",
              "        }</style><table id=\"T_52e9562a_4619_11ec_9a34_0242ac1c0002\" class=\"dataframe\"><thead>    <tr>        <th class=\"blank level0\" ></th>        <th class=\"col_heading level0 col0\" >latitude</th>        <th class=\"col_heading level0 col1\" >longitude</th>        <th class=\"col_heading level0 col2\" >label</th>        <th class=\"col_heading level0 col3\" >number_of_reviews</th>        <th class=\"col_heading level0 col4\" >reviews_per_month</th>        <th class=\"col_heading level0 col5\" >availability_365</th>        <th class=\"col_heading level0 col6\" >number_of_reviews_ltm</th>    </tr></thead><tbody>\n",
              "                <tr>\n",
              "                        <th id=\"T_52e9562a_4619_11ec_9a34_0242ac1c0002level0_row0\" class=\"row_heading level0 row0\" >latitude</th>\n",
              "                        <td id=\"T_52e9562a_4619_11ec_9a34_0242ac1c0002row0_col0\" class=\"data row0 col0\" >1.000000</td>\n",
              "                        <td id=\"T_52e9562a_4619_11ec_9a34_0242ac1c0002row0_col1\" class=\"data row0 col1\" >0.092495</td>\n",
              "                        <td id=\"T_52e9562a_4619_11ec_9a34_0242ac1c0002row0_col2\" class=\"data row0 col2\" >-0.052535</td>\n",
              "                        <td id=\"T_52e9562a_4619_11ec_9a34_0242ac1c0002row0_col3\" class=\"data row0 col3\" >-0.022854</td>\n",
              "                        <td id=\"T_52e9562a_4619_11ec_9a34_0242ac1c0002row0_col4\" class=\"data row0 col4\" >-0.021811</td>\n",
              "                        <td id=\"T_52e9562a_4619_11ec_9a34_0242ac1c0002row0_col5\" class=\"data row0 col5\" >-0.039625</td>\n",
              "                        <td id=\"T_52e9562a_4619_11ec_9a34_0242ac1c0002row0_col6\" class=\"data row0 col6\" >-0.011252</td>\n",
              "            </tr>\n",
              "            <tr>\n",
              "                        <th id=\"T_52e9562a_4619_11ec_9a34_0242ac1c0002level0_row1\" class=\"row_heading level0 row1\" >longitude</th>\n",
              "                        <td id=\"T_52e9562a_4619_11ec_9a34_0242ac1c0002row1_col0\" class=\"data row1 col0\" >0.092495</td>\n",
              "                        <td id=\"T_52e9562a_4619_11ec_9a34_0242ac1c0002row1_col1\" class=\"data row1 col1\" >1.000000</td>\n",
              "                        <td id=\"T_52e9562a_4619_11ec_9a34_0242ac1c0002row1_col2\" class=\"data row1 col2\" >-0.184011</td>\n",
              "                        <td id=\"T_52e9562a_4619_11ec_9a34_0242ac1c0002row1_col3\" class=\"data row1 col3\" >-0.013476</td>\n",
              "                        <td id=\"T_52e9562a_4619_11ec_9a34_0242ac1c0002row1_col4\" class=\"data row1 col4\" >-0.028523</td>\n",
              "                        <td id=\"T_52e9562a_4619_11ec_9a34_0242ac1c0002row1_col5\" class=\"data row1 col5\" >-0.098541</td>\n",
              "                        <td id=\"T_52e9562a_4619_11ec_9a34_0242ac1c0002row1_col6\" class=\"data row1 col6\" >-0.017738</td>\n",
              "            </tr>\n",
              "            <tr>\n",
              "                        <th id=\"T_52e9562a_4619_11ec_9a34_0242ac1c0002level0_row2\" class=\"row_heading level0 row2\" >label</th>\n",
              "                        <td id=\"T_52e9562a_4619_11ec_9a34_0242ac1c0002row2_col0\" class=\"data row2 col0\" >-0.052535</td>\n",
              "                        <td id=\"T_52e9562a_4619_11ec_9a34_0242ac1c0002row2_col1\" class=\"data row2 col1\" >-0.184011</td>\n",
              "                        <td id=\"T_52e9562a_4619_11ec_9a34_0242ac1c0002row2_col2\" class=\"data row2 col2\" >1.000000</td>\n",
              "                        <td id=\"T_52e9562a_4619_11ec_9a34_0242ac1c0002row2_col3\" class=\"data row2 col3\" >0.053601</td>\n",
              "                        <td id=\"T_52e9562a_4619_11ec_9a34_0242ac1c0002row2_col4\" class=\"data row2 col4\" >0.081866</td>\n",
              "                        <td id=\"T_52e9562a_4619_11ec_9a34_0242ac1c0002row2_col5\" class=\"data row2 col5\" >0.345577</td>\n",
              "                        <td id=\"T_52e9562a_4619_11ec_9a34_0242ac1c0002row2_col6\" class=\"data row2 col6\" >0.050531</td>\n",
              "            </tr>\n",
              "            <tr>\n",
              "                        <th id=\"T_52e9562a_4619_11ec_9a34_0242ac1c0002level0_row3\" class=\"row_heading level0 row3\" >number_of_reviews</th>\n",
              "                        <td id=\"T_52e9562a_4619_11ec_9a34_0242ac1c0002row3_col0\" class=\"data row3 col0\" >-0.022854</td>\n",
              "                        <td id=\"T_52e9562a_4619_11ec_9a34_0242ac1c0002row3_col1\" class=\"data row3 col1\" >-0.013476</td>\n",
              "                        <td id=\"T_52e9562a_4619_11ec_9a34_0242ac1c0002row3_col2\" class=\"data row3 col2\" >0.053601</td>\n",
              "                        <td id=\"T_52e9562a_4619_11ec_9a34_0242ac1c0002row3_col3\" class=\"data row3 col3\" >1.000000</td>\n",
              "                        <td id=\"T_52e9562a_4619_11ec_9a34_0242ac1c0002row3_col4\" class=\"data row3 col4\" >0.613897</td>\n",
              "                        <td id=\"T_52e9562a_4619_11ec_9a34_0242ac1c0002row3_col5\" class=\"data row3 col5\" >0.203916</td>\n",
              "                        <td id=\"T_52e9562a_4619_11ec_9a34_0242ac1c0002row3_col6\" class=\"data row3 col6\" >0.440921</td>\n",
              "            </tr>\n",
              "            <tr>\n",
              "                        <th id=\"T_52e9562a_4619_11ec_9a34_0242ac1c0002level0_row4\" class=\"row_heading level0 row4\" >reviews_per_month</th>\n",
              "                        <td id=\"T_52e9562a_4619_11ec_9a34_0242ac1c0002row4_col0\" class=\"data row4 col0\" >-0.021811</td>\n",
              "                        <td id=\"T_52e9562a_4619_11ec_9a34_0242ac1c0002row4_col1\" class=\"data row4 col1\" >-0.028523</td>\n",
              "                        <td id=\"T_52e9562a_4619_11ec_9a34_0242ac1c0002row4_col2\" class=\"data row4 col2\" >0.081866</td>\n",
              "                        <td id=\"T_52e9562a_4619_11ec_9a34_0242ac1c0002row4_col3\" class=\"data row4 col3\" >0.613897</td>\n",
              "                        <td id=\"T_52e9562a_4619_11ec_9a34_0242ac1c0002row4_col4\" class=\"data row4 col4\" >1.000000</td>\n",
              "                        <td id=\"T_52e9562a_4619_11ec_9a34_0242ac1c0002row4_col5\" class=\"data row4 col5\" >0.222965</td>\n",
              "                        <td id=\"T_52e9562a_4619_11ec_9a34_0242ac1c0002row4_col6\" class=\"data row4 col6\" >0.633908</td>\n",
              "            </tr>\n",
              "            <tr>\n",
              "                        <th id=\"T_52e9562a_4619_11ec_9a34_0242ac1c0002level0_row5\" class=\"row_heading level0 row5\" >availability_365</th>\n",
              "                        <td id=\"T_52e9562a_4619_11ec_9a34_0242ac1c0002row5_col0\" class=\"data row5 col0\" >-0.039625</td>\n",
              "                        <td id=\"T_52e9562a_4619_11ec_9a34_0242ac1c0002row5_col1\" class=\"data row5 col1\" >-0.098541</td>\n",
              "                        <td id=\"T_52e9562a_4619_11ec_9a34_0242ac1c0002row5_col2\" class=\"data row5 col2\" >0.345577</td>\n",
              "                        <td id=\"T_52e9562a_4619_11ec_9a34_0242ac1c0002row5_col3\" class=\"data row5 col3\" >0.203916</td>\n",
              "                        <td id=\"T_52e9562a_4619_11ec_9a34_0242ac1c0002row5_col4\" class=\"data row5 col4\" >0.222965</td>\n",
              "                        <td id=\"T_52e9562a_4619_11ec_9a34_0242ac1c0002row5_col5\" class=\"data row5 col5\" >1.000000</td>\n",
              "                        <td id=\"T_52e9562a_4619_11ec_9a34_0242ac1c0002row5_col6\" class=\"data row5 col6\" >0.150240</td>\n",
              "            </tr>\n",
              "            <tr>\n",
              "                        <th id=\"T_52e9562a_4619_11ec_9a34_0242ac1c0002level0_row6\" class=\"row_heading level0 row6\" >number_of_reviews_ltm</th>\n",
              "                        <td id=\"T_52e9562a_4619_11ec_9a34_0242ac1c0002row6_col0\" class=\"data row6 col0\" >-0.011252</td>\n",
              "                        <td id=\"T_52e9562a_4619_11ec_9a34_0242ac1c0002row6_col1\" class=\"data row6 col1\" >-0.017738</td>\n",
              "                        <td id=\"T_52e9562a_4619_11ec_9a34_0242ac1c0002row6_col2\" class=\"data row6 col2\" >0.050531</td>\n",
              "                        <td id=\"T_52e9562a_4619_11ec_9a34_0242ac1c0002row6_col3\" class=\"data row6 col3\" >0.440921</td>\n",
              "                        <td id=\"T_52e9562a_4619_11ec_9a34_0242ac1c0002row6_col4\" class=\"data row6 col4\" >0.633908</td>\n",
              "                        <td id=\"T_52e9562a_4619_11ec_9a34_0242ac1c0002row6_col5\" class=\"data row6 col5\" >0.150240</td>\n",
              "                        <td id=\"T_52e9562a_4619_11ec_9a34_0242ac1c0002row6_col6\" class=\"data row6 col6\" >1.000000</td>\n",
              "            </tr>\n",
              "    </tbody></table>"
            ],
            "text/plain": [
              "<pandas.io.formats.style.Styler at 0x7f74416e6b90>"
            ]
          },
          "metadata": {},
          "execution_count": 51
        }
      ]
    },
    {
      "cell_type": "markdown",
      "metadata": {
        "id": "X8I8K_FIOBha"
      },
      "source": [
        "Nous remarquons que plusieurs attributs sont corrélés les uns aux autres,par exemple, le coefficient de corrélation entre le nombre de revues et le nombre de revues par mois est élevé et c'est logique car plus il y a de revues par mois, plus le nombre de revues est elevé,on remarque également qu'il n'y a pas de corrélation entre le prix et le nombre de revues, et c'est logique car généralement on ne prend pas en compte le nombre de revenus mais le contenu de ces derniers.aussi on remarque que il y une forte corrélation entre les attributs longitude et latitude."
      ]
    },
    {
      "cell_type": "markdown",
      "metadata": {
        "id": "Up66ix4KE5A6"
      },
      "source": [
        "Pour la suite nous allons faire :\n",
        "\n",
        "*   standarisation des données\n",
        "*   utiliser le one hot encoding pour les variables catégorielles\n",
        "*   Tester d'autres modéle de regression\n",
        "\n",
        "en fin on va essayer d'utiliser PCA pour reduire la dimension et voir si cette technique améliore bien les resultats ou non "
      ]
    },
    {
      "cell_type": "code",
      "metadata": {
        "colab": {
          "base_uri": "https://localhost:8080/"
        },
        "id": "cM1pCMJtvzzw",
        "outputId": "6aea9994-b398-46c7-eb4f-3aa3dd2a5f52"
      },
      "source": [
        "#Standatisation \n",
        "\n",
        "from pyspark.ml.feature import MinMaxScaler\n",
        "from pyspark.ml.feature import VectorAssembler\n",
        "from pyspark.ml import Pipeline\n",
        "from pyspark.sql.functions import udf\n",
        "from pyspark.sql.types import DoubleType\n",
        "\n",
        "unlist = udf(lambda x: round(float(list(x)[0]),3), DoubleType())\n",
        "\n",
        "for i in [\"latitude\",\"longitude\",\"number_of_reviews\",\"reviews_per_month\",\"availability_365\",\"number_of_reviews_ltm\"]:\n",
        "    assembler = VectorAssembler(inputCols=[i],outputCol=i+\"_Vect\")\n",
        "\n",
        "    scaler = MinMaxScaler(inputCol=i+\"_Vect\", outputCol=i+\"_Scaled\")\n",
        "\n",
        "    pipeline = Pipeline(stages=[assembler, scaler])\n",
        "\n",
        "    df = pipeline.fit(df).transform(df).withColumn(i+\"_Scaled\", unlist(i+\"_Scaled\")).drop(i+\"_Vect\")\n",
        "\n",
        "print(\"After Scaling :\")\n",
        "df.show(5)"
      ],
      "execution_count": null,
      "outputs": [
        {
          "output_type": "stream",
          "name": "stdout",
          "text": [
            "After Scaling :\n",
            "+-----------------+--------+---------+---------------+-----+-----------------+-----------------+----------------+---------------------+---------------+----------------+------------------------+------------------------+-----------------------+----------------------------+\n",
            "|    neighbourhood|latitude|longitude|      room_type|label|number_of_reviews|reviews_per_month|availability_365|number_of_reviews_ltm|latitude_Scaled|longitude_Scaled|number_of_reviews_Scaled|reviews_per_month_Scaled|availability_365_Scaled|number_of_reviews_ltm_Scaled|\n",
            "+-----------------+--------+---------+---------------+-----+-----------------+-----------------+----------------+---------------------+---------------+----------------+------------------------+------------------------+-----------------------+----------------------------+\n",
            "|   Hôtel-de-Ville|48.85247|  2.35835|Entire home/apt|  110|              260|             2.68|              29|                   35|          0.425|           0.553|                   0.162|                   0.055|                  0.079|                       0.022|\n",
            "|   Hôtel-de-Ville|48.85909|  2.35315|Entire home/apt|  100|              278|             2.26|             257|                    9|          0.497|           0.532|                   0.174|                   0.046|                  0.704|                       0.006|\n",
            "|            Opéra|48.87417|  2.34245|Entire home/apt|  130|                6|             0.07|             348|                    0|           0.66|           0.488|                   0.003|                   0.001|                  0.953|                         0.0|\n",
            "|       Popincourt|48.86373|  2.37093|Entire home/apt|   80|               31|              0.5|             198|                    6|          0.547|           0.605|                   0.019|                    0.01|                  0.542|                       0.004|\n",
            "|Buttes-Montmartre|  48.887|  2.34531|Entire home/apt|   80|               48|             0.37|             254|                    1|          0.798|           0.499|                   0.029|                   0.007|                  0.696|                       0.001|\n",
            "+-----------------+--------+---------+---------------+-----+-----------------+-----------------+----------------+---------------------+---------------+----------------+------------------------+------------------------+-----------------------+----------------------------+\n",
            "only showing top 5 rows\n",
            "\n"
          ]
        }
      ]
    },
    {
      "cell_type": "markdown",
      "metadata": {
        "id": "Piif2pNvRR9V"
      },
      "source": [
        "maintenant nous allons travailler avec les attributs normalisés, nous allons aussi essayer de travailler avec les embedding de onehotencoding"
      ]
    },
    {
      "cell_type": "code",
      "metadata": {
        "colab": {
          "base_uri": "https://localhost:8080/"
        },
        "id": "WpGP4Xx4yr1u",
        "outputId": "cb202ff9-efeb-44bf-f478-b804d27ee2cf"
      },
      "source": [
        "my_col = df.select(['neighbourhood','latitude_Scaled','longitude_Scaled','room_type','label','number_of_reviews_Scaled','reviews_per_month_Scaled','availability_365_Scaled',\"number_of_reviews_ltm_Scaled\"])\n",
        "df = my_col.na.drop()\n",
        "df.printSchema()\n",
        "df.show()"
      ],
      "execution_count": null,
      "outputs": [
        {
          "output_type": "stream",
          "name": "stdout",
          "text": [
            "root\n",
            " |-- neighbourhood: string (nullable = true)\n",
            " |-- latitude_Scaled: double (nullable = true)\n",
            " |-- longitude_Scaled: double (nullable = true)\n",
            " |-- room_type: string (nullable = true)\n",
            " |-- label: integer (nullable = true)\n",
            " |-- number_of_reviews_Scaled: double (nullable = true)\n",
            " |-- reviews_per_month_Scaled: double (nullable = true)\n",
            " |-- availability_365_Scaled: double (nullable = true)\n",
            " |-- number_of_reviews_ltm_Scaled: double (nullable = true)\n",
            "\n",
            "+-------------------+---------------+----------------+---------------+-----+------------------------+------------------------+-----------------------+----------------------------+\n",
            "|      neighbourhood|latitude_Scaled|longitude_Scaled|      room_type|label|number_of_reviews_Scaled|reviews_per_month_Scaled|availability_365_Scaled|number_of_reviews_ltm_Scaled|\n",
            "+-------------------+---------------+----------------+---------------+-----+------------------------+------------------------+-----------------------+----------------------------+\n",
            "|     Hôtel-de-Ville|          0.425|           0.553|Entire home/apt|  110|                   0.162|                   0.055|                  0.079|                       0.022|\n",
            "|     Hôtel-de-Ville|          0.497|           0.532|Entire home/apt|  100|                   0.174|                   0.046|                  0.704|                       0.006|\n",
            "|              Opéra|           0.66|           0.488|Entire home/apt|  130|                   0.003|                   0.001|                  0.953|                         0.0|\n",
            "|         Popincourt|          0.547|           0.605|Entire home/apt|   80|                   0.019|                    0.01|                  0.542|                       0.004|\n",
            "|  Buttes-Montmartre|          0.798|           0.499|Entire home/apt|   80|                   0.029|                   0.007|                  0.696|                       0.001|\n",
            "|  Buttes-Montmartre|          0.801|           0.499|Entire home/apt|   75|                   0.011|                   0.003|                  0.995|                       0.001|\n",
            "|Batignolles-Monceau|          0.713|             0.3|Entire home/apt|  143|                   0.015|                   0.004|                  0.197|                         0.0|\n",
            "|           Entrepôt|          0.626|           0.616|   Private room|  170|                   0.094|                   0.043|                  0.447|                       0.003|\n",
            "|  Buttes-Montmartre|          0.776|           0.477|Entire home/apt|  100|                   0.009|                   0.005|                  0.693|                         0.0|\n",
            "|         Popincourt|          0.554|           0.607|Entire home/apt|   60|                   0.002|                   0.016|                  0.348|                       0.001|\n",
            "|           Gobelins|          0.124|           0.587|Entire home/apt|  110|                   0.053|                   0.016|                  0.899|                         0.0|\n",
            "|         Popincourt|          0.563|           0.624|Entire home/apt|   74|                    0.21|                   0.059|                  0.619|                       0.001|\n",
            "|         Popincourt|          0.419|           0.665|   Private room|   60|                     0.0|                     0.0|                    0.0|                         0.0|\n",
            "|         Popincourt|          0.524|            0.64|Entire home/apt|  139|                   0.014|                   0.012|                    0.0|                       0.001|\n",
            "|  Buttes-Montmartre|          0.751|           0.488|Entire home/apt|   90|                   0.006|                   0.004|                  0.496|                         0.0|\n",
            "|  Buttes-Montmartre|          0.832|           0.494|Entire home/apt|   75|                   0.125|                   0.037|                  0.693|                         0.0|\n",
            "|           Gobelins|          0.235|           0.573|Entire home/apt|   70|                   0.019|                   0.008|                  0.011|                       0.001|\n",
            "|         Luxembourg|          0.422|           0.482|   Private room|  111|                    0.06|                   0.014|                  0.285|                       0.006|\n",
            "|    Buttes-Chaumont|          0.892|           0.655|Entire home/apt|   63|                   0.006|                   0.002|                  0.992|                       0.003|\n",
            "|           Entrepôt|          0.633|           0.567|Entire home/apt|  150|                     0.0|                     0.0|                    0.0|                         0.0|\n",
            "+-------------------+---------------+----------------+---------------+-----+------------------------+------------------------+-----------------------+----------------------------+\n",
            "only showing top 20 rows\n",
            "\n"
          ]
        }
      ]
    },
    {
      "cell_type": "code",
      "metadata": {
        "colab": {
          "base_uri": "https://localhost:8080/",
          "height": 269
        },
        "id": "tqb9KQQI0NrC",
        "outputId": "fb23723a-0b90-4395-9995-32e8bfa556bf"
      },
      "source": [
        "numericCols = [t[0] for t in df.dtypes if (t[1] == 'int' or t[1]=='double')and t[0]!=\"label\"]\n",
        "df.select(numericCols).describe().toPandas().transpose()"
      ],
      "execution_count": null,
      "outputs": [
        {
          "output_type": "execute_result",
          "data": {
            "text/html": [
              "<div>\n",
              "<style scoped>\n",
              "    .dataframe tbody tr th:only-of-type {\n",
              "        vertical-align: middle;\n",
              "    }\n",
              "\n",
              "    .dataframe tbody tr th {\n",
              "        vertical-align: top;\n",
              "    }\n",
              "\n",
              "    .dataframe thead th {\n",
              "        text-align: right;\n",
              "    }\n",
              "</style>\n",
              "<table border=\"1\" class=\"dataframe\">\n",
              "  <thead>\n",
              "    <tr style=\"text-align: right;\">\n",
              "      <th></th>\n",
              "      <th>0</th>\n",
              "      <th>1</th>\n",
              "      <th>2</th>\n",
              "      <th>3</th>\n",
              "      <th>4</th>\n",
              "    </tr>\n",
              "  </thead>\n",
              "  <tbody>\n",
              "    <tr>\n",
              "      <th>summary</th>\n",
              "      <td>count</td>\n",
              "      <td>mean</td>\n",
              "      <td>stddev</td>\n",
              "      <td>min</td>\n",
              "      <td>max</td>\n",
              "    </tr>\n",
              "    <tr>\n",
              "      <th>latitude_Scaled</th>\n",
              "      <td>38622</td>\n",
              "      <td>0.5486431049660832</td>\n",
              "      <td>0.19542656361499805</td>\n",
              "      <td>0.0</td>\n",
              "      <td>1.0</td>\n",
              "    </tr>\n",
              "    <tr>\n",
              "      <th>longitude_Scaled</th>\n",
              "      <td>38622</td>\n",
              "      <td>0.5023736730360953</td>\n",
              "      <td>0.1341704380962539</td>\n",
              "      <td>0.0</td>\n",
              "      <td>1.0</td>\n",
              "    </tr>\n",
              "    <tr>\n",
              "      <th>number_of_reviews_Scaled</th>\n",
              "      <td>38622</td>\n",
              "      <td>0.016346331106621075</td>\n",
              "      <td>0.03104709989729747</td>\n",
              "      <td>0.0</td>\n",
              "      <td>1.0</td>\n",
              "    </tr>\n",
              "    <tr>\n",
              "      <th>reviews_per_month_Scaled</th>\n",
              "      <td>38622</td>\n",
              "      <td>0.015964968152864873</td>\n",
              "      <td>0.024725746994933018</td>\n",
              "      <td>0.0</td>\n",
              "      <td>1.0</td>\n",
              "    </tr>\n",
              "    <tr>\n",
              "      <th>availability_365_Scaled</th>\n",
              "      <td>38622</td>\n",
              "      <td>0.27679180259955344</td>\n",
              "      <td>0.3663589660765347</td>\n",
              "      <td>0.0</td>\n",
              "      <td>1.0</td>\n",
              "    </tr>\n",
              "    <tr>\n",
              "      <th>number_of_reviews_ltm_Scaled</th>\n",
              "      <td>38622</td>\n",
              "      <td>0.0021045259178706405</td>\n",
              "      <td>0.008274502338871913</td>\n",
              "      <td>0.0</td>\n",
              "      <td>1.0</td>\n",
              "    </tr>\n",
              "  </tbody>\n",
              "</table>\n",
              "</div>"
            ],
            "text/plain": [
              "                                  0                      1  ...    3    4\n",
              "summary                       count                   mean  ...  min  max\n",
              "latitude_Scaled               38622     0.5486431049660832  ...  0.0  1.0\n",
              "longitude_Scaled              38622     0.5023736730360953  ...  0.0  1.0\n",
              "number_of_reviews_Scaled      38622   0.016346331106621075  ...  0.0  1.0\n",
              "reviews_per_month_Scaled      38622   0.015964968152864873  ...  0.0  1.0\n",
              "availability_365_Scaled       38622    0.27679180259955344  ...  0.0  1.0\n",
              "number_of_reviews_ltm_Scaled  38622  0.0021045259178706405  ...  0.0  1.0\n",
              "\n",
              "[7 rows x 5 columns]"
            ]
          },
          "metadata": {},
          "execution_count": 26
        }
      ]
    },
    {
      "cell_type": "code",
      "metadata": {
        "colab": {
          "base_uri": "https://localhost:8080/",
          "height": 143
        },
        "id": "rcMTrq-BykcP",
        "outputId": "3697116e-b34e-4bfe-d82d-83a3dd5a6098"
      },
      "source": [
        "categoricalColumns = [t[0] for t in df.dtypes if t[1] == 'string']\n",
        "df.select(categoricalColumns).describe().toPandas().transpose()"
      ],
      "execution_count": null,
      "outputs": [
        {
          "output_type": "execute_result",
          "data": {
            "text/html": [
              "<div>\n",
              "<style scoped>\n",
              "    .dataframe tbody tr th:only-of-type {\n",
              "        vertical-align: middle;\n",
              "    }\n",
              "\n",
              "    .dataframe tbody tr th {\n",
              "        vertical-align: top;\n",
              "    }\n",
              "\n",
              "    .dataframe thead th {\n",
              "        text-align: right;\n",
              "    }\n",
              "</style>\n",
              "<table border=\"1\" class=\"dataframe\">\n",
              "  <thead>\n",
              "    <tr style=\"text-align: right;\">\n",
              "      <th></th>\n",
              "      <th>0</th>\n",
              "      <th>1</th>\n",
              "      <th>2</th>\n",
              "      <th>3</th>\n",
              "      <th>4</th>\n",
              "    </tr>\n",
              "  </thead>\n",
              "  <tbody>\n",
              "    <tr>\n",
              "      <th>summary</th>\n",
              "      <td>count</td>\n",
              "      <td>mean</td>\n",
              "      <td>stddev</td>\n",
              "      <td>min</td>\n",
              "      <td>max</td>\n",
              "    </tr>\n",
              "    <tr>\n",
              "      <th>neighbourhood</th>\n",
              "      <td>38622</td>\n",
              "      <td>None</td>\n",
              "      <td>None</td>\n",
              "      <td>Batignolles-Monceau</td>\n",
              "      <td>Élysée</td>\n",
              "    </tr>\n",
              "    <tr>\n",
              "      <th>room_type</th>\n",
              "      <td>38622</td>\n",
              "      <td>None</td>\n",
              "      <td>None</td>\n",
              "      <td>Entire home/apt</td>\n",
              "      <td>Shared room</td>\n",
              "    </tr>\n",
              "  </tbody>\n",
              "</table>\n",
              "</div>"
            ],
            "text/plain": [
              "                   0     1       2                    3            4\n",
              "summary        count  mean  stddev                  min          max\n",
              "neighbourhood  38622  None    None  Batignolles-Monceau       Élysée\n",
              "room_type      38622  None    None      Entire home/apt  Shared room"
            ]
          },
          "metadata": {},
          "execution_count": 27
        }
      ]
    },
    {
      "cell_type": "code",
      "metadata": {
        "id": "dfvV2ne5E5oy"
      },
      "source": [
        "from pyspark.ml.feature import OneHotEncoder, StringIndexer, VectorAssembler\n",
        "\n",
        "stages = []\n",
        "\n",
        "\n",
        "for categoricalCol in categoricalColumns:\n",
        "    stringIndexer = StringIndexer(inputCol = categoricalCol, outputCol = categoricalCol + 'Index')\n",
        "    encoder = OneHotEncoder(inputCols=[stringIndexer.getOutputCol()], outputCols=[categoricalCol + \"classVec\"])\n",
        "    stages += [stringIndexer, encoder]\n",
        "\n",
        "\n",
        "assemblerInputs = [c + \"classVec\" for c in categoricalColumns] + numericCols\n",
        "assembler = VectorAssembler(inputCols=assemblerInputs, outputCol=\"features\")\n",
        "stages += [assembler]"
      ],
      "execution_count": null,
      "outputs": []
    },
    {
      "cell_type": "code",
      "metadata": {
        "id": "-VoOaODOE9yx",
        "colab": {
          "base_uri": "https://localhost:8080/"
        },
        "outputId": "1e674ed8-60e4-4d75-9978-d48fdb9f1da1"
      },
      "source": [
        "from pyspark.ml import Pipeline\n",
        "pipeline = Pipeline(stages = stages)\n",
        "pipelineModel = pipeline.fit(df)\n",
        "df = pipelineModel.transform(df)\n",
        "selectedCols = ['label', 'features']\n",
        "df = df.select(selectedCols)\n",
        "df.printSchema()"
      ],
      "execution_count": null,
      "outputs": [
        {
          "output_type": "stream",
          "name": "stdout",
          "text": [
            "root\n",
            " |-- label: integer (nullable = true)\n",
            " |-- features: vector (nullable = true)\n",
            "\n"
          ]
        }
      ]
    },
    {
      "cell_type": "markdown",
      "metadata": {
        "id": "RoMe7Qis3iOy"
      },
      "source": [
        "## Test de differents modèles :\n",
        "Dans cette partie, nous avons testé plusieurs modèles dont : DecisionTreeRegressor, RandomForestRegressor, LinearRegression, GBTRegressor afin de les comparer entre eux.nous comparons également l'effets de l'utilisation de onehotencoding,Nous avons également effectuer un gridsearch et crossvalidation sur chacun des modèles\n",
        "\n",
        "Remarque : pour des problèmes de mémoire et de temps d'exécution, nous avons limité le nombre de paramètres à optimiser.\n"
      ]
    },
    {
      "cell_type": "code",
      "metadata": {
        "colab": {
          "base_uri": "https://localhost:8080/"
        },
        "id": "q60he4Mo0xej",
        "outputId": "dea6c73c-f653-4d86-b13e-6f5add960c11"
      },
      "source": [
        "train, test = df.randomSplit([0.7, 0.3], seed = 2018)\n",
        "print(\"Training Dataset Count: \" + str(train.count()))\n",
        "print(\"Test Dataset Count: \" + str(test.count()))"
      ],
      "execution_count": null,
      "outputs": [
        {
          "output_type": "stream",
          "name": "stdout",
          "text": [
            "Training Dataset Count: 27069\n",
            "Test Dataset Count: 11553\n"
          ]
        }
      ]
    },
    {
      "cell_type": "code",
      "metadata": {
        "colab": {
          "base_uri": "https://localhost:8080/"
        },
        "id": "f-DAByZH1jv8",
        "outputId": "3c5037a5-5527-4d87-9e32-f0ad4833588a"
      },
      "source": [
        "train.show()"
      ],
      "execution_count": null,
      "outputs": [
        {
          "output_type": "stream",
          "name": "stdout",
          "text": [
            "+-----+--------------------+\n",
            "|label|            features|\n",
            "+-----+--------------------+\n",
            "|    8|(28,[0,20,22,23],...|\n",
            "|    8|(28,[9,20,22,23],...|\n",
            "|    9|(28,[0,20,22,23],...|\n",
            "|   10|(28,[0,19,22,23,2...|\n",
            "|   10|(28,[1,19,22,23,2...|\n",
            "|   10|(28,[2,19,22,23,2...|\n",
            "|   10|(28,[3,19,22,23,2...|\n",
            "|   10|(28,[5,19,22,23],...|\n",
            "|   10|(28,[5,22,23],[1....|\n",
            "|   10|(28,[14,19,22,23,...|\n",
            "|   10|(28,[15,19,22,23,...|\n",
            "|   10|(28,[15,19,22,23,...|\n",
            "|   10|(28,[17,19,22,23,...|\n",
            "|   10|(28,[19,22,23,24,...|\n",
            "|   11|(28,[10,20,22,23,...|\n",
            "|   12|(28,[17,20,22,23]...|\n",
            "|   13|(28,[3,20,22,23],...|\n",
            "|   15|(28,[0,19,22,23,2...|\n",
            "|   15|(28,[1,22,23],[1....|\n",
            "|   15|(28,[1,22,23,24,2...|\n",
            "+-----+--------------------+\n",
            "only showing top 20 rows\n",
            "\n"
          ]
        }
      ]
    },
    {
      "cell_type": "markdown",
      "metadata": {
        "id": "Xj0LNAeCSNZl"
      },
      "source": [
        "### DecisionTreeRegressor"
      ]
    },
    {
      "cell_type": "code",
      "metadata": {
        "colab": {
          "base_uri": "https://localhost:8080/"
        },
        "id": "_8VRSCqilmhr",
        "outputId": "606b0435-78bd-4513-dd61-50362ac88f49"
      },
      "source": [
        "from pyspark.ml.regression import DecisionTreeRegressor\n",
        "\n",
        "dt = DecisionTreeRegressor(featuresCol=\"features\",labelCol=\"label\")\n",
        "dtModel = dt.fit(train)\n",
        "predictions = dtModel.transform(test)\n",
        "predictions.show()"
      ],
      "execution_count": null,
      "outputs": [
        {
          "output_type": "stream",
          "name": "stdout",
          "text": [
            "+-----+--------------------+------------------+\n",
            "|label|            features|        prediction|\n",
            "+-----+--------------------+------------------+\n",
            "|    0|(28,[3,21,22,23,2...|124.67378843147473|\n",
            "|   10|(28,[4,22,23,24,2...|124.46195652173913|\n",
            "|   10|(28,[6,22,23,24,2...| 77.31668526785714|\n",
            "|   10|(28,[13,19,22,23,...|214.45064805583252|\n",
            "|   10|(28,[15,19,22,23,...|124.67378843147473|\n",
            "|   11|(28,[0,19,22,23],...| 82.20319027725029|\n",
            "|   15|(28,[0,19,22,23,2...| 82.20319027725029|\n",
            "|   15|(28,[4,20,22,23],...| 43.03813559322034|\n",
            "|   15|(28,[13,20,22,23]...| 53.86153846153846|\n",
            "|   15|(28,[14,22,23,24,...| 89.35958904109589|\n",
            "|   16|(28,[5,20,22,23,2...|41.627604166666664|\n",
            "|   17|(28,[0,22,23],[1....| 82.20319027725029|\n",
            "|   17|(28,[18,20,22,23,...| 174.8221087767524|\n",
            "|   18|(28,[0,20,22,23],...| 43.03813559322034|\n",
            "|   18|(28,[1,22,23,24,2...|109.02199312714777|\n",
            "|   19|(28,[5,19,22,23,2...| 77.31668526785714|\n",
            "|   19|(28,[6,20,22,23],...|41.627604166666664|\n",
            "|   19|(28,[11,20,22,23,...|62.664096916299556|\n",
            "|   19|(28,[11,20,22,23,...|62.664096916299556|\n",
            "|   20|(28,[0,20,22,23],...|  82.6951871657754|\n",
            "+-----+--------------------+------------------+\n",
            "only showing top 20 rows\n",
            "\n"
          ]
        }
      ]
    },
    {
      "cell_type": "code",
      "metadata": {
        "colab": {
          "base_uri": "https://localhost:8080/"
        },
        "id": "9Ll9ESvflw9E",
        "outputId": "fef173e8-a12a-45cb-bc52-43eab09b4da7"
      },
      "source": [
        "from pyspark.ml.evaluation import RegressionEvaluator\n",
        "evaluator = RegressionEvaluator(labelCol=\"label\", predictionCol=\"prediction\", metricName=\"rmse\")\n",
        "rmse = evaluator.evaluate(predictions)\n",
        "print(\"Rmse = %g\" % rmse)"
      ],
      "execution_count": null,
      "outputs": [
        {
          "output_type": "stream",
          "name": "stdout",
          "text": [
            "Rmse = 186.569\n"
          ]
        }
      ]
    },
    {
      "cell_type": "code",
      "metadata": {
        "colab": {
          "base_uri": "https://localhost:8080/"
        },
        "id": "JIygSDENlxbK",
        "outputId": "66da6910-9a75-42c6-f552-4eb2e4b979d8"
      },
      "source": [
        "from pyspark.ml.evaluation import RegressionEvaluator\n",
        "evaluator = RegressionEvaluator(labelCol=\"label\", predictionCol=\"prediction\", metricName=\"mae\")\n",
        "rmse = evaluator.evaluate(predictions)\n",
        "print(\"MAE = %g\" % rmse)"
      ],
      "execution_count": null,
      "outputs": [
        {
          "output_type": "stream",
          "name": "stdout",
          "text": [
            "MAE = 61.2538\n"
          ]
        }
      ]
    },
    {
      "cell_type": "markdown",
      "metadata": {
        "id": "RK4TIp9JSPEL"
      },
      "source": [
        "Nous remarquons qu'il y a une petite amélioration par rapport aux premiers tests, le Rmse est passé de 188 a 186, cependant nous pouvons faire mieux si nous utilisons la validation croisée"
      ]
    },
    {
      "cell_type": "markdown",
      "metadata": {
        "id": "4JUZS31iocCG"
      },
      "source": [
        "on remarque aussi que l'utilisation de onehotencoding améliore les resultas"
      ]
    },
    {
      "cell_type": "markdown",
      "metadata": {
        "id": "LE3Lw8plSUYq"
      },
      "source": [
        "### DecisionTreeRegressor avec une cross Validation"
      ]
    },
    {
      "cell_type": "code",
      "metadata": {
        "colab": {
          "base_uri": "https://localhost:8080/"
        },
        "id": "zlj2z1WAl1Oo",
        "outputId": "68a4adc4-de02-438f-da43-4f33dbcb97ad"
      },
      "source": [
        "#with cross validation \n",
        "\n",
        "from pyspark.ml.tuning import ParamGridBuilder, CrossValidator\n",
        "\n",
        "# Create ParamGrid for Cross Validation\n",
        "paramGrid = (ParamGridBuilder()\n",
        "             .addGrid(dt.maxDepth, [2, 5, 10])\n",
        "             .addGrid(dt.minInstancesPerNode, [1, 2, 3,4,5])\n",
        "             .build())\n",
        "\n",
        "cv = CrossValidator(estimator=dt, estimatorParamMaps=paramGrid, evaluator=evaluator, numFolds=5)\n",
        "\n",
        "cvModel = cv.fit(train)\n",
        "predictions = cvModel.transform(test)\n",
        "print('ROC', evaluator.evaluate(predictions))\n",
        "\n"
      ],
      "execution_count": null,
      "outputs": [
        {
          "output_type": "stream",
          "name": "stdout",
          "text": [
            "ROC 61.25380994254437\n"
          ]
        }
      ]
    },
    {
      "cell_type": "code",
      "metadata": {
        "id": "JYcIJBhsmOyL"
      },
      "source": [
        "bestModel = cvModel.bestModel\n",
        "predictions = bestModel.transform(test)"
      ],
      "execution_count": null,
      "outputs": []
    },
    {
      "cell_type": "code",
      "metadata": {
        "colab": {
          "base_uri": "https://localhost:8080/"
        },
        "id": "QyT989n2mPOO",
        "outputId": "568f41b2-1059-4eb0-aba0-9de3f63801df"
      },
      "source": [
        "from pyspark.ml.evaluation import RegressionEvaluator\n",
        "evaluator = RegressionEvaluator(labelCol=\"label\", predictionCol=\"prediction\", metricName=\"rmse\")\n",
        "rmse = evaluator.evaluate(predictions)\n",
        "print(\"RMSE = %g\" % rmse)"
      ],
      "execution_count": null,
      "outputs": [
        {
          "output_type": "stream",
          "name": "stdout",
          "text": [
            "RMSE = 186.569\n"
          ]
        }
      ]
    },
    {
      "cell_type": "markdown",
      "metadata": {
        "id": "TlPVi86monRS"
      },
      "source": [
        "Maintenant, nous allons essayer de tester d'autres modèles et ensuite nous ferons une comparaison entre les résultats"
      ]
    },
    {
      "cell_type": "markdown",
      "metadata": {
        "id": "1NNyRM-pTO-7"
      },
      "source": [
        "### LinearRegression"
      ]
    },
    {
      "cell_type": "code",
      "metadata": {
        "colab": {
          "base_uri": "https://localhost:8080/"
        },
        "id": "FdDx9sGEmXXE",
        "outputId": "d4dc2206-4445-4126-c6e8-4e96325034ab"
      },
      "source": [
        "\n",
        "from pyspark.ml.regression import LinearRegression\n",
        "\n",
        "dt = LinearRegression(featuresCol=\"features\",labelCol=\"label\")\n",
        "dtModel = dt.fit(train)\n",
        "predictions = dtModel.transform(test)\n",
        "predictions.show()"
      ],
      "execution_count": null,
      "outputs": [
        {
          "output_type": "stream",
          "name": "stdout",
          "text": [
            "+-----+--------------------+------------------+\n",
            "|label|            features|        prediction|\n",
            "+-----+--------------------+------------------+\n",
            "|    0|(28,[3,21,22,23,2...|136.83549631600854|\n",
            "|   10|(28,[4,22,23,24,2...| 34.99512841483151|\n",
            "|   10|(28,[6,22,23,24,2...|11.392947187545289|\n",
            "|   10|(28,[13,19,22,23,...|146.17078217379776|\n",
            "|   10|(28,[15,19,22,23,...|140.54598813463693|\n",
            "|   11|(28,[0,19,22,23],...| 88.82179157017693|\n",
            "|   15|(28,[0,19,22,23,2...| 68.12247650971261|\n",
            "|   15|(28,[4,20,22,23],...|52.702584042722805|\n",
            "|   15|(28,[13,20,22,23]...|30.209086412005476|\n",
            "|   15|(28,[14,22,23,24,...| 47.01010164830187|\n",
            "|   16|(28,[5,20,22,23,2...| 36.36986657826425|\n",
            "|   17|(28,[0,22,23],[1....|13.392250653946704|\n",
            "|   17|(28,[18,20,22,23,...|140.87926421089483|\n",
            "|   18|(28,[0,20,22,23],...| 32.91140540545679|\n",
            "|   18|(28,[1,22,23,24,2...| 70.32209410157014|\n",
            "|   19|(28,[5,19,22,23,2...| 65.22265812157737|\n",
            "|   19|(28,[6,20,22,23],...|30.775155265898434|\n",
            "|   19|(28,[11,20,22,23,...| 54.57363322477579|\n",
            "|   19|(28,[11,20,22,23,...|  69.1210337844496|\n",
            "|   20|(28,[0,20,22,23],...| 44.20210951850555|\n",
            "+-----+--------------------+------------------+\n",
            "only showing top 20 rows\n",
            "\n"
          ]
        }
      ]
    },
    {
      "cell_type": "code",
      "metadata": {
        "colab": {
          "base_uri": "https://localhost:8080/"
        },
        "id": "PjLQiqOXnmvk",
        "outputId": "9e63b89f-de65-40e2-d2eb-7868b82b66b0"
      },
      "source": [
        "from pyspark.ml.evaluation import RegressionEvaluator\n",
        "\n",
        "evaluator = RegressionEvaluator(labelCol=\"label\", predictionCol=\"prediction\", metricName=\"rmse\")\n",
        "mse = evaluator.evaluate(predictions)\n",
        "print(\"Rmse= %g\" % mse)\n",
        "\n",
        "evaluator = RegressionEvaluator(labelCol=\"label\", predictionCol=\"prediction\", metricName=\"mae\")\n",
        "mae = evaluator.evaluate(predictions)\n",
        "print(\"MAE  = %g\" % mae)"
      ],
      "execution_count": null,
      "outputs": [
        {
          "output_type": "stream",
          "name": "stdout",
          "text": [
            "Rmse= 185.593\n",
            "MAE  = 59.9801\n"
          ]
        }
      ]
    },
    {
      "cell_type": "markdown",
      "metadata": {
        "id": "1uZRlCjOTR5A"
      },
      "source": [
        "### LinearRegression avec une cross validation "
      ]
    },
    {
      "cell_type": "code",
      "metadata": {
        "colab": {
          "base_uri": "https://localhost:8080/"
        },
        "id": "rRgojjuZn8jn",
        "outputId": "d531642c-1fd6-49c0-c9e2-6f493507b13a"
      },
      "source": [
        "\n",
        "from pyspark.ml.tuning import ParamGridBuilder, CrossValidator\n",
        "\n",
        "# Create ParamGrid for Cross Validation\n",
        "paramGrid = (ParamGridBuilder()\n",
        "             .addGrid(dt.aggregationDepth, [2, 5, 10])\n",
        "             .addGrid(dt.maxIter, [10, 20, 30,40,50])\n",
        "             .build())\n",
        "\n",
        "cv = CrossValidator(estimator=dt, estimatorParamMaps=paramGrid, evaluator=evaluator, numFolds=5)\n",
        "\n",
        "cvModel = cv.fit(train)\n",
        "predictions = cvModel.transform(test)\n",
        "\n",
        "bestModel = cvModel.bestModel\n",
        "predictions = bestModel.transform(test)\n",
        "\n",
        "evaluator = RegressionEvaluator(labelCol=\"label\", predictionCol=\"prediction\", metricName=\"rmse\")\n",
        "rmse = evaluator.evaluate(predictions)\n",
        "print(\"RMSE = %g\" % rmse)"
      ],
      "execution_count": null,
      "outputs": [
        {
          "output_type": "stream",
          "name": "stdout",
          "text": [
            "RMSE = 185.593\n"
          ]
        }
      ]
    },
    {
      "cell_type": "markdown",
      "metadata": {
        "id": "n5G8npUNTqvW"
      },
      "source": [
        "### RandomForestRegressor"
      ]
    },
    {
      "cell_type": "code",
      "metadata": {
        "id": "Cp_hkt1vph1a",
        "colab": {
          "base_uri": "https://localhost:8080/"
        },
        "outputId": "f50ea196-325d-4325-a115-186ba7992c36"
      },
      "source": [
        "from pyspark.ml.regression import RandomForestRegressor\n",
        "\n",
        "dt = RandomForestRegressor(featuresCol=\"features\",labelCol=\"label\")\n",
        "dtModel = dt.fit(train)\n",
        "predictions = dtModel.transform(test)\n",
        "\n",
        "evaluator = RegressionEvaluator(labelCol=\"label\", predictionCol=\"prediction\", metricName=\"rmse\")\n",
        "mse = evaluator.evaluate(predictions)\n",
        "print(\"Rmse on test data = %g\" % mse)\n",
        "\n",
        "evaluator = RegressionEvaluator(labelCol=\"label\", predictionCol=\"prediction\", metricName=\"mae\")\n",
        "mae = evaluator.evaluate(predictions)\n",
        "print(\"MAE on test data = %g\" % mae)\n",
        "\n"
      ],
      "execution_count": null,
      "outputs": [
        {
          "output_type": "stream",
          "name": "stdout",
          "text": [
            "Rmse on test data = 185.859\n",
            "MAE on test data = 59.8942\n"
          ]
        }
      ]
    },
    {
      "cell_type": "code",
      "metadata": {
        "id": "vybumV-poCsW",
        "colab": {
          "base_uri": "https://localhost:8080/"
        },
        "outputId": "0f222168-da67-48c3-aed9-11cccaad912c"
      },
      "source": [
        "paramGrid = (ParamGridBuilder()\n",
        "             .addGrid(dt.maxDepth, [2, 5, 10])\n",
        "             .addGrid(dt.numTrees, [10, 20])\n",
        "             .build())\n",
        "\n",
        "cv = CrossValidator(estimator=dt, estimatorParamMaps=paramGrid, evaluator=evaluator, numFolds=3)\n",
        "\n",
        "cvModel = cv.fit(train)\n",
        "predictions = cvModel.transform(test)\n",
        "\n",
        "bestModel = cvModel.bestModel\n",
        "predictions = bestModel.transform(test)\n",
        "\n",
        "\n",
        "evaluator = RegressionEvaluator(labelCol=\"label\", predictionCol=\"prediction\", metricName=\"rmse\")\n",
        "rmse = evaluator.evaluate(predictions)\n",
        "print(\"RMSE = %g\" % rmse)"
      ],
      "execution_count": null,
      "outputs": [
        {
          "output_type": "stream",
          "name": "stdout",
          "text": [
            "RMSE = 186.683\n"
          ]
        }
      ]
    },
    {
      "cell_type": "markdown",
      "metadata": {
        "id": "TgXm2AS5TzI9"
      },
      "source": [
        "### GBTRegressor"
      ]
    },
    {
      "cell_type": "code",
      "metadata": {
        "colab": {
          "base_uri": "https://localhost:8080/"
        },
        "id": "y6LUp4Ehe-4Z",
        "outputId": "65c81621-6f6d-40b5-8b7f-c9d81f904bce"
      },
      "source": [
        "#with GBTRegressor\n",
        "\n",
        "from pyspark.ml.regression import GBTRegressor\n",
        "\n",
        "dt = GBTRegressor(featuresCol=\"features\",labelCol=\"label\")\n",
        "dtModel = dt.fit(train)\n",
        "predictions = dtModel.transform(test)\n",
        "\n",
        "evaluator = RegressionEvaluator(labelCol=\"label\", predictionCol=\"prediction\", metricName=\"mse\")\n",
        "mse = evaluator.evaluate(predictions)\n",
        "print(\"Rmse on test data = %g\" % mse)\n",
        "\n",
        "evaluator = RegressionEvaluator(labelCol=\"label\", predictionCol=\"prediction\", metricName=\"mae\")\n",
        "mae = evaluator.evaluate(predictions)\n",
        "print(\"MAE on test data = %g\" % mae)\n"
      ],
      "execution_count": null,
      "outputs": [
        {
          "output_type": "stream",
          "name": "stdout",
          "text": [
            "Rmse on test data = 35648.8\n",
            "MAE on test data = 60.0558\n"
          ]
        }
      ]
    },
    {
      "cell_type": "code",
      "metadata": {
        "colab": {
          "base_uri": "https://localhost:8080/"
        },
        "id": "ZLorCAMepPsU",
        "outputId": "ef469b1f-bc2d-466a-f292-4994168f72f1"
      },
      "source": [
        "paramGrid = (ParamGridBuilder()\n",
        "             .addGrid(dt.maxDepth, [2, 5, 10])\n",
        "             .addGrid(dt.maxIter, [20, 30,40,50])\n",
        "             .build())\n",
        "\n",
        "cv = CrossValidator(estimator=dt, estimatorParamMaps=paramGrid, evaluator=evaluator, numFolds=3)\n",
        "\n",
        "cvModel = cv.fit(train)\n",
        "predictions = cvModel.transform(test)\n",
        "\n",
        "bestModel = cvModel.bestModel\n",
        "predictions = bestModel.transform(test)\n",
        "\n",
        "\n",
        "evaluator = RegressionEvaluator(labelCol=\"label\", predictionCol=\"prediction\", metricName=\"rmse\")\n",
        "rmse = evaluator.evaluate(predictions)\n",
        "print(\"RMSE = %g\" % rmse)"
      ],
      "execution_count": null,
      "outputs": [
        {
          "output_type": "stream",
          "name": "stdout",
          "text": [
            "RMSE = 185.099\n"
          ]
        }
      ]
    },
    {
      "cell_type": "markdown",
      "metadata": {
        "id": "G2mPEAMW2nfI"
      },
      "source": [
        "Comparaison des modéles : \n",
        "\n",
        "on remarque que les quatre modèles testés donnent de meilleurs résultats, car un Rmse égal à 186 signifie que \"l'erreur moyenne entre le prix du loyer et le prix prédit est de 186 euros, d'autre part on remarque que RandomForestRegressor est le modèle le plus performant, et que le GBTRegressor donne de mauvais résultats."
      ]
    },
    {
      "cell_type": "markdown",
      "metadata": {
        "id": "Xl409tNEAOt_"
      },
      "source": [
        "Pour la suite nous allons faire :\n",
        "\n",
        "*   Réduction de dimension avec PCA \n",
        "\n",
        "au lieu de travailler avec toutes les dimensions nous allons essayer de réduire la dimension (pour notre cas nous avons choisi 3 dimensions)"
      ]
    },
    {
      "cell_type": "code",
      "metadata": {
        "colab": {
          "base_uri": "https://localhost:8080/"
        },
        "id": "AtsBiL3-Aki1",
        "outputId": "3ddfbf46-5189-4503-b35d-79269a69d4bc"
      },
      "source": [
        "#PCA \n",
        "\n",
        "from pyspark.ml.feature import PCA\n",
        "from pyspark.mllib.linalg import Vectors\n",
        "\n",
        "pca = PCA(k=3, inputCol=\"features\", outputCol=\"pcaFeatures\")\n",
        "model = pca.fit(df)\n",
        "result = model.transform(df).select(\"label\",\"pcaFeatures\")\n",
        "result.show(truncate=False)"
      ],
      "execution_count": null,
      "outputs": [
        {
          "output_type": "stream",
          "name": "stdout",
          "text": [
            "+-----+---------------------------------------------------------------+\n",
            "|label|pcaFeatures                                                    |\n",
            "+-----+---------------------------------------------------------------+\n",
            "|110  |[-52.136214634341435,-258.8187300730929,3.707318811398679]     |\n",
            "|100  |[-280.38490512803276,-253.43647409246978,-25.549217707644978]  |\n",
            "|130  |[-347.1979095249528,24.727732888350346,-2.657489962886703]     |\n",
            "|80   |[-200.0176922816017,-13.911579636155015,1.1491449861229963]    |\n",
            "|80   |[-257.18713888881814,-25.187821609831346,-6.169870032867978]   |\n",
            "|75   |[-363.1680625926599,13.98177766945149,-2.2251357231995232]     |\n",
            "|143  |[-73.91463377208967,-18.396218118627306,-3.365035840427375]    |\n",
            "|170  |[-175.55763434635278,-135.46972376338175,-14.889693144041207]  |\n",
            "|100  |[-253.39504578408403,6.490844286379374,-3.3406723565750442]    |\n",
            "|60   |[-126.88797605599503,6.995079032081518,0.820116922397294]      |\n",
            "|110  |[-334.17967366400336,-55.207195968705165,-11.91292229615411]   |\n",
            "|74   |[-254.34294207612425,-312.643815871985,-39.29191128493073]     |\n",
            "|60   |[-0.09344075452735556,-0.9943762028005324,-0.11235377815937879]|\n",
            "|139  |[-2.1243773643389683,-23.984785257038173,-0.8519172589795776]  |\n",
            "|90   |[-181.2438279705645,5.084796189012745,-2.3348990565318575]     |\n",
            "|75   |[-269.3818981498643,-175.5040258744092,-25.24367978457746]     |\n",
            "|70   |[-6.7784247998193,-30.4959853884408,-2.644084300869868]        |\n",
            "|111  |[-112.19638291094648,-87.03906455854988,-2.0164178803239423]   |\n",
            "|63   |[-361.63499055112084,20.55053721632183,0.6309089834481822]     |\n",
            "|150  |[-0.09963611619492263,-0.999458005937178,-0.10728528292741929] |\n",
            "+-----+---------------------------------------------------------------+\n",
            "only showing top 20 rows\n",
            "\n"
          ]
        }
      ]
    },
    {
      "cell_type": "code",
      "metadata": {
        "colab": {
          "base_uri": "https://localhost:8080/"
        },
        "id": "QjcWAFl5TBgJ",
        "outputId": "dc2a507f-3d9f-47f0-9307-a3fa55dc5e36"
      },
      "source": [
        "train, test = result.randomSplit([0.7, 0.3], seed = 2018)\n",
        "print(\"Training Dataset Count: \" + str(train.count()))\n",
        "print(\"Test Dataset Count: \" + str(test.count()))"
      ],
      "execution_count": null,
      "outputs": [
        {
          "output_type": "stream",
          "name": "stdout",
          "text": [
            "Training Dataset Count: 27069\n",
            "Test Dataset Count: 11553\n"
          ]
        }
      ]
    },
    {
      "cell_type": "code",
      "metadata": {
        "colab": {
          "base_uri": "https://localhost:8080/"
        },
        "id": "ctpW_IjNS1MI",
        "outputId": "55ccd4e5-fa2d-4bfa-ba4f-2bbb8bd387aa"
      },
      "source": [
        "dt = DecisionTreeRegressor(featuresCol=\"pcaFeatures\",labelCol=\"label\")\n",
        "dtModel = dt.fit(train)\n",
        "predictions = dtModel.transform(test)\n",
        "predictions.show()"
      ],
      "execution_count": null,
      "outputs": [
        {
          "output_type": "stream",
          "name": "stdout",
          "text": [
            "+-----+--------------------+------------------+\n",
            "|label|         pcaFeatures|        prediction|\n",
            "+-----+--------------------+------------------+\n",
            "|    0|[-0.9697661334256...| 87.78927911275416|\n",
            "|   10|[-1.7574485367320...|   87.008126341613|\n",
            "|   10|[-0.7886900767451...|   87.008126341613|\n",
            "|   10|[-0.3516097553176...|   87.008126341613|\n",
            "|   10|[-0.1202355396659...| 95.79714912280701|\n",
            "|   11|[-1.5427740533138...|   87.008126341613|\n",
            "|   15|[-131.70749574763...|173.79775280898878|\n",
            "|   15|[-0.1736301190031...| 77.22533495736906|\n",
            "|   15|[-0.1130019533913...| 95.79714912280701|\n",
            "|   15|[-0.1072126756862...| 95.79714912280701|\n",
            "|   16|[-0.2933120357144...|   87.008126341613|\n",
            "|   17|[-1.0750571010062...|   87.008126341613|\n",
            "|   17|[-0.0876735044176...| 77.22533495736906|\n",
            "|   18|[-343.89354687519...|167.14669926650367|\n",
            "|   18|[-312.99919025167...|144.90459670424977|\n",
            "|   19|[-89.798142937178...|173.79775280898878|\n",
            "|   19|[-1.1631607800611...|   87.008126341613|\n",
            "|   19|[-0.4193221615088...|   87.008126341613|\n",
            "|   19|[-0.2130670030520...| 77.22533495736906|\n",
            "|   20|[-283.20194329475...|144.90459670424977|\n",
            "+-----+--------------------+------------------+\n",
            "only showing top 20 rows\n",
            "\n"
          ]
        }
      ]
    },
    {
      "cell_type": "code",
      "metadata": {
        "colab": {
          "base_uri": "https://localhost:8080/"
        },
        "id": "N3MCklsfUGh_",
        "outputId": "b774de4e-24b7-43cb-cff6-8c218da80889"
      },
      "source": [
        "from pyspark.ml.evaluation import RegressionEvaluator\n",
        "evaluator = RegressionEvaluator(labelCol=\"label\", predictionCol=\"prediction\", metricName=\"rmse\")\n",
        "rmse = evaluator.evaluate(predictions)\n",
        "print(\"RMSE= %g\" % rmse)"
      ],
      "execution_count": null,
      "outputs": [
        {
          "output_type": "stream",
          "name": "stdout",
          "text": [
            "RMSE= 188.465\n"
          ]
        }
      ]
    },
    {
      "cell_type": "markdown",
      "metadata": {
        "id": "RiqGDAVfWupH"
      },
      "source": [
        "nous remarquons que la réduction de la dimension n'améliore pas beaucoup les résultats"
      ]
    },
    {
      "cell_type": "markdown",
      "metadata": {
        "id": "EFvQZXBcGfV-"
      },
      "source": [
        "# Test sur les données de bank (classification supervisé)"
      ]
    },
    {
      "cell_type": "markdown",
      "metadata": {
        "id": "1VctJTFKUNVs"
      },
      "source": [
        "Ici on va travailler avec des données de bank,L'ensemble de données nous donne des informations sur une campagne de marketing d'une institution financière que nous devons analyser afin de trouver la meilleure stratégie de marketing"
      ]
    },
    {
      "cell_type": "code",
      "metadata": {
        "colab": {
          "base_uri": "https://localhost:8080/"
        },
        "id": "5y5otKLCankm",
        "outputId": "ead57164-af2a-4428-ddd3-a5868705b00b"
      },
      "source": [
        "from pyspark.sql import SparkSession\n",
        "spark = SparkSession.builder.appName('ml-bank').getOrCreate()\n",
        "df = spark.read.csv('bank.csv', header = True, inferSchema = True)\n",
        "df.printSchema()"
      ],
      "execution_count": null,
      "outputs": [
        {
          "output_type": "stream",
          "name": "stdout",
          "text": [
            "root\n",
            " |-- age: integer (nullable = true)\n",
            " |-- job: string (nullable = true)\n",
            " |-- marital: string (nullable = true)\n",
            " |-- education: string (nullable = true)\n",
            " |-- default: string (nullable = true)\n",
            " |-- balance: integer (nullable = true)\n",
            " |-- housing: string (nullable = true)\n",
            " |-- loan: string (nullable = true)\n",
            " |-- contact: string (nullable = true)\n",
            " |-- day: integer (nullable = true)\n",
            " |-- month: string (nullable = true)\n",
            " |-- duration: integer (nullable = true)\n",
            " |-- campaign: integer (nullable = true)\n",
            " |-- pdays: integer (nullable = true)\n",
            " |-- previous: integer (nullable = true)\n",
            " |-- poutcome: string (nullable = true)\n",
            " |-- deposit: string (nullable = true)\n",
            "\n"
          ]
        }
      ]
    },
    {
      "cell_type": "markdown",
      "metadata": {
        "id": "gJgOtK-EWjP8"
      },
      "source": [
        "Avant de commencer, nous vérifions que les targets sont bien équilibrées "
      ]
    },
    {
      "cell_type": "code",
      "metadata": {
        "colab": {
          "base_uri": "https://localhost:8080/"
        },
        "id": "LDDdTY3GdiTz",
        "outputId": "1c4c2ab9-b75c-4624-de30-44b913d993fb"
      },
      "source": [
        "df.groupby('deposit').count().show()"
      ],
      "execution_count": null,
      "outputs": [
        {
          "output_type": "stream",
          "name": "stdout",
          "text": [
            "+-------+-----+\n",
            "|deposit|count|\n",
            "+-------+-----+\n",
            "|     no| 5873|\n",
            "|    yes| 5289|\n",
            "+-------+-----+\n",
            "\n"
          ]
        }
      ]
    },
    {
      "cell_type": "markdown",
      "metadata": {
        "id": "uI75_VMwXFip"
      },
      "source": [
        "puis nous récupérerons les données numériques et catégorielles "
      ]
    },
    {
      "cell_type": "code",
      "metadata": {
        "colab": {
          "base_uri": "https://localhost:8080/",
          "height": 296
        },
        "id": "besxcfDydwcx",
        "outputId": "14d2f748-1552-4f2c-d725-2cef4c1b53c1"
      },
      "source": [
        "numeric_features = [t[0] for t in df.dtypes if t[1] == 'int']\n",
        "df.select(numeric_features).describe().toPandas().transpose()"
      ],
      "execution_count": null,
      "outputs": [
        {
          "output_type": "execute_result",
          "data": {
            "text/html": [
              "<div>\n",
              "<style scoped>\n",
              "    .dataframe tbody tr th:only-of-type {\n",
              "        vertical-align: middle;\n",
              "    }\n",
              "\n",
              "    .dataframe tbody tr th {\n",
              "        vertical-align: top;\n",
              "    }\n",
              "\n",
              "    .dataframe thead th {\n",
              "        text-align: right;\n",
              "    }\n",
              "</style>\n",
              "<table border=\"1\" class=\"dataframe\">\n",
              "  <thead>\n",
              "    <tr style=\"text-align: right;\">\n",
              "      <th></th>\n",
              "      <th>0</th>\n",
              "      <th>1</th>\n",
              "      <th>2</th>\n",
              "      <th>3</th>\n",
              "      <th>4</th>\n",
              "    </tr>\n",
              "  </thead>\n",
              "  <tbody>\n",
              "    <tr>\n",
              "      <th>summary</th>\n",
              "      <td>count</td>\n",
              "      <td>mean</td>\n",
              "      <td>stddev</td>\n",
              "      <td>min</td>\n",
              "      <td>max</td>\n",
              "    </tr>\n",
              "    <tr>\n",
              "      <th>age</th>\n",
              "      <td>11162</td>\n",
              "      <td>41.231947679627304</td>\n",
              "      <td>11.913369192215518</td>\n",
              "      <td>18</td>\n",
              "      <td>95</td>\n",
              "    </tr>\n",
              "    <tr>\n",
              "      <th>balance</th>\n",
              "      <td>11162</td>\n",
              "      <td>1528.5385235620856</td>\n",
              "      <td>3225.413325946149</td>\n",
              "      <td>-6847</td>\n",
              "      <td>81204</td>\n",
              "    </tr>\n",
              "    <tr>\n",
              "      <th>day</th>\n",
              "      <td>11162</td>\n",
              "      <td>15.658036194230425</td>\n",
              "      <td>8.420739541006462</td>\n",
              "      <td>1</td>\n",
              "      <td>31</td>\n",
              "    </tr>\n",
              "    <tr>\n",
              "      <th>duration</th>\n",
              "      <td>11162</td>\n",
              "      <td>371.99381831213043</td>\n",
              "      <td>347.12838571630687</td>\n",
              "      <td>2</td>\n",
              "      <td>3881</td>\n",
              "    </tr>\n",
              "    <tr>\n",
              "      <th>campaign</th>\n",
              "      <td>11162</td>\n",
              "      <td>2.508421429851281</td>\n",
              "      <td>2.7220771816614824</td>\n",
              "      <td>1</td>\n",
              "      <td>63</td>\n",
              "    </tr>\n",
              "    <tr>\n",
              "      <th>pdays</th>\n",
              "      <td>11162</td>\n",
              "      <td>51.33040673714388</td>\n",
              "      <td>108.75828197197717</td>\n",
              "      <td>-1</td>\n",
              "      <td>854</td>\n",
              "    </tr>\n",
              "    <tr>\n",
              "      <th>previous</th>\n",
              "      <td>11162</td>\n",
              "      <td>0.8325568894463358</td>\n",
              "      <td>2.292007218670508</td>\n",
              "      <td>0</td>\n",
              "      <td>58</td>\n",
              "    </tr>\n",
              "  </tbody>\n",
              "</table>\n",
              "</div>"
            ],
            "text/plain": [
              "              0                   1                   2      3      4\n",
              "summary   count                mean              stddev    min    max\n",
              "age       11162  41.231947679627304  11.913369192215518     18     95\n",
              "balance   11162  1528.5385235620856   3225.413325946149  -6847  81204\n",
              "day       11162  15.658036194230425   8.420739541006462      1     31\n",
              "duration  11162  371.99381831213043  347.12838571630687      2   3881\n",
              "campaign  11162   2.508421429851281  2.7220771816614824      1     63\n",
              "pdays     11162   51.33040673714388  108.75828197197717     -1    854\n",
              "previous  11162  0.8325568894463358   2.292007218670508      0     58"
            ]
          },
          "metadata": {},
          "execution_count": 119
        }
      ]
    },
    {
      "cell_type": "code",
      "metadata": {
        "colab": {
          "base_uri": "https://localhost:8080/",
          "height": 388
        },
        "id": "DybT5qzQ0L71",
        "outputId": "326f337b-2198-4a61-fae5-0c99cbaf56cf"
      },
      "source": [
        "catégorial_features = [t[0] for t in df.dtypes if t[1] == 'string']\n",
        "df.select(catégorial_features).describe().toPandas().transpose()"
      ],
      "execution_count": null,
      "outputs": [
        {
          "output_type": "execute_result",
          "data": {
            "text/html": [
              "<div>\n",
              "<style scoped>\n",
              "    .dataframe tbody tr th:only-of-type {\n",
              "        vertical-align: middle;\n",
              "    }\n",
              "\n",
              "    .dataframe tbody tr th {\n",
              "        vertical-align: top;\n",
              "    }\n",
              "\n",
              "    .dataframe thead th {\n",
              "        text-align: right;\n",
              "    }\n",
              "</style>\n",
              "<table border=\"1\" class=\"dataframe\">\n",
              "  <thead>\n",
              "    <tr style=\"text-align: right;\">\n",
              "      <th></th>\n",
              "      <th>0</th>\n",
              "      <th>1</th>\n",
              "      <th>2</th>\n",
              "      <th>3</th>\n",
              "      <th>4</th>\n",
              "    </tr>\n",
              "  </thead>\n",
              "  <tbody>\n",
              "    <tr>\n",
              "      <th>summary</th>\n",
              "      <td>count</td>\n",
              "      <td>mean</td>\n",
              "      <td>stddev</td>\n",
              "      <td>min</td>\n",
              "      <td>max</td>\n",
              "    </tr>\n",
              "    <tr>\n",
              "      <th>job</th>\n",
              "      <td>11162</td>\n",
              "      <td>None</td>\n",
              "      <td>None</td>\n",
              "      <td>admin.</td>\n",
              "      <td>unknown</td>\n",
              "    </tr>\n",
              "    <tr>\n",
              "      <th>marital</th>\n",
              "      <td>11162</td>\n",
              "      <td>None</td>\n",
              "      <td>None</td>\n",
              "      <td>divorced</td>\n",
              "      <td>single</td>\n",
              "    </tr>\n",
              "    <tr>\n",
              "      <th>education</th>\n",
              "      <td>11162</td>\n",
              "      <td>None</td>\n",
              "      <td>None</td>\n",
              "      <td>primary</td>\n",
              "      <td>unknown</td>\n",
              "    </tr>\n",
              "    <tr>\n",
              "      <th>default</th>\n",
              "      <td>11162</td>\n",
              "      <td>None</td>\n",
              "      <td>None</td>\n",
              "      <td>no</td>\n",
              "      <td>yes</td>\n",
              "    </tr>\n",
              "    <tr>\n",
              "      <th>housing</th>\n",
              "      <td>11162</td>\n",
              "      <td>None</td>\n",
              "      <td>None</td>\n",
              "      <td>no</td>\n",
              "      <td>yes</td>\n",
              "    </tr>\n",
              "    <tr>\n",
              "      <th>loan</th>\n",
              "      <td>11162</td>\n",
              "      <td>None</td>\n",
              "      <td>None</td>\n",
              "      <td>no</td>\n",
              "      <td>yes</td>\n",
              "    </tr>\n",
              "    <tr>\n",
              "      <th>contact</th>\n",
              "      <td>11162</td>\n",
              "      <td>None</td>\n",
              "      <td>None</td>\n",
              "      <td>cellular</td>\n",
              "      <td>unknown</td>\n",
              "    </tr>\n",
              "    <tr>\n",
              "      <th>month</th>\n",
              "      <td>11162</td>\n",
              "      <td>None</td>\n",
              "      <td>None</td>\n",
              "      <td>apr</td>\n",
              "      <td>sep</td>\n",
              "    </tr>\n",
              "    <tr>\n",
              "      <th>poutcome</th>\n",
              "      <td>11162</td>\n",
              "      <td>None</td>\n",
              "      <td>None</td>\n",
              "      <td>failure</td>\n",
              "      <td>unknown</td>\n",
              "    </tr>\n",
              "    <tr>\n",
              "      <th>deposit</th>\n",
              "      <td>11162</td>\n",
              "      <td>None</td>\n",
              "      <td>None</td>\n",
              "      <td>no</td>\n",
              "      <td>yes</td>\n",
              "    </tr>\n",
              "  </tbody>\n",
              "</table>\n",
              "</div>"
            ],
            "text/plain": [
              "               0     1       2         3        4\n",
              "summary    count  mean  stddev       min      max\n",
              "job        11162  None    None    admin.  unknown\n",
              "marital    11162  None    None  divorced   single\n",
              "education  11162  None    None   primary  unknown\n",
              "default    11162  None    None        no      yes\n",
              "housing    11162  None    None        no      yes\n",
              "loan       11162  None    None        no      yes\n",
              "contact    11162  None    None  cellular  unknown\n",
              "month      11162  None    None       apr      sep\n",
              "poutcome   11162  None    None   failure  unknown\n",
              "deposit    11162  None    None        no      yes"
            ]
          },
          "metadata": {},
          "execution_count": 120
        }
      ]
    },
    {
      "cell_type": "markdown",
      "metadata": {
        "id": "SaAkt8AKXZuo"
      },
      "source": [
        "nous remarquons que les attributs day et months ne sont pas utiles pour la clasification, nous allons donc supprimer ces attributs"
      ]
    },
    {
      "cell_type": "code",
      "metadata": {
        "colab": {
          "base_uri": "https://localhost:8080/"
        },
        "id": "Qtksuu7Gd6vf",
        "outputId": "19e13975-6b9d-42e2-8316-afd502632859"
      },
      "source": [
        "#day and month not useful so we delete it \n",
        "df = df.select('age', 'job', 'marital', 'education', 'default', 'balance', 'housing', 'loan', 'contact', 'duration', 'campaign', 'pdays', 'previous', 'poutcome', 'deposit')\n",
        "cols = df.columns\n",
        "df.printSchema()"
      ],
      "execution_count": null,
      "outputs": [
        {
          "output_type": "stream",
          "name": "stdout",
          "text": [
            "root\n",
            " |-- age: integer (nullable = true)\n",
            " |-- job: string (nullable = true)\n",
            " |-- marital: string (nullable = true)\n",
            " |-- education: string (nullable = true)\n",
            " |-- default: string (nullable = true)\n",
            " |-- balance: integer (nullable = true)\n",
            " |-- housing: string (nullable = true)\n",
            " |-- loan: string (nullable = true)\n",
            " |-- contact: string (nullable = true)\n",
            " |-- duration: integer (nullable = true)\n",
            " |-- campaign: integer (nullable = true)\n",
            " |-- pdays: integer (nullable = true)\n",
            " |-- previous: integer (nullable = true)\n",
            " |-- poutcome: string (nullable = true)\n",
            " |-- deposit: string (nullable = true)\n",
            "\n"
          ]
        }
      ]
    },
    {
      "cell_type": "markdown",
      "metadata": {
        "id": "6D0rirNyX7_c"
      },
      "source": [
        "Encodage des features: indexation des string, assemblage des vecteurs puis indexation"
      ]
    },
    {
      "cell_type": "code",
      "metadata": {
        "id": "cZCI4YYqezc_"
      },
      "source": [
        "from pyspark.ml.feature import OneHotEncoder, StringIndexer, VectorAssembler\n",
        "\n",
        "categoricalColumns = ['job', 'marital', 'education', 'default', 'housing', 'loan', 'contact', 'poutcome']\n",
        "stages = []\n",
        "\n",
        "for categoricalCol in categoricalColumns:\n",
        "    stringIndexer = StringIndexer(inputCol = categoricalCol, outputCol = categoricalCol + 'Index')\n",
        "    encoder = OneHotEncoder(inputCols=[stringIndexer.getOutputCol()], outputCols=[categoricalCol + \"classVec\"])\n",
        "    stages += [stringIndexer, encoder]\n",
        "\n",
        "label_stringIdx = StringIndexer(inputCol = 'deposit', outputCol = 'label')\n",
        "stages += [label_stringIdx]\n",
        "\n",
        "numericCols = ['age', 'balance', 'duration', 'campaign', 'pdays', 'previous']\n",
        "assemblerInputs = [c + \"classVec\" for c in categoricalColumns] + numericCols\n",
        "assembler = VectorAssembler(inputCols=assemblerInputs, outputCol=\"features\")\n",
        "stages += [assembler]"
      ],
      "execution_count": null,
      "outputs": []
    },
    {
      "cell_type": "code",
      "metadata": {
        "colab": {
          "base_uri": "https://localhost:8080/"
        },
        "id": "HNMF7V5-hRcI",
        "outputId": "3ca17df5-031e-4c17-ec67-dec02a3830ba"
      },
      "source": [
        "from pyspark.ml import Pipeline\n",
        "pipeline = Pipeline(stages = stages)\n",
        "pipelineModel = pipeline.fit(df)\n",
        "df = pipelineModel.transform(df)\n",
        "selectedCols = ['label', 'features'] + cols\n",
        "df = df.select(selectedCols)\n",
        "df.printSchema()"
      ],
      "execution_count": null,
      "outputs": [
        {
          "output_type": "stream",
          "name": "stdout",
          "text": [
            "root\n",
            " |-- label: double (nullable = false)\n",
            " |-- features: vector (nullable = true)\n",
            " |-- age: integer (nullable = true)\n",
            " |-- job: string (nullable = true)\n",
            " |-- marital: string (nullable = true)\n",
            " |-- education: string (nullable = true)\n",
            " |-- default: string (nullable = true)\n",
            " |-- balance: integer (nullable = true)\n",
            " |-- housing: string (nullable = true)\n",
            " |-- loan: string (nullable = true)\n",
            " |-- contact: string (nullable = true)\n",
            " |-- duration: integer (nullable = true)\n",
            " |-- campaign: integer (nullable = true)\n",
            " |-- pdays: integer (nullable = true)\n",
            " |-- previous: integer (nullable = true)\n",
            " |-- poutcome: string (nullable = true)\n",
            " |-- deposit: string (nullable = true)\n",
            "\n"
          ]
        }
      ]
    },
    {
      "cell_type": "markdown",
      "metadata": {
        "id": "D1_rkmayYbqY"
      },
      "source": [
        "On découpe notre dataset en train (70%) et test (30%)"
      ]
    },
    {
      "cell_type": "code",
      "metadata": {
        "colab": {
          "base_uri": "https://localhost:8080/"
        },
        "id": "XwKDAyGohr3l",
        "outputId": "1d8c0163-2ce4-41ec-fbd1-02052f47f2fb"
      },
      "source": [
        "train, test = df.randomSplit([0.7, 0.3], seed = 2018)\n",
        "print(\"Training Dataset Count: \" + str(train.count()))\n",
        "print(\"Test Dataset Count: \" + str(test.count()))"
      ],
      "execution_count": null,
      "outputs": [
        {
          "output_type": "stream",
          "name": "stdout",
          "text": [
            "Training Dataset Count: 7855\n",
            "Test Dataset Count: 3307\n"
          ]
        }
      ]
    },
    {
      "cell_type": "markdown",
      "metadata": {
        "id": "qPMVkmqKYw3l"
      },
      "source": [
        "aprés on va utiliser une regression logistique pour faire la classification"
      ]
    },
    {
      "cell_type": "code",
      "metadata": {
        "colab": {
          "base_uri": "https://localhost:8080/"
        },
        "id": "GOEmvUPzh5Ls",
        "outputId": "a11955b8-b01b-4ea7-d4a4-4dae6e64d20c"
      },
      "source": [
        "#Logistic Regression Model\n",
        "from pyspark.ml.classification import LogisticRegression\n",
        "lr = LogisticRegression(featuresCol = 'features', labelCol = 'label', maxIter=10)\n",
        "lrModel = lr.fit(train)\n",
        "\n",
        "predictions = lrModel.transform(test)\n",
        "predictions.select('age', 'job', 'label', 'rawPrediction', 'prediction', 'probability').show(10)"
      ],
      "execution_count": null,
      "outputs": [
        {
          "output_type": "stream",
          "name": "stdout",
          "text": [
            "+---+----------+-----+--------------------+----------+--------------------+\n",
            "|age|       job|label|       rawPrediction|prediction|         probability|\n",
            "+---+----------+-----+--------------------+----------+--------------------+\n",
            "| 33|management|  0.0|[1.93084854518128...|       0.0|[0.87334331124860...|\n",
            "| 49|management|  0.0|[1.92783695472097...|       0.0|[0.87300981013433...|\n",
            "| 52|management|  0.0|[-0.7737627890181...|       1.0|[0.31566570209267...|\n",
            "| 53|management|  0.0|[0.94708137344074...|       0.0|[0.72052784002179...|\n",
            "| 58|management|  0.0|[2.44657764692457...|       0.0|[0.92031082026376...|\n",
            "| 32|management|  0.0|[1.28386077546037...|       0.0|[0.78310624913886...|\n",
            "| 57|management|  0.0|[1.05745870556531...|       0.0|[0.74220460119091...|\n",
            "| 52|management|  0.0|[3.25200815517462...|       0.0|[0.96274520587479...|\n",
            "| 46|management|  0.0|[2.24978402804239...|       0.0|[0.90463190417562...|\n",
            "| 31|management|  0.0|[1.47121751117284...|       0.0|[0.81324237120150...|\n",
            "+---+----------+-----+--------------------+----------+--------------------+\n",
            "only showing top 10 rows\n",
            "\n"
          ]
        }
      ]
    },
    {
      "cell_type": "code",
      "metadata": {
        "colab": {
          "base_uri": "https://localhost:8080/"
        },
        "id": "Zay8pBGViX8n",
        "outputId": "07f55480-c5f3-490c-a394-bab7224c1c2e"
      },
      "source": [
        "from pyspark.ml.evaluation import BinaryClassificationEvaluator\n",
        "\n",
        "evaluator = BinaryClassificationEvaluator()\n",
        "print('ROC', evaluator.evaluate(predictions))"
      ],
      "execution_count": null,
      "outputs": [
        {
          "output_type": "stream",
          "name": "stdout",
          "text": [
            "ROC 0.885643189559481\n"
          ]
        }
      ]
    },
    {
      "cell_type": "code",
      "metadata": {
        "colab": {
          "base_uri": "https://localhost:8080/"
        },
        "id": "h0BXkyUnBwBS",
        "outputId": "f1ef29de-e150-48c6-fe96-c1fadd3d8f98"
      },
      "source": [
        "from pyspark.mllib.evaluation import RegressionMetrics\n",
        "\n",
        "valuesAndPreds = predictions.select(['label', 'prediction'])\n",
        "# It needs to convert to RDD as the parameter of RegressionMetrics\n",
        "valuesAndPreds = valuesAndPreds.rdd.map(tuple)\n",
        "\n",
        "\n",
        "metrics = RegressionMetrics(valuesAndPreds)\n",
        "\n",
        "# Squared Error\n",
        "print(\"MSE = %s\" % metrics.meanSquaredError)\n",
        "print(\"RMSE = %s\" % metrics.rootMeanSquaredError)\n",
        "\n",
        "# Mean absolute error\n",
        "print(\"MAE = %s\" % metrics.meanAbsoluteError)"
      ],
      "execution_count": null,
      "outputs": [
        {
          "output_type": "stream",
          "name": "stderr",
          "text": [
            "/usr/local/lib/python3.7/dist-packages/pyspark/sql/context.py:127: FutureWarning: Deprecated in 3.0.0. Use SparkSession.builder.getOrCreate() instead.\n",
            "  FutureWarning\n"
          ]
        },
        {
          "output_type": "stream",
          "name": "stdout",
          "text": [
            "MSE = 0.20290293317205926\n",
            "RMSE = 0.4504474810364237\n",
            "MAE = 0.20290293317205926\n"
          ]
        }
      ]
    },
    {
      "cell_type": "markdown",
      "metadata": {
        "id": "pQCg8cqYZFYp"
      },
      "source": [
        "avec un MSE=0.2 qui représente la moyenne des carrés des erreurs, nous pouvons dire que notre modèle donne de très bons résultats"
      ]
    },
    {
      "cell_type": "code",
      "metadata": {
        "colab": {
          "base_uri": "https://localhost:8080/",
          "height": 348
        },
        "id": "pAc5CCm2l2gM",
        "outputId": "55675bdd-0023-4732-df5d-3db684d609ff"
      },
      "source": [
        "import matplotlib.pyplot as plt\n",
        "\n",
        "trainingSummary = lrModel.summary\n",
        "\n",
        "roc = trainingSummary.roc.toPandas()\n",
        "plt.plot(roc['FPR'],roc['TPR'])\n",
        "plt.ylabel('False Positive Rate')\n",
        "plt.xlabel('True Positive Rate')\n",
        "plt.title('ROC Curve')\n",
        "plt.show()\n",
        "\n",
        "print('Training set areaUnderROC: ' + str(trainingSummary.areaUnderROC))"
      ],
      "execution_count": null,
      "outputs": [
        {
          "output_type": "stream",
          "name": "stderr",
          "text": [
            "/usr/local/lib/python3.7/dist-packages/pyspark/sql/context.py:127: FutureWarning: Deprecated in 3.0.0. Use SparkSession.builder.getOrCreate() instead.\n",
            "  FutureWarning\n"
          ]
        },
        {
          "output_type": "display_data",
          "data": {
            "image/png": "[encoded data removed]",
            "text/plain": [
              "<Figure size 432x288 with 1 Axes>"
            ]
          },
          "metadata": {
            "needs_background": "light"
          }
        },
        {
          "output_type": "stream",
          "name": "stdout",
          "text": [
            "Training set areaUnderROC: 0.8877385690600346\n"
          ]
        }
      ]
    },
    {
      "cell_type": "code",
      "metadata": {
        "colab": {
          "base_uri": "https://localhost:8080/",
          "height": 315
        },
        "id": "fldSEpSrmYx8",
        "outputId": "7eb74f06-15ef-4225-d2c9-49cea96d3885"
      },
      "source": [
        "pr = trainingSummary.pr.toPandas()\n",
        "plt.plot(pr['recall'],pr['precision'])\n",
        "plt.ylabel('Precision')\n",
        "plt.xlabel('Recall')\n",
        "plt.show()"
      ],
      "execution_count": null,
      "outputs": [
        {
          "output_type": "stream",
          "name": "stderr",
          "text": [
            "/usr/local/lib/python3.7/dist-packages/pyspark/sql/context.py:127: FutureWarning: Deprecated in 3.0.0. Use SparkSession.builder.getOrCreate() instead.\n",
            "  FutureWarning\n"
          ]
        },
        {
          "output_type": "display_data",
          "data": {
            "image/png": "[encoded data removed]",
            "text/plain": [
              "<Figure size 432x288 with 1 Axes>"
            ]
          },
          "metadata": {
            "needs_background": "light"
          }
        }
      ]
    },
    {
      "cell_type": "code",
      "metadata": {
        "colab": {
          "base_uri": "https://localhost:8080/",
          "height": 315
        },
        "id": "9Lyk0eXcmhl8",
        "outputId": "c529a845-02e7-40e7-80c2-75005b82b85e"
      },
      "source": [
        "f = trainingSummary.fMeasureByThreshold.toPandas()\n",
        "plt.plot(f['threshold'],f['F-Measure'])\n",
        "plt.ylabel('F-Measure')\n",
        "plt.xlabel('Threshold')\n",
        "plt.show()"
      ],
      "execution_count": null,
      "outputs": [
        {
          "output_type": "stream",
          "name": "stderr",
          "text": [
            "/usr/local/lib/python3.7/dist-packages/pyspark/sql/context.py:127: FutureWarning: Deprecated in 3.0.0. Use SparkSession.builder.getOrCreate() instead.\n",
            "  FutureWarning\n"
          ]
        },
        {
          "output_type": "display_data",
          "data": {
            "image/png": "[encoded data removed]",
            "text/plain": [
              "<Figure size 432x288 with 1 Axes>"
            ]
          },
          "metadata": {
            "needs_background": "light"
          }
        }
      ]
    },
    {
      "cell_type": "markdown",
      "metadata": {
        "id": "Z9d6hOP7ZLIR"
      },
      "source": [
        "Nous allons maintenant essayer d'utiliser une validation croisée pour trouver les paramètres optimaux."
      ]
    },
    {
      "cell_type": "code",
      "metadata": {
        "colab": {
          "base_uri": "https://localhost:8080/"
        },
        "id": "bHGHo9yoiibq",
        "outputId": "690c7c04-08fd-4366-99f1-a7fe05c46a63"
      },
      "source": [
        "from pyspark.ml.tuning import ParamGridBuilder, CrossValidator\n",
        "\n",
        "# Create ParamGrid for Cross Validation\n",
        "paramGrid = (ParamGridBuilder()\n",
        "             .addGrid(lr.regParam, [0.01, 0.5, 2.0])\n",
        "             .addGrid(lr.elasticNetParam, [0.0, 0.5, 1.0])\n",
        "             .addGrid(lr.maxIter, [1, 5, 10])\n",
        "             .build())\n",
        "\n",
        "cv = CrossValidator(estimator=lr, estimatorParamMaps=paramGrid, evaluator=evaluator, numFolds=5)\n",
        "\n",
        "cvModel = cv.fit(train)\n",
        "predictions = cvModel.transform(test)\n",
        "print('ROC', evaluator.evaluate(predictions))"
      ],
      "execution_count": null,
      "outputs": [
        {
          "output_type": "stream",
          "name": "stdout",
          "text": [
            "ROC 0.8844768025913865\n"
          ]
        }
      ]
    },
    {
      "cell_type": "code",
      "metadata": {
        "colab": {
          "base_uri": "https://localhost:8080/"
        },
        "id": "r6oIN1DzBzPN",
        "outputId": "30c6f351-5e4e-4d6a-bba1-84609c27b919"
      },
      "source": [
        "from pyspark.mllib.evaluation import RegressionMetrics\n",
        "\n",
        "valuesAndPreds = predictions.select(['label', 'prediction'])\n",
        "# It needs to convert to RDD as the parameter of RegressionMetrics\n",
        "valuesAndPreds = valuesAndPreds.rdd.map(tuple)\n",
        "\n",
        "\n",
        "metrics = RegressionMetrics(valuesAndPreds)\n",
        "\n",
        "# Squared Error\n",
        "print(\"MSE = %s\" % metrics.meanSquaredError)\n",
        "print(\"RMSE = %s\" % metrics.rootMeanSquaredError)\n",
        "\n",
        "# Mean absolute error\n",
        "print(\"MAE = %s\" % metrics.meanAbsoluteError)"
      ],
      "execution_count": null,
      "outputs": [
        {
          "output_type": "stream",
          "name": "stderr",
          "text": [
            "/usr/local/lib/python3.7/dist-packages/pyspark/sql/context.py:127: FutureWarning: Deprecated in 3.0.0. Use SparkSession.builder.getOrCreate() instead.\n",
            "  FutureWarning\n"
          ]
        },
        {
          "output_type": "stream",
          "name": "stdout",
          "text": [
            "MSE = 0.20592682189295433\n",
            "RMSE = 0.45379160623898096\n",
            "MAE = 0.20592682189295433\n"
          ]
        }
      ]
    },
    {
      "cell_type": "markdown",
      "metadata": {
        "id": "KMzj-hNB3k9V"
      },
      "source": [
        "maintenant on va tester une arbre de decsion pour faire la classification"
      ]
    },
    {
      "cell_type": "code",
      "metadata": {
        "colab": {
          "base_uri": "https://localhost:8080/"
        },
        "id": "c97W_OadjMwX",
        "outputId": "4de62654-0a06-4ebd-9dbe-a44551f0fa7e"
      },
      "source": [
        "from pyspark.ml.classification import DecisionTreeClassifier\n",
        "\n",
        "dt = DecisionTreeClassifier(featuresCol = 'features', labelCol = 'label', maxDepth = 3)\n",
        "dtModel = dt.fit(train)\n",
        "predictions = dtModel.transform(test)\n",
        "predictions.select('age', 'job', 'label', 'rawPrediction', 'prediction', 'probability').show(10)"
      ],
      "execution_count": null,
      "outputs": [
        {
          "output_type": "stream",
          "name": "stdout",
          "text": [
            "+---+----------+-----+--------------+----------+--------------------+\n",
            "|age|       job|label| rawPrediction|prediction|         probability|\n",
            "+---+----------+-----+--------------+----------+--------------------+\n",
            "| 33|management|  0.0|[2498.0,481.0]|       0.0|[0.83853642161799...|\n",
            "| 49|management|  0.0|[2498.0,481.0]|       0.0|[0.83853642161799...|\n",
            "| 52|management|  0.0|[520.0,1931.0]|       1.0|[0.21215830273357...|\n",
            "| 53|management|  0.0|[2498.0,481.0]|       0.0|[0.83853642161799...|\n",
            "| 58|management|  0.0|[2498.0,481.0]|       0.0|[0.83853642161799...|\n",
            "| 32|management|  0.0|[2498.0,481.0]|       0.0|[0.83853642161799...|\n",
            "| 57|management|  0.0|[2498.0,481.0]|       0.0|[0.83853642161799...|\n",
            "| 52|management|  0.0|[2498.0,481.0]|       0.0|[0.83853642161799...|\n",
            "| 46|management|  0.0|[2498.0,481.0]|       0.0|[0.83853642161799...|\n",
            "| 31|management|  0.0|[2498.0,481.0]|       0.0|[0.83853642161799...|\n",
            "+---+----------+-----+--------------+----------+--------------------+\n",
            "only showing top 10 rows\n",
            "\n"
          ]
        }
      ]
    },
    {
      "cell_type": "code",
      "metadata": {
        "colab": {
          "base_uri": "https://localhost:8080/"
        },
        "id": "hZlSqNgFjW2n",
        "outputId": "a7d203bc-7c91-4736-d603-847cfe6fff24"
      },
      "source": [
        "evaluator = BinaryClassificationEvaluator()\n",
        "print(\"Test Area Under ROC: \" + str(evaluator.evaluate(predictions, {evaluator.metricName: \"areaUnderROC\"})))"
      ],
      "execution_count": null,
      "outputs": [
        {
          "output_type": "stream",
          "name": "stdout",
          "text": [
            "Test Area Under ROC: 0.7808118726917547\n"
          ]
        }
      ]
    },
    {
      "cell_type": "code",
      "metadata": {
        "colab": {
          "base_uri": "https://localhost:8080/"
        },
        "id": "4CwXD6G0BYVc",
        "outputId": "1364388a-8589-4680-f481-4b87c108955e"
      },
      "source": [
        "from pyspark.mllib.evaluation import RegressionMetrics\n",
        "\n",
        "valuesAndPreds = predictions.select(['label', 'prediction'])\n",
        "valuesAndPreds = valuesAndPreds.rdd.map(tuple)\n",
        "\n",
        "\n",
        "metrics = RegressionMetrics(valuesAndPreds)\n",
        "\n",
        "# Squared Error\n",
        "print(\"MSE = %s\" % metrics.meanSquaredError)\n",
        "print(\"RMSE = %s\" % metrics.rootMeanSquaredError)\n",
        "\n",
        "# Mean absolute error\n",
        "print(\"MAE = %s\" % metrics.meanAbsoluteError)"
      ],
      "execution_count": null,
      "outputs": [
        {
          "output_type": "stream",
          "name": "stderr",
          "text": [
            "/usr/local/lib/python3.7/dist-packages/pyspark/sql/context.py:127: FutureWarning: Deprecated in 3.0.0. Use SparkSession.builder.getOrCreate() instead.\n",
            "  FutureWarning\n"
          ]
        },
        {
          "output_type": "stream",
          "name": "stdout",
          "text": [
            "MSE = 0.22860598729966738\n",
            "RMSE = 0.4781275847508355\n",
            "MAE = 0.22860598729966738\n"
          ]
        }
      ]
    },
    {
      "cell_type": "markdown",
      "metadata": {
        "id": "AW4xsDvfcHPA"
      },
      "source": [
        "Nous remarquons que la régression logistique est plus performante que l'arbre de décision, car dans la régression nous trouvons une mse égale à 0.201 alors que dans l'arbre de décision nous trouvons une mse égale à 0.22"
      ]
    },
    {
      "cell_type": "markdown",
      "metadata": {
        "id": "a4kSgjwjc3E2"
      },
      "source": [
        "Nous essayons maintenant de trouver les paramètres optimaux en utilisant la validation croisée, puis nous testons le meilleur modèle."
      ]
    },
    {
      "cell_type": "code",
      "metadata": {
        "id": "EQsTuJQi3wZb"
      },
      "source": [
        "paramGrid = ParamGridBuilder() \\\n",
        "    .addGrid(dt.maxDepth, [4, 5, 6, 7]) \\\n",
        "    .addGrid(dt.maxBins, [24, 28, 32, 36]) \\\n",
        "    .build()"
      ],
      "execution_count": null,
      "outputs": []
    },
    {
      "cell_type": "code",
      "metadata": {
        "id": "-OMBEqFK4LKz"
      },
      "source": [
        "crossval = CrossValidator(estimator=dt,\n",
        "                          estimatorParamMaps=paramGrid,\n",
        "                          evaluator=BinaryClassificationEvaluator(),\n",
        "                          numFolds=3)  "
      ],
      "execution_count": null,
      "outputs": []
    },
    {
      "cell_type": "code",
      "metadata": {
        "colab": {
          "base_uri": "https://localhost:8080/"
        },
        "id": "4sltfiVZ4aQd",
        "outputId": "8d22ff00-8364-457c-fced-4a4e3e07f732"
      },
      "source": [
        "cvModel = crossval.fit(train)\n",
        "predictions = cvModel.transform(test)\n",
        "print('ROC', evaluator.evaluate(predictions))"
      ],
      "execution_count": null,
      "outputs": [
        {
          "output_type": "stream",
          "name": "stdout",
          "text": [
            "ROC 0.7972721701387365\n"
          ]
        }
      ]
    },
    {
      "cell_type": "code",
      "metadata": {
        "colab": {
          "base_uri": "https://localhost:8080/"
        },
        "id": "S37lYVpf_xwX",
        "outputId": "9d3329db-e20c-4c02-ffa3-79913c072b28"
      },
      "source": [
        "from pyspark.mllib.evaluation import RegressionMetrics\n",
        "\n",
        "valuesAndPreds = predictions.select(['label', 'prediction'])\n",
        "# It needs to convert to RDD as the parameter of RegressionMetrics\n",
        "valuesAndPreds = valuesAndPreds.rdd.map(tuple)\n",
        "\n",
        "\n",
        "metrics = RegressionMetrics(valuesAndPreds)\n",
        "\n",
        "# Squared Error\n",
        "print(\"MSE = %s\" % metrics.meanSquaredError)\n",
        "print(\"RMSE = %s\" % metrics.rootMeanSquaredError)\n",
        "\n",
        "# Mean absolute error\n",
        "print(\"MAE = %s\" % metrics.meanAbsoluteError)"
      ],
      "execution_count": null,
      "outputs": [
        {
          "output_type": "stream",
          "name": "stderr",
          "text": [
            "/usr/local/lib/python3.7/dist-packages/pyspark/sql/context.py:127: FutureWarning: Deprecated in 3.0.0. Use SparkSession.builder.getOrCreate() instead.\n",
            "  FutureWarning\n"
          ]
        },
        {
          "output_type": "stream",
          "name": "stdout",
          "text": [
            "MSE = 0.20471726640459634\n",
            "RMSE = 0.45245692215347566\n",
            "MAE = 0.2047172664045963\n"
          ]
        }
      ]
    },
    {
      "cell_type": "markdown",
      "metadata": {
        "id": "uz1eyBUJdOmD"
      },
      "source": [
        "Maintenant nous essayons de ne pas utiliser le onehotEncoder, nous décodons les données catégorielles juste avec StringIndexer"
      ]
    },
    {
      "cell_type": "code",
      "metadata": {
        "id": "Eq-Gw8lJ5i85"
      },
      "source": [
        "\n",
        "stages = []\n",
        "\n",
        "for categoricalCol in categoricalColumns:\n",
        "    stringIndexer = StringIndexer(inputCol = categoricalCol, outputCol = categoricalCol + 'Index')\n",
        "    stages += [stringIndexer]\n",
        "\n",
        "label_stringIdx = StringIndexer(inputCol = 'deposit', outputCol = 'label')\n",
        "stages += [label_stringIdx]\n",
        "\n",
        "numericCols = ['age', 'balance', 'duration', 'campaign', 'pdays', 'previous']\n",
        "assemblerInputs = [c + \"Index\" for c in categoricalColumns] + numericCols\n",
        "assembler = VectorAssembler(inputCols=assemblerInputs, outputCol=\"features\")\n",
        "stages += [assembler]"
      ],
      "execution_count": null,
      "outputs": []
    },
    {
      "cell_type": "code",
      "metadata": {
        "colab": {
          "base_uri": "https://localhost:8080/"
        },
        "id": "rj8gIYJj56Vm",
        "outputId": "af5f9aea-c58c-4556-f259-8951fa771a20"
      },
      "source": [
        "pipeline = Pipeline(stages = stages)\n",
        "pipelineModel = pipeline.fit(df)\n",
        "df = pipelineModel.transform(df)\n",
        "selectedCols = ['label', 'features'] + cols\n",
        "df = df.select(selectedCols)\n",
        "df.printSchema()"
      ],
      "execution_count": null,
      "outputs": [
        {
          "output_type": "stream",
          "name": "stdout",
          "text": [
            "root\n",
            " |-- label: double (nullable = false)\n",
            " |-- features: vector (nullable = true)\n",
            " |-- age: integer (nullable = true)\n",
            " |-- job: string (nullable = true)\n",
            " |-- marital: string (nullable = true)\n",
            " |-- education: string (nullable = true)\n",
            " |-- default: string (nullable = true)\n",
            " |-- balance: integer (nullable = true)\n",
            " |-- housing: string (nullable = true)\n",
            " |-- loan: string (nullable = true)\n",
            " |-- contact: string (nullable = true)\n",
            " |-- duration: integer (nullable = true)\n",
            " |-- campaign: integer (nullable = true)\n",
            " |-- pdays: integer (nullable = true)\n",
            " |-- previous: integer (nullable = true)\n",
            " |-- poutcome: string (nullable = true)\n",
            " |-- deposit: string (nullable = true)\n",
            "\n"
          ]
        }
      ]
    },
    {
      "cell_type": "code",
      "metadata": {
        "colab": {
          "base_uri": "https://localhost:8080/"
        },
        "id": "1FoK_fuo8Zk3",
        "outputId": "62e77803-bfa8-44eb-f2ce-b57436c49b54"
      },
      "source": [
        "train, test = df.randomSplit([0.7, 0.3], seed = 2018)\n",
        "print(\"Training Dataset Count: \" + str(train.count()))\n",
        "print(\"Test Dataset Count: \" + str(test.count()))"
      ],
      "execution_count": null,
      "outputs": [
        {
          "output_type": "stream",
          "name": "stdout",
          "text": [
            "Training Dataset Count: 7855\n",
            "Test Dataset Count: 3307\n"
          ]
        }
      ]
    },
    {
      "cell_type": "code",
      "metadata": {
        "colab": {
          "base_uri": "https://localhost:8080/"
        },
        "id": "pwA-zvpb8bNv",
        "outputId": "504f183c-bc04-4785-8abe-25fc988b1041"
      },
      "source": [
        "dt = DecisionTreeClassifier(featuresCol = 'features', labelCol = 'label', maxDepth = 3)\n",
        "dtModel = dt.fit(train)\n",
        "predictions = dtModel.transform(test)\n",
        "predictions.select('age', 'job', 'label', 'rawPrediction', 'prediction', 'probability').show(10)"
      ],
      "execution_count": null,
      "outputs": [
        {
          "output_type": "stream",
          "name": "stdout",
          "text": [
            "+---+-------------+-----+--------------+----------+--------------------+\n",
            "|age|          job|label| rawPrediction|prediction|         probability|\n",
            "+---+-------------+-----+--------------+----------+--------------------+\n",
            "| 38|  blue-collar|  0.0|[820.0,1224.0]|       1.0|[0.40117416829745...|\n",
            "| 31| entrepreneur|  0.0|[2077.0,292.0]|       0.0|[0.87674124102997...|\n",
            "| 38|  blue-collar|  0.0|[2077.0,292.0]|       0.0|[0.87674124102997...|\n",
            "| 48|  blue-collar|  0.0|  [380.0,31.0]|       0.0|[0.92457420924574...|\n",
            "| 48|self-employed|  0.0|[435.0,1775.0]|       1.0|[0.19683257918552...|\n",
            "| 36|   unemployed|  0.0|[820.0,1224.0]|       1.0|[0.40117416829745...|\n",
            "| 29|  blue-collar|  0.0|[2077.0,292.0]|       0.0|[0.87674124102997...|\n",
            "| 45|  blue-collar|  0.0|[2077.0,292.0]|       0.0|[0.87674124102997...|\n",
            "| 50|  blue-collar|  0.0|[435.0,1775.0]|       1.0|[0.19683257918552...|\n",
            "| 25|   technician|  0.0|[820.0,1224.0]|       1.0|[0.40117416829745...|\n",
            "+---+-------------+-----+--------------+----------+--------------------+\n",
            "only showing top 10 rows\n",
            "\n"
          ]
        }
      ]
    },
    {
      "cell_type": "code",
      "metadata": {
        "colab": {
          "base_uri": "https://localhost:8080/"
        },
        "id": "c2FNeqrS8tRk",
        "outputId": "4bb167a0-935a-4cd8-b54b-728ae91576c8"
      },
      "source": [
        "evaluator = BinaryClassificationEvaluator()\n",
        "print(\"Test Area Under ROC: \" + str(evaluator.evaluate(predictions, {evaluator.metricName: \"areaUnderROC\"})))"
      ],
      "execution_count": null,
      "outputs": [
        {
          "output_type": "stream",
          "name": "stdout",
          "text": [
            "Test Area Under ROC: 0.781052215769142\n"
          ]
        }
      ]
    },
    {
      "cell_type": "code",
      "metadata": {
        "colab": {
          "base_uri": "https://localhost:8080/"
        },
        "id": "G6hlAOSYBrEr",
        "outputId": "a55e89d3-6c9b-470b-e4e9-c6e20a8a53b0"
      },
      "source": [
        "from pyspark.mllib.evaluation import RegressionMetrics\n",
        "\n",
        "valuesAndPreds = predictions.select(['label', 'prediction'])\n",
        "# It needs to convert to RDD as the parameter of RegressionMetrics\n",
        "valuesAndPreds = valuesAndPreds.rdd.map(tuple)\n",
        "\n",
        "\n",
        "metrics = RegressionMetrics(valuesAndPreds)\n",
        "\n",
        "# Squared Error\n",
        "print(\"MSE = %s\" % metrics.meanSquaredError)\n",
        "print(\"RMSE = %s\" % metrics.rootMeanSquaredError)\n",
        "\n",
        "# Mean absolute error\n",
        "print(\"MAE = %s\" % metrics.meanAbsoluteError)"
      ],
      "execution_count": null,
      "outputs": [
        {
          "output_type": "stream",
          "name": "stderr",
          "text": [
            "/usr/local/lib/python3.7/dist-packages/pyspark/sql/context.py:127: FutureWarning: Deprecated in 3.0.0. Use SparkSession.builder.getOrCreate() instead.\n",
            "  FutureWarning\n"
          ]
        },
        {
          "output_type": "stream",
          "name": "stdout",
          "text": [
            "MSE = 0.2255820985787723\n",
            "RMSE = 0.474954838462324\n",
            "MAE = 0.2255820985787723\n"
          ]
        }
      ]
    },
    {
      "cell_type": "markdown",
      "metadata": {
        "id": "3lq2GXqsdnzn"
      },
      "source": [
        "Nous remarquons que le onehotencoder permet d'augmenter les performances de notre modéles"
      ]
    }
  ]
}