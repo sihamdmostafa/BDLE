{
  "nbformat": 4,
  "nbformat_minor": 0,
  "metadata": {
    "application/vnd.databricks.v1+notebook": {
      "notebookName": "PROJET 2021 SUJET SEUL",
      "dashboards": [
        {
          "elements": [
            {
              "elementNUID": "4916b307-fb50-46f6-a51b-d5496ba229a5",
              "guid": "0544755f-8046-413c-8de2-96b5ba9cde0a",
              "options": null,
              "position": {
                "x": 0,
                "y": 30,
                "height": 1,
                "width": 12,
                "z": null
              },
              "elementType": "command"
            },
            {
              "elementNUID": "93fd1b8c-937f-41f1-88b8-704a5225af12",
              "guid": "1e2aacd3-80ac-42fc-858a-aa6ccf4d1aa1",
              "options": null,
              "position": {
                "x": 0,
                "y": 73,
                "height": 1,
                "width": 12,
                "z": null
              },
              "elementType": "command"
            },
            {
              "elementNUID": "047d52a6-482e-46d9-82c8-d3d85dc7f3ed",
              "guid": "205f0675-4075-4f6d-9ed5-dbe9f2adc9ab",
              "options": null,
              "position": {
                "x": 0,
                "y": 46,
                "height": 6,
                "width": 12,
                "z": null
              },
              "elementType": "command"
            },
            {
              "elementNUID": "51093e36-41d7-45bc-9ac9-538d0ad06cdf",
              "guid": "2f4a2f92-9f7e-463a-853d-28c94fba80e0",
              "options": null,
              "position": {
                "x": 0,
                "y": 53,
                "height": 6,
                "width": 12,
                "z": null
              },
              "elementType": "command"
            },
            {
              "elementNUID": "6fc95d51-5cac-46df-9184-c0a154f0f38c",
              "guid": "4dd6a8a2-ddd5-4d2b-ae85-ba590ba4055c",
              "options": null,
              "position": {
                "x": 0,
                "y": 111,
                "height": 2,
                "width": 12,
                "z": null
              },
              "elementType": "command"
            },
            {
              "elementNUID": "9582d65f-6ff6-4001-aae8-6d354db1567b",
              "guid": "641778b4-ec91-481c-bdc2-d3f6b2e48066",
              "options": null,
              "position": {
                "x": 0,
                "y": 59,
                "height": 1,
                "width": 12,
                "z": null
              },
              "elementType": "command"
            },
            {
              "elementNUID": "aafa7653-49a3-4915-b212-94bf433f313b",
              "guid": "669a6cbd-94f8-444d-bb5a-ddd090c622a7",
              "options": null,
              "position": {
                "x": 0,
                "y": 60,
                "height": 6,
                "width": 12,
                "z": null
              },
              "elementType": "command"
            },
            {
              "elementNUID": "23530f5e-191f-4476-a042-89462af08bf0",
              "guid": "66eaa8c3-2337-45ad-ab9b-64116af586b8",
              "options": null,
              "position": {
                "x": 0,
                "y": 105,
                "height": 6,
                "width": 12,
                "z": null
              },
              "elementType": "command"
            },
            {
              "elementNUID": "cb9b4b91-d7a4-4d6f-b8fd-4f81069ee9bb",
              "guid": "715e0bbb-14c1-4aa9-9894-0e894c449882",
              "options": null,
              "position": {
                "x": 0,
                "y": 7,
                "height": 1,
                "width": 12,
                "z": null
              },
              "elementType": "command"
            },
            {
              "elementNUID": "416e4ed6-56f4-44b6-97bc-95d31da350fe",
              "guid": "75067b7c-9df9-4554-99ca-19999c84ef2f",
              "options": null,
              "position": {
                "x": 0,
                "y": 52,
                "height": 1,
                "width": 12,
                "z": null
              },
              "elementType": "command"
            },
            {
              "elementNUID": "b15737ae-19bd-4b9f-b9f3-52388cc5e50e",
              "guid": "846b7c1d-f1d1-4aa6-b3aa-94cb6d065d1a",
              "options": null,
              "position": {
                "x": 0,
                "y": 3,
                "height": 2,
                "width": 12,
                "z": null
              },
              "elementType": "command"
            },
            {
              "elementNUID": "79374715-17c6-42ea-80b5-f34359f79709",
              "guid": "867fb6bf-585e-4c58-b51c-8495ea2785f2",
              "options": null,
              "position": {
                "x": 0,
                "y": 29,
                "height": 1,
                "width": 12,
                "z": null
              },
              "elementType": "command"
            },
            {
              "elementNUID": "1d712ef6-68d6-4f23-a1dd-3cf94b8813c4",
              "guid": "8ef2f82e-9863-4d96-9bb6-bd7aab7dcac5",
              "options": null,
              "position": {
                "x": 0,
                "y": 80,
                "height": 1,
                "width": 12,
                "z": null
              },
              "elementType": "command"
            },
            {
              "elementNUID": "9b13d583-eac5-414c-b544-43024c76c144",
              "guid": "94043a3f-089a-4cde-9ea5-349a745dad4f",
              "options": null,
              "position": {
                "x": 0,
                "y": 8,
                "height": 1,
                "width": 12,
                "z": null
              },
              "elementType": "command"
            },
            {
              "elementNUID": "0b6b45b2-632b-43dd-a8e2-4ef427ebce3d",
              "guid": "940febd0-c519-4b91-9fec-4e960bbe7760",
              "options": null,
              "position": {
                "x": 0,
                "y": 44,
                "height": 2,
                "width": 12,
                "z": null
              },
              "elementType": "command"
            },
            {
              "elementNUID": "84263fb8-5965-4a60-82bd-f761270691ca",
              "guid": "9fe86fff-0ae7-4ef0-b862-91ae43be4101",
              "options": null,
              "position": {
                "x": 0,
                "y": 74,
                "height": 6,
                "width": 12,
                "z": null
              },
              "elementType": "command"
            },
            {
              "elementNUID": "b6afe82e-35d6-4358-9b79-8f56074e0908",
              "guid": "a1426d76-3fbd-47f7-b011-b24ac7b93fd6",
              "options": null,
              "position": {
                "x": 0,
                "y": 5,
                "height": 2,
                "width": 12,
                "z": null
              },
              "elementType": "command"
            },
            {
              "elementNUID": "1577055d-6909-4db2-b18b-5bf31e2a812f",
              "guid": "a1ca8228-f29e-465e-a4be-b40aefc6bc7a",
              "options": null,
              "position": {
                "x": 0,
                "y": 27,
                "height": 2,
                "width": 12,
                "z": null
              },
              "elementType": "command"
            },
            {
              "elementNUID": "d1701bbd-c69b-48d6-bb57-0d05a7268ffe",
              "guid": "a7aff5ac-f510-4d82-95db-77f034192d44",
              "options": null,
              "position": {
                "x": 0,
                "y": 67,
                "height": 6,
                "width": 12,
                "z": null
              },
              "elementType": "command"
            },
            {
              "elementNUID": "c37903e0-d9bc-49f9-9e1d-6756419344f1",
              "guid": "bd859d00-a580-47f6-b662-f97b3239a821",
              "options": null,
              "position": {
                "x": 0,
                "y": 88,
                "height": 6,
                "width": 12,
                "z": null
              },
              "elementType": "command"
            },
            {
              "elementNUID": "538800ba-6d08-40a7-b6b6-829b40085742",
              "guid": "c23995ca-72a7-4427-a6d1-afa688939e7c",
              "options": null,
              "position": {
                "x": 0,
                "y": 0,
                "height": 3,
                "width": 12,
                "z": null
              },
              "elementType": "command"
            },
            {
              "elementNUID": "19fa455b-45a4-4a48-9ddb-c5a641bbd817",
              "guid": "c2471e6c-252b-4bd0-a71a-770ae09eeb78",
              "options": null,
              "position": {
                "x": 0,
                "y": 104,
                "height": 1,
                "width": 12,
                "z": null
              },
              "elementType": "command"
            },
            {
              "elementNUID": "8181fc8d-066d-4ca3-88d7-a97614dca3f4",
              "guid": "d1918135-6c0e-44df-a1ce-2357f133b00c",
              "options": null,
              "position": {
                "x": 0,
                "y": 66,
                "height": 1,
                "width": 12,
                "z": null
              },
              "elementType": "command"
            },
            {
              "elementNUID": "23f49fe8-1c71-4689-9678-58f7b45f0e94",
              "guid": "de126761-7a12-40b4-af6f-d0ea53591d9c",
              "options": null,
              "position": {
                "x": 0,
                "y": 98,
                "height": 6,
                "width": 12,
                "z": null
              },
              "elementType": "command"
            },
            {
              "elementNUID": "686a3ab5-5331-4f16-b8cc-be1c36a60384",
              "guid": "e5671d03-e164-48d9-a504-7348746454df",
              "options": null,
              "position": {
                "x": 0,
                "y": 81,
                "height": 6,
                "width": 12,
                "z": null
              },
              "elementType": "command"
            },
            {
              "elementNUID": "6f215790-9cd6-4489-b334-1da39461919c",
              "guid": "eafa8853-29da-4eeb-8126-55474014d7f4",
              "options": null,
              "position": {
                "x": 0,
                "y": 94,
                "height": 4,
                "width": 15,
                "z": null
              },
              "elementType": "command"
            },
            {
              "elementNUID": "9a7b7b61-6f71-4ba2-984a-09b552985d29",
              "guid": "f8a42128-0efd-4fe3-9ab6-6af7a1c907fd",
              "options": null,
              "position": {
                "x": 0,
                "y": 31,
                "height": 6,
                "width": 12,
                "z": null
              },
              "elementType": "command"
            },
            {
              "elementNUID": "bad34653-26b5-4d31-ace9-736d13a63c06",
              "guid": "fd691b0e-0bb5-4d6b-8ae9-1dea859886a7",
              "options": null,
              "position": {
                "x": 0,
                "y": 87,
                "height": 1,
                "width": 12,
                "z": null
              },
              "elementType": "command"
            }
          ],
          "guid": "56cffcd7-cc55-4002-b6dd-fbd5d66a50a6",
          "layoutOption": {
            "stack": true,
            "grid": true
          },
          "version": "DashboardViewV1",
          "nuid": "7f52f4e5-dbf1-4115-ad63-488830d101c0",
          "origId": 2643140879502792,
          "title": "Untitled",
          "width": 1024,
          "globalVars": {}
        }
      ],
      "notebookMetadata": {
        "pythonIndentUnit": 2
      },
      "language": "python",
      "widgets": {},
      "notebookOrigID": 2643140879502686
    },
    "colab": {
      "name": "Copy of TP_EAU_acces_parallele_opendata.ipynb",
      "provenance": [],
      "collapsed_sections": [],
      "toc_visible": true
    },
    "language_info": {
      "name": "python"
    },
    "kernelspec": {
      "name": "python3",
      "display_name": "Python 3"
    }
  },
  "cells": [
    {
      "cell_type": "markdown",
      "metadata": {
        "application/vnd.databricks.v1+cell": {
          "title": "",
          "showTitle": false,
          "inputWidgets": {},
          "nuid": "2fcea654-56eb-4219-a555-b7635dc8ec23"
        },
        "id": "5T30y-4iGpLZ"
      },
      "source": [
        "BDLE 2021\n",
        "\n",
        "date du document  :  "
      ]
    },
    {
      "cell_type": "markdown",
      "metadata": {
        "application/vnd.databricks.v1+cell": {
          "title": "",
          "showTitle": false,
          "inputWidgets": {},
          "nuid": "538800ba-6d08-40a7-b6b6-829b40085742"
        },
        "id": "L_q0KahUGpLc"
      },
      "source": [
        "# TP accès parallèle : EAU \n",
        "\n",
        "exemple d'accès en parallèle aux données du site Eau de France.\n",
        "[Données de piezométrie](https://hubeau.eaufrance.fr/page/api-piezometrie) "
      ]
    },
    {
      "cell_type": "markdown",
      "metadata": {
        "application/vnd.databricks.v1+cell": {
          "title": "",
          "showTitle": false,
          "inputWidgets": {},
          "nuid": "b15737ae-19bd-4b9f-b9f3-52388cc5e50e"
        },
        "id": "levNDESpS1hT"
      },
      "source": [
        "## Préparation"
      ]
    },
    {
      "cell_type": "markdown",
      "metadata": {
        "id": "CEjerqQ6Ink6"
      },
      "source": [
        "Pour accéder directement aux fichiers stockées sur votre google drive. Renseigner le code d'authentification lorsqu'il est demandé\n",
        "\n",
        "Ajuster le nom de votre dossier : MyDrive/essai"
      ]
    },
    {
      "cell_type": "code",
      "metadata": {
        "id": "g7Dv93rsImuM"
      },
      "source": [
        "# import os\n",
        "# from google.colab import drive\n",
        "# drive.mount(\"/content/drive\")\n",
        "\n",
        "# drive_dir = \"/content/drive/MyDrive/essai\"\n",
        "# os.makedirs(drive_dir, exist_ok=True)\n",
        "# os.listdir(drive_dir)"
      ],
      "execution_count": null,
      "outputs": []
    },
    {
      "cell_type": "markdown",
      "metadata": {
        "id": "7v9EXMl8aPZC"
      },
      "source": [
        "Installer pyspark et findspark :\n"
      ]
    },
    {
      "cell_type": "code",
      "metadata": {
        "id": "3zlwNHy1S8C2",
        "colab": {
          "base_uri": "https://localhost:8080/"
        },
        "outputId": "581ffb45-244b-46aa-a18d-bdc26122dbf1"
      },
      "source": [
        "!pip install -q pyspark\n",
        "!pip install -q findspark\n",
        "print(\"installé\")"
      ],
      "execution_count": null,
      "outputs": [
        {
          "output_type": "stream",
          "name": "stdout",
          "text": [
            "\u001b[K     |████████████████████████████████| 281.3 MB 31 kB/s \n",
            "\u001b[K     |████████████████████████████████| 198 kB 50.1 MB/s \n",
            "\u001b[?25h  Building wheel for pyspark (setup.py) ... \u001b[?25l\u001b[?25hdone\n",
            "installé\n"
          ]
        }
      ]
    },
    {
      "cell_type": "markdown",
      "metadata": {
        "id": "PnEmOd_zOUo0"
      },
      "source": [
        "Démarrer la session spark"
      ]
    },
    {
      "cell_type": "code",
      "metadata": {
        "id": "W0ADH0J-VW7i"
      },
      "source": [
        "import os\n",
        "# !find /usr/local -name \"pyspark\"\n",
        "os.environ[\"SPARK_HOME\"] = \"/usr/local/lib/python3.7/dist-packages/pyspark\"\n",
        "os.environ[\"JAVA_HOME\"] = \"/usr\""
      ],
      "execution_count": null,
      "outputs": []
    },
    {
      "cell_type": "code",
      "metadata": {
        "id": "Q_WxQZB7TaUC",
        "colab": {
          "base_uri": "https://localhost:8080/"
        },
        "outputId": "8a0d5f70-12a1-45e6-90b4-5a4d6cbbd18a"
      },
      "source": [
        "# Principaux import\n",
        "import findspark\n",
        "from pyspark.sql import SparkSession \n",
        "from pyspark import SparkConf  \n",
        "\n",
        "# pour les dataframe et udf\n",
        "from pyspark.sql import *  \n",
        "from pyspark.sql.functions import *\n",
        "from pyspark.sql.types import *\n",
        "from datetime import *\n",
        "\n",
        "# pour le chronomètre\n",
        "import time\n",
        "\n",
        "# initialise les variables d'environnement pour spark\n",
        "findspark.init()\n",
        "\n",
        "# Démarrage session spark \n",
        "# --------------------------\n",
        "def demarrer_spark():\n",
        "  local = \"local[*]\"\n",
        "  appName = \"TP\"\n",
        "  configLocale = SparkConf().setAppName(appName).setMaster(local).\\\n",
        "  set(\"spark.executor.memory\", \"6G\").\\\n",
        "  set(\"spark.driver.memory\",\"3G\").\\\n",
        "  set(\"spark.sql.catalogImplementation\",\"in-memory\")\n",
        "  \n",
        "  spark = SparkSession.builder.config(conf = configLocale).getOrCreate()\n",
        "  sc = spark.sparkContext\n",
        "  sc.setLogLevel(\"ERROR\")\n",
        "  \n",
        "  spark.conf.set(\"spark.sql.autoBroadcastJoinThreshold\",\"-1\")\n",
        "\n",
        "  # On ajuste l'environnement d'exécution des requêtes à la taille du cluster (4 coeurs)\n",
        "  spark.conf.set(\"spark.sql.shuffle.partitions\",\"4\")    \n",
        "  print(\"session démarrée, son id est \", sc.applicationId)\n",
        "  return spark\n",
        "spark = demarrer_spark()"
      ],
      "execution_count": null,
      "outputs": [
        {
          "output_type": "stream",
          "name": "stdout",
          "text": [
            "session démarrée, son id est  local-1640477000931\n"
          ]
        }
      ]
    },
    {
      "cell_type": "markdown",
      "metadata": {
        "id": "6PPivNNpOcBT"
      },
      "source": [
        "Redéfinir la fonction **display** pour afficher le resutltat des requêtes dans un tableau"
      ]
    },
    {
      "cell_type": "code",
      "metadata": {
        "id": "FFu44fW7LRgC"
      },
      "source": [
        "import pandas as pd\n",
        "from google.colab import data_table\n",
        "\n",
        "# alternatives to Databricks display function.\n",
        "\n",
        "def display(df, n=100):\n",
        "  return data_table.DataTable(df.limit(n).toPandas(), include_index=False, num_rows_per_page=10)\n",
        "\n",
        "def display2(df, n=20):\n",
        "  pd.set_option('max_columns', None)\n",
        "  pd.set_option('max_colwidth', None)\n",
        "  return df.limit(n).toPandas().head(n)"
      ],
      "execution_count": null,
      "outputs": []
    },
    {
      "cell_type": "markdown",
      "metadata": {
        "id": "I0-keRafUD5N"
      },
      "source": [
        "Définir le tag **%%sql** pour pouvoir écrire plus simplement des requêtes en SQL dans une cellule"
      ]
    },
    {
      "cell_type": "code",
      "metadata": {
        "id": "eJ7aiRS-gaVF",
        "colab": {
          "base_uri": "https://localhost:8080/"
        },
        "outputId": "86080e00-6d64-4743-a37e-ea700d0d17e5"
      },
      "source": [
        "from IPython.core.magic import (register_line_magic, register_cell_magic, register_line_cell_magic)\n",
        "\n",
        "def removeComments(query):\n",
        "  result = \"\"\n",
        "  for line in query.split('\\n'):\n",
        "    if not(line.strip().startswith(\"--\")):\n",
        "      result += line + \" \"\n",
        "  return result\n",
        "\n",
        "@register_line_cell_magic\n",
        "def sql(line, cell=None):\n",
        "    \"To run a sql query. Use:  %%sql\"\n",
        "    val = cell if cell is not None else line\n",
        "    tabRequetes = removeComments(val).split(\";\")\n",
        "    for r in tabRequetes:\n",
        "        if len(r.strip()) > 2:\n",
        "          derniere = spark.sql(r)\n",
        "    return display(derniere)\n",
        "print(\"fonctions définies\")"
      ],
      "execution_count": null,
      "outputs": [
        {
          "output_type": "stream",
          "name": "stdout",
          "text": [
            "fonctions définies\n"
          ]
        }
      ]
    },
    {
      "cell_type": "code",
      "metadata": {
        "application/vnd.databricks.v1+cell": {
          "title": "",
          "showTitle": false,
          "inputWidgets": {},
          "nuid": "a6272df1-b406-40d0-b5df-0df8dacb430b"
        },
        "colab": {
          "base_uri": "https://localhost:8080/"
        },
        "id": "fP14u62aG1_9",
        "outputId": "7f61960b-fc83-485c-f8b4-3e4e816c24db"
      },
      "source": [
        "#------------------------------\n",
        "# Chronometre : chronoPersist2\n",
        "#------------------------------\n",
        "import time\n",
        "\n",
        "# Ce chronometre garantit que chaque tuple du dataframe est lu entièrement.\n",
        "# En effet il est nécessaire de lire le détail de chaque tuple avant de les 'copier' en mémoire.\n",
        "def chronoPersist(df):\n",
        "    df.unpersist()\n",
        "    t1 = time.perf_counter()\n",
        "    count = df.persist().count()\n",
        "    t2 = time.perf_counter()\n",
        "    df.unpersist()\n",
        "    print('durée: {:.1f} s'.format(t2 - t1), 'pour lire', count , 'elements')\n",
        "\n",
        "def chronoPersist2(df):\n",
        "  dest = df.selectExpr(\"*\", \"1\")\n",
        "  t1 = time.perf_counter()\n",
        "  count = dest.persist().count()\n",
        "  t2 = time.perf_counter()\n",
        "  dest.unpersist()\n",
        "  print('durée: {:.1f} s'.format(t2 - t1), 'pour lire', count , 'elements')\n",
        "        \n",
        "def chronoCount(df):\n",
        "  t1 = time.perf_counter()\n",
        "  count = df.count()\n",
        "  t2 = time.perf_counter()\n",
        "  print('durée: {:.1f} s'.format(t2 - t1), 'pour dénombrer', count , 'elements')\n",
        "\n",
        "    \n",
        "print(\"fonctions définies\")"
      ],
      "execution_count": null,
      "outputs": [
        {
          "output_type": "stream",
          "name": "stdout",
          "text": [
            "fonctions définies\n"
          ]
        }
      ]
    },
    {
      "cell_type": "markdown",
      "metadata": {
        "application/vnd.databricks.v1+cell": {
          "title": "",
          "showTitle": false,
          "inputWidgets": {},
          "nuid": "b15737ae-19bd-4b9f-b9f3-52388cc5e50e"
        },
        "id": "sIeeBKU2GpLc"
      },
      "source": [
        "## Accès aux données"
      ]
    },
    {
      "cell_type": "code",
      "metadata": {
        "application/vnd.databricks.v1+cell": {
          "title": "",
          "showTitle": false,
          "inputWidgets": {},
          "nuid": "5f7082b7-3297-469a-82c3-2e6aaf5acc22"
        },
        "colab": {
          "base_uri": "https://localhost:8080/"
        },
        "id": "dG-ZrStWvR6N",
        "outputId": "06fcaa2d-bdc9-4254-ac26-35fa0992f1c6"
      },
      "source": [
        "import os\n",
        "temp = \"/temp/\"\n",
        "os.makedirs(temp, exist_ok=True)\n",
        "os.listdir(temp)"
      ],
      "execution_count": null,
      "outputs": [
        {
          "output_type": "execute_result",
          "data": {
            "text/plain": [
              "[]"
            ]
          },
          "metadata": {},
          "execution_count": 8
        }
      ]
    },
    {
      "cell_type": "markdown",
      "metadata": {
        "application/vnd.databricks.v1+cell": {
          "title": "",
          "showTitle": false,
          "inputWidgets": {},
          "nuid": "9b13d583-eac5-414c-b544-43024c76c144"
        },
        "id": "NqVvf8iLGpLf"
      },
      "source": [
        "URL pour l'accès aux datasets"
      ]
    },
    {
      "cell_type": "code",
      "metadata": {
        "application/vnd.databricks.v1+cell": {
          "title": "",
          "showTitle": false,
          "inputWidgets": {},
          "nuid": "8a1fead0-61e4-4d04-a2c0-7858f767b0a1"
        },
        "id": "8g6iWNvES1hW",
        "colab": {
          "base_uri": "https://localhost:8080/"
        },
        "outputId": "d1e78116-3645-41e4-a581-4bc4b97ddc20"
      },
      "source": [
        "# ---------------------------------------------------------------------------\n",
        "# en cas de problème avec le téléchargement des datasets, aller directement sur l'URL ci-dessous\n",
        "PUBLIC_DATASET_URL = \"https://nuage.lip6.fr/s/H3bpyRGgnCq2NR4\" \n",
        "PUBLIC_DATASET=PUBLIC_DATASET_URL + \"/download?path=\"\n",
        "\n",
        "print(\"URL pour les datasets \", PUBLIC_DATASET_URL)"
      ],
      "execution_count": null,
      "outputs": [
        {
          "output_type": "stream",
          "name": "stdout",
          "text": [
            "URL pour les datasets  https://nuage.lip6.fr/s/H3bpyRGgnCq2NR4\n"
          ]
        }
      ]
    },
    {
      "cell_type": "code",
      "metadata": {
        "colab": {
          "base_uri": "https://localhost:8080/"
        },
        "id": "4MDvKL2IQTGU",
        "outputId": "a3354a9d-e365-4f7e-dd79-4804c22253d7"
      },
      "source": [
        "import os\n",
        "from urllib import request\n",
        "\n",
        "# acces online aux données\n",
        "# https://www.egc.asso.fr/wp-content/uploads/data_Rostrenen.csv\n",
        "\n",
        "\n",
        "def load_file(file):\n",
        "  if(os.path.isfile( temp + file)):\n",
        "    print(file, \"is already stored\")\n",
        "  else:\n",
        "    url = PUBLIC_DATASET + \"/defi_EGC_2022/\" + file\n",
        "    print(\"downloading from URL: \", url, \"save in : \" + temp + file)\n",
        "    request.urlretrieve(url , temp  + file)\n",
        "\n",
        "load_file(\"points_eau.csv\")\n",
        "load_file(\"data_Rostrenen.csv\")\n",
        "\n",
        "# Liste des fichiers de IMDB\n",
        "os.listdir(temp)"
      ],
      "execution_count": null,
      "outputs": [
        {
          "output_type": "stream",
          "name": "stdout",
          "text": [
            "downloading from URL:  https://nuage.lip6.fr/s/H3bpyRGgnCq2NR4/download?path=/defi_EGC_2022/points_eau.csv save in : /temp/points_eau.csv\n",
            "downloading from URL:  https://nuage.lip6.fr/s/H3bpyRGgnCq2NR4/download?path=/defi_EGC_2022/data_Rostrenen.csv save in : /temp/data_Rostrenen.csv\n"
          ]
        },
        {
          "output_type": "execute_result",
          "data": {
            "text/plain": [
              "['data_Rostrenen.csv', 'points_eau.csv']"
            ]
          },
          "metadata": {},
          "execution_count": 10
        }
      ]
    },
    {
      "cell_type": "markdown",
      "metadata": {
        "id": "VhfbfMyGTpk1"
      },
      "source": [
        "## Table Point : les points d'eau"
      ]
    },
    {
      "cell_type": "code",
      "metadata": {
        "colab": {
          "base_uri": "https://localhost:8080/",
          "height": 204
        },
        "id": "-G94_aiGTtLJ",
        "outputId": "d50a7bb1-498e-45af-e9c6-6cfda0efabeb"
      },
      "source": [
        "point = spark.read.option(\"delimiter\",\";\").option(\"header\",True).csv(temp + 'points_eau.csv').repartition(4).persist()\n",
        "point.createOrReplaceTempView(\"point\")\n",
        "display(point, 3)"
      ],
      "execution_count": null,
      "outputs": [
        {
          "output_type": "execute_result",
          "data": {
            "application/vnd.google.colaboratory.module+javascript": "\n      import \"https://ssl.gstatic.com/colaboratory/data_table/a6224c040fa35dcf/data_table.js\";\n\n      window.createDataTable({\n        data: [[\"00762X0004/S1\",\n\"BSS000FHYM\",\n\"0.860993857091503\",\n\"49.6497369721205\",\n\"76456\",\n\"MOTTEVILLE\",\n\"H9923020\",\n\"L'Austreberthe \\u00e0 Saint-Paer\",\n\"121AU01\",\n\"Craie du S\\u00e9no-Turonien du Bassin Parisien de l'estuaire de la Seine (bassin Seine-Normandie)\"],\n [\"07223C0113/S\",\n\"BSS001URLS\",\n\"4.9003527411453\",\n\"45.6473838620031\",\n\"69273\",\n\"CORBAS\",\nnull,\nnull,\n\"521AK00\",\n\"NV3 absent, nom de l'entit\\u00e9 NV2 : Formations fluvio-glaciaires du couloir d'Heyrieux\"],\n [\"00487X0015/S1\",\n\"BSS000EECH\",\n\"3.07279822338651\",\n\"49.9035922409316\",\n\"80413\",\n\"HANCOURT\",\n\"E6351408\",\n\"Haute Somme \\u00e0 Ham\",\n\"121BB01\",\n\"Craie du S\\u00e9no-Turonien du bassin versant de la Somme (bassin Artois-Picardie)\"]],\n        columns: [[\"string\", \"CODE_BSS\"], [\"string\", \"BSS_ID\"], [\"string\", \"LONGITUDE\"], [\"string\", \"LATITUDE\"], [\"string\", \"CODE_INSEE_COMMUNE\"], [\"string\", \"NOM_COMMUNE\"], [\"string\", \"CODE_STATION_HYDRO\"], [\"string\", \"NOM_STATION_HYDRO\"], [\"string\", \"CODE_BDLISA\"], [\"string\", \"NOM_ENTITE_BDLISA\"]],\n        columnOptions: [],\n        rowsPerPage: 10,\n        helpUrl: \"https://colab.research.google.com/notebooks/data_table.ipynb\",\n        suppressOutputScrolling: true,\n        minimumWidth: undefined,\n      });\n    ",
            "text/plain": [
              "<google.colab.data_table.DataTable object>"
            ],
            "text/html": [
              "<div>\n",
              "<style scoped>\n",
              "    .dataframe tbody tr th:only-of-type {\n",
              "        vertical-align: middle;\n",
              "    }\n",
              "\n",
              "    .dataframe tbody tr th {\n",
              "        vertical-align: top;\n",
              "    }\n",
              "\n",
              "    .dataframe thead th {\n",
              "        text-align: right;\n",
              "    }\n",
              "</style>\n",
              "<table border=\"1\" class=\"dataframe\">\n",
              "  <thead>\n",
              "    <tr style=\"text-align: right;\">\n",
              "      <th></th>\n",
              "      <th>CODE_BSS</th>\n",
              "      <th>BSS_ID</th>\n",
              "      <th>LONGITUDE</th>\n",
              "      <th>LATITUDE</th>\n",
              "      <th>CODE_INSEE_COMMUNE</th>\n",
              "      <th>NOM_COMMUNE</th>\n",
              "      <th>CODE_STATION_HYDRO</th>\n",
              "      <th>NOM_STATION_HYDRO</th>\n",
              "      <th>CODE_BDLISA</th>\n",
              "      <th>NOM_ENTITE_BDLISA</th>\n",
              "    </tr>\n",
              "  </thead>\n",
              "  <tbody>\n",
              "    <tr>\n",
              "      <th>0</th>\n",
              "      <td>00762X0004/S1</td>\n",
              "      <td>BSS000FHYM</td>\n",
              "      <td>0.860993857091503</td>\n",
              "      <td>49.6497369721205</td>\n",
              "      <td>76456</td>\n",
              "      <td>MOTTEVILLE</td>\n",
              "      <td>H9923020</td>\n",
              "      <td>L'Austreberthe à Saint-Paer</td>\n",
              "      <td>121AU01</td>\n",
              "      <td>Craie du Séno-Turonien du Bassin Parisien de l...</td>\n",
              "    </tr>\n",
              "    <tr>\n",
              "      <th>1</th>\n",
              "      <td>07223C0113/S</td>\n",
              "      <td>BSS001URLS</td>\n",
              "      <td>4.9003527411453</td>\n",
              "      <td>45.6473838620031</td>\n",
              "      <td>69273</td>\n",
              "      <td>CORBAS</td>\n",
              "      <td>None</td>\n",
              "      <td>None</td>\n",
              "      <td>521AK00</td>\n",
              "      <td>NV3 absent, nom de l'entité NV2 : Formations f...</td>\n",
              "    </tr>\n",
              "    <tr>\n",
              "      <th>2</th>\n",
              "      <td>00487X0015/S1</td>\n",
              "      <td>BSS000EECH</td>\n",
              "      <td>3.07279822338651</td>\n",
              "      <td>49.9035922409316</td>\n",
              "      <td>80413</td>\n",
              "      <td>HANCOURT</td>\n",
              "      <td>E6351408</td>\n",
              "      <td>Haute Somme à Ham</td>\n",
              "      <td>121BB01</td>\n",
              "      <td>Craie du Séno-Turonien du bassin versant de la...</td>\n",
              "    </tr>\n",
              "  </tbody>\n",
              "</table>\n",
              "</div>"
            ]
          },
          "metadata": {},
          "execution_count": 11
        }
      ]
    },
    {
      "cell_type": "code",
      "metadata": {
        "colab": {
          "base_uri": "https://localhost:8080/"
        },
        "id": "_U1xTUSDWXsw",
        "outputId": "025a7dee-f987-4b3b-91b6-93d92cdcd379"
      },
      "source": [
        "point.count()"
      ],
      "execution_count": null,
      "outputs": [
        {
          "output_type": "execute_result",
          "data": {
            "text/plain": [
              "18"
            ]
          },
          "metadata": {},
          "execution_count": 12
        }
      ]
    },
    {
      "cell_type": "markdown",
      "metadata": {
        "id": "tgRnEegaHmG0"
      },
      "source": [
        "## Requetes d'analyse"
      ]
    },
    {
      "cell_type": "code",
      "metadata": {
        "colab": {
          "base_uri": "https://localhost:8080/",
          "height": 346
        },
        "id": "BcNG4N4IXaoG",
        "outputId": "4f908b23-d03e-4aff-91a2-d55b3e8dc3e5"
      },
      "source": [
        "%%sql\n",
        "select *\n",
        "from Point\n",
        "where nom_commune like '%P%'"
      ],
      "execution_count": null,
      "outputs": [
        {
          "output_type": "execute_result",
          "data": {
            "application/vnd.google.colaboratory.module+javascript": "\n      import \"https://ssl.gstatic.com/colaboratory/data_table/a6224c040fa35dcf/data_table.js\";\n\n      window.createDataTable({\n        data: [[\"07476X0029/S\",\n\"BSS001VTUD\",\n\"5.19017582950695\",\n\"45.3650549559674\",\n\"38300\",\n\"PENOL\",\nnull,\nnull,\n\"521AM00\",\n\"NV3 absent, nom de l'entit\\u00e9 NV2 : Alluvions fluvio-glaciaires de la plaine de Bi\\u00e8vre-Valloire\"],\n [\"01516X0004/S1\",\n\"BSS000LETA\",\n\"1.61497845782586\",\n\"48.9815660459082\",\n\"78484\",\n\"PERDREAUVILLE\",\nnull,\nnull,\n\"121AZ01\",\n\"Craie du S\\u00e9no-Turonien du Bassin Parisien du Vexin normand et picard - bassin versant de l'Andelle et de l'Epte (bassin Seine-Normandie)\"],\n [\"06505X0080/FORC\",\n\"BSS001REHG\",\n\"4.76295450181247\",\n\"46.1383028294756\",\n\"69242\",\n\"TAPONAS\",\nnull,\nnull,\n\"507AD02\",\n\"Sables plioc\\u00e8nes du Val de Sa\\u00f4ne\"],\n [\"00755X0006/S1\",\n\"BSS000FHCQ\",\n\"0.419809838577633\",\n\"49.5555270637694\",\n\"76714\",\n\"LES TROIS-PIERRES\",\n\"G9103020\",\n\"L\\u00e9zarde \\u00e0 Montivilliers\",\n\"121AU01\",\n\"Craie du S\\u00e9no-Turonien du Bassin Parisien de l'estuaire de la Seine (bassin Seine-Normandie)\"],\n [\"02706X0074/S77-20\",\n\"BSS000UTLD\",\n\"6.9302772399532\",\n\"48.4395463138954\",\n\"88082\",\n\"CELLES-SUR-PLAINE\",\nnull,\nnull,\n\"143AK07\",\n\"Gr\\u00e8s d'Annweiler et Gr\\u00e8s de Senones du Buntsandstein en Lorraine dans le bassin Rh\\u00f4ne M\\u00e9diterran\\u00e9e\"]],\n        columns: [[\"string\", \"CODE_BSS\"], [\"string\", \"BSS_ID\"], [\"string\", \"LONGITUDE\"], [\"string\", \"LATITUDE\"], [\"string\", \"CODE_INSEE_COMMUNE\"], [\"string\", \"NOM_COMMUNE\"], [\"string\", \"CODE_STATION_HYDRO\"], [\"string\", \"NOM_STATION_HYDRO\"], [\"string\", \"CODE_BDLISA\"], [\"string\", \"NOM_ENTITE_BDLISA\"]],\n        columnOptions: [],\n        rowsPerPage: 10,\n        helpUrl: \"https://colab.research.google.com/notebooks/data_table.ipynb\",\n        suppressOutputScrolling: true,\n        minimumWidth: undefined,\n      });\n    ",
            "text/plain": [
              "<google.colab.data_table.DataTable object>"
            ],
            "text/html": [
              "<div>\n",
              "<style scoped>\n",
              "    .dataframe tbody tr th:only-of-type {\n",
              "        vertical-align: middle;\n",
              "    }\n",
              "\n",
              "    .dataframe tbody tr th {\n",
              "        vertical-align: top;\n",
              "    }\n",
              "\n",
              "    .dataframe thead th {\n",
              "        text-align: right;\n",
              "    }\n",
              "</style>\n",
              "<table border=\"1\" class=\"dataframe\">\n",
              "  <thead>\n",
              "    <tr style=\"text-align: right;\">\n",
              "      <th></th>\n",
              "      <th>CODE_BSS</th>\n",
              "      <th>BSS_ID</th>\n",
              "      <th>LONGITUDE</th>\n",
              "      <th>LATITUDE</th>\n",
              "      <th>CODE_INSEE_COMMUNE</th>\n",
              "      <th>NOM_COMMUNE</th>\n",
              "      <th>CODE_STATION_HYDRO</th>\n",
              "      <th>NOM_STATION_HYDRO</th>\n",
              "      <th>CODE_BDLISA</th>\n",
              "      <th>NOM_ENTITE_BDLISA</th>\n",
              "    </tr>\n",
              "  </thead>\n",
              "  <tbody>\n",
              "    <tr>\n",
              "      <th>0</th>\n",
              "      <td>07476X0029/S</td>\n",
              "      <td>BSS001VTUD</td>\n",
              "      <td>5.19017582950695</td>\n",
              "      <td>45.3650549559674</td>\n",
              "      <td>38300</td>\n",
              "      <td>PENOL</td>\n",
              "      <td>None</td>\n",
              "      <td>None</td>\n",
              "      <td>521AM00</td>\n",
              "      <td>NV3 absent, nom de l'entité NV2 : Alluvions fl...</td>\n",
              "    </tr>\n",
              "    <tr>\n",
              "      <th>1</th>\n",
              "      <td>01516X0004/S1</td>\n",
              "      <td>BSS000LETA</td>\n",
              "      <td>1.61497845782586</td>\n",
              "      <td>48.9815660459082</td>\n",
              "      <td>78484</td>\n",
              "      <td>PERDREAUVILLE</td>\n",
              "      <td>None</td>\n",
              "      <td>None</td>\n",
              "      <td>121AZ01</td>\n",
              "      <td>Craie du Séno-Turonien du Bassin Parisien du V...</td>\n",
              "    </tr>\n",
              "    <tr>\n",
              "      <th>2</th>\n",
              "      <td>06505X0080/FORC</td>\n",
              "      <td>BSS001REHG</td>\n",
              "      <td>4.76295450181247</td>\n",
              "      <td>46.1383028294756</td>\n",
              "      <td>69242</td>\n",
              "      <td>TAPONAS</td>\n",
              "      <td>None</td>\n",
              "      <td>None</td>\n",
              "      <td>507AD02</td>\n",
              "      <td>Sables pliocènes du Val de Saône</td>\n",
              "    </tr>\n",
              "    <tr>\n",
              "      <th>3</th>\n",
              "      <td>00755X0006/S1</td>\n",
              "      <td>BSS000FHCQ</td>\n",
              "      <td>0.419809838577633</td>\n",
              "      <td>49.5555270637694</td>\n",
              "      <td>76714</td>\n",
              "      <td>LES TROIS-PIERRES</td>\n",
              "      <td>G9103020</td>\n",
              "      <td>Lézarde à Montivilliers</td>\n",
              "      <td>121AU01</td>\n",
              "      <td>Craie du Séno-Turonien du Bassin Parisien de l...</td>\n",
              "    </tr>\n",
              "    <tr>\n",
              "      <th>4</th>\n",
              "      <td>02706X0074/S77-20</td>\n",
              "      <td>BSS000UTLD</td>\n",
              "      <td>6.9302772399532</td>\n",
              "      <td>48.4395463138954</td>\n",
              "      <td>88082</td>\n",
              "      <td>CELLES-SUR-PLAINE</td>\n",
              "      <td>None</td>\n",
              "      <td>None</td>\n",
              "      <td>143AK07</td>\n",
              "      <td>Grès d'Annweiler et Grès de Senones du Buntsan...</td>\n",
              "    </tr>\n",
              "  </tbody>\n",
              "</table>\n",
              "</div>"
            ]
          },
          "metadata": {},
          "execution_count": 13
        }
      ]
    },
    {
      "cell_type": "code",
      "metadata": {
        "colab": {
          "base_uri": "https://localhost:8080/",
          "height": 111
        },
        "id": "uehBOEE4X2ic",
        "outputId": "987c126a-94d8-4753-c6fc-f4298467b29d"
      },
      "source": [
        "%%sql\n",
        "select min(longitude)\n",
        "from Point\n"
      ],
      "execution_count": null,
      "outputs": [
        {
          "output_type": "execute_result",
          "data": {
            "application/vnd.google.colaboratory.module+javascript": "\n      import \"https://ssl.gstatic.com/colaboratory/data_table/a6224c040fa35dcf/data_table.js\";\n\n      window.createDataTable({\n        data: [[\"-3.30717741173568\"]],\n        columns: [[\"string\", \"min(longitude)\"]],\n        columnOptions: [],\n        rowsPerPage: 10,\n        helpUrl: \"https://colab.research.google.com/notebooks/data_table.ipynb\",\n        suppressOutputScrolling: true,\n        minimumWidth: undefined,\n      });\n    ",
            "text/plain": [
              "<google.colab.data_table.DataTable object>"
            ],
            "text/html": [
              "<div>\n",
              "<style scoped>\n",
              "    .dataframe tbody tr th:only-of-type {\n",
              "        vertical-align: middle;\n",
              "    }\n",
              "\n",
              "    .dataframe tbody tr th {\n",
              "        vertical-align: top;\n",
              "    }\n",
              "\n",
              "    .dataframe thead th {\n",
              "        text-align: right;\n",
              "    }\n",
              "</style>\n",
              "<table border=\"1\" class=\"dataframe\">\n",
              "  <thead>\n",
              "    <tr style=\"text-align: right;\">\n",
              "      <th></th>\n",
              "      <th>min(longitude)</th>\n",
              "    </tr>\n",
              "  </thead>\n",
              "  <tbody>\n",
              "    <tr>\n",
              "      <th>0</th>\n",
              "      <td>-3.30717741173568</td>\n",
              "    </tr>\n",
              "  </tbody>\n",
              "</table>\n",
              "</div>"
            ]
          },
          "metadata": {},
          "execution_count": 14
        }
      ]
    },
    {
      "cell_type": "markdown",
      "metadata": {
        "id": "NcyFk0pfbRw4"
      },
      "source": [
        "## Accès Open data online\n",
        "\n",
        "Example d'URL : https://hubeau.eaufrance.fr/api/v1/niveaux_nappes/chroniques?code_bss=07548X0009/F&sort=desc&size=10\n"
      ]
    },
    {
      "cell_type": "code",
      "metadata": {
        "colab": {
          "base_uri": "https://localhost:8080/",
          "height": 419
        },
        "id": "RkXQC1oobV_3",
        "outputId": "018f46f8-6cf8-4903-9842-9c712d7f33b1"
      },
      "source": [
        "import urllib.request\n",
        "import json\n",
        "\n",
        "\n",
        "# code_bss = \"07548X0009/F\"\n",
        "code_bss = \"01516X0004/S1\"\n",
        "#code_bss = \"00471X0095/PZ2013\"\n",
        "urlEau = f\"https://hubeau.eaufrance.fr/api/v1/niveaux_nappes/chroniques?code_bss={code_bss}&sort=desc&size=20\"\n",
        "\n",
        "\n",
        "with urllib.request.urlopen(urlEau) as response:\n",
        "   encoding = response.info().get_content_charset('utf-8')\n",
        "   obj = json.loads(response.read().decode(encoding))\n",
        "\n",
        "jrdd = spark.sparkContext.parallelize([json.dumps(obj)])\n",
        "data1 = spark.read.json(jrdd)\n",
        "# data1.printSchema()\n",
        "data2 = data1.selectExpr(\"explode(data) as item\").\\\n",
        "selectExpr(\"item.code_bss as code\",\\\n",
        "           \"item.profondeur_nappe as niveau\",\\\n",
        "           \"item.date_mesure as date\",\\\n",
        "           \"item.timestamp_mesure as time\")\n",
        "data3 = data2.orderBy(desc(data2.date))\n",
        "data3.persist()\n",
        "data3.printSchema()\n",
        "display(data3)"
      ],
      "execution_count": null,
      "outputs": [
        {
          "output_type": "stream",
          "name": "stdout",
          "text": [
            "root\n",
            " |-- code: string (nullable = true)\n",
            " |-- niveau: double (nullable = true)\n",
            " |-- date: string (nullable = true)\n",
            " |-- time: long (nullable = true)\n",
            "\n"
          ]
        },
        {
          "output_type": "execute_result",
          "data": {
            "application/vnd.google.colaboratory.module+javascript": "\n      import \"https://ssl.gstatic.com/colaboratory/data_table/a6224c040fa35dcf/data_table.js\";\n\n      window.createDataTable({\n        data: [[\"01516X0004/S1\",\n{\n            'v': 20.4,\n            'f': \"20.4\",\n        },\n\"2021-12-15\",\n{\n            'v': 1639540800000,\n            'f': \"1639540800000\",\n        }],\n [\"01516X0004/S1\",\n{\n            'v': 20.41,\n            'f': \"20.41\",\n        },\n\"2021-12-14\",\n{\n            'v': 1639440000000,\n            'f': \"1639440000000\",\n        }],\n [\"01516X0004/S1\",\n{\n            'v': 20.41,\n            'f': \"20.41\",\n        },\n\"2021-12-13\",\n{\n            'v': 1639353600000,\n            'f': \"1639353600000\",\n        }],\n [\"01516X0004/S1\",\n{\n            'v': 20.41,\n            'f': \"20.41\",\n        },\n\"2021-12-12\",\n{\n            'v': 1639270800000,\n            'f': \"1639270800000\",\n        }],\n [\"01516X0004/S1\",\n{\n            'v': 20.41,\n            'f': \"20.41\",\n        },\n\"2021-12-11\",\n{\n            'v': 1639180800000,\n            'f': \"1639180800000\",\n        }],\n [\"01516X0004/S1\",\n{\n            'v': 20.4,\n            'f': \"20.4\",\n        },\n\"2021-12-10\",\n{\n            'v': 1639094400000,\n            'f': \"1639094400000\",\n        }],\n [\"01516X0004/S1\",\n{\n            'v': 20.4,\n            'f': \"20.4\",\n        },\n\"2021-12-09\",\n{\n            'v': 1639090800000,\n            'f': \"1639090800000\",\n        }],\n [\"01516X0004/S1\",\n{\n            'v': 20.41,\n            'f': \"20.41\",\n        },\n\"2021-12-08\",\n{\n            'v': 1638921600000,\n            'f': \"1638921600000\",\n        }],\n [\"01516X0004/S1\",\n{\n            'v': 20.4,\n            'f': \"20.4\",\n        },\n\"2021-12-07\",\n{\n            'v': 1638896400000,\n            'f': \"1638896400000\",\n        }],\n [\"01516X0004/S1\",\n{\n            'v': 20.42,\n            'f': \"20.42\",\n        },\n\"2021-12-06\",\n{\n            'v': 1638806400000,\n            'f': \"1638806400000\",\n        }],\n [\"01516X0004/S1\",\n{\n            'v': 20.42,\n            'f': \"20.42\",\n        },\n\"2021-12-05\",\n{\n            'v': 1638676800000,\n            'f': \"1638676800000\",\n        }],\n [\"01516X0004/S1\",\n{\n            'v': 20.42,\n            'f': \"20.42\",\n        },\n\"2021-12-04\",\n{\n            'v': 1638594000000,\n            'f': \"1638594000000\",\n        }],\n [\"01516X0004/S1\",\n{\n            'v': 20.43,\n            'f': \"20.43\",\n        },\n\"2021-12-03\",\n{\n            'v': 1638547200000,\n            'f': \"1638547200000\",\n        }],\n [\"01516X0004/S1\",\n{\n            'v': 20.43,\n            'f': \"20.43\",\n        },\n\"2021-12-02\",\n{\n            'v': 1638403200000,\n            'f': \"1638403200000\",\n        }],\n [\"01516X0004/S1\",\n{\n            'v': 20.42,\n            'f': \"20.42\",\n        },\n\"2021-12-01\",\n{\n            'v': 1638334800000,\n            'f': \"1638334800000\",\n        }],\n [\"01516X0004/S1\",\n{\n            'v': 20.44,\n            'f': \"20.44\",\n        },\n\"2021-11-30\",\n{\n            'v': 1638234000000,\n            'f': \"1638234000000\",\n        }],\n [\"01516X0004/S1\",\n{\n            'v': 20.43,\n            'f': \"20.43\",\n        },\n\"2021-11-29\",\n{\n            'v': 1638144000000,\n            'f': \"1638144000000\",\n        }],\n [\"01516X0004/S1\",\n{\n            'v': 20.42,\n            'f': \"20.42\",\n        },\n\"2021-11-28\",\n{\n            'v': 1638057600000,\n            'f': \"1638057600000\",\n        }],\n [\"01516X0004/S1\",\n{\n            'v': 20.4,\n            'f': \"20.4\",\n        },\n\"2021-11-27\",\n{\n            'v': 1637974800000,\n            'f': \"1637974800000\",\n        }],\n [\"01516X0004/S1\",\n{\n            'v': 20.4,\n            'f': \"20.4\",\n        },\n\"2021-11-26\",\n{\n            'v': 1637949600000,\n            'f': \"1637949600000\",\n        }]],\n        columns: [[\"string\", \"code\"], [\"number\", \"niveau\"], [\"string\", \"date\"], [\"number\", \"time\"]],\n        columnOptions: [],\n        rowsPerPage: 10,\n        helpUrl: \"https://colab.research.google.com/notebooks/data_table.ipynb\",\n        suppressOutputScrolling: true,\n        minimumWidth: undefined,\n      });\n    ",
            "text/plain": [
              "<google.colab.data_table.DataTable object>"
            ],
            "text/html": [
              "<div>\n",
              "<style scoped>\n",
              "    .dataframe tbody tr th:only-of-type {\n",
              "        vertical-align: middle;\n",
              "    }\n",
              "\n",
              "    .dataframe tbody tr th {\n",
              "        vertical-align: top;\n",
              "    }\n",
              "\n",
              "    .dataframe thead th {\n",
              "        text-align: right;\n",
              "    }\n",
              "</style>\n",
              "<table border=\"1\" class=\"dataframe\">\n",
              "  <thead>\n",
              "    <tr style=\"text-align: right;\">\n",
              "      <th></th>\n",
              "      <th>code</th>\n",
              "      <th>niveau</th>\n",
              "      <th>date</th>\n",
              "      <th>time</th>\n",
              "    </tr>\n",
              "  </thead>\n",
              "  <tbody>\n",
              "    <tr>\n",
              "      <th>0</th>\n",
              "      <td>01516X0004/S1</td>\n",
              "      <td>20.40</td>\n",
              "      <td>2021-12-15</td>\n",
              "      <td>1639540800000</td>\n",
              "    </tr>\n",
              "    <tr>\n",
              "      <th>1</th>\n",
              "      <td>01516X0004/S1</td>\n",
              "      <td>20.41</td>\n",
              "      <td>2021-12-14</td>\n",
              "      <td>1639440000000</td>\n",
              "    </tr>\n",
              "    <tr>\n",
              "      <th>2</th>\n",
              "      <td>01516X0004/S1</td>\n",
              "      <td>20.41</td>\n",
              "      <td>2021-12-13</td>\n",
              "      <td>1639353600000</td>\n",
              "    </tr>\n",
              "    <tr>\n",
              "      <th>3</th>\n",
              "      <td>01516X0004/S1</td>\n",
              "      <td>20.41</td>\n",
              "      <td>2021-12-12</td>\n",
              "      <td>1639270800000</td>\n",
              "    </tr>\n",
              "    <tr>\n",
              "      <th>4</th>\n",
              "      <td>01516X0004/S1</td>\n",
              "      <td>20.41</td>\n",
              "      <td>2021-12-11</td>\n",
              "      <td>1639180800000</td>\n",
              "    </tr>\n",
              "    <tr>\n",
              "      <th>5</th>\n",
              "      <td>01516X0004/S1</td>\n",
              "      <td>20.40</td>\n",
              "      <td>2021-12-10</td>\n",
              "      <td>1639094400000</td>\n",
              "    </tr>\n",
              "    <tr>\n",
              "      <th>6</th>\n",
              "      <td>01516X0004/S1</td>\n",
              "      <td>20.40</td>\n",
              "      <td>2021-12-09</td>\n",
              "      <td>1639090800000</td>\n",
              "    </tr>\n",
              "    <tr>\n",
              "      <th>7</th>\n",
              "      <td>01516X0004/S1</td>\n",
              "      <td>20.41</td>\n",
              "      <td>2021-12-08</td>\n",
              "      <td>1638921600000</td>\n",
              "    </tr>\n",
              "    <tr>\n",
              "      <th>8</th>\n",
              "      <td>01516X0004/S1</td>\n",
              "      <td>20.40</td>\n",
              "      <td>2021-12-07</td>\n",
              "      <td>1638896400000</td>\n",
              "    </tr>\n",
              "    <tr>\n",
              "      <th>9</th>\n",
              "      <td>01516X0004/S1</td>\n",
              "      <td>20.42</td>\n",
              "      <td>2021-12-06</td>\n",
              "      <td>1638806400000</td>\n",
              "    </tr>\n",
              "    <tr>\n",
              "      <th>10</th>\n",
              "      <td>01516X0004/S1</td>\n",
              "      <td>20.42</td>\n",
              "      <td>2021-12-05</td>\n",
              "      <td>1638676800000</td>\n",
              "    </tr>\n",
              "    <tr>\n",
              "      <th>11</th>\n",
              "      <td>01516X0004/S1</td>\n",
              "      <td>20.42</td>\n",
              "      <td>2021-12-04</td>\n",
              "      <td>1638594000000</td>\n",
              "    </tr>\n",
              "    <tr>\n",
              "      <th>12</th>\n",
              "      <td>01516X0004/S1</td>\n",
              "      <td>20.43</td>\n",
              "      <td>2021-12-03</td>\n",
              "      <td>1638547200000</td>\n",
              "    </tr>\n",
              "    <tr>\n",
              "      <th>13</th>\n",
              "      <td>01516X0004/S1</td>\n",
              "      <td>20.43</td>\n",
              "      <td>2021-12-02</td>\n",
              "      <td>1638403200000</td>\n",
              "    </tr>\n",
              "    <tr>\n",
              "      <th>14</th>\n",
              "      <td>01516X0004/S1</td>\n",
              "      <td>20.42</td>\n",
              "      <td>2021-12-01</td>\n",
              "      <td>1638334800000</td>\n",
              "    </tr>\n",
              "    <tr>\n",
              "      <th>15</th>\n",
              "      <td>01516X0004/S1</td>\n",
              "      <td>20.44</td>\n",
              "      <td>2021-11-30</td>\n",
              "      <td>1638234000000</td>\n",
              "    </tr>\n",
              "    <tr>\n",
              "      <th>16</th>\n",
              "      <td>01516X0004/S1</td>\n",
              "      <td>20.43</td>\n",
              "      <td>2021-11-29</td>\n",
              "      <td>1638144000000</td>\n",
              "    </tr>\n",
              "    <tr>\n",
              "      <th>17</th>\n",
              "      <td>01516X0004/S1</td>\n",
              "      <td>20.42</td>\n",
              "      <td>2021-11-28</td>\n",
              "      <td>1638057600000</td>\n",
              "    </tr>\n",
              "    <tr>\n",
              "      <th>18</th>\n",
              "      <td>01516X0004/S1</td>\n",
              "      <td>20.40</td>\n",
              "      <td>2021-11-27</td>\n",
              "      <td>1637974800000</td>\n",
              "    </tr>\n",
              "    <tr>\n",
              "      <th>19</th>\n",
              "      <td>01516X0004/S1</td>\n",
              "      <td>20.40</td>\n",
              "      <td>2021-11-26</td>\n",
              "      <td>1637949600000</td>\n",
              "    </tr>\n",
              "  </tbody>\n",
              "</table>\n",
              "</div>"
            ]
          },
          "metadata": {},
          "execution_count": 15
        }
      ]
    },
    {
      "cell_type": "markdown",
      "metadata": {
        "id": "JFI5RDCqWhwS"
      },
      "source": [
        "# Exercice 1 : Accès en parallèle aux mesures d'eau"
      ]
    },
    {
      "cell_type": "markdown",
      "metadata": {
        "id": "R2a3UBenX0km"
      },
      "source": [
        "## Question 1 : Accès parallèle"
      ]
    },
    {
      "cell_type": "markdown",
      "metadata": {
        "id": "RRWpDO30Wkwr"
      },
      "source": [
        "Pour toutes les stations (code_bss) de la table Point. Accéder en parallèle au site pour récupérer les 10 dernières mesures de niveau d'eau.\n",
        "Le résultat est un seul dataframe Mesure(code,niveau,date,time) contenant toutes les mesures de tous les points d'eau. Rendre persistant le dataframe Mesure."
      ]
    },
    {
      "cell_type": "code",
      "metadata": {
        "id": "GhOrvdNe0f5S"
      },
      "source": [
        "import urllib.request\n",
        "import json\n",
        "\n",
        "mesSize = 10\n",
        "\n",
        "@udf(ArrayType(MapType(StringType(),StringType())))\n",
        "\n",
        "def get_mesure(code_bss):\n",
        "\n",
        "  urlEau = f\"https://hubeau.eaufrance.fr/api/v1/niveaux_nappes/chroniques?code_bss={code_bss}&sort=desc&size={mesSize}\"\n",
        "\n",
        "  with urllib.request.urlopen(urlEau) as response:\n",
        "    encoding = response.info().get_content_charset('utf-8')\n",
        "    obj = json.loads(response.read().decode(encoding))\n",
        "    return obj['data']\n",
        "\n"
      ],
      "execution_count": null,
      "outputs": []
    },
    {
      "cell_type": "code",
      "metadata": {
        "colab": {
          "base_uri": "https://localhost:8080/",
          "height": 315
        },
        "id": "r1237GSb0cA8",
        "outputId": "78a24dab-e5a4-45fb-bb7f-8ca023c7408e"
      },
      "source": [
        "def create_mesure(point):\n",
        "  mesure = point.select(point.CODE_BSS,get_mesure(point.CODE_BSS).alias(\"mesure\"))\n",
        "  data = mesure.select(col(\"CODE_BSS\"),explode(col(\"mesure\")).alias(\"m\"))\n",
        "  data2 = data.select(col(\"CODE_BSS\").alias(\"code\"),col(\"m.profondeur_nappe\").alias(\"niveau\"),col(\"m.date_mesure\").alias(\"date\"),col(\"m.timestamp_mesure\").alias(\"time\")).orderBy(\"date\")\n",
        "\n",
        "  return data2\n",
        "\n",
        "mes = create_mesure(point)\n",
        "mes.persist()\n",
        "display(mes)"
      ],
      "execution_count": null,
      "outputs": [
        {
          "output_type": "execute_result",
          "data": {
            "application/vnd.google.colaboratory.module+javascript": "\n      import \"https://ssl.gstatic.com/colaboratory/data_table/a6224c040fa35dcf/data_table.js\";\n\n      window.createDataTable({\n        data: [[\"00755X0006/S1\",\n\"83.54\",\n\"2021-11-17\",\n\"1637107200000\"],\n [\"00766X0004/S1\",\n\"67.88\",\n\"2021-11-17\",\n\"1637107200000\"],\n [\"00755X0006/S1\",\n\"83.55\",\n\"2021-11-18\",\n\"1637193600000\"],\n [\"00766X0004/S1\",\n\"67.91\",\n\"2021-11-18\",\n\"1637193600000\"],\n [\"00755X0006/S1\",\n\"83.55\",\n\"2021-11-19\",\n\"1637280000000\"],\n [\"00766X0004/S1\",\n\"67.92\",\n\"2021-11-19\",\n\"1637280000000\"],\n [\"00755X0006/S1\",\n\"83.56\",\n\"2021-11-20\",\n\"1637366400000\"],\n [\"00766X0004/S1\",\n\"67.95\",\n\"2021-11-20\",\n\"1637366400000\"],\n [\"00755X0006/S1\",\n\"83.56\",\n\"2021-11-21\",\n\"1637452800000\"],\n [\"00766X0004/S1\",\n\"67.98\",\n\"2021-11-21\",\n\"1637452800000\"],\n [\"00755X0006/S1\",\n\"83.56\",\n\"2021-11-22\",\n\"1637542800000\"],\n [\"00766X0004/S1\",\n\"68.01\",\n\"2021-11-22\",\n\"1637539200000\"],\n [\"00755X0006/S1\",\n\"83.57\",\n\"2021-11-23\",\n\"1637625600000\"],\n [\"00766X0004/S1\",\n\"68.04\",\n\"2021-11-23\",\n\"1637625600000\"],\n [\"00755X0006/S1\",\n\"83.58\",\n\"2021-11-24\",\n\"1637712000000\"],\n [\"00766X0004/S1\",\n\"68.06\",\n\"2021-11-24\",\n\"1637715600000\"],\n [\"00755X0006/S1\",\n\"83.58\",\n\"2021-11-25\",\n\"1637798400000\"],\n [\"00766X0004/S1\",\n\"68.09\",\n\"2021-11-25\",\n\"1637798400000\"],\n [\"00755X0006/S1\",\n\"83.58\",\n\"2021-11-26\",\n\"1637884800000\"],\n [\"00766X0004/S1\",\n\"68.11\",\n\"2021-11-26\",\n\"1637884800000\"],\n [\"03124X0088/F\",\n\"15.77\",\n\"2021-12-03\",\n\"1638572400000\"],\n [\"00487X0015/S1\",\n\"30.55\",\n\"2021-12-04\",\n\"1638658800000\"],\n [\"03124X0088/F\",\n\"15.59\",\n\"2021-12-04\",\n\"1638658800000\"],\n [\"02706X0074/S77-20\",\n\"15.98\",\n\"2021-12-04\",\n\"1638622800000\"],\n [\"00471X0095/PZ2013\",\n\"13.43\",\n\"2021-12-04\",\n\"1638619200000\"],\n [\"00487X0015/S1\",\n\"30.52\",\n\"2021-12-05\",\n\"1638745200000\"],\n [\"03124X0088/F\",\n\"15.38\",\n\"2021-12-05\",\n\"1638745200000\"],\n [\"02706X0074/S77-20\",\n\"16.04\",\n\"2021-12-05\",\n\"1638691200000\"],\n [\"00471X0095/PZ2013\",\n\"13.39\",\n\"2021-12-05\",\n\"1638745200000\"],\n [\"00762X0004/S1\",\n\"33.43\",\n\"2021-12-06\",\n\"1638810000000\"],\n [\"00487X0015/S1\",\n\"30.51\",\n\"2021-12-06\",\n\"1638824400000\"],\n [\"07476X0029/S\",\n\"28.9\",\n\"2021-12-06\",\n\"1638766800000\"],\n [\"01584X0023/LV3\",\n\"16.94\",\n\"2021-12-06\",\n\"1638831600000\"],\n [\"01258X0020/S1\",\n\"15.05\",\n\"2021-12-06\",\n\"1638824400000\"],\n [\"04398X0002/SONDAG\",\n\"25.56\",\n\"2021-12-06\",\n\"1638831600000\"],\n [\"01516X0004/S1\",\n\"20.42\",\n\"2021-12-06\",\n\"1638806400000\"],\n [\"02206X0022/S1\",\n\"40.58\",\n\"2021-12-06\",\n\"1638813600000\"],\n [\"06505X0080/FORC\",\n\"11.25\",\n\"2021-12-06\",\n\"1638831600000\"],\n [\"02603X0009/S1\",\n\"13.61\",\n\"2021-12-06\",\n\"1638806400000\"],\n [\"03124X0088/F\",\n\"15.12\",\n\"2021-12-06\",\n\"1638831600000\"],\n [\"02706X0074/S77-20\",\n\"16.07\",\n\"2021-12-06\",\n\"1638831600000\"],\n [\"00471X0095/PZ2013\",\n\"13.34\",\n\"2021-12-06\",\n\"1638828000000\"],\n [\"02267X0030/S1\",\n\"1.71\",\n\"2021-12-06\",\n\"1638824400000\"],\n [\"02648X0020/S1\",\n\"6.53\",\n\"2021-12-06\",\n\"1638831600000\"],\n [\"00762X0004/S1\",\n\"33.36\",\n\"2021-12-07\",\n\"1638896400000\"],\n [\"07223C0113/S\",\n\"6.59\",\n\"2021-12-07\",\n\"1638918000000\"],\n [\"00487X0015/S1\",\n\"30.5\",\n\"2021-12-07\",\n\"1638910800000\"],\n [\"07476X0029/S\",\n\"28.89\",\n\"2021-12-07\",\n\"1638910800000\"],\n [\"01584X0023/LV3\",\n\"16.8\",\n\"2021-12-07\",\n\"1638918000000\"],\n [\"01258X0020/S1\",\n\"14.96\",\n\"2021-12-07\",\n\"1638903600000\"],\n [\"04398X0002/SONDAG\",\n\"25.04\",\n\"2021-12-07\",\n\"1638918000000\"],\n [\"01516X0004/S1\",\n\"20.4\",\n\"2021-12-07\",\n\"1638896400000\"],\n [\"02206X0022/S1\",\n\"40.41\",\n\"2021-12-07\",\n\"1638907200000\"],\n [\"06505X0080/FORC\",\n\"11.11\",\n\"2021-12-07\",\n\"1638918000000\"],\n [\"02603X0009/S1\",\n\"13.59\",\n\"2021-12-07\",\n\"1638903600000\"],\n [\"03124X0088/F\",\n\"14.83\",\n\"2021-12-07\",\n\"1638918000000\"],\n [\"02706X0074/S77-20\",\n\"15.99\",\n\"2021-12-07\",\n\"1638918000000\"],\n [\"00471X0095/PZ2013\",\n\"13.27\",\n\"2021-12-07\",\n\"1638914400000\"],\n [\"02267X0030/S1\",\n\"1.71\",\n\"2021-12-07\",\n\"1638896400000\"],\n [\"02648X0020/S1\",\n\"6.45\",\n\"2021-12-07\",\n\"1638914400000\"],\n [\"00762X0004/S1\",\n\"33.41\",\n\"2021-12-08\",\n\"1638921600000\"],\n [\"07223C0113/S\",\n\"6.58\",\n\"2021-12-08\",\n\"1639004400000\"],\n [\"00487X0015/S1\",\n\"30.5\",\n\"2021-12-08\",\n\"1638921600000\"],\n [\"07476X0029/S\",\n\"28.89\",\n\"2021-12-08\",\n\"1638939600000\"],\n [\"01584X0023/LV3\",\n\"16.75\",\n\"2021-12-08\",\n\"1639004400000\"],\n [\"01258X0020/S1\",\n\"14.94\",\n\"2021-12-08\",\n\"1638979200000\"],\n [\"04398X0002/SONDAG\",\n\"24.69\",\n\"2021-12-08\",\n\"1639004400000\"],\n [\"01516X0004/S1\",\n\"20.41\",\n\"2021-12-08\",\n\"1638921600000\"],\n [\"02206X0022/S1\",\n\"40.43\",\n\"2021-12-08\",\n\"1638921600000\"],\n [\"06505X0080/FORC\",\n\"11.02\",\n\"2021-12-08\",\n\"1639004400000\"],\n [\"02603X0009/S1\",\n\"13.62\",\n\"2021-12-08\",\n\"1638921600000\"],\n [\"03124X0088/F\",\n\"14.58\",\n\"2021-12-08\",\n\"1639004400000\"],\n [\"02706X0074/S77-20\",\n\"15.99\",\n\"2021-12-08\",\n\"1638921600000\"],\n [\"00471X0095/PZ2013\",\n\"13.2\",\n\"2021-12-08\",\n\"1639004400000\"],\n [\"02267X0030/S1\",\n\"1.71\",\n\"2021-12-08\",\n\"1638928800000\"],\n [\"02648X0020/S1\",\n\"6.46\",\n\"2021-12-08\",\n\"1638975600000\"],\n [\"00762X0004/S1\",\n\"33.32\",\n\"2021-12-09\",\n\"1639090800000\"],\n [\"07223C0113/S\",\n\"6.56\",\n\"2021-12-09\",\n\"1639090800000\"],\n [\"00487X0015/S1\",\n\"30.52\",\n\"2021-12-09\",\n\"1639008000000\"],\n [\"07476X0029/S\",\n\"28.87\",\n\"2021-12-09\",\n\"1639090800000\"],\n [\"01584X0023/LV3\",\n\"16.69\",\n\"2021-12-09\",\n\"1639090800000\"],\n [\"01258X0020/S1\",\n\"14.95\",\n\"2021-12-09\",\n\"1639008000000\"],\n [\"04398X0002/SONDAG\",\n\"24.24\",\n\"2021-12-09\",\n\"1639090800000\"],\n [\"01516X0004/S1\",\n\"20.4\",\n\"2021-12-09\",\n\"1639090800000\"],\n [\"02206X0022/S1\",\n\"40.47\",\n\"2021-12-09\",\n\"1639090800000\"],\n [\"06505X0080/FORC\",\n\"10.95\",\n\"2021-12-09\",\n\"1639090800000\"],\n [\"02603X0009/S1\",\n\"13.68\",\n\"2021-12-09\",\n\"1639008000000\"],\n [\"03124X0088/F\",\n\"14.21\",\n\"2021-12-09\",\n\"1639090800000\"],\n [\"02706X0074/S77-20\",\n\"16.07\",\n\"2021-12-09\",\n\"1639090800000\"],\n [\"00471X0095/PZ2013\",\n\"13.14\",\n\"2021-12-09\",\n\"1639083600000\"],\n [\"02267X0030/S1\",\n\"1.73\",\n\"2021-12-09\",\n\"1639026000000\"],\n [\"02648X0020/S1\",\n\"6.48\",\n\"2021-12-09\",\n\"1639008000000\"],\n [\"00762X0004/S1\",\n\"33.28\",\n\"2021-12-10\",\n\"1639177200000\"],\n [\"07223C0113/S\",\n\"6.54\",\n\"2021-12-10\",\n\"1639177200000\"],\n [\"00487X0015/S1\",\n\"30.53\",\n\"2021-12-10\",\n\"1639159200000\"],\n [\"07476X0029/S\",\n\"28.86\",\n\"2021-12-10\",\n\"1639177200000\"],\n [\"01584X0023/LV3\",\n\"16.62\",\n\"2021-12-10\",\n\"1639177200000\"],\n [\"01258X0020/S1\",\n\"14.82\",\n\"2021-12-10\",\n\"1639177200000\"],\n [\"04398X0002/SONDAG\",\n\"23.66\",\n\"2021-12-10\",\n\"1639177200000\"],\n [\"01516X0004/S1\",\n\"20.4\",\n\"2021-12-10\",\n\"1639094400000\"]],\n        columns: [[\"string\", \"code\"], [\"string\", \"niveau\"], [\"string\", \"date\"], [\"string\", \"time\"]],\n        columnOptions: [],\n        rowsPerPage: 10,\n        helpUrl: \"https://colab.research.google.com/notebooks/data_table.ipynb\",\n        suppressOutputScrolling: true,\n        minimumWidth: undefined,\n      });\n    ",
            "text/plain": [
              "<google.colab.data_table.DataTable object>"
            ],
            "text/html": [
              "<div>\n",
              "<style scoped>\n",
              "    .dataframe tbody tr th:only-of-type {\n",
              "        vertical-align: middle;\n",
              "    }\n",
              "\n",
              "    .dataframe tbody tr th {\n",
              "        vertical-align: top;\n",
              "    }\n",
              "\n",
              "    .dataframe thead th {\n",
              "        text-align: right;\n",
              "    }\n",
              "</style>\n",
              "<table border=\"1\" class=\"dataframe\">\n",
              "  <thead>\n",
              "    <tr style=\"text-align: right;\">\n",
              "      <th></th>\n",
              "      <th>code</th>\n",
              "      <th>niveau</th>\n",
              "      <th>date</th>\n",
              "      <th>time</th>\n",
              "    </tr>\n",
              "  </thead>\n",
              "  <tbody>\n",
              "    <tr>\n",
              "      <th>0</th>\n",
              "      <td>00755X0006/S1</td>\n",
              "      <td>83.54</td>\n",
              "      <td>2021-11-17</td>\n",
              "      <td>1637107200000</td>\n",
              "    </tr>\n",
              "    <tr>\n",
              "      <th>1</th>\n",
              "      <td>00766X0004/S1</td>\n",
              "      <td>67.88</td>\n",
              "      <td>2021-11-17</td>\n",
              "      <td>1637107200000</td>\n",
              "    </tr>\n",
              "    <tr>\n",
              "      <th>2</th>\n",
              "      <td>00755X0006/S1</td>\n",
              "      <td>83.55</td>\n",
              "      <td>2021-11-18</td>\n",
              "      <td>1637193600000</td>\n",
              "    </tr>\n",
              "    <tr>\n",
              "      <th>3</th>\n",
              "      <td>00766X0004/S1</td>\n",
              "      <td>67.91</td>\n",
              "      <td>2021-11-18</td>\n",
              "      <td>1637193600000</td>\n",
              "    </tr>\n",
              "    <tr>\n",
              "      <th>4</th>\n",
              "      <td>00755X0006/S1</td>\n",
              "      <td>83.55</td>\n",
              "      <td>2021-11-19</td>\n",
              "      <td>1637280000000</td>\n",
              "    </tr>\n",
              "    <tr>\n",
              "      <th>...</th>\n",
              "      <td>...</td>\n",
              "      <td>...</td>\n",
              "      <td>...</td>\n",
              "      <td>...</td>\n",
              "    </tr>\n",
              "    <tr>\n",
              "      <th>95</th>\n",
              "      <td>07476X0029/S</td>\n",
              "      <td>28.86</td>\n",
              "      <td>2021-12-10</td>\n",
              "      <td>1639177200000</td>\n",
              "    </tr>\n",
              "    <tr>\n",
              "      <th>96</th>\n",
              "      <td>01584X0023/LV3</td>\n",
              "      <td>16.62</td>\n",
              "      <td>2021-12-10</td>\n",
              "      <td>1639177200000</td>\n",
              "    </tr>\n",
              "    <tr>\n",
              "      <th>97</th>\n",
              "      <td>01258X0020/S1</td>\n",
              "      <td>14.82</td>\n",
              "      <td>2021-12-10</td>\n",
              "      <td>1639177200000</td>\n",
              "    </tr>\n",
              "    <tr>\n",
              "      <th>98</th>\n",
              "      <td>04398X0002/SONDAG</td>\n",
              "      <td>23.66</td>\n",
              "      <td>2021-12-10</td>\n",
              "      <td>1639177200000</td>\n",
              "    </tr>\n",
              "    <tr>\n",
              "      <th>99</th>\n",
              "      <td>01516X0004/S1</td>\n",
              "      <td>20.4</td>\n",
              "      <td>2021-12-10</td>\n",
              "      <td>1639094400000</td>\n",
              "    </tr>\n",
              "  </tbody>\n",
              "</table>\n",
              "<p>100 rows × 4 columns</p>\n",
              "</div>"
            ]
          },
          "metadata": {},
          "execution_count": 18
        }
      ]
    },
    {
      "cell_type": "markdown",
      "metadata": {
        "id": "aWxnTckFX4EC"
      },
      "source": [
        "## Question 2 : degré de parallélisme"
      ]
    },
    {
      "cell_type": "markdown",
      "metadata": {
        "id": "riRxHIsYX_FQ"
      },
      "source": [
        "En faisant varier le nombre de partitions de 1 à 2, comparer la durée pour générer le dataframe Mesure.\n",
        "Calculer le rapport des durées."
      ]
    },
    {
      "cell_type": "code",
      "metadata": {
        "id": "as5gI9mRm_At",
        "colab": {
          "base_uri": "https://localhost:8080/"
        },
        "outputId": "afc22836-4cf8-4685-9a7b-6a1e54d19ea9"
      },
      "source": [
        "point1Partition = point.repartition(1).persist()\n",
        "point1Partition.count()\n",
        "\n",
        "mes = create_mesure(point1Partition)\n",
        "chronoPersist(mes)\n",
        "chronoCount(mes)\n",
        "  \n",
        "point2Partitions = point.repartition(5).persist()\n",
        "point2Partitions.count()\n",
        "\n",
        "\n",
        "\n",
        "mes = create_mesure(point2Partitions)\n",
        "chronoPersist(mes)\n",
        "chronoCount(mes)\n"
      ],
      "execution_count": null,
      "outputs": [
        {
          "output_type": "stream",
          "name": "stdout",
          "text": [
            "durée: 26.2 s pour lire 180 elements\n",
            "durée: 14.2 s pour dénombrer 180 elements\n",
            "durée: 16.4 s pour lire 180 elements\n",
            "durée: 7.9 s pour dénombrer 180 elements\n"
          ]
        }
      ]
    },
    {
      "cell_type": "markdown",
      "metadata": {
        "id": "6fBrIwKAXsYi"
      },
      "source": [
        "# Exercice 2 : Traitement avec des partitions"
      ]
    },
    {
      "cell_type": "markdown",
      "metadata": {
        "id": "3cSOQIuuZ_PD"
      },
      "source": [
        "On fournit des fonctions pour afficher le contenu des partitions d'un dataframe\n"
      ]
    },
    {
      "cell_type": "markdown",
      "metadata": {
        "application/vnd.databricks.v1+cell": {
          "title": "",
          "showTitle": false,
          "inputWidgets": {},
          "nuid": "52fd9538-28a9-4974-92ea-8a7be60563c3"
        },
        "id": "0LPYBvh0G1_-"
      },
      "source": [
        "#### Fonctions showPartitions et showPartitionSize\n",
        " \n",
        "* showPartitions : affiche les _n_ premiers éléments de chaque partition\n",
        "* showPartitionSize : affiche le nombre d'éléments dans chaque partition"
      ]
    },
    {
      "cell_type": "code",
      "metadata": {
        "application/vnd.databricks.v1+cell": {
          "title": "",
          "showTitle": false,
          "inputWidgets": {},
          "nuid": "f626210f-dce5-457b-a05b-1dd3e6af87a2"
        },
        "colab": {
          "base_uri": "https://localhost:8080/"
        },
        "id": "cIfA0oZaG1_-",
        "outputId": "a9923ee1-9d42-40f7-b32c-822020fa8b0b"
      },
      "source": [
        "# fonction auxilliaire\n",
        "def partSize(partID, iterateur):\n",
        "  c=0\n",
        "  suivant = next(iterateur, None)\n",
        "  while suivant is not None :\n",
        "    c+=1\n",
        "    suivant = next(iterateur, None)\n",
        "  return [(partID, c)]\n",
        "\n",
        "\n",
        "def showPartitionSize(df):  \n",
        "  t = df.selectExpr(\"1\").rdd.mapPartitionsWithIndex(partSize)\n",
        "  for (partID, nbElt) in t.collect():\n",
        "    print(\"partition\", partID, \":\", nbElt, \"éléments\")\n",
        "  print()\n",
        "\n",
        "\n",
        "def showPartitions(df, N=5):\n",
        "  size = df.selectExpr(\"1\").rdd.mapPartitionsWithIndex(partSize).collectAsMap()\n",
        "  \n",
        "  def topN(partID, iterateur):\n",
        "    c=0\n",
        "    head=[]\n",
        "    suivant = next(iterateur, None)\n",
        "    while suivant is not None and c < N :\n",
        "      c+=1\n",
        "      head.append(suivant)\n",
        "      suivant = next(iterateur, None)\n",
        "    return [(partID, head)]  \n",
        "  t = df.rdd.mapPartitionsWithIndex(topN)\n",
        "  for (partID, head) in t.collect():\n",
        "    print(\"Partition\", partID, \",\", size[partID], \"éléments\")\n",
        "    for row in head:\n",
        "        print(row)\n",
        "    print()\n",
        "    \n",
        "print('showPartitions et showPartitionSize définies')"
      ],
      "execution_count": null,
      "outputs": [
        {
          "output_type": "stream",
          "name": "stdout",
          "text": [
            "showPartitions et showPartitionSize définies\n"
          ]
        }
      ]
    },
    {
      "cell_type": "code",
      "metadata": {
        "colab": {
          "base_uri": "https://localhost:8080/"
        },
        "id": "kw3S7FblajL2",
        "outputId": "99b7e0dc-7c14-4c87-969d-8899d4069043"
      },
      "source": [
        "showPartitionSize(data3)"
      ],
      "execution_count": null,
      "outputs": [
        {
          "output_type": "stream",
          "name": "stdout",
          "text": [
            "partition 0 : 5 éléments\n",
            "partition 1 : 5 éléments\n",
            "partition 2 : 5 éléments\n",
            "partition 3 : 5 éléments\n",
            "\n"
          ]
        }
      ]
    },
    {
      "cell_type": "code",
      "metadata": {
        "colab": {
          "base_uri": "https://localhost:8080/"
        },
        "id": "ClAHmDeVblxw",
        "outputId": "063a0f8b-76ca-46f7-e720-e35613c0a7e9"
      },
      "source": [
        "showPartitions(data3)"
      ],
      "execution_count": null,
      "outputs": [
        {
          "output_type": "stream",
          "name": "stdout",
          "text": [
            "Partition 0 , 5 éléments\n",
            "Row(code='01516X0004/S1', niveau=20.4, date='2021-12-15', time=1639540800000)\n",
            "Row(code='01516X0004/S1', niveau=20.41, date='2021-12-14', time=1639440000000)\n",
            "Row(code='01516X0004/S1', niveau=20.41, date='2021-12-13', time=1639353600000)\n",
            "Row(code='01516X0004/S1', niveau=20.41, date='2021-12-12', time=1639270800000)\n",
            "Row(code='01516X0004/S1', niveau=20.41, date='2021-12-11', time=1639180800000)\n",
            "\n",
            "Partition 1 , 5 éléments\n",
            "Row(code='01516X0004/S1', niveau=20.4, date='2021-12-10', time=1639094400000)\n",
            "Row(code='01516X0004/S1', niveau=20.4, date='2021-12-09', time=1639090800000)\n",
            "Row(code='01516X0004/S1', niveau=20.41, date='2021-12-08', time=1638921600000)\n",
            "Row(code='01516X0004/S1', niveau=20.4, date='2021-12-07', time=1638896400000)\n",
            "Row(code='01516X0004/S1', niveau=20.42, date='2021-12-06', time=1638806400000)\n",
            "\n",
            "Partition 2 , 5 éléments\n",
            "Row(code='01516X0004/S1', niveau=20.42, date='2021-12-05', time=1638676800000)\n",
            "Row(code='01516X0004/S1', niveau=20.42, date='2021-12-04', time=1638594000000)\n",
            "Row(code='01516X0004/S1', niveau=20.43, date='2021-12-03', time=1638547200000)\n",
            "Row(code='01516X0004/S1', niveau=20.43, date='2021-12-02', time=1638403200000)\n",
            "Row(code='01516X0004/S1', niveau=20.42, date='2021-12-01', time=1638334800000)\n",
            "\n",
            "Partition 3 , 5 éléments\n",
            "Row(code='01516X0004/S1', niveau=20.44, date='2021-11-30', time=1638234000000)\n",
            "Row(code='01516X0004/S1', niveau=20.43, date='2021-11-29', time=1638144000000)\n",
            "Row(code='01516X0004/S1', niveau=20.42, date='2021-11-28', time=1638057600000)\n",
            "Row(code='01516X0004/S1', niveau=20.4, date='2021-11-27', time=1637974800000)\n",
            "Row(code='01516X0004/S1', niveau=20.4, date='2021-11-26', time=1637949600000)\n",
            "\n"
          ]
        }
      ]
    },
    {
      "cell_type": "markdown",
      "metadata": {
        "id": "rMHvhFWXbRfX"
      },
      "source": [
        "## Question 3 : Fonction niveauMoyen"
      ]
    },
    {
      "cell_type": "markdown",
      "metadata": {
        "id": "YUw-ILsYbbdZ"
      },
      "source": [
        "En vous inspirant de la fonctions showPartitions définir une fonction qui détermine le niveau moyen dans chaque partition. Le résultat est (numP, code, niveauMoyen) avec numP étant le numéro de partition."
      ]
    },
    {
      "cell_type": "code",
      "metadata": {
        "colab": {
          "base_uri": "https://localhost:8080/",
          "height": 176
        },
        "id": "S0xtdpoP3XGy",
        "outputId": "02113609-4a7d-4a37-8078-5573a688af75"
      },
      "source": [
        "# exemple d'invocation de la fonction partsize définie ci-dessus pour définir un dataframe.\n",
        "pointPartSize = point.rdd.mapPartitionsWithIndex(partSize).toDF([\"numP\", \"size\"])\n",
        "display(pointPartSize)"
      ],
      "execution_count": null,
      "outputs": [
        {
          "output_type": "execute_result",
          "data": {
            "application/vnd.google.colaboratory.module+javascript": "\n      import \"https://ssl.gstatic.com/colaboratory/data_table/a6224c040fa35dcf/data_table.js\";\n\n      window.createDataTable({\n        data: [[{\n            'v': 0,\n            'f': \"0\",\n        },\n{\n            'v': 5,\n            'f': \"5\",\n        }],\n [{\n            'v': 1,\n            'f': \"1\",\n        },\n{\n            'v': 4,\n            'f': \"4\",\n        }],\n [{\n            'v': 2,\n            'f': \"2\",\n        },\n{\n            'v': 4,\n            'f': \"4\",\n        }],\n [{\n            'v': 3,\n            'f': \"3\",\n        },\n{\n            'v': 5,\n            'f': \"5\",\n        }]],\n        columns: [[\"number\", \"numP\"], [\"number\", \"size\"]],\n        columnOptions: [],\n        rowsPerPage: 10,\n        helpUrl: \"https://colab.research.google.com/notebooks/data_table.ipynb\",\n        suppressOutputScrolling: true,\n        minimumWidth: undefined,\n      });\n    ",
            "text/plain": [
              "<google.colab.data_table.DataTable object>"
            ],
            "text/html": [
              "<div>\n",
              "<style scoped>\n",
              "    .dataframe tbody tr th:only-of-type {\n",
              "        vertical-align: middle;\n",
              "    }\n",
              "\n",
              "    .dataframe tbody tr th {\n",
              "        vertical-align: top;\n",
              "    }\n",
              "\n",
              "    .dataframe thead th {\n",
              "        text-align: right;\n",
              "    }\n",
              "</style>\n",
              "<table border=\"1\" class=\"dataframe\">\n",
              "  <thead>\n",
              "    <tr style=\"text-align: right;\">\n",
              "      <th></th>\n",
              "      <th>numP</th>\n",
              "      <th>size</th>\n",
              "    </tr>\n",
              "  </thead>\n",
              "  <tbody>\n",
              "    <tr>\n",
              "      <th>0</th>\n",
              "      <td>0</td>\n",
              "      <td>5</td>\n",
              "    </tr>\n",
              "    <tr>\n",
              "      <th>1</th>\n",
              "      <td>1</td>\n",
              "      <td>4</td>\n",
              "    </tr>\n",
              "    <tr>\n",
              "      <th>2</th>\n",
              "      <td>2</td>\n",
              "      <td>4</td>\n",
              "    </tr>\n",
              "    <tr>\n",
              "      <th>3</th>\n",
              "      <td>3</td>\n",
              "      <td>5</td>\n",
              "    </tr>\n",
              "  </tbody>\n",
              "</table>\n",
              "</div>"
            ]
          },
          "metadata": {},
          "execution_count": 23
        }
      ]
    },
    {
      "cell_type": "code",
      "source": [
        "def getNiveauMoyen(df):\n",
        "\n",
        "  def AVG(partID, iterateur):\n",
        "    c=0\n",
        "    moy=0\n",
        "    suivant = next(iterateur, None)\n",
        "    code = suivant.code\n",
        "    while suivant is not None:\n",
        "      c+=1\n",
        "      moy+=suivant.niveau\n",
        "      suivant = next(iterateur, None)\n",
        "    return [(partID, code, moy/c)]  \n",
        "\n",
        "  t = df.rdd.mapPartitionsWithIndex(AVG).toDF([\"numP\", \"code\",\"niveauMoyen\"])\n",
        "  return t"
      ],
      "metadata": {
        "id": "5HiUxZ8gEFfr"
      },
      "execution_count": null,
      "outputs": []
    },
    {
      "cell_type": "code",
      "source": [
        "t = getNiveauMoyen(data3)\n",
        "display(t)"
      ],
      "metadata": {
        "colab": {
          "base_uri": "https://localhost:8080/",
          "height": 176
        },
        "id": "Ci0GdwNgFXJD",
        "outputId": "e39f8010-608f-42f1-ae46-5d093c228e1a"
      },
      "execution_count": null,
      "outputs": [
        {
          "output_type": "execute_result",
          "data": {
            "application/vnd.google.colaboratory.module+javascript": "\n      import \"https://ssl.gstatic.com/colaboratory/data_table/a6224c040fa35dcf/data_table.js\";\n\n      window.createDataTable({\n        data: [[{\n            'v': 0,\n            'f': \"0\",\n        },\n\"01516X0004/S1\",\n{\n            'v': 20.407999999999998,\n            'f': \"20.407999999999998\",\n        }],\n [{\n            'v': 1,\n            'f': \"1\",\n        },\n\"01516X0004/S1\",\n{\n            'v': 20.406,\n            'f': \"20.406\",\n        }],\n [{\n            'v': 2,\n            'f': \"2\",\n        },\n\"01516X0004/S1\",\n{\n            'v': 20.424,\n            'f': \"20.424\",\n        }],\n [{\n            'v': 3,\n            'f': \"3\",\n        },\n\"01516X0004/S1\",\n{\n            'v': 20.418,\n            'f': \"20.418\",\n        }]],\n        columns: [[\"number\", \"numP\"], [\"string\", \"code\"], [\"number\", \"niveauMoyen\"]],\n        columnOptions: [],\n        rowsPerPage: 10,\n        helpUrl: \"https://colab.research.google.com/notebooks/data_table.ipynb\",\n        suppressOutputScrolling: true,\n        minimumWidth: undefined,\n      });\n    ",
            "text/plain": [
              "<google.colab.data_table.DataTable object>"
            ],
            "text/html": [
              "<div>\n",
              "<style scoped>\n",
              "    .dataframe tbody tr th:only-of-type {\n",
              "        vertical-align: middle;\n",
              "    }\n",
              "\n",
              "    .dataframe tbody tr th {\n",
              "        vertical-align: top;\n",
              "    }\n",
              "\n",
              "    .dataframe thead th {\n",
              "        text-align: right;\n",
              "    }\n",
              "</style>\n",
              "<table border=\"1\" class=\"dataframe\">\n",
              "  <thead>\n",
              "    <tr style=\"text-align: right;\">\n",
              "      <th></th>\n",
              "      <th>numP</th>\n",
              "      <th>code</th>\n",
              "      <th>niveauMoyen</th>\n",
              "    </tr>\n",
              "  </thead>\n",
              "  <tbody>\n",
              "    <tr>\n",
              "      <th>0</th>\n",
              "      <td>0</td>\n",
              "      <td>01516X0004/S1</td>\n",
              "      <td>20.408</td>\n",
              "    </tr>\n",
              "    <tr>\n",
              "      <th>1</th>\n",
              "      <td>1</td>\n",
              "      <td>01516X0004/S1</td>\n",
              "      <td>20.406</td>\n",
              "    </tr>\n",
              "    <tr>\n",
              "      <th>2</th>\n",
              "      <td>2</td>\n",
              "      <td>01516X0004/S1</td>\n",
              "      <td>20.424</td>\n",
              "    </tr>\n",
              "    <tr>\n",
              "      <th>3</th>\n",
              "      <td>3</td>\n",
              "      <td>01516X0004/S1</td>\n",
              "      <td>20.418</td>\n",
              "    </tr>\n",
              "  </tbody>\n",
              "</table>\n",
              "</div>"
            ]
          },
          "metadata": {},
          "execution_count": 50
        }
      ]
    },
    {
      "cell_type": "markdown",
      "metadata": {
        "id": "YvTKJysqc0CX"
      },
      "source": [
        "### Question 4 : NiveauTotalJour"
      ]
    },
    {
      "cell_type": "markdown",
      "metadata": {
        "id": "1VOf3bWxc7XH"
      },
      "source": [
        "Definir MesureParJour qui est un partitionnement de Mesure par date. \n",
        "En vous inspirant de la fonctions showPartitions,\n",
        "définir une fonction qui détermine le niveau total par jour dans chaque partition. Le résultat est (numP, date, niveauTotal) "
      ]
    },
    {
      "cell_type": "code",
      "source": [
        "def getNiveauTotalJour(df):\n",
        "\n",
        "  def SUM(partID, iterateur):\n",
        "    \n",
        "    d = {}\n",
        "    suivant = next(iterateur, None)\n",
        "    while suivant is not None:\n",
        "      d[suivant.date] = d.get(suivant.date, 0)+ suivant.niveau\n",
        "      suivant = next(iterateur, None)\n",
        "    return [(partID, d)]  \n",
        "\n",
        "  t = df.rdd.mapPartitionsWithIndex(SUM)\n",
        "\n",
        "  for (partID, d) in t.collect():\n",
        "    print(\"Partition\", partID)\n",
        "    for row in d.items():\n",
        "        print(row)\n",
        "    print()\n",
        "\n",
        "  return t"
      ],
      "metadata": {
        "id": "0VJ1M7fIHYkN"
      },
      "execution_count": null,
      "outputs": []
    },
    {
      "cell_type": "code",
      "source": [
        "t = getNiveauTotalJour(data3)\n",
        "display(t)"
      ],
      "metadata": {
        "colab": {
          "base_uri": "https://localhost:8080/",
          "height": 790
        },
        "id": "gM3_v722JL2M",
        "outputId": "851e7d4d-c5c6-4186-8139-c652d86aa92e"
      },
      "execution_count": null,
      "outputs": [
        {
          "output_type": "stream",
          "name": "stdout",
          "text": [
            "Partition 0\n",
            "('2021-12-15', 20.4)\n",
            "('2021-12-14', 20.41)\n",
            "('2021-12-13', 20.41)\n",
            "('2021-12-12', 20.41)\n",
            "('2021-12-11', 20.41)\n",
            "\n",
            "Partition 1\n",
            "('2021-12-10', 20.4)\n",
            "('2021-12-09', 20.4)\n",
            "('2021-12-08', 20.41)\n",
            "('2021-12-07', 20.4)\n",
            "('2021-12-06', 20.42)\n",
            "\n",
            "Partition 2\n",
            "('2021-12-05', 20.42)\n",
            "('2021-12-04', 20.42)\n",
            "('2021-12-03', 20.43)\n",
            "('2021-12-02', 20.43)\n",
            "('2021-12-01', 20.42)\n",
            "\n",
            "Partition 3\n",
            "('2021-11-30', 20.44)\n",
            "('2021-11-29', 20.43)\n",
            "('2021-11-28', 20.42)\n",
            "('2021-11-27', 20.4)\n",
            "('2021-11-26', 20.4)\n",
            "\n"
          ]
        },
        {
          "output_type": "error",
          "ename": "AttributeError",
          "evalue": "ignored",
          "traceback": [
            "\u001b[0;31m---------------------------------------------------------------------------\u001b[0m",
            "\u001b[0;31mAttributeError\u001b[0m                            Traceback (most recent call last)",
            "\u001b[0;32m<ipython-input-64-deb41eeda07f>\u001b[0m in \u001b[0;36m<module>\u001b[0;34m()\u001b[0m\n\u001b[1;32m      1\u001b[0m \u001b[0mt\u001b[0m \u001b[0;34m=\u001b[0m \u001b[0mgetNiveauTotalJour\u001b[0m\u001b[0;34m(\u001b[0m\u001b[0mdata3\u001b[0m\u001b[0;34m)\u001b[0m\u001b[0;34m\u001b[0m\u001b[0;34m\u001b[0m\u001b[0m\n\u001b[0;32m----> 2\u001b[0;31m \u001b[0mdisplay\u001b[0m\u001b[0;34m(\u001b[0m\u001b[0mt\u001b[0m\u001b[0;34m)\u001b[0m\u001b[0;34m\u001b[0m\u001b[0;34m\u001b[0m\u001b[0m\n\u001b[0m",
            "\u001b[0;32m<ipython-input-5-b32a2dda7869>\u001b[0m in \u001b[0;36mdisplay\u001b[0;34m(df, n)\u001b[0m\n\u001b[1;32m      5\u001b[0m \u001b[0;34m\u001b[0m\u001b[0m\n\u001b[1;32m      6\u001b[0m \u001b[0;32mdef\u001b[0m \u001b[0mdisplay\u001b[0m\u001b[0;34m(\u001b[0m\u001b[0mdf\u001b[0m\u001b[0;34m,\u001b[0m \u001b[0mn\u001b[0m\u001b[0;34m=\u001b[0m\u001b[0;36m100\u001b[0m\u001b[0;34m)\u001b[0m\u001b[0;34m:\u001b[0m\u001b[0;34m\u001b[0m\u001b[0;34m\u001b[0m\u001b[0m\n\u001b[0;32m----> 7\u001b[0;31m   \u001b[0;32mreturn\u001b[0m \u001b[0mdata_table\u001b[0m\u001b[0;34m.\u001b[0m\u001b[0mDataTable\u001b[0m\u001b[0;34m(\u001b[0m\u001b[0mdf\u001b[0m\u001b[0;34m.\u001b[0m\u001b[0mlimit\u001b[0m\u001b[0;34m(\u001b[0m\u001b[0mn\u001b[0m\u001b[0;34m)\u001b[0m\u001b[0;34m.\u001b[0m\u001b[0mtoPandas\u001b[0m\u001b[0;34m(\u001b[0m\u001b[0;34m)\u001b[0m\u001b[0;34m,\u001b[0m \u001b[0minclude_index\u001b[0m\u001b[0;34m=\u001b[0m\u001b[0;32mFalse\u001b[0m\u001b[0;34m,\u001b[0m \u001b[0mnum_rows_per_page\u001b[0m\u001b[0;34m=\u001b[0m\u001b[0;36m10\u001b[0m\u001b[0;34m)\u001b[0m\u001b[0;34m\u001b[0m\u001b[0;34m\u001b[0m\u001b[0m\n\u001b[0m\u001b[1;32m      8\u001b[0m \u001b[0;34m\u001b[0m\u001b[0m\n\u001b[1;32m      9\u001b[0m \u001b[0;32mdef\u001b[0m \u001b[0mdisplay2\u001b[0m\u001b[0;34m(\u001b[0m\u001b[0mdf\u001b[0m\u001b[0;34m,\u001b[0m \u001b[0mn\u001b[0m\u001b[0;34m=\u001b[0m\u001b[0;36m20\u001b[0m\u001b[0;34m)\u001b[0m\u001b[0;34m:\u001b[0m\u001b[0;34m\u001b[0m\u001b[0;34m\u001b[0m\u001b[0m\n",
            "\u001b[0;31mAttributeError\u001b[0m: 'PipelinedRDD' object has no attribute 'limit'"
          ]
        }
      ]
    }
  ]
}